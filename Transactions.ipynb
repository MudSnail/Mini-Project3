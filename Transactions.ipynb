{
 "cells": [
  {
   "cell_type": "code",
   "execution_count": 1,
   "id": "485d24ab",
   "metadata": {},
   "outputs": [],
   "source": [
    "#import libraries\n",
    "import seaborn as sns\n",
    "import matplotlib.pyplot as plt\n",
    "import numpy as np\n",
    "import pandas as pd\n",
    "from sklearn.cluster import KMeans\n",
    "from sklearn.cluster import AgglomerativeClustering"
   ]
  },
  {
   "cell_type": "code",
   "execution_count": 2,
   "id": "d3c98ee5",
   "metadata": {},
   "outputs": [],
   "source": [
    "#Upload dataframes\n",
    "customer = pd.read_csv('Data/update_customer.csv') #customers\n",
    "transactions = pd.read_csv('Data/twm_transactions.csv', sep=';') #transactions\n",
    "check_trans = pd.read_csv('Data/twm_checking_tran.csv', sep=';') #checking transactions\n",
    "credit_trans = pd.read_csv('Data/twm_credit_tran.csv', sep=';') #credit transactions\n",
    "savings_trans = pd.read_csv('Data/twm_savings_tran.csv', sep=';') #savings transactions"
   ]
  },
  {
   "cell_type": "code",
   "execution_count": 3,
   "id": "129578da",
   "metadata": {},
   "outputs": [
    {
     "data": {
      "text/html": [
       "<div>\n",
       "<style scoped>\n",
       "    .dataframe tbody tr th:only-of-type {\n",
       "        vertical-align: middle;\n",
       "    }\n",
       "\n",
       "    .dataframe tbody tr th {\n",
       "        vertical-align: top;\n",
       "    }\n",
       "\n",
       "    .dataframe thead th {\n",
       "        text-align: right;\n",
       "    }\n",
       "</style>\n",
       "<table border=\"1\" class=\"dataframe\">\n",
       "  <thead>\n",
       "    <tr style=\"text-align: right;\">\n",
       "      <th></th>\n",
       "      <th>tran_id</th>\n",
       "      <th>acct_nbr</th>\n",
       "      <th>tran_amt</th>\n",
       "      <th>principal_amt</th>\n",
       "      <th>interest_amt</th>\n",
       "      <th>new_balance</th>\n",
       "      <th>tran_date</th>\n",
       "      <th>tran_time</th>\n",
       "      <th>channel</th>\n",
       "      <th>tran_code</th>\n",
       "    </tr>\n",
       "  </thead>\n",
       "  <tbody>\n",
       "    <tr>\n",
       "      <th>0</th>\n",
       "      <td>27</td>\n",
       "      <td>13625623</td>\n",
       "      <td>0.00</td>\n",
       "      <td>0.00</td>\n",
       "      <td>0.0</td>\n",
       "      <td>3753.34</td>\n",
       "      <td>21.10.1995</td>\n",
       "      <td>121656</td>\n",
       "      <td>A</td>\n",
       "      <td>IQ</td>\n",
       "    </tr>\n",
       "    <tr>\n",
       "      <th>1</th>\n",
       "      <td>97</td>\n",
       "      <td>13628392</td>\n",
       "      <td>0.00</td>\n",
       "      <td>0.00</td>\n",
       "      <td>0.0</td>\n",
       "      <td>254.49</td>\n",
       "      <td>5.2.1995</td>\n",
       "      <td>153053</td>\n",
       "      <td>V</td>\n",
       "      <td>IQ</td>\n",
       "    </tr>\n",
       "    <tr>\n",
       "      <th>2</th>\n",
       "      <td>21</td>\n",
       "      <td>13630842</td>\n",
       "      <td>-97.57</td>\n",
       "      <td>-97.57</td>\n",
       "      <td>0.0</td>\n",
       "      <td>3819.56</td>\n",
       "      <td>23.7.1995</td>\n",
       "      <td>0</td>\n",
       "      <td>P</td>\n",
       "      <td>WD</td>\n",
       "    </tr>\n",
       "    <tr>\n",
       "      <th>3</th>\n",
       "      <td>44</td>\n",
       "      <td>13631412</td>\n",
       "      <td>-0.15</td>\n",
       "      <td>-0.15</td>\n",
       "      <td>0.0</td>\n",
       "      <td>224.05</td>\n",
       "      <td>30.1.1995</td>\n",
       "      <td>0</td>\n",
       "      <td></td>\n",
       "      <td>FK</td>\n",
       "    </tr>\n",
       "    <tr>\n",
       "      <th>4</th>\n",
       "      <td>31</td>\n",
       "      <td>13625722</td>\n",
       "      <td>0.00</td>\n",
       "      <td>0.00</td>\n",
       "      <td>0.0</td>\n",
       "      <td>240.55</td>\n",
       "      <td>25.1.1995</td>\n",
       "      <td>204521</td>\n",
       "      <td>B</td>\n",
       "      <td>IQ</td>\n",
       "    </tr>\n",
       "  </tbody>\n",
       "</table>\n",
       "</div>"
      ],
      "text/plain": [
       "   tran_id  acct_nbr  tran_amt  principal_amt  interest_amt  new_balance  \\\n",
       "0       27  13625623      0.00           0.00           0.0      3753.34   \n",
       "1       97  13628392      0.00           0.00           0.0       254.49   \n",
       "2       21  13630842    -97.57         -97.57           0.0      3819.56   \n",
       "3       44  13631412     -0.15          -0.15           0.0       224.05   \n",
       "4       31  13625722      0.00           0.00           0.0       240.55   \n",
       "\n",
       "    tran_date  tran_time channel tran_code  \n",
       "0  21.10.1995     121656      A       IQ    \n",
       "1    5.2.1995     153053      V       IQ    \n",
       "2   23.7.1995          0      P       WD    \n",
       "3   30.1.1995          0              FK    \n",
       "4   25.1.1995     204521      B       IQ    "
      ]
     },
     "execution_count": 3,
     "metadata": {},
     "output_type": "execute_result"
    }
   ],
   "source": [
    "transactions.head()"
   ]
  },
  {
   "cell_type": "markdown",
   "id": "ac517794",
   "metadata": {},
   "source": [
    "## prep sub plots for joining"
   ]
  },
  {
   "cell_type": "code",
   "execution_count": 5,
   "id": "4d541516",
   "metadata": {
    "scrolled": true
   },
   "outputs": [
    {
     "data": {
      "text/html": [
       "<div>\n",
       "<style scoped>\n",
       "    .dataframe tbody tr th:only-of-type {\n",
       "        vertical-align: middle;\n",
       "    }\n",
       "\n",
       "    .dataframe tbody tr th {\n",
       "        vertical-align: top;\n",
       "    }\n",
       "\n",
       "    .dataframe thead th {\n",
       "        text-align: right;\n",
       "    }\n",
       "</style>\n",
       "<table border=\"1\" class=\"dataframe\">\n",
       "  <thead>\n",
       "    <tr style=\"text-align: right;\">\n",
       "      <th></th>\n",
       "      <th>cust_id</th>\n",
       "      <th>tran_id</th>\n",
       "      <th>tran_amt</th>\n",
       "      <th>principal_amt</th>\n",
       "      <th>interest_amt</th>\n",
       "      <th>new_balance</th>\n",
       "      <th>tran_date</th>\n",
       "      <th>tran_time</th>\n",
       "      <th>channel</th>\n",
       "      <th>tran_code</th>\n",
       "    </tr>\n",
       "  </thead>\n",
       "  <tbody>\n",
       "    <tr>\n",
       "      <th>0</th>\n",
       "      <td>1363481</td>\n",
       "      <td>26</td>\n",
       "      <td>-0.15</td>\n",
       "      <td>-0.15</td>\n",
       "      <td>0.0</td>\n",
       "      <td>58.99</td>\n",
       "      <td>29.1.1995</td>\n",
       "      <td></td>\n",
       "      <td></td>\n",
       "      <td>FK</td>\n",
       "    </tr>\n",
       "    <tr>\n",
       "      <th>1</th>\n",
       "      <td>1362784</td>\n",
       "      <td>90</td>\n",
       "      <td>-200.00</td>\n",
       "      <td>-200.00</td>\n",
       "      <td>0.0</td>\n",
       "      <td>1380.69</td>\n",
       "      <td>2.7.1995</td>\n",
       "      <td>53313</td>\n",
       "      <td>A</td>\n",
       "      <td>WD</td>\n",
       "    </tr>\n",
       "    <tr>\n",
       "      <th>2</th>\n",
       "      <td>1363088</td>\n",
       "      <td>46</td>\n",
       "      <td>0.00</td>\n",
       "      <td>0.00</td>\n",
       "      <td>0.0</td>\n",
       "      <td>128.35</td>\n",
       "      <td>26.3.1995</td>\n",
       "      <td>834</td>\n",
       "      <td>A</td>\n",
       "      <td>IQ</td>\n",
       "    </tr>\n",
       "    <tr>\n",
       "      <th>3</th>\n",
       "      <td>1363306</td>\n",
       "      <td>32</td>\n",
       "      <td>-40.32</td>\n",
       "      <td>-40.32</td>\n",
       "      <td>0.0</td>\n",
       "      <td>433.06</td>\n",
       "      <td>29.1.1995</td>\n",
       "      <td></td>\n",
       "      <td>P</td>\n",
       "      <td>WD</td>\n",
       "    </tr>\n",
       "    <tr>\n",
       "      <th>4</th>\n",
       "      <td>1363251</td>\n",
       "      <td>11</td>\n",
       "      <td>-87.88</td>\n",
       "      <td>-87.88</td>\n",
       "      <td>0.0</td>\n",
       "      <td>1919.55</td>\n",
       "      <td>8.2.1995</td>\n",
       "      <td></td>\n",
       "      <td>P</td>\n",
       "      <td>WD</td>\n",
       "    </tr>\n",
       "  </tbody>\n",
       "</table>\n",
       "</div>"
      ],
      "text/plain": [
       "   cust_id  tran_id  tran_amt  principal_amt  interest_amt  new_balance  \\\n",
       "0  1363481       26     -0.15          -0.15           0.0        58.99   \n",
       "1  1362784       90   -200.00        -200.00           0.0      1380.69   \n",
       "2  1363088       46      0.00           0.00           0.0       128.35   \n",
       "3  1363306       32    -40.32         -40.32           0.0       433.06   \n",
       "4  1363251       11    -87.88         -87.88           0.0      1919.55   \n",
       "\n",
       "   tran_date     tran_time channel tran_code  \n",
       "0  29.1.1995                            FK    \n",
       "1   2.7.1995         53313      A       WD    \n",
       "2  26.3.1995           834      A       IQ    \n",
       "3  29.1.1995                    P       WD    \n",
       "4   8.2.1995                    P       WD    "
      ]
     },
     "execution_count": 5,
     "metadata": {},
     "output_type": "execute_result"
    }
   ],
   "source": [
    "check_trans.head()"
   ]
  },
  {
   "cell_type": "code",
   "execution_count": 57,
   "id": "7fc669a9",
   "metadata": {},
   "outputs": [],
   "source": [
    "#Drop columns that aren't needed. ie. Noise\n",
    "check_trans.drop('tran_amt', axis=1, inplace=True)\n",
    "check_trans.drop('principal_amt', axis=1, inplace=True) \n",
    "check_trans.drop('interest_amt', axis=1, inplace=True) \n",
    "check_trans.drop('new_balance', axis=1, inplace=True)\n",
    "check_trans.drop('tran_date', axis=1, inplace=True)\n",
    "check_trans.drop('tran_time', axis=1, inplace=True) \n",
    "check_trans.drop('channel', axis=1, inplace=True)\n",
    "check_trans.drop('tran_code', axis=1, inplace=True)"
   ]
  },
  {
   "cell_type": "code",
   "execution_count": 6,
   "id": "11a3e74b",
   "metadata": {},
   "outputs": [],
   "source": [
    "#add column Type and assign checking to all\n",
    "check_trans = check_trans.assign(Type='Checking')"
   ]
  },
  {
   "cell_type": "code",
   "execution_count": 7,
   "id": "33523a3c",
   "metadata": {},
   "outputs": [
    {
     "data": {
      "text/html": [
       "<div>\n",
       "<style scoped>\n",
       "    .dataframe tbody tr th:only-of-type {\n",
       "        vertical-align: middle;\n",
       "    }\n",
       "\n",
       "    .dataframe tbody tr th {\n",
       "        vertical-align: top;\n",
       "    }\n",
       "\n",
       "    .dataframe thead th {\n",
       "        text-align: right;\n",
       "    }\n",
       "</style>\n",
       "<table border=\"1\" class=\"dataframe\">\n",
       "  <thead>\n",
       "    <tr style=\"text-align: right;\">\n",
       "      <th></th>\n",
       "      <th>cust_id</th>\n",
       "      <th>tran_id</th>\n",
       "      <th>tran_amt</th>\n",
       "      <th>principal_amt</th>\n",
       "      <th>interest_amt</th>\n",
       "      <th>new_balance</th>\n",
       "      <th>tran_date</th>\n",
       "      <th>tran_time</th>\n",
       "      <th>channel</th>\n",
       "      <th>tran_code</th>\n",
       "      <th>Type</th>\n",
       "    </tr>\n",
       "  </thead>\n",
       "  <tbody>\n",
       "    <tr>\n",
       "      <th>0</th>\n",
       "      <td>1363481</td>\n",
       "      <td>26</td>\n",
       "      <td>-0.15</td>\n",
       "      <td>-0.15</td>\n",
       "      <td>0.0</td>\n",
       "      <td>58.99</td>\n",
       "      <td>29.1.1995</td>\n",
       "      <td></td>\n",
       "      <td></td>\n",
       "      <td>FK</td>\n",
       "      <td>Checking</td>\n",
       "    </tr>\n",
       "    <tr>\n",
       "      <th>1</th>\n",
       "      <td>1362784</td>\n",
       "      <td>90</td>\n",
       "      <td>-200.00</td>\n",
       "      <td>-200.00</td>\n",
       "      <td>0.0</td>\n",
       "      <td>1380.69</td>\n",
       "      <td>2.7.1995</td>\n",
       "      <td>53313</td>\n",
       "      <td>A</td>\n",
       "      <td>WD</td>\n",
       "      <td>Checking</td>\n",
       "    </tr>\n",
       "    <tr>\n",
       "      <th>2</th>\n",
       "      <td>1363088</td>\n",
       "      <td>46</td>\n",
       "      <td>0.00</td>\n",
       "      <td>0.00</td>\n",
       "      <td>0.0</td>\n",
       "      <td>128.35</td>\n",
       "      <td>26.3.1995</td>\n",
       "      <td>834</td>\n",
       "      <td>A</td>\n",
       "      <td>IQ</td>\n",
       "      <td>Checking</td>\n",
       "    </tr>\n",
       "    <tr>\n",
       "      <th>3</th>\n",
       "      <td>1363306</td>\n",
       "      <td>32</td>\n",
       "      <td>-40.32</td>\n",
       "      <td>-40.32</td>\n",
       "      <td>0.0</td>\n",
       "      <td>433.06</td>\n",
       "      <td>29.1.1995</td>\n",
       "      <td></td>\n",
       "      <td>P</td>\n",
       "      <td>WD</td>\n",
       "      <td>Checking</td>\n",
       "    </tr>\n",
       "    <tr>\n",
       "      <th>4</th>\n",
       "      <td>1363251</td>\n",
       "      <td>11</td>\n",
       "      <td>-87.88</td>\n",
       "      <td>-87.88</td>\n",
       "      <td>0.0</td>\n",
       "      <td>1919.55</td>\n",
       "      <td>8.2.1995</td>\n",
       "      <td></td>\n",
       "      <td>P</td>\n",
       "      <td>WD</td>\n",
       "      <td>Checking</td>\n",
       "    </tr>\n",
       "    <tr>\n",
       "      <th>...</th>\n",
       "      <td>...</td>\n",
       "      <td>...</td>\n",
       "      <td>...</td>\n",
       "      <td>...</td>\n",
       "      <td>...</td>\n",
       "      <td>...</td>\n",
       "      <td>...</td>\n",
       "      <td>...</td>\n",
       "      <td>...</td>\n",
       "      <td>...</td>\n",
       "      <td>...</td>\n",
       "    </tr>\n",
       "    <tr>\n",
       "      <th>46199</th>\n",
       "      <td>1363272</td>\n",
       "      <td>50</td>\n",
       "      <td>-0.15</td>\n",
       "      <td>-0.15</td>\n",
       "      <td>0.0</td>\n",
       "      <td>319.71</td>\n",
       "      <td>3.10.1995</td>\n",
       "      <td></td>\n",
       "      <td></td>\n",
       "      <td>FK</td>\n",
       "      <td>Checking</td>\n",
       "    </tr>\n",
       "    <tr>\n",
       "      <th>46200</th>\n",
       "      <td>1363393</td>\n",
       "      <td>61</td>\n",
       "      <td>-102.52</td>\n",
       "      <td>-102.52</td>\n",
       "      <td>0.0</td>\n",
       "      <td>57.47</td>\n",
       "      <td>22.1.1995</td>\n",
       "      <td></td>\n",
       "      <td>P</td>\n",
       "      <td>WD</td>\n",
       "      <td>Checking</td>\n",
       "    </tr>\n",
       "    <tr>\n",
       "      <th>46201</th>\n",
       "      <td>1363365</td>\n",
       "      <td>25</td>\n",
       "      <td>-275.89</td>\n",
       "      <td>-275.89</td>\n",
       "      <td>0.0</td>\n",
       "      <td>2632.93</td>\n",
       "      <td>8.1.1995</td>\n",
       "      <td></td>\n",
       "      <td>P</td>\n",
       "      <td>WD</td>\n",
       "      <td>Checking</td>\n",
       "    </tr>\n",
       "    <tr>\n",
       "      <th>46202</th>\n",
       "      <td>1363031</td>\n",
       "      <td>73</td>\n",
       "      <td>-0.15</td>\n",
       "      <td>-0.15</td>\n",
       "      <td>0.0</td>\n",
       "      <td>1103.47</td>\n",
       "      <td>23.1.1995</td>\n",
       "      <td></td>\n",
       "      <td></td>\n",
       "      <td>FK</td>\n",
       "      <td>Checking</td>\n",
       "    </tr>\n",
       "    <tr>\n",
       "      <th>46203</th>\n",
       "      <td>1363011</td>\n",
       "      <td>6</td>\n",
       "      <td>1261.26</td>\n",
       "      <td>1261.26</td>\n",
       "      <td>0.0</td>\n",
       "      <td>13654.61</td>\n",
       "      <td>7.1.1995</td>\n",
       "      <td>94214</td>\n",
       "      <td>B</td>\n",
       "      <td>DP</td>\n",
       "      <td>Checking</td>\n",
       "    </tr>\n",
       "  </tbody>\n",
       "</table>\n",
       "<p>46204 rows × 11 columns</p>\n",
       "</div>"
      ],
      "text/plain": [
       "       cust_id  tran_id  tran_amt  principal_amt  interest_amt  new_balance  \\\n",
       "0      1363481       26     -0.15          -0.15           0.0        58.99   \n",
       "1      1362784       90   -200.00        -200.00           0.0      1380.69   \n",
       "2      1363088       46      0.00           0.00           0.0       128.35   \n",
       "3      1363306       32    -40.32         -40.32           0.0       433.06   \n",
       "4      1363251       11    -87.88         -87.88           0.0      1919.55   \n",
       "...        ...      ...       ...            ...           ...          ...   \n",
       "46199  1363272       50     -0.15          -0.15           0.0       319.71   \n",
       "46200  1363393       61   -102.52        -102.52           0.0        57.47   \n",
       "46201  1363365       25   -275.89        -275.89           0.0      2632.93   \n",
       "46202  1363031       73     -0.15          -0.15           0.0      1103.47   \n",
       "46203  1363011        6   1261.26        1261.26           0.0     13654.61   \n",
       "\n",
       "       tran_date     tran_time channel tran_code      Type  \n",
       "0      29.1.1995                            FK    Checking  \n",
       "1       2.7.1995         53313      A       WD    Checking  \n",
       "2      26.3.1995           834      A       IQ    Checking  \n",
       "3      29.1.1995                    P       WD    Checking  \n",
       "4       8.2.1995                    P       WD    Checking  \n",
       "...          ...           ...     ...       ...       ...  \n",
       "46199  3.10.1995                            FK    Checking  \n",
       "46200  22.1.1995                    P       WD    Checking  \n",
       "46201   8.1.1995                    P       WD    Checking  \n",
       "46202  23.1.1995                            FK    Checking  \n",
       "46203   7.1.1995         94214      B       DP    Checking  \n",
       "\n",
       "[46204 rows x 11 columns]"
      ]
     },
     "execution_count": 7,
     "metadata": {},
     "output_type": "execute_result"
    }
   ],
   "source": [
    "check_trans"
   ]
  },
  {
   "cell_type": "code",
   "execution_count": 8,
   "id": "4d56b182",
   "metadata": {},
   "outputs": [
    {
     "data": {
      "text/html": [
       "<div>\n",
       "<style scoped>\n",
       "    .dataframe tbody tr th:only-of-type {\n",
       "        vertical-align: middle;\n",
       "    }\n",
       "\n",
       "    .dataframe tbody tr th {\n",
       "        vertical-align: top;\n",
       "    }\n",
       "\n",
       "    .dataframe thead th {\n",
       "        text-align: right;\n",
       "    }\n",
       "</style>\n",
       "<table border=\"1\" class=\"dataframe\">\n",
       "  <thead>\n",
       "    <tr style=\"text-align: right;\">\n",
       "      <th></th>\n",
       "      <th>cust_id</th>\n",
       "      <th>tran_id</th>\n",
       "      <th>tran_amt</th>\n",
       "      <th>principal_amt</th>\n",
       "      <th>interest_amt</th>\n",
       "      <th>new_balance</th>\n",
       "      <th>tran_date</th>\n",
       "      <th>tran_time</th>\n",
       "      <th>channel</th>\n",
       "      <th>tran_code</th>\n",
       "    </tr>\n",
       "  </thead>\n",
       "  <tbody>\n",
       "    <tr>\n",
       "      <th>0</th>\n",
       "      <td>1363088</td>\n",
       "      <td>46</td>\n",
       "      <td>-121.49</td>\n",
       "      <td>-121.49</td>\n",
       "      <td>0.0</td>\n",
       "      <td>-141.00</td>\n",
       "      <td>20.10.1995</td>\n",
       "      <td>101144</td>\n",
       "      <td>E</td>\n",
       "      <td>CG</td>\n",
       "    </tr>\n",
       "    <tr>\n",
       "      <th>1</th>\n",
       "      <td>1363306</td>\n",
       "      <td>32</td>\n",
       "      <td>-220.64</td>\n",
       "      <td>-220.64</td>\n",
       "      <td>0.0</td>\n",
       "      <td>-520.13</td>\n",
       "      <td>13.10.1995</td>\n",
       "      <td>83115</td>\n",
       "      <td>E</td>\n",
       "      <td>CG</td>\n",
       "    </tr>\n",
       "    <tr>\n",
       "      <th>2</th>\n",
       "      <td>1362959</td>\n",
       "      <td>10</td>\n",
       "      <td>0.00</td>\n",
       "      <td>0.00</td>\n",
       "      <td>0.0</td>\n",
       "      <td>-3900.00</td>\n",
       "      <td>26.2.1995</td>\n",
       "      <td>84129</td>\n",
       "      <td>K</td>\n",
       "      <td>IQ</td>\n",
       "    </tr>\n",
       "    <tr>\n",
       "      <th>3</th>\n",
       "      <td>1363429</td>\n",
       "      <td>13</td>\n",
       "      <td>-195.27</td>\n",
       "      <td>-195.27</td>\n",
       "      <td>0.0</td>\n",
       "      <td>-1739.74</td>\n",
       "      <td>3.1.1995</td>\n",
       "      <td>191815</td>\n",
       "      <td>E</td>\n",
       "      <td>CG</td>\n",
       "    </tr>\n",
       "    <tr>\n",
       "      <th>4</th>\n",
       "      <td>1363393</td>\n",
       "      <td>14</td>\n",
       "      <td>-37.32</td>\n",
       "      <td>-37.32</td>\n",
       "      <td>0.0</td>\n",
       "      <td>-198.98</td>\n",
       "      <td>4.7.1995</td>\n",
       "      <td>100811</td>\n",
       "      <td>E</td>\n",
       "      <td>CG</td>\n",
       "    </tr>\n",
       "  </tbody>\n",
       "</table>\n",
       "</div>"
      ],
      "text/plain": [
       "   cust_id  tran_id  tran_amt  principal_amt  interest_amt  new_balance  \\\n",
       "0  1363088       46   -121.49        -121.49           0.0      -141.00   \n",
       "1  1363306       32   -220.64        -220.64           0.0      -520.13   \n",
       "2  1362959       10      0.00           0.00           0.0     -3900.00   \n",
       "3  1363429       13   -195.27        -195.27           0.0     -1739.74   \n",
       "4  1363393       14    -37.32         -37.32           0.0      -198.98   \n",
       "\n",
       "    tran_date tran_time channel tran_code  \n",
       "0  20.10.1995    101144      E       CG    \n",
       "1  13.10.1995     83115      E       CG    \n",
       "2   26.2.1995     84129      K       IQ    \n",
       "3    3.1.1995    191815      E       CG    \n",
       "4    4.7.1995    100811      E       CG    "
      ]
     },
     "execution_count": 8,
     "metadata": {},
     "output_type": "execute_result"
    }
   ],
   "source": [
    "credit_trans.head()"
   ]
  },
  {
   "cell_type": "code",
   "execution_count": 9,
   "id": "c2710b98",
   "metadata": {},
   "outputs": [
    {
     "data": {
      "text/html": [
       "<div>\n",
       "<style scoped>\n",
       "    .dataframe tbody tr th:only-of-type {\n",
       "        vertical-align: middle;\n",
       "    }\n",
       "\n",
       "    .dataframe tbody tr th {\n",
       "        vertical-align: top;\n",
       "    }\n",
       "\n",
       "    .dataframe thead th {\n",
       "        text-align: right;\n",
       "    }\n",
       "</style>\n",
       "<table border=\"1\" class=\"dataframe\">\n",
       "  <thead>\n",
       "    <tr style=\"text-align: right;\">\n",
       "      <th></th>\n",
       "      <th>cust_id</th>\n",
       "      <th>tran_id</th>\n",
       "      <th>tran_amt</th>\n",
       "      <th>principal_amt</th>\n",
       "      <th>interest_amt</th>\n",
       "      <th>new_balance</th>\n",
       "      <th>tran_date</th>\n",
       "      <th>tran_time</th>\n",
       "      <th>channel</th>\n",
       "      <th>tran_code</th>\n",
       "      <th>Type</th>\n",
       "    </tr>\n",
       "  </thead>\n",
       "  <tbody>\n",
       "    <tr>\n",
       "      <th>0</th>\n",
       "      <td>1363088</td>\n",
       "      <td>46</td>\n",
       "      <td>-121.49</td>\n",
       "      <td>-121.49</td>\n",
       "      <td>0.0</td>\n",
       "      <td>-141.00</td>\n",
       "      <td>20.10.1995</td>\n",
       "      <td>101144</td>\n",
       "      <td>E</td>\n",
       "      <td>CG</td>\n",
       "      <td>Credit</td>\n",
       "    </tr>\n",
       "    <tr>\n",
       "      <th>1</th>\n",
       "      <td>1363306</td>\n",
       "      <td>32</td>\n",
       "      <td>-220.64</td>\n",
       "      <td>-220.64</td>\n",
       "      <td>0.0</td>\n",
       "      <td>-520.13</td>\n",
       "      <td>13.10.1995</td>\n",
       "      <td>83115</td>\n",
       "      <td>E</td>\n",
       "      <td>CG</td>\n",
       "      <td>Credit</td>\n",
       "    </tr>\n",
       "    <tr>\n",
       "      <th>2</th>\n",
       "      <td>1362959</td>\n",
       "      <td>10</td>\n",
       "      <td>0.00</td>\n",
       "      <td>0.00</td>\n",
       "      <td>0.0</td>\n",
       "      <td>-3900.00</td>\n",
       "      <td>26.2.1995</td>\n",
       "      <td>84129</td>\n",
       "      <td>K</td>\n",
       "      <td>IQ</td>\n",
       "      <td>Credit</td>\n",
       "    </tr>\n",
       "    <tr>\n",
       "      <th>3</th>\n",
       "      <td>1363429</td>\n",
       "      <td>13</td>\n",
       "      <td>-195.27</td>\n",
       "      <td>-195.27</td>\n",
       "      <td>0.0</td>\n",
       "      <td>-1739.74</td>\n",
       "      <td>3.1.1995</td>\n",
       "      <td>191815</td>\n",
       "      <td>E</td>\n",
       "      <td>CG</td>\n",
       "      <td>Credit</td>\n",
       "    </tr>\n",
       "    <tr>\n",
       "      <th>4</th>\n",
       "      <td>1363393</td>\n",
       "      <td>14</td>\n",
       "      <td>-37.32</td>\n",
       "      <td>-37.32</td>\n",
       "      <td>0.0</td>\n",
       "      <td>-198.98</td>\n",
       "      <td>4.7.1995</td>\n",
       "      <td>100811</td>\n",
       "      <td>E</td>\n",
       "      <td>CG</td>\n",
       "      <td>Credit</td>\n",
       "    </tr>\n",
       "    <tr>\n",
       "      <th>...</th>\n",
       "      <td>...</td>\n",
       "      <td>...</td>\n",
       "      <td>...</td>\n",
       "      <td>...</td>\n",
       "      <td>...</td>\n",
       "      <td>...</td>\n",
       "      <td>...</td>\n",
       "      <td>...</td>\n",
       "      <td>...</td>\n",
       "      <td>...</td>\n",
       "      <td>...</td>\n",
       "    </tr>\n",
       "    <tr>\n",
       "      <th>20162</th>\n",
       "      <td>1363002</td>\n",
       "      <td>60</td>\n",
       "      <td>-94.52</td>\n",
       "      <td>-94.52</td>\n",
       "      <td>0.0</td>\n",
       "      <td>-3733.22</td>\n",
       "      <td>20.5.1995</td>\n",
       "      <td>224723</td>\n",
       "      <td>E</td>\n",
       "      <td>CG</td>\n",
       "      <td>Credit</td>\n",
       "    </tr>\n",
       "    <tr>\n",
       "      <th>20163</th>\n",
       "      <td>1362995</td>\n",
       "      <td>36</td>\n",
       "      <td>0.00</td>\n",
       "      <td>0.00</td>\n",
       "      <td>0.0</td>\n",
       "      <td>-2300.00</td>\n",
       "      <td>28.9.1995</td>\n",
       "      <td>142011</td>\n",
       "      <td>B</td>\n",
       "      <td>IQ</td>\n",
       "      <td>Credit</td>\n",
       "    </tr>\n",
       "    <tr>\n",
       "      <th>20164</th>\n",
       "      <td>1363196</td>\n",
       "      <td>39</td>\n",
       "      <td>-100.00</td>\n",
       "      <td>-100.00</td>\n",
       "      <td>0.0</td>\n",
       "      <td>-289.91</td>\n",
       "      <td>12.5.1995</td>\n",
       "      <td>152852</td>\n",
       "      <td>A</td>\n",
       "      <td>CA</td>\n",
       "      <td>Credit</td>\n",
       "    </tr>\n",
       "    <tr>\n",
       "      <th>20165</th>\n",
       "      <td>1363393</td>\n",
       "      <td>61</td>\n",
       "      <td>-63.04</td>\n",
       "      <td>-63.04</td>\n",
       "      <td>0.0</td>\n",
       "      <td>-736.70</td>\n",
       "      <td>16.10.1995</td>\n",
       "      <td>145535</td>\n",
       "      <td>E</td>\n",
       "      <td>CG</td>\n",
       "      <td>Credit</td>\n",
       "    </tr>\n",
       "    <tr>\n",
       "      <th>20166</th>\n",
       "      <td>1363011</td>\n",
       "      <td>6</td>\n",
       "      <td>0.00</td>\n",
       "      <td>0.00</td>\n",
       "      <td>0.0</td>\n",
       "      <td>-1612.91</td>\n",
       "      <td>2.2.1995</td>\n",
       "      <td>51628</td>\n",
       "      <td>C</td>\n",
       "      <td>IQ</td>\n",
       "      <td>Credit</td>\n",
       "    </tr>\n",
       "  </tbody>\n",
       "</table>\n",
       "<p>20167 rows × 11 columns</p>\n",
       "</div>"
      ],
      "text/plain": [
       "       cust_id  tran_id  tran_amt  principal_amt  interest_amt  new_balance  \\\n",
       "0      1363088       46   -121.49        -121.49           0.0      -141.00   \n",
       "1      1363306       32   -220.64        -220.64           0.0      -520.13   \n",
       "2      1362959       10      0.00           0.00           0.0     -3900.00   \n",
       "3      1363429       13   -195.27        -195.27           0.0     -1739.74   \n",
       "4      1363393       14    -37.32         -37.32           0.0      -198.98   \n",
       "...        ...      ...       ...            ...           ...          ...   \n",
       "20162  1363002       60    -94.52         -94.52           0.0     -3733.22   \n",
       "20163  1362995       36      0.00           0.00           0.0     -2300.00   \n",
       "20164  1363196       39   -100.00        -100.00           0.0      -289.91   \n",
       "20165  1363393       61    -63.04         -63.04           0.0      -736.70   \n",
       "20166  1363011        6      0.00           0.00           0.0     -1612.91   \n",
       "\n",
       "        tran_date tran_time channel tran_code    Type  \n",
       "0      20.10.1995    101144      E       CG    Credit  \n",
       "1      13.10.1995     83115      E       CG    Credit  \n",
       "2       26.2.1995     84129      K       IQ    Credit  \n",
       "3        3.1.1995    191815      E       CG    Credit  \n",
       "4        4.7.1995    100811      E       CG    Credit  \n",
       "...           ...       ...     ...       ...     ...  \n",
       "20162   20.5.1995    224723      E       CG    Credit  \n",
       "20163   28.9.1995    142011      B       IQ    Credit  \n",
       "20164   12.5.1995    152852      A       CA    Credit  \n",
       "20165  16.10.1995    145535      E       CG    Credit  \n",
       "20166    2.2.1995     51628      C       IQ    Credit  \n",
       "\n",
       "[20167 rows x 11 columns]"
      ]
     },
     "execution_count": 9,
     "metadata": {},
     "output_type": "execute_result"
    }
   ],
   "source": [
    "#Drop columns that aren't needed. ie. Noise\n",
    "#credit_trans.drop('tran_amt', axis=1, inplace=True)\n",
    "#credit_trans.drop('principal_amt', axis=1, inplace=True) \n",
    "#credit_trans.drop('interest_amt', axis=1, inplace=True) \n",
    "#credit_trans.drop('new_balance', axis=1, inplace=True)\n",
    "#credit_trans.drop('tran_date', axis=1, inplace=True)\n",
    "#credit_trans.drop('tran_time', axis=1, inplace=True) \n",
    "#credit_trans.drop('channel', axis=1, inplace=True)\n",
    "#credit_trans.drop('tran_code', axis=1, inplace=True)\n",
    "\n",
    "#add column Type and assign checking to all\n",
    "credit_trans = credit_trans.assign(Type='Credit')\n",
    "\n",
    "#see new table\n",
    "credit_trans"
   ]
  },
  {
   "cell_type": "code",
   "execution_count": 10,
   "id": "5d2ceb7c",
   "metadata": {},
   "outputs": [
    {
     "data": {
      "text/html": [
       "<div>\n",
       "<style scoped>\n",
       "    .dataframe tbody tr th:only-of-type {\n",
       "        vertical-align: middle;\n",
       "    }\n",
       "\n",
       "    .dataframe tbody tr th {\n",
       "        vertical-align: top;\n",
       "    }\n",
       "\n",
       "    .dataframe thead th {\n",
       "        text-align: right;\n",
       "    }\n",
       "</style>\n",
       "<table border=\"1\" class=\"dataframe\">\n",
       "  <thead>\n",
       "    <tr style=\"text-align: right;\">\n",
       "      <th></th>\n",
       "      <th>cust_id</th>\n",
       "      <th>tran_id</th>\n",
       "      <th>tran_amt</th>\n",
       "      <th>principal_amt</th>\n",
       "      <th>interest_amt</th>\n",
       "      <th>new_balance</th>\n",
       "      <th>tran_date</th>\n",
       "      <th>tran_time</th>\n",
       "      <th>channel</th>\n",
       "      <th>tran_code</th>\n",
       "    </tr>\n",
       "  </thead>\n",
       "  <tbody>\n",
       "    <tr>\n",
       "      <th>0</th>\n",
       "      <td>1363481</td>\n",
       "      <td>26</td>\n",
       "      <td>136.03</td>\n",
       "      <td>136.03</td>\n",
       "      <td>0.00</td>\n",
       "      <td>1521.57</td>\n",
       "      <td>26.10.1995</td>\n",
       "      <td>84111</td>\n",
       "      <td>A</td>\n",
       "      <td>DP</td>\n",
       "    </tr>\n",
       "    <tr>\n",
       "      <th>1</th>\n",
       "      <td>1362746</td>\n",
       "      <td>1</td>\n",
       "      <td>2.83</td>\n",
       "      <td>0.00</td>\n",
       "      <td>2.83</td>\n",
       "      <td>2265.90</td>\n",
       "      <td>31.1.1995</td>\n",
       "      <td>235959</td>\n",
       "      <td></td>\n",
       "      <td>IN</td>\n",
       "    </tr>\n",
       "    <tr>\n",
       "      <th>2</th>\n",
       "      <td>1363251</td>\n",
       "      <td>11</td>\n",
       "      <td>13.56</td>\n",
       "      <td>0.00</td>\n",
       "      <td>13.56</td>\n",
       "      <td>5438.90</td>\n",
       "      <td>30.4.1995</td>\n",
       "      <td>235959</td>\n",
       "      <td></td>\n",
       "      <td>IN</td>\n",
       "    </tr>\n",
       "    <tr>\n",
       "      <th>3</th>\n",
       "      <td>1362542</td>\n",
       "      <td>4</td>\n",
       "      <td>0.76</td>\n",
       "      <td>0.00</td>\n",
       "      <td>0.76</td>\n",
       "      <td>610.92</td>\n",
       "      <td>30.4.1995</td>\n",
       "      <td>235959</td>\n",
       "      <td></td>\n",
       "      <td>IN</td>\n",
       "    </tr>\n",
       "    <tr>\n",
       "      <th>4</th>\n",
       "      <td>1363387</td>\n",
       "      <td>11</td>\n",
       "      <td>148.69</td>\n",
       "      <td>148.69</td>\n",
       "      <td>0.00</td>\n",
       "      <td>470.05</td>\n",
       "      <td>21.5.1995</td>\n",
       "      <td>144736</td>\n",
       "      <td>E</td>\n",
       "      <td>DP</td>\n",
       "    </tr>\n",
       "  </tbody>\n",
       "</table>\n",
       "</div>"
      ],
      "text/plain": [
       "   cust_id  tran_id  tran_amt  principal_amt  interest_amt  new_balance  \\\n",
       "0  1363481       26    136.03         136.03          0.00      1521.57   \n",
       "1  1362746        1      2.83           0.00          2.83      2265.90   \n",
       "2  1363251       11     13.56           0.00         13.56      5438.90   \n",
       "3  1362542        4      0.76           0.00          0.76       610.92   \n",
       "4  1363387       11    148.69         148.69          0.00       470.05   \n",
       "\n",
       "    tran_date tran_time channel tran_code  \n",
       "0  26.10.1995     84111      A       DP    \n",
       "1   31.1.1995    235959              IN    \n",
       "2   30.4.1995    235959              IN    \n",
       "3   30.4.1995    235959              IN    \n",
       "4   21.5.1995    144736      E       DP    "
      ]
     },
     "execution_count": 10,
     "metadata": {},
     "output_type": "execute_result"
    }
   ],
   "source": [
    "savings_trans.head()"
   ]
  },
  {
   "cell_type": "code",
   "execution_count": 11,
   "id": "fce0b739",
   "metadata": {},
   "outputs": [
    {
     "data": {
      "text/html": [
       "<div>\n",
       "<style scoped>\n",
       "    .dataframe tbody tr th:only-of-type {\n",
       "        vertical-align: middle;\n",
       "    }\n",
       "\n",
       "    .dataframe tbody tr th {\n",
       "        vertical-align: top;\n",
       "    }\n",
       "\n",
       "    .dataframe thead th {\n",
       "        text-align: right;\n",
       "    }\n",
       "</style>\n",
       "<table border=\"1\" class=\"dataframe\">\n",
       "  <thead>\n",
       "    <tr style=\"text-align: right;\">\n",
       "      <th></th>\n",
       "      <th>cust_id</th>\n",
       "      <th>tran_id</th>\n",
       "      <th>tran_amt</th>\n",
       "      <th>principal_amt</th>\n",
       "      <th>interest_amt</th>\n",
       "      <th>new_balance</th>\n",
       "      <th>tran_date</th>\n",
       "      <th>tran_time</th>\n",
       "      <th>channel</th>\n",
       "      <th>tran_code</th>\n",
       "      <th>Type</th>\n",
       "    </tr>\n",
       "  </thead>\n",
       "  <tbody>\n",
       "    <tr>\n",
       "      <th>0</th>\n",
       "      <td>1363481</td>\n",
       "      <td>26</td>\n",
       "      <td>136.03</td>\n",
       "      <td>136.03</td>\n",
       "      <td>0.00</td>\n",
       "      <td>1521.57</td>\n",
       "      <td>26.10.1995</td>\n",
       "      <td>84111</td>\n",
       "      <td>A</td>\n",
       "      <td>DP</td>\n",
       "      <td>Savings</td>\n",
       "    </tr>\n",
       "    <tr>\n",
       "      <th>1</th>\n",
       "      <td>1362746</td>\n",
       "      <td>1</td>\n",
       "      <td>2.83</td>\n",
       "      <td>0.00</td>\n",
       "      <td>2.83</td>\n",
       "      <td>2265.90</td>\n",
       "      <td>31.1.1995</td>\n",
       "      <td>235959</td>\n",
       "      <td></td>\n",
       "      <td>IN</td>\n",
       "      <td>Savings</td>\n",
       "    </tr>\n",
       "    <tr>\n",
       "      <th>2</th>\n",
       "      <td>1363251</td>\n",
       "      <td>11</td>\n",
       "      <td>13.56</td>\n",
       "      <td>0.00</td>\n",
       "      <td>13.56</td>\n",
       "      <td>5438.90</td>\n",
       "      <td>30.4.1995</td>\n",
       "      <td>235959</td>\n",
       "      <td></td>\n",
       "      <td>IN</td>\n",
       "      <td>Savings</td>\n",
       "    </tr>\n",
       "    <tr>\n",
       "      <th>3</th>\n",
       "      <td>1362542</td>\n",
       "      <td>4</td>\n",
       "      <td>0.76</td>\n",
       "      <td>0.00</td>\n",
       "      <td>0.76</td>\n",
       "      <td>610.92</td>\n",
       "      <td>30.4.1995</td>\n",
       "      <td>235959</td>\n",
       "      <td></td>\n",
       "      <td>IN</td>\n",
       "      <td>Savings</td>\n",
       "    </tr>\n",
       "    <tr>\n",
       "      <th>4</th>\n",
       "      <td>1363387</td>\n",
       "      <td>11</td>\n",
       "      <td>148.69</td>\n",
       "      <td>148.69</td>\n",
       "      <td>0.00</td>\n",
       "      <td>470.05</td>\n",
       "      <td>21.5.1995</td>\n",
       "      <td>144736</td>\n",
       "      <td>E</td>\n",
       "      <td>DP</td>\n",
       "      <td>Savings</td>\n",
       "    </tr>\n",
       "    <tr>\n",
       "      <th>...</th>\n",
       "      <td>...</td>\n",
       "      <td>...</td>\n",
       "      <td>...</td>\n",
       "      <td>...</td>\n",
       "      <td>...</td>\n",
       "      <td>...</td>\n",
       "      <td>...</td>\n",
       "      <td>...</td>\n",
       "      <td>...</td>\n",
       "      <td>...</td>\n",
       "      <td>...</td>\n",
       "    </tr>\n",
       "    <tr>\n",
       "      <th>11184</th>\n",
       "      <td>1362950</td>\n",
       "      <td>10</td>\n",
       "      <td>1.68</td>\n",
       "      <td>0.00</td>\n",
       "      <td>1.68</td>\n",
       "      <td>674.90</td>\n",
       "      <td>31.10.1995</td>\n",
       "      <td>235959</td>\n",
       "      <td></td>\n",
       "      <td>IN</td>\n",
       "      <td>Savings</td>\n",
       "    </tr>\n",
       "    <tr>\n",
       "      <th>11185</th>\n",
       "      <td>1362721</td>\n",
       "      <td>14</td>\n",
       "      <td>0.02</td>\n",
       "      <td>0.00</td>\n",
       "      <td>0.02</td>\n",
       "      <td>13.82</td>\n",
       "      <td>30.9.1995</td>\n",
       "      <td>235959</td>\n",
       "      <td></td>\n",
       "      <td>IN</td>\n",
       "      <td>Savings</td>\n",
       "    </tr>\n",
       "    <tr>\n",
       "      <th>11186</th>\n",
       "      <td>1362806</td>\n",
       "      <td>4</td>\n",
       "      <td>3.60</td>\n",
       "      <td>0.00</td>\n",
       "      <td>3.60</td>\n",
       "      <td>1444.57</td>\n",
       "      <td>30.4.1995</td>\n",
       "      <td>235959</td>\n",
       "      <td></td>\n",
       "      <td>IN</td>\n",
       "      <td>Savings</td>\n",
       "    </tr>\n",
       "    <tr>\n",
       "      <th>11187</th>\n",
       "      <td>1362995</td>\n",
       "      <td>36</td>\n",
       "      <td>541.91</td>\n",
       "      <td>541.91</td>\n",
       "      <td>0.00</td>\n",
       "      <td>4326.98</td>\n",
       "      <td>24.9.1995</td>\n",
       "      <td>150959</td>\n",
       "      <td>E</td>\n",
       "      <td>DP</td>\n",
       "      <td>Savings</td>\n",
       "    </tr>\n",
       "    <tr>\n",
       "      <th>11188</th>\n",
       "      <td>1363011</td>\n",
       "      <td>6</td>\n",
       "      <td>2.87</td>\n",
       "      <td>0.00</td>\n",
       "      <td>2.87</td>\n",
       "      <td>2297.91</td>\n",
       "      <td>31.3.1995</td>\n",
       "      <td>235959</td>\n",
       "      <td></td>\n",
       "      <td>IN</td>\n",
       "      <td>Savings</td>\n",
       "    </tr>\n",
       "  </tbody>\n",
       "</table>\n",
       "<p>11189 rows × 11 columns</p>\n",
       "</div>"
      ],
      "text/plain": [
       "       cust_id  tran_id  tran_amt  principal_amt  interest_amt  new_balance  \\\n",
       "0      1363481       26    136.03         136.03          0.00      1521.57   \n",
       "1      1362746        1      2.83           0.00          2.83      2265.90   \n",
       "2      1363251       11     13.56           0.00         13.56      5438.90   \n",
       "3      1362542        4      0.76           0.00          0.76       610.92   \n",
       "4      1363387       11    148.69         148.69          0.00       470.05   \n",
       "...        ...      ...       ...            ...           ...          ...   \n",
       "11184  1362950       10      1.68           0.00          1.68       674.90   \n",
       "11185  1362721       14      0.02           0.00          0.02        13.82   \n",
       "11186  1362806        4      3.60           0.00          3.60      1444.57   \n",
       "11187  1362995       36    541.91         541.91          0.00      4326.98   \n",
       "11188  1363011        6      2.87           0.00          2.87      2297.91   \n",
       "\n",
       "        tran_date tran_time channel tran_code     Type  \n",
       "0      26.10.1995     84111      A       DP    Savings  \n",
       "1       31.1.1995    235959              IN    Savings  \n",
       "2       30.4.1995    235959              IN    Savings  \n",
       "3       30.4.1995    235959              IN    Savings  \n",
       "4       21.5.1995    144736      E       DP    Savings  \n",
       "...           ...       ...     ...       ...      ...  \n",
       "11184  31.10.1995    235959              IN    Savings  \n",
       "11185   30.9.1995    235959              IN    Savings  \n",
       "11186   30.4.1995    235959              IN    Savings  \n",
       "11187   24.9.1995    150959      E       DP    Savings  \n",
       "11188   31.3.1995    235959              IN    Savings  \n",
       "\n",
       "[11189 rows x 11 columns]"
      ]
     },
     "execution_count": 11,
     "metadata": {},
     "output_type": "execute_result"
    }
   ],
   "source": [
    "#Drop columns that aren't needed. ie. Noise\n",
    "#savings_trans.drop('tran_amt', axis=1, inplace=True)\n",
    "#savings_trans.drop('principal_amt', axis=1, inplace=True) \n",
    "#savings_trans.drop('interest_amt', axis=1, inplace=True) \n",
    "#savings_trans.drop('new_balance', axis=1, inplace=True)\n",
    "#savings_trans.drop('tran_date', axis=1, inplace=True)\n",
    "#savings_trans.drop('tran_time', axis=1, inplace=True) \n",
    "#savings_trans.drop('channel', axis=1, inplace=True)\n",
    "#savings_trans.drop('tran_code', axis=1, inplace=True)\n",
    "\n",
    "#add column Type and assign checking to all\n",
    "savings_trans = savings_trans.assign(Type='Savings')\n",
    "\n",
    "#see new table\n",
    "savings_trans"
   ]
  },
  {
   "cell_type": "markdown",
   "id": "68f0c6fd",
   "metadata": {},
   "source": [
    "## Join subplots together"
   ]
  },
  {
   "cell_type": "code",
   "execution_count": 12,
   "id": "540bb0a0",
   "metadata": {},
   "outputs": [
    {
     "data": {
      "text/html": [
       "<div>\n",
       "<style scoped>\n",
       "    .dataframe tbody tr th:only-of-type {\n",
       "        vertical-align: middle;\n",
       "    }\n",
       "\n",
       "    .dataframe tbody tr th {\n",
       "        vertical-align: top;\n",
       "    }\n",
       "\n",
       "    .dataframe thead th {\n",
       "        text-align: right;\n",
       "    }\n",
       "</style>\n",
       "<table border=\"1\" class=\"dataframe\">\n",
       "  <thead>\n",
       "    <tr style=\"text-align: right;\">\n",
       "      <th></th>\n",
       "      <th>cust_id</th>\n",
       "      <th>tran_id</th>\n",
       "      <th>tran_amt</th>\n",
       "      <th>principal_amt</th>\n",
       "      <th>interest_amt</th>\n",
       "      <th>new_balance</th>\n",
       "      <th>tran_date</th>\n",
       "      <th>tran_time</th>\n",
       "      <th>channel</th>\n",
       "      <th>tran_code</th>\n",
       "      <th>Type</th>\n",
       "    </tr>\n",
       "  </thead>\n",
       "  <tbody>\n",
       "    <tr>\n",
       "      <th>0</th>\n",
       "      <td>1363481</td>\n",
       "      <td>26</td>\n",
       "      <td>136.03</td>\n",
       "      <td>136.03</td>\n",
       "      <td>0.00</td>\n",
       "      <td>1521.57</td>\n",
       "      <td>26.10.1995</td>\n",
       "      <td>84111</td>\n",
       "      <td>A</td>\n",
       "      <td>DP</td>\n",
       "      <td>Savings</td>\n",
       "    </tr>\n",
       "    <tr>\n",
       "      <th>1</th>\n",
       "      <td>1362746</td>\n",
       "      <td>1</td>\n",
       "      <td>2.83</td>\n",
       "      <td>0.00</td>\n",
       "      <td>2.83</td>\n",
       "      <td>2265.90</td>\n",
       "      <td>31.1.1995</td>\n",
       "      <td>235959</td>\n",
       "      <td></td>\n",
       "      <td>IN</td>\n",
       "      <td>Savings</td>\n",
       "    </tr>\n",
       "    <tr>\n",
       "      <th>2</th>\n",
       "      <td>1363251</td>\n",
       "      <td>11</td>\n",
       "      <td>13.56</td>\n",
       "      <td>0.00</td>\n",
       "      <td>13.56</td>\n",
       "      <td>5438.90</td>\n",
       "      <td>30.4.1995</td>\n",
       "      <td>235959</td>\n",
       "      <td></td>\n",
       "      <td>IN</td>\n",
       "      <td>Savings</td>\n",
       "    </tr>\n",
       "    <tr>\n",
       "      <th>3</th>\n",
       "      <td>1362542</td>\n",
       "      <td>4</td>\n",
       "      <td>0.76</td>\n",
       "      <td>0.00</td>\n",
       "      <td>0.76</td>\n",
       "      <td>610.92</td>\n",
       "      <td>30.4.1995</td>\n",
       "      <td>235959</td>\n",
       "      <td></td>\n",
       "      <td>IN</td>\n",
       "      <td>Savings</td>\n",
       "    </tr>\n",
       "    <tr>\n",
       "      <th>4</th>\n",
       "      <td>1363387</td>\n",
       "      <td>11</td>\n",
       "      <td>148.69</td>\n",
       "      <td>148.69</td>\n",
       "      <td>0.00</td>\n",
       "      <td>470.05</td>\n",
       "      <td>21.5.1995</td>\n",
       "      <td>144736</td>\n",
       "      <td>E</td>\n",
       "      <td>DP</td>\n",
       "      <td>Savings</td>\n",
       "    </tr>\n",
       "    <tr>\n",
       "      <th>...</th>\n",
       "      <td>...</td>\n",
       "      <td>...</td>\n",
       "      <td>...</td>\n",
       "      <td>...</td>\n",
       "      <td>...</td>\n",
       "      <td>...</td>\n",
       "      <td>...</td>\n",
       "      <td>...</td>\n",
       "      <td>...</td>\n",
       "      <td>...</td>\n",
       "      <td>...</td>\n",
       "    </tr>\n",
       "    <tr>\n",
       "      <th>46199</th>\n",
       "      <td>1363272</td>\n",
       "      <td>50</td>\n",
       "      <td>-0.15</td>\n",
       "      <td>-0.15</td>\n",
       "      <td>0.00</td>\n",
       "      <td>319.71</td>\n",
       "      <td>3.10.1995</td>\n",
       "      <td></td>\n",
       "      <td></td>\n",
       "      <td>FK</td>\n",
       "      <td>Checking</td>\n",
       "    </tr>\n",
       "    <tr>\n",
       "      <th>46200</th>\n",
       "      <td>1363393</td>\n",
       "      <td>61</td>\n",
       "      <td>-102.52</td>\n",
       "      <td>-102.52</td>\n",
       "      <td>0.00</td>\n",
       "      <td>57.47</td>\n",
       "      <td>22.1.1995</td>\n",
       "      <td></td>\n",
       "      <td>P</td>\n",
       "      <td>WD</td>\n",
       "      <td>Checking</td>\n",
       "    </tr>\n",
       "    <tr>\n",
       "      <th>46201</th>\n",
       "      <td>1363365</td>\n",
       "      <td>25</td>\n",
       "      <td>-275.89</td>\n",
       "      <td>-275.89</td>\n",
       "      <td>0.00</td>\n",
       "      <td>2632.93</td>\n",
       "      <td>8.1.1995</td>\n",
       "      <td></td>\n",
       "      <td>P</td>\n",
       "      <td>WD</td>\n",
       "      <td>Checking</td>\n",
       "    </tr>\n",
       "    <tr>\n",
       "      <th>46202</th>\n",
       "      <td>1363031</td>\n",
       "      <td>73</td>\n",
       "      <td>-0.15</td>\n",
       "      <td>-0.15</td>\n",
       "      <td>0.00</td>\n",
       "      <td>1103.47</td>\n",
       "      <td>23.1.1995</td>\n",
       "      <td></td>\n",
       "      <td></td>\n",
       "      <td>FK</td>\n",
       "      <td>Checking</td>\n",
       "    </tr>\n",
       "    <tr>\n",
       "      <th>46203</th>\n",
       "      <td>1363011</td>\n",
       "      <td>6</td>\n",
       "      <td>1261.26</td>\n",
       "      <td>1261.26</td>\n",
       "      <td>0.00</td>\n",
       "      <td>13654.61</td>\n",
       "      <td>7.1.1995</td>\n",
       "      <td>94214</td>\n",
       "      <td>B</td>\n",
       "      <td>DP</td>\n",
       "      <td>Checking</td>\n",
       "    </tr>\n",
       "  </tbody>\n",
       "</table>\n",
       "<p>77560 rows × 11 columns</p>\n",
       "</div>"
      ],
      "text/plain": [
       "       cust_id  tran_id  tran_amt  principal_amt  interest_amt  new_balance  \\\n",
       "0      1363481       26    136.03         136.03          0.00      1521.57   \n",
       "1      1362746        1      2.83           0.00          2.83      2265.90   \n",
       "2      1363251       11     13.56           0.00         13.56      5438.90   \n",
       "3      1362542        4      0.76           0.00          0.76       610.92   \n",
       "4      1363387       11    148.69         148.69          0.00       470.05   \n",
       "...        ...      ...       ...            ...           ...          ...   \n",
       "46199  1363272       50     -0.15          -0.15          0.00       319.71   \n",
       "46200  1363393       61   -102.52        -102.52          0.00        57.47   \n",
       "46201  1363365       25   -275.89        -275.89          0.00      2632.93   \n",
       "46202  1363031       73     -0.15          -0.15          0.00      1103.47   \n",
       "46203  1363011        6   1261.26        1261.26          0.00     13654.61   \n",
       "\n",
       "        tran_date     tran_time channel tran_code      Type  \n",
       "0      26.10.1995         84111      A       DP     Savings  \n",
       "1       31.1.1995        235959              IN     Savings  \n",
       "2       30.4.1995        235959              IN     Savings  \n",
       "3       30.4.1995        235959              IN     Savings  \n",
       "4       21.5.1995        144736      E       DP     Savings  \n",
       "...           ...           ...     ...       ...       ...  \n",
       "46199   3.10.1995                            FK    Checking  \n",
       "46200   22.1.1995                    P       WD    Checking  \n",
       "46201    8.1.1995                    P       WD    Checking  \n",
       "46202   23.1.1995                            FK    Checking  \n",
       "46203    7.1.1995         94214      B       DP    Checking  \n",
       "\n",
       "[77560 rows x 11 columns]"
      ]
     },
     "execution_count": 12,
     "metadata": {},
     "output_type": "execute_result"
    }
   ],
   "source": [
    "new_trans = pd.concat([savings_trans, credit_trans, check_trans])\n",
    "new_trans"
   ]
  },
  {
   "cell_type": "code",
   "execution_count": 13,
   "id": "a82300c1",
   "metadata": {},
   "outputs": [],
   "source": [
    "#Drop columns that aren't needed. ie. Noise\n",
    "new_trans.drop('channel', axis=1, inplace=True)\n",
    "new_trans.drop('tran_code', axis=1, inplace=True)\n",
    "new_trans.drop('tran_time', axis=1, inplace=True)"
   ]
  },
  {
   "cell_type": "code",
   "execution_count": 14,
   "id": "47a27721",
   "metadata": {},
   "outputs": [
    {
     "data": {
      "text/html": [
       "<div>\n",
       "<style scoped>\n",
       "    .dataframe tbody tr th:only-of-type {\n",
       "        vertical-align: middle;\n",
       "    }\n",
       "\n",
       "    .dataframe tbody tr th {\n",
       "        vertical-align: top;\n",
       "    }\n",
       "\n",
       "    .dataframe thead th {\n",
       "        text-align: right;\n",
       "    }\n",
       "</style>\n",
       "<table border=\"1\" class=\"dataframe\">\n",
       "  <thead>\n",
       "    <tr style=\"text-align: right;\">\n",
       "      <th></th>\n",
       "      <th>Unnamed: 0</th>\n",
       "      <th>cust_id</th>\n",
       "      <th>income</th>\n",
       "      <th>Tier_income</th>\n",
       "      <th>age</th>\n",
       "      <th>Age_Group</th>\n",
       "      <th>years_with_bank</th>\n",
       "      <th>nbr_children</th>\n",
       "      <th>gender</th>\n",
       "      <th>marital_status</th>\n",
       "      <th>first_name</th>\n",
       "      <th>last_name</th>\n",
       "      <th>state_code</th>\n",
       "      <th>Region</th>\n",
       "    </tr>\n",
       "  </thead>\n",
       "  <tbody>\n",
       "    <tr>\n",
       "      <th>0</th>\n",
       "      <td>0</td>\n",
       "      <td>1362691</td>\n",
       "      <td>26150</td>\n",
       "      <td>Low Middle</td>\n",
       "      <td>46</td>\n",
       "      <td>40-49</td>\n",
       "      <td>5</td>\n",
       "      <td>1</td>\n",
       "      <td>M</td>\n",
       "      <td>2</td>\n",
       "      <td>Donald                                        ...</td>\n",
       "      <td>Marek                                         ...</td>\n",
       "      <td>NV</td>\n",
       "      <td>West</td>\n",
       "    </tr>\n",
       "    <tr>\n",
       "      <th>1</th>\n",
       "      <td>1</td>\n",
       "      <td>1362487</td>\n",
       "      <td>6605</td>\n",
       "      <td>Lowest</td>\n",
       "      <td>71</td>\n",
       "      <td>70-79</td>\n",
       "      <td>1</td>\n",
       "      <td>0</td>\n",
       "      <td>M</td>\n",
       "      <td>2</td>\n",
       "      <td>ChingDyi                                      ...</td>\n",
       "      <td>Moussavi                                      ...</td>\n",
       "      <td>CA</td>\n",
       "      <td>West</td>\n",
       "    </tr>\n",
       "    <tr>\n",
       "      <th>2</th>\n",
       "      <td>2</td>\n",
       "      <td>1363160</td>\n",
       "      <td>18548</td>\n",
       "      <td>Low Middle</td>\n",
       "      <td>38</td>\n",
       "      <td>30-39</td>\n",
       "      <td>8</td>\n",
       "      <td>0</td>\n",
       "      <td>F</td>\n",
       "      <td>1</td>\n",
       "      <td>Rosa                                          ...</td>\n",
       "      <td>Johnston                                      ...</td>\n",
       "      <td>CA</td>\n",
       "      <td>West</td>\n",
       "    </tr>\n",
       "    <tr>\n",
       "      <th>3</th>\n",
       "      <td>3</td>\n",
       "      <td>1362752</td>\n",
       "      <td>47668</td>\n",
       "      <td>High Middle</td>\n",
       "      <td>54</td>\n",
       "      <td>50-59</td>\n",
       "      <td>3</td>\n",
       "      <td>0</td>\n",
       "      <td>F</td>\n",
       "      <td>1</td>\n",
       "      <td>Lisa                                          ...</td>\n",
       "      <td>Martin                                        ...</td>\n",
       "      <td>CA</td>\n",
       "      <td>West</td>\n",
       "    </tr>\n",
       "    <tr>\n",
       "      <th>4</th>\n",
       "      <td>4</td>\n",
       "      <td>1362548</td>\n",
       "      <td>44554</td>\n",
       "      <td>High Middle</td>\n",
       "      <td>59</td>\n",
       "      <td>50-59</td>\n",
       "      <td>9</td>\n",
       "      <td>2</td>\n",
       "      <td>F</td>\n",
       "      <td>4</td>\n",
       "      <td>Barbara                                       ...</td>\n",
       "      <td>O'Malley                                      ...</td>\n",
       "      <td>NY</td>\n",
       "      <td>Northeast</td>\n",
       "    </tr>\n",
       "  </tbody>\n",
       "</table>\n",
       "</div>"
      ],
      "text/plain": [
       "   Unnamed: 0  cust_id  income  Tier_income  age Age_Group  years_with_bank  \\\n",
       "0           0  1362691   26150   Low Middle   46     40-49                5   \n",
       "1           1  1362487    6605       Lowest   71     70-79                1   \n",
       "2           2  1363160   18548   Low Middle   38     30-39                8   \n",
       "3           3  1362752   47668  High Middle   54     50-59                3   \n",
       "4           4  1362548   44554  High Middle   59     50-59                9   \n",
       "\n",
       "   nbr_children gender  marital_status  \\\n",
       "0             1     M                2   \n",
       "1             0     M                2   \n",
       "2             0     F                1   \n",
       "3             0     F                1   \n",
       "4             2     F                4   \n",
       "\n",
       "                                          first_name  \\\n",
       "0  Donald                                        ...   \n",
       "1  ChingDyi                                      ...   \n",
       "2  Rosa                                          ...   \n",
       "3  Lisa                                          ...   \n",
       "4  Barbara                                       ...   \n",
       "\n",
       "                                           last_name state_code     Region  \n",
       "0  Marek                                         ...       NV         West  \n",
       "1  Moussavi                                      ...       CA         West  \n",
       "2  Johnston                                      ...       CA         West  \n",
       "3  Martin                                        ...       CA         West  \n",
       "4  O'Malley                                      ...       NY    Northeast  "
      ]
     },
     "execution_count": 14,
     "metadata": {},
     "output_type": "execute_result"
    }
   ],
   "source": [
    "customer.head()"
   ]
  },
  {
   "cell_type": "code",
   "execution_count": 15,
   "id": "40ef4353",
   "metadata": {},
   "outputs": [
    {
     "data": {
      "text/html": [
       "<div>\n",
       "<style scoped>\n",
       "    .dataframe tbody tr th:only-of-type {\n",
       "        vertical-align: middle;\n",
       "    }\n",
       "\n",
       "    .dataframe tbody tr th {\n",
       "        vertical-align: top;\n",
       "    }\n",
       "\n",
       "    .dataframe thead th {\n",
       "        text-align: right;\n",
       "    }\n",
       "</style>\n",
       "<table border=\"1\" class=\"dataframe\">\n",
       "  <thead>\n",
       "    <tr style=\"text-align: right;\">\n",
       "      <th></th>\n",
       "      <th>cust_id</th>\n",
       "      <th>income</th>\n",
       "      <th>Tier_income</th>\n",
       "      <th>age</th>\n",
       "      <th>Age_Group</th>\n",
       "      <th>years_with_bank</th>\n",
       "      <th>nbr_children</th>\n",
       "      <th>gender</th>\n",
       "      <th>marital_status</th>\n",
       "      <th>Region</th>\n",
       "    </tr>\n",
       "  </thead>\n",
       "  <tbody>\n",
       "    <tr>\n",
       "      <th>0</th>\n",
       "      <td>1362691</td>\n",
       "      <td>26150</td>\n",
       "      <td>Low Middle</td>\n",
       "      <td>46</td>\n",
       "      <td>40-49</td>\n",
       "      <td>5</td>\n",
       "      <td>1</td>\n",
       "      <td>M</td>\n",
       "      <td>2</td>\n",
       "      <td>West</td>\n",
       "    </tr>\n",
       "    <tr>\n",
       "      <th>1</th>\n",
       "      <td>1362487</td>\n",
       "      <td>6605</td>\n",
       "      <td>Lowest</td>\n",
       "      <td>71</td>\n",
       "      <td>70-79</td>\n",
       "      <td>1</td>\n",
       "      <td>0</td>\n",
       "      <td>M</td>\n",
       "      <td>2</td>\n",
       "      <td>West</td>\n",
       "    </tr>\n",
       "    <tr>\n",
       "      <th>2</th>\n",
       "      <td>1363160</td>\n",
       "      <td>18548</td>\n",
       "      <td>Low Middle</td>\n",
       "      <td>38</td>\n",
       "      <td>30-39</td>\n",
       "      <td>8</td>\n",
       "      <td>0</td>\n",
       "      <td>F</td>\n",
       "      <td>1</td>\n",
       "      <td>West</td>\n",
       "    </tr>\n",
       "    <tr>\n",
       "      <th>3</th>\n",
       "      <td>1362752</td>\n",
       "      <td>47668</td>\n",
       "      <td>High Middle</td>\n",
       "      <td>54</td>\n",
       "      <td>50-59</td>\n",
       "      <td>3</td>\n",
       "      <td>0</td>\n",
       "      <td>F</td>\n",
       "      <td>1</td>\n",
       "      <td>West</td>\n",
       "    </tr>\n",
       "    <tr>\n",
       "      <th>4</th>\n",
       "      <td>1362548</td>\n",
       "      <td>44554</td>\n",
       "      <td>High Middle</td>\n",
       "      <td>59</td>\n",
       "      <td>50-59</td>\n",
       "      <td>9</td>\n",
       "      <td>2</td>\n",
       "      <td>F</td>\n",
       "      <td>4</td>\n",
       "      <td>Northeast</td>\n",
       "    </tr>\n",
       "    <tr>\n",
       "      <th>...</th>\n",
       "      <td>...</td>\n",
       "      <td>...</td>\n",
       "      <td>...</td>\n",
       "      <td>...</td>\n",
       "      <td>...</td>\n",
       "      <td>...</td>\n",
       "      <td>...</td>\n",
       "      <td>...</td>\n",
       "      <td>...</td>\n",
       "      <td>...</td>\n",
       "    </tr>\n",
       "    <tr>\n",
       "      <th>742</th>\n",
       "      <td>1363324</td>\n",
       "      <td>14795</td>\n",
       "      <td>Lowest</td>\n",
       "      <td>36</td>\n",
       "      <td>30-39</td>\n",
       "      <td>6</td>\n",
       "      <td>1</td>\n",
       "      <td>F</td>\n",
       "      <td>4</td>\n",
       "      <td>West</td>\n",
       "    </tr>\n",
       "    <tr>\n",
       "      <th>743</th>\n",
       "      <td>1362895</td>\n",
       "      <td>26387</td>\n",
       "      <td>Low Middle</td>\n",
       "      <td>56</td>\n",
       "      <td>50-59</td>\n",
       "      <td>6</td>\n",
       "      <td>1</td>\n",
       "      <td>M</td>\n",
       "      <td>2</td>\n",
       "      <td>Northeast</td>\n",
       "    </tr>\n",
       "    <tr>\n",
       "      <th>744</th>\n",
       "      <td>1362569</td>\n",
       "      <td>61300</td>\n",
       "      <td>High Middle</td>\n",
       "      <td>50</td>\n",
       "      <td>50-59</td>\n",
       "      <td>0</td>\n",
       "      <td>2</td>\n",
       "      <td>M</td>\n",
       "      <td>2</td>\n",
       "      <td>West</td>\n",
       "    </tr>\n",
       "    <tr>\n",
       "      <th>745</th>\n",
       "      <td>1363364</td>\n",
       "      <td>15100</td>\n",
       "      <td>Low Middle</td>\n",
       "      <td>37</td>\n",
       "      <td>30-39</td>\n",
       "      <td>7</td>\n",
       "      <td>0</td>\n",
       "      <td>F</td>\n",
       "      <td>2</td>\n",
       "      <td>South</td>\n",
       "    </tr>\n",
       "    <tr>\n",
       "      <th>746</th>\n",
       "      <td>1363303</td>\n",
       "      <td>17875</td>\n",
       "      <td>Low Middle</td>\n",
       "      <td>18</td>\n",
       "      <td>10-19</td>\n",
       "      <td>3</td>\n",
       "      <td>0</td>\n",
       "      <td>F</td>\n",
       "      <td>1</td>\n",
       "      <td>West</td>\n",
       "    </tr>\n",
       "  </tbody>\n",
       "</table>\n",
       "<p>747 rows × 10 columns</p>\n",
       "</div>"
      ],
      "text/plain": [
       "     cust_id  income  Tier_income  age Age_Group  years_with_bank  \\\n",
       "0    1362691   26150   Low Middle   46     40-49                5   \n",
       "1    1362487    6605       Lowest   71     70-79                1   \n",
       "2    1363160   18548   Low Middle   38     30-39                8   \n",
       "3    1362752   47668  High Middle   54     50-59                3   \n",
       "4    1362548   44554  High Middle   59     50-59                9   \n",
       "..       ...     ...          ...  ...       ...              ...   \n",
       "742  1363324   14795       Lowest   36     30-39                6   \n",
       "743  1362895   26387   Low Middle   56     50-59                6   \n",
       "744  1362569   61300  High Middle   50     50-59                0   \n",
       "745  1363364   15100   Low Middle   37     30-39                7   \n",
       "746  1363303   17875   Low Middle   18     10-19                3   \n",
       "\n",
       "     nbr_children gender  marital_status     Region  \n",
       "0               1     M                2       West  \n",
       "1               0     M                2       West  \n",
       "2               0     F                1       West  \n",
       "3               0     F                1       West  \n",
       "4               2     F                4  Northeast  \n",
       "..            ...    ...             ...        ...  \n",
       "742             1     F                4       West  \n",
       "743             1     M                2  Northeast  \n",
       "744             2     M                2       West  \n",
       "745             0     F                2      South  \n",
       "746             0     F                1       West  \n",
       "\n",
       "[747 rows x 10 columns]"
      ]
     },
     "execution_count": 15,
     "metadata": {},
     "output_type": "execute_result"
    }
   ],
   "source": [
    "#Drop columns that aren't needed. ie. Noise\n",
    "customer.drop('Unnamed: 0', axis=1, inplace=True)\n",
    "customer.drop('first_name', axis=1, inplace=True)\n",
    "customer.drop('last_name', axis=1, inplace=True)\n",
    "customer.drop('state_code', axis=1, inplace=True)\n",
    "\n",
    "customer"
   ]
  },
  {
   "cell_type": "code",
   "execution_count": 16,
   "id": "9bf5ad67",
   "metadata": {},
   "outputs": [
    {
     "data": {
      "text/html": [
       "<div>\n",
       "<style scoped>\n",
       "    .dataframe tbody tr th:only-of-type {\n",
       "        vertical-align: middle;\n",
       "    }\n",
       "\n",
       "    .dataframe tbody tr th {\n",
       "        vertical-align: top;\n",
       "    }\n",
       "\n",
       "    .dataframe thead th {\n",
       "        text-align: right;\n",
       "    }\n",
       "</style>\n",
       "<table border=\"1\" class=\"dataframe\">\n",
       "  <thead>\n",
       "    <tr style=\"text-align: right;\">\n",
       "      <th></th>\n",
       "      <th>cust_id</th>\n",
       "      <th>income</th>\n",
       "      <th>Tier_income</th>\n",
       "      <th>age</th>\n",
       "      <th>Age_Group</th>\n",
       "      <th>years_with_bank</th>\n",
       "      <th>nbr_children</th>\n",
       "      <th>gender</th>\n",
       "      <th>marital_status</th>\n",
       "      <th>Region</th>\n",
       "      <th>tran_id</th>\n",
       "      <th>tran_amt</th>\n",
       "      <th>principal_amt</th>\n",
       "      <th>interest_amt</th>\n",
       "      <th>new_balance</th>\n",
       "      <th>tran_date</th>\n",
       "      <th>Type</th>\n",
       "    </tr>\n",
       "  </thead>\n",
       "  <tbody>\n",
       "    <tr>\n",
       "      <th>0</th>\n",
       "      <td>1362487</td>\n",
       "      <td>6605</td>\n",
       "      <td>Lowest</td>\n",
       "      <td>71</td>\n",
       "      <td>70-79</td>\n",
       "      <td>1</td>\n",
       "      <td>0</td>\n",
       "      <td>M</td>\n",
       "      <td>2</td>\n",
       "      <td>West</td>\n",
       "      <td>5</td>\n",
       "      <td>-200.00</td>\n",
       "      <td>-200.00</td>\n",
       "      <td>0.00</td>\n",
       "      <td>511.36</td>\n",
       "      <td>27.2.1995</td>\n",
       "      <td>Savings</td>\n",
       "    </tr>\n",
       "    <tr>\n",
       "      <th>1</th>\n",
       "      <td>1362487</td>\n",
       "      <td>6605</td>\n",
       "      <td>Lowest</td>\n",
       "      <td>71</td>\n",
       "      <td>70-79</td>\n",
       "      <td>1</td>\n",
       "      <td>0</td>\n",
       "      <td>M</td>\n",
       "      <td>2</td>\n",
       "      <td>West</td>\n",
       "      <td>10</td>\n",
       "      <td>-204.66</td>\n",
       "      <td>-204.66</td>\n",
       "      <td>0.00</td>\n",
       "      <td>310.54</td>\n",
       "      <td>13.5.1995</td>\n",
       "      <td>Savings</td>\n",
       "    </tr>\n",
       "    <tr>\n",
       "      <th>2</th>\n",
       "      <td>1362487</td>\n",
       "      <td>6605</td>\n",
       "      <td>Lowest</td>\n",
       "      <td>71</td>\n",
       "      <td>70-79</td>\n",
       "      <td>1</td>\n",
       "      <td>0</td>\n",
       "      <td>M</td>\n",
       "      <td>2</td>\n",
       "      <td>West</td>\n",
       "      <td>15</td>\n",
       "      <td>-40.00</td>\n",
       "      <td>-40.00</td>\n",
       "      <td>0.00</td>\n",
       "      <td>25.66</td>\n",
       "      <td>27.6.1995</td>\n",
       "      <td>Savings</td>\n",
       "    </tr>\n",
       "    <tr>\n",
       "      <th>3</th>\n",
       "      <td>1362487</td>\n",
       "      <td>6605</td>\n",
       "      <td>Lowest</td>\n",
       "      <td>71</td>\n",
       "      <td>70-79</td>\n",
       "      <td>1</td>\n",
       "      <td>0</td>\n",
       "      <td>M</td>\n",
       "      <td>2</td>\n",
       "      <td>West</td>\n",
       "      <td>2</td>\n",
       "      <td>1.92</td>\n",
       "      <td>0.00</td>\n",
       "      <td>1.92</td>\n",
       "      <td>771.36</td>\n",
       "      <td>31.1.1995</td>\n",
       "      <td>Savings</td>\n",
       "    </tr>\n",
       "    <tr>\n",
       "      <th>4</th>\n",
       "      <td>1362487</td>\n",
       "      <td>6605</td>\n",
       "      <td>Lowest</td>\n",
       "      <td>71</td>\n",
       "      <td>70-79</td>\n",
       "      <td>1</td>\n",
       "      <td>0</td>\n",
       "      <td>M</td>\n",
       "      <td>2</td>\n",
       "      <td>West</td>\n",
       "      <td>7</td>\n",
       "      <td>1.28</td>\n",
       "      <td>0.00</td>\n",
       "      <td>1.28</td>\n",
       "      <td>513.92</td>\n",
       "      <td>31.3.1995</td>\n",
       "      <td>Savings</td>\n",
       "    </tr>\n",
       "    <tr>\n",
       "      <th>...</th>\n",
       "      <td>...</td>\n",
       "      <td>...</td>\n",
       "      <td>...</td>\n",
       "      <td>...</td>\n",
       "      <td>...</td>\n",
       "      <td>...</td>\n",
       "      <td>...</td>\n",
       "      <td>...</td>\n",
       "      <td>...</td>\n",
       "      <td>...</td>\n",
       "      <td>...</td>\n",
       "      <td>...</td>\n",
       "      <td>...</td>\n",
       "      <td>...</td>\n",
       "      <td>...</td>\n",
       "      <td>...</td>\n",
       "      <td>...</td>\n",
       "    </tr>\n",
       "    <tr>\n",
       "      <th>77555</th>\n",
       "      <td>1363303</td>\n",
       "      <td>17875</td>\n",
       "      <td>Low Middle</td>\n",
       "      <td>18</td>\n",
       "      <td>10-19</td>\n",
       "      <td>3</td>\n",
       "      <td>0</td>\n",
       "      <td>F</td>\n",
       "      <td>1</td>\n",
       "      <td>West</td>\n",
       "      <td>53</td>\n",
       "      <td>-194.41</td>\n",
       "      <td>-194.41</td>\n",
       "      <td>0.00</td>\n",
       "      <td>1302.57</td>\n",
       "      <td>29.3.1995</td>\n",
       "      <td>Checking</td>\n",
       "    </tr>\n",
       "    <tr>\n",
       "      <th>77556</th>\n",
       "      <td>1363303</td>\n",
       "      <td>17875</td>\n",
       "      <td>Low Middle</td>\n",
       "      <td>18</td>\n",
       "      <td>10-19</td>\n",
       "      <td>3</td>\n",
       "      <td>0</td>\n",
       "      <td>F</td>\n",
       "      <td>1</td>\n",
       "      <td>West</td>\n",
       "      <td>13</td>\n",
       "      <td>-52.43</td>\n",
       "      <td>-52.43</td>\n",
       "      <td>0.00</td>\n",
       "      <td>3136.40</td>\n",
       "      <td>21.2.1995</td>\n",
       "      <td>Checking</td>\n",
       "    </tr>\n",
       "    <tr>\n",
       "      <th>77557</th>\n",
       "      <td>1363303</td>\n",
       "      <td>17875</td>\n",
       "      <td>Low Middle</td>\n",
       "      <td>18</td>\n",
       "      <td>10-19</td>\n",
       "      <td>3</td>\n",
       "      <td>0</td>\n",
       "      <td>F</td>\n",
       "      <td>1</td>\n",
       "      <td>West</td>\n",
       "      <td>33</td>\n",
       "      <td>0.00</td>\n",
       "      <td>0.00</td>\n",
       "      <td>0.00</td>\n",
       "      <td>2136.38</td>\n",
       "      <td>5.3.1995</td>\n",
       "      <td>Checking</td>\n",
       "    </tr>\n",
       "    <tr>\n",
       "      <th>77558</th>\n",
       "      <td>1363303</td>\n",
       "      <td>17875</td>\n",
       "      <td>Low Middle</td>\n",
       "      <td>18</td>\n",
       "      <td>10-19</td>\n",
       "      <td>3</td>\n",
       "      <td>0</td>\n",
       "      <td>F</td>\n",
       "      <td>1</td>\n",
       "      <td>West</td>\n",
       "      <td>93</td>\n",
       "      <td>17.40</td>\n",
       "      <td>17.40</td>\n",
       "      <td>0.00</td>\n",
       "      <td>18.10</td>\n",
       "      <td>2.5.1995</td>\n",
       "      <td>Checking</td>\n",
       "    </tr>\n",
       "    <tr>\n",
       "      <th>77559</th>\n",
       "      <td>1363303</td>\n",
       "      <td>17875</td>\n",
       "      <td>Low Middle</td>\n",
       "      <td>18</td>\n",
       "      <td>10-19</td>\n",
       "      <td>3</td>\n",
       "      <td>0</td>\n",
       "      <td>F</td>\n",
       "      <td>1</td>\n",
       "      <td>West</td>\n",
       "      <td>73</td>\n",
       "      <td>-6.56</td>\n",
       "      <td>-6.56</td>\n",
       "      <td>0.00</td>\n",
       "      <td>602.04</td>\n",
       "      <td>12.4.1995</td>\n",
       "      <td>Checking</td>\n",
       "    </tr>\n",
       "  </tbody>\n",
       "</table>\n",
       "<p>77560 rows × 17 columns</p>\n",
       "</div>"
      ],
      "text/plain": [
       "       cust_id  income Tier_income  age Age_Group  years_with_bank  \\\n",
       "0      1362487    6605      Lowest   71     70-79                1   \n",
       "1      1362487    6605      Lowest   71     70-79                1   \n",
       "2      1362487    6605      Lowest   71     70-79                1   \n",
       "3      1362487    6605      Lowest   71     70-79                1   \n",
       "4      1362487    6605      Lowest   71     70-79                1   \n",
       "...        ...     ...         ...  ...       ...              ...   \n",
       "77555  1363303   17875  Low Middle   18     10-19                3   \n",
       "77556  1363303   17875  Low Middle   18     10-19                3   \n",
       "77557  1363303   17875  Low Middle   18     10-19                3   \n",
       "77558  1363303   17875  Low Middle   18     10-19                3   \n",
       "77559  1363303   17875  Low Middle   18     10-19                3   \n",
       "\n",
       "       nbr_children gender  marital_status Region  tran_id  tran_amt  \\\n",
       "0                 0     M                2   West        5   -200.00   \n",
       "1                 0     M                2   West       10   -204.66   \n",
       "2                 0     M                2   West       15    -40.00   \n",
       "3                 0     M                2   West        2      1.92   \n",
       "4                 0     M                2   West        7      1.28   \n",
       "...             ...    ...             ...    ...      ...       ...   \n",
       "77555             0     F                1   West       53   -194.41   \n",
       "77556             0     F                1   West       13    -52.43   \n",
       "77557             0     F                1   West       33      0.00   \n",
       "77558             0     F                1   West       93     17.40   \n",
       "77559             0     F                1   West       73     -6.56   \n",
       "\n",
       "       principal_amt  interest_amt  new_balance  tran_date      Type  \n",
       "0            -200.00          0.00       511.36  27.2.1995   Savings  \n",
       "1            -204.66          0.00       310.54  13.5.1995   Savings  \n",
       "2             -40.00          0.00        25.66  27.6.1995   Savings  \n",
       "3               0.00          1.92       771.36  31.1.1995   Savings  \n",
       "4               0.00          1.28       513.92  31.3.1995   Savings  \n",
       "...              ...           ...          ...        ...       ...  \n",
       "77555        -194.41          0.00      1302.57  29.3.1995  Checking  \n",
       "77556         -52.43          0.00      3136.40  21.2.1995  Checking  \n",
       "77557           0.00          0.00      2136.38   5.3.1995  Checking  \n",
       "77558          17.40          0.00        18.10   2.5.1995  Checking  \n",
       "77559          -6.56          0.00       602.04  12.4.1995  Checking  \n",
       "\n",
       "[77560 rows x 17 columns]"
      ]
     },
     "execution_count": 16,
     "metadata": {},
     "output_type": "execute_result"
    }
   ],
   "source": [
    "merged_df = pd.merge(customer, new_trans, on = 'cust_id')\n",
    "merged_df"
   ]
  },
  {
   "cell_type": "code",
   "execution_count": 17,
   "id": "b9356782",
   "metadata": {},
   "outputs": [],
   "source": [
    "#Bin income based on tier\n",
    "income_tier = pd.cut(merged_df.income, bins=[0,15000, 40000, 80000,150000], \n",
    "                   labels=['Lowest','Low Middle','High Middle','Highest'])\n",
    "merged_df.insert(2, 'Tier_income2',income_tier)"
   ]
  },
  {
   "cell_type": "code",
   "execution_count": 18,
   "id": "fc552219",
   "metadata": {
    "scrolled": true
   },
   "outputs": [],
   "source": [
    "merged_df.drop('Tier_income', axis=1, inplace=True)"
   ]
  },
  {
   "cell_type": "code",
   "execution_count": 19,
   "id": "a52c268a",
   "metadata": {},
   "outputs": [],
   "source": [
    "#take month, day and year out of tran_time into new cols\n",
    "merged_df['tran_date']= pd.to_datetime(merged_df['tran_date']).dt.date\n",
    "\n",
    "merged_df['day']= pd.to_datetime(merged_df['tran_date']).dt.dayofweek #monday is 0\n",
    "merged_df['month']= pd.to_datetime(merged_df['tran_date']).dt.month\n",
    "merged_df['year']= pd.to_datetime(merged_df['tran_date']).dt.year"
   ]
  },
  {
   "cell_type": "code",
   "execution_count": 20,
   "id": "819db13b",
   "metadata": {},
   "outputs": [
    {
     "data": {
      "text/html": [
       "<div>\n",
       "<style scoped>\n",
       "    .dataframe tbody tr th:only-of-type {\n",
       "        vertical-align: middle;\n",
       "    }\n",
       "\n",
       "    .dataframe tbody tr th {\n",
       "        vertical-align: top;\n",
       "    }\n",
       "\n",
       "    .dataframe thead th {\n",
       "        text-align: right;\n",
       "    }\n",
       "</style>\n",
       "<table border=\"1\" class=\"dataframe\">\n",
       "  <thead>\n",
       "    <tr style=\"text-align: right;\">\n",
       "      <th></th>\n",
       "      <th>cust_id</th>\n",
       "      <th>income</th>\n",
       "      <th>Tier_income2</th>\n",
       "      <th>age</th>\n",
       "      <th>Age_Group</th>\n",
       "      <th>years_with_bank</th>\n",
       "      <th>nbr_children</th>\n",
       "      <th>gender</th>\n",
       "      <th>marital_status</th>\n",
       "      <th>Region</th>\n",
       "      <th>tran_id</th>\n",
       "      <th>tran_amt</th>\n",
       "      <th>principal_amt</th>\n",
       "      <th>interest_amt</th>\n",
       "      <th>new_balance</th>\n",
       "      <th>tran_date</th>\n",
       "      <th>Type</th>\n",
       "      <th>day</th>\n",
       "      <th>month</th>\n",
       "      <th>year</th>\n",
       "    </tr>\n",
       "  </thead>\n",
       "  <tbody>\n",
       "    <tr>\n",
       "      <th>0</th>\n",
       "      <td>1362487</td>\n",
       "      <td>6605</td>\n",
       "      <td>Lowest</td>\n",
       "      <td>71</td>\n",
       "      <td>70-79</td>\n",
       "      <td>1</td>\n",
       "      <td>0</td>\n",
       "      <td>M</td>\n",
       "      <td>2</td>\n",
       "      <td>West</td>\n",
       "      <td>5</td>\n",
       "      <td>-200.00</td>\n",
       "      <td>-200.00</td>\n",
       "      <td>0.00</td>\n",
       "      <td>511.36</td>\n",
       "      <td>1995-02-27</td>\n",
       "      <td>Savings</td>\n",
       "      <td>0</td>\n",
       "      <td>2</td>\n",
       "      <td>1995</td>\n",
       "    </tr>\n",
       "    <tr>\n",
       "      <th>1</th>\n",
       "      <td>1362487</td>\n",
       "      <td>6605</td>\n",
       "      <td>Lowest</td>\n",
       "      <td>71</td>\n",
       "      <td>70-79</td>\n",
       "      <td>1</td>\n",
       "      <td>0</td>\n",
       "      <td>M</td>\n",
       "      <td>2</td>\n",
       "      <td>West</td>\n",
       "      <td>10</td>\n",
       "      <td>-204.66</td>\n",
       "      <td>-204.66</td>\n",
       "      <td>0.00</td>\n",
       "      <td>310.54</td>\n",
       "      <td>1995-05-13</td>\n",
       "      <td>Savings</td>\n",
       "      <td>5</td>\n",
       "      <td>5</td>\n",
       "      <td>1995</td>\n",
       "    </tr>\n",
       "    <tr>\n",
       "      <th>2</th>\n",
       "      <td>1362487</td>\n",
       "      <td>6605</td>\n",
       "      <td>Lowest</td>\n",
       "      <td>71</td>\n",
       "      <td>70-79</td>\n",
       "      <td>1</td>\n",
       "      <td>0</td>\n",
       "      <td>M</td>\n",
       "      <td>2</td>\n",
       "      <td>West</td>\n",
       "      <td>15</td>\n",
       "      <td>-40.00</td>\n",
       "      <td>-40.00</td>\n",
       "      <td>0.00</td>\n",
       "      <td>25.66</td>\n",
       "      <td>1995-06-27</td>\n",
       "      <td>Savings</td>\n",
       "      <td>1</td>\n",
       "      <td>6</td>\n",
       "      <td>1995</td>\n",
       "    </tr>\n",
       "    <tr>\n",
       "      <th>3</th>\n",
       "      <td>1362487</td>\n",
       "      <td>6605</td>\n",
       "      <td>Lowest</td>\n",
       "      <td>71</td>\n",
       "      <td>70-79</td>\n",
       "      <td>1</td>\n",
       "      <td>0</td>\n",
       "      <td>M</td>\n",
       "      <td>2</td>\n",
       "      <td>West</td>\n",
       "      <td>2</td>\n",
       "      <td>1.92</td>\n",
       "      <td>0.00</td>\n",
       "      <td>1.92</td>\n",
       "      <td>771.36</td>\n",
       "      <td>1995-01-31</td>\n",
       "      <td>Savings</td>\n",
       "      <td>1</td>\n",
       "      <td>1</td>\n",
       "      <td>1995</td>\n",
       "    </tr>\n",
       "    <tr>\n",
       "      <th>4</th>\n",
       "      <td>1362487</td>\n",
       "      <td>6605</td>\n",
       "      <td>Lowest</td>\n",
       "      <td>71</td>\n",
       "      <td>70-79</td>\n",
       "      <td>1</td>\n",
       "      <td>0</td>\n",
       "      <td>M</td>\n",
       "      <td>2</td>\n",
       "      <td>West</td>\n",
       "      <td>7</td>\n",
       "      <td>1.28</td>\n",
       "      <td>0.00</td>\n",
       "      <td>1.28</td>\n",
       "      <td>513.92</td>\n",
       "      <td>1995-03-31</td>\n",
       "      <td>Savings</td>\n",
       "      <td>4</td>\n",
       "      <td>3</td>\n",
       "      <td>1995</td>\n",
       "    </tr>\n",
       "  </tbody>\n",
       "</table>\n",
       "</div>"
      ],
      "text/plain": [
       "   cust_id  income Tier_income2  age Age_Group  years_with_bank  nbr_children  \\\n",
       "0  1362487    6605       Lowest   71     70-79                1             0   \n",
       "1  1362487    6605       Lowest   71     70-79                1             0   \n",
       "2  1362487    6605       Lowest   71     70-79                1             0   \n",
       "3  1362487    6605       Lowest   71     70-79                1             0   \n",
       "4  1362487    6605       Lowest   71     70-79                1             0   \n",
       "\n",
       "  gender  marital_status Region  tran_id  tran_amt  principal_amt  \\\n",
       "0     M                2   West        5   -200.00        -200.00   \n",
       "1     M                2   West       10   -204.66        -204.66   \n",
       "2     M                2   West       15    -40.00         -40.00   \n",
       "3     M                2   West        2      1.92           0.00   \n",
       "4     M                2   West        7      1.28           0.00   \n",
       "\n",
       "   interest_amt  new_balance   tran_date     Type  day  month  year  \n",
       "0          0.00       511.36  1995-02-27  Savings    0      2  1995  \n",
       "1          0.00       310.54  1995-05-13  Savings    5      5  1995  \n",
       "2          0.00        25.66  1995-06-27  Savings    1      6  1995  \n",
       "3          1.92       771.36  1995-01-31  Savings    1      1  1995  \n",
       "4          1.28       513.92  1995-03-31  Savings    4      3  1995  "
      ]
     },
     "execution_count": 20,
     "metadata": {},
     "output_type": "execute_result"
    }
   ],
   "source": [
    "merged_df.head()"
   ]
  },
  {
   "cell_type": "markdown",
   "id": "5a64a956",
   "metadata": {},
   "source": [
    "## Data cleaning and EDA"
   ]
  },
  {
   "cell_type": "code",
   "execution_count": 154,
   "id": "5f4bb930",
   "metadata": {},
   "outputs": [
    {
     "data": {
      "text/plain": [
       "F     418\n",
       "M     329\n",
       "Name: gender, dtype: int64"
      ]
     },
     "execution_count": 154,
     "metadata": {},
     "output_type": "execute_result"
    }
   ],
   "source": [
    "customer.gender.value_counts()"
   ]
  },
  {
   "cell_type": "code",
   "execution_count": 139,
   "id": "ca5bcdd7",
   "metadata": {},
   "outputs": [],
   "source": [
    "#merged_df[merged_df['income']>=140000]"
   ]
  },
  {
   "cell_type": "code",
   "execution_count": 152,
   "id": "84cf0105",
   "metadata": {},
   "outputs": [
    {
     "data": {
      "text/plain": [
       "<matplotlib.axes._subplots.AxesSubplot at 0x1a922f76a0>"
      ]
     },
     "execution_count": 152,
     "metadata": {},
     "output_type": "execute_result"
    },
    {
     "data": {
      "image/png": "[encoded data removed]",
      "text/plain": [
       "<Figure size 432x288 with 1 Axes>"
      ]
     },
     "metadata": {
      "needs_background": "light"
     },
     "output_type": "display_data"
    }
   ],
   "source": [
    "sns.scatterplot(data=merged_df, x=\"tran_amt\", y=\"interest_amt\")"
   ]
  },
  {
   "cell_type": "code",
   "execution_count": 128,
   "id": "45e3eed7",
   "metadata": {},
   "outputs": [
    {
     "data": {
      "text/plain": [
       "<matplotlib.axes._subplots.AxesSubplot at 0x1a53c24898>"
      ]
     },
     "execution_count": 128,
     "metadata": {},
     "output_type": "execute_result"
    },
    {
     "data": {
      "image/png": "[encoded data removed]",
      "text/plain": [
       "<Figure size 432x288 with 1 Axes>"
      ]
     },
     "metadata": {
      "needs_background": "light"
     },
     "output_type": "display_data"
    }
   ],
   "source": [
    "sns.scatterplot(data=merged_df, x=\"tran_amt\", y=\"age\")"
   ]
  },
  {
   "cell_type": "code",
   "execution_count": 130,
   "id": "026b175f",
   "metadata": {},
   "outputs": [],
   "source": [
    "merged_df = merged_df.drop(merged_df[(merged_df['tran_amt']>15000) & (merged_df['age']>40)].index)"
   ]
  },
  {
   "cell_type": "code",
   "execution_count": 131,
   "id": "60f9fbcf",
   "metadata": {},
   "outputs": [
    {
     "data": {
      "text/plain": [
       "<matplotlib.axes._subplots.AxesSubplot at 0x1a51cf5e80>"
      ]
     },
     "execution_count": 131,
     "metadata": {},
     "output_type": "execute_result"
    },
    {
     "data": {
      "image/png": "[encoded data removed]",
      "text/plain": [
       "<Figure size 432x288 with 1 Axes>"
      ]
     },
     "metadata": {
      "needs_background": "light"
     },
     "output_type": "display_data"
    }
   ],
   "source": [
    "sns.scatterplot(data=merged_df, x=\"tran_amt\", y=\"age\")"
   ]
  },
  {
   "cell_type": "code",
   "execution_count": 133,
   "id": "739bef24",
   "metadata": {},
   "outputs": [
    {
     "data": {
      "text/plain": [
       "<matplotlib.axes._subplots.AxesSubplot at 0x1a90b8e240>"
      ]
     },
     "execution_count": 133,
     "metadata": {},
     "output_type": "execute_result"
    },
    {
     "data": {
      "image/png": "[encoded data removed]",
      "text/plain": [
       "<Figure size 432x288 with 1 Axes>"
      ]
     },
     "metadata": {
      "needs_background": "light"
     },
     "output_type": "display_data"
    }
   ],
   "source": [
    "sns.scatterplot(data=merged_df, x=\"age\", y=\"income\")"
   ]
  },
  {
   "cell_type": "code",
   "execution_count": 126,
   "id": "ccd5c314",
   "metadata": {},
   "outputs": [
    {
     "data": {
      "text/plain": [
       "<matplotlib.axes._subplots.AxesSubplot at 0x1a54acf6d8>"
      ]
     },
     "execution_count": 126,
     "metadata": {},
     "output_type": "execute_result"
    },
    {
     "data": {
      "image/png": "[encoded data removed]",
      "text/plain": [
       "<Figure size 432x288 with 1 Axes>"
      ]
     },
     "metadata": {
      "needs_background": "light"
     },
     "output_type": "display_data"
    }
   ],
   "source": [
    "sns.boxplot(x=\"Region\", y = \"income\", data = merged_df)"
   ]
  },
  {
   "cell_type": "code",
   "execution_count": 146,
   "id": "eb770931",
   "metadata": {},
   "outputs": [
    {
     "data": {
      "text/plain": [
       "<matplotlib.axes._subplots.AxesSubplot at 0x1a931dc2e8>"
      ]
     },
     "execution_count": 146,
     "metadata": {},
     "output_type": "execute_result"
    },
    {
     "data": {
      "image/png": "[encoded data removed]",
      "text/plain": [
       "<Figure size 432x288 with 1 Axes>"
      ]
     },
     "metadata": {
      "needs_background": "light"
     },
     "output_type": "display_data"
    }
   ],
   "source": [
    "sns.boxplot(x=\"Type\", y = \"age\", data = merged_df)"
   ]
  },
  {
   "cell_type": "code",
   "execution_count": 145,
   "id": "f9b861b0",
   "metadata": {},
   "outputs": [
    {
     "data": {
      "text/plain": [
       "<matplotlib.axes._subplots.AxesSubplot at 0x1a92fe9dd8>"
      ]
     },
     "execution_count": 145,
     "metadata": {},
     "output_type": "execute_result"
    },
    {
     "data": {
      "image/png": "[encoded data removed]",
      "text/plain": [
       "<Figure size 864x648 with 2 Axes>"
      ]
     },
     "metadata": {
      "needs_background": "light"
     },
     "output_type": "display_data"
    }
   ],
   "source": [
    "corrmat = merged_df.corr()\n",
    "f, ax = plt.subplots(figsize=(12, 9))\n",
    "sns.heatmap(corrmat, vmax=.8, square=True,cmap=\"RdYlGn_r\")"
   ]
  },
  {
   "cell_type": "markdown",
   "id": "7d478f72",
   "metadata": {},
   "source": [
    "## Lets Make a Radar Plot"
   ]
  },
  {
   "cell_type": "markdown",
   "id": "7ea6a2da",
   "metadata": {},
   "source": [
    "Plot will have labels based on age groups, categories are the Types of Transactions.\n",
    "\n",
    "Need to find proportion of transactions per age group"
   ]
  },
  {
   "cell_type": "code",
   "execution_count": 175,
   "id": "ccc7c984",
   "metadata": {},
   "outputs": [
    {
     "data": {
      "text/html": [
       "<div>\n",
       "<style scoped>\n",
       "    .dataframe tbody tr th:only-of-type {\n",
       "        vertical-align: middle;\n",
       "    }\n",
       "\n",
       "    .dataframe tbody tr th {\n",
       "        vertical-align: top;\n",
       "    }\n",
       "\n",
       "    .dataframe thead th {\n",
       "        text-align: right;\n",
       "    }\n",
       "</style>\n",
       "<table border=\"1\" class=\"dataframe\">\n",
       "  <thead>\n",
       "    <tr style=\"text-align: right;\">\n",
       "      <th></th>\n",
       "      <th>cust_id</th>\n",
       "      <th>income</th>\n",
       "      <th>Tier_income2</th>\n",
       "      <th>age</th>\n",
       "      <th>years_with_bank</th>\n",
       "      <th>nbr_children</th>\n",
       "      <th>gender</th>\n",
       "      <th>marital_status</th>\n",
       "      <th>Region</th>\n",
       "      <th>tran_id</th>\n",
       "      <th>tran_amt</th>\n",
       "      <th>principal_amt</th>\n",
       "      <th>interest_amt</th>\n",
       "      <th>new_balance</th>\n",
       "      <th>tran_date</th>\n",
       "      <th>Type</th>\n",
       "    </tr>\n",
       "    <tr>\n",
       "      <th>Age_Group</th>\n",
       "      <th></th>\n",
       "      <th></th>\n",
       "      <th></th>\n",
       "      <th></th>\n",
       "      <th></th>\n",
       "      <th></th>\n",
       "      <th></th>\n",
       "      <th></th>\n",
       "      <th></th>\n",
       "      <th></th>\n",
       "      <th></th>\n",
       "      <th></th>\n",
       "      <th></th>\n",
       "      <th></th>\n",
       "      <th></th>\n",
       "      <th></th>\n",
       "    </tr>\n",
       "  </thead>\n",
       "  <tbody>\n",
       "    <tr>\n",
       "      <th>10-18</th>\n",
       "      <td>11.482871</td>\n",
       "      <td>11.482871</td>\n",
       "      <td>3.588236</td>\n",
       "      <td>11.482871</td>\n",
       "      <td>11.482871</td>\n",
       "      <td>11.482871</td>\n",
       "      <td>11.482871</td>\n",
       "      <td>11.482871</td>\n",
       "      <td>11.482871</td>\n",
       "      <td>11.482871</td>\n",
       "      <td>11.482871</td>\n",
       "      <td>11.482871</td>\n",
       "      <td>11.482871</td>\n",
       "      <td>11.482871</td>\n",
       "      <td>11.482871</td>\n",
       "      <td>11.482871</td>\n",
       "    </tr>\n",
       "    <tr>\n",
       "      <th>19-29</th>\n",
       "      <td>12.408618</td>\n",
       "      <td>12.408618</td>\n",
       "      <td>12.408618</td>\n",
       "      <td>12.408618</td>\n",
       "      <td>12.408618</td>\n",
       "      <td>12.408618</td>\n",
       "      <td>12.408618</td>\n",
       "      <td>12.408618</td>\n",
       "      <td>12.408618</td>\n",
       "      <td>12.408618</td>\n",
       "      <td>12.408618</td>\n",
       "      <td>12.408618</td>\n",
       "      <td>12.408618</td>\n",
       "      <td>12.408618</td>\n",
       "      <td>12.408618</td>\n",
       "      <td>12.408618</td>\n",
       "    </tr>\n",
       "    <tr>\n",
       "      <th>30-39</th>\n",
       "      <td>18.049485</td>\n",
       "      <td>18.049485</td>\n",
       "      <td>18.049485</td>\n",
       "      <td>18.049485</td>\n",
       "      <td>18.049485</td>\n",
       "      <td>18.049485</td>\n",
       "      <td>18.049485</td>\n",
       "      <td>18.049485</td>\n",
       "      <td>18.049485</td>\n",
       "      <td>18.049485</td>\n",
       "      <td>18.049485</td>\n",
       "      <td>18.049485</td>\n",
       "      <td>18.049485</td>\n",
       "      <td>18.049485</td>\n",
       "      <td>18.049485</td>\n",
       "      <td>18.049485</td>\n",
       "    </tr>\n",
       "    <tr>\n",
       "      <th>40-49</th>\n",
       "      <td>18.084297</td>\n",
       "      <td>18.084297</td>\n",
       "      <td>18.084297</td>\n",
       "      <td>18.084297</td>\n",
       "      <td>18.084297</td>\n",
       "      <td>18.084297</td>\n",
       "      <td>18.084297</td>\n",
       "      <td>18.084297</td>\n",
       "      <td>18.084297</td>\n",
       "      <td>18.084297</td>\n",
       "      <td>18.084297</td>\n",
       "      <td>18.084297</td>\n",
       "      <td>18.084297</td>\n",
       "      <td>18.084297</td>\n",
       "      <td>18.084297</td>\n",
       "      <td>18.084297</td>\n",
       "    </tr>\n",
       "    <tr>\n",
       "      <th>50-59</th>\n",
       "      <td>19.064196</td>\n",
       "      <td>19.064196</td>\n",
       "      <td>19.064196</td>\n",
       "      <td>19.064196</td>\n",
       "      <td>19.064196</td>\n",
       "      <td>19.064196</td>\n",
       "      <td>19.064196</td>\n",
       "      <td>19.064196</td>\n",
       "      <td>19.064196</td>\n",
       "      <td>19.064196</td>\n",
       "      <td>19.064196</td>\n",
       "      <td>19.064196</td>\n",
       "      <td>19.064196</td>\n",
       "      <td>19.064196</td>\n",
       "      <td>19.064196</td>\n",
       "      <td>19.064196</td>\n",
       "    </tr>\n",
       "    <tr>\n",
       "      <th>60-69</th>\n",
       "      <td>11.919958</td>\n",
       "      <td>11.919958</td>\n",
       "      <td>11.919958</td>\n",
       "      <td>11.919958</td>\n",
       "      <td>11.919958</td>\n",
       "      <td>11.919958</td>\n",
       "      <td>11.919958</td>\n",
       "      <td>11.919958</td>\n",
       "      <td>11.919958</td>\n",
       "      <td>11.919958</td>\n",
       "      <td>11.919958</td>\n",
       "      <td>11.919958</td>\n",
       "      <td>11.919958</td>\n",
       "      <td>11.919958</td>\n",
       "      <td>11.919958</td>\n",
       "      <td>11.919958</td>\n",
       "    </tr>\n",
       "    <tr>\n",
       "      <th>70-79</th>\n",
       "      <td>5.190887</td>\n",
       "      <td>5.190887</td>\n",
       "      <td>5.190887</td>\n",
       "      <td>5.190887</td>\n",
       "      <td>5.190887</td>\n",
       "      <td>5.190887</td>\n",
       "      <td>5.190887</td>\n",
       "      <td>5.190887</td>\n",
       "      <td>5.190887</td>\n",
       "      <td>5.190887</td>\n",
       "      <td>5.190887</td>\n",
       "      <td>5.190887</td>\n",
       "      <td>5.190887</td>\n",
       "      <td>5.190887</td>\n",
       "      <td>5.190887</td>\n",
       "      <td>5.190887</td>\n",
       "    </tr>\n",
       "    <tr>\n",
       "      <th>80-89</th>\n",
       "      <td>3.799688</td>\n",
       "      <td>3.799688</td>\n",
       "      <td>3.799688</td>\n",
       "      <td>3.799688</td>\n",
       "      <td>3.799688</td>\n",
       "      <td>3.799688</td>\n",
       "      <td>3.799688</td>\n",
       "      <td>3.799688</td>\n",
       "      <td>3.799688</td>\n",
       "      <td>3.799688</td>\n",
       "      <td>3.799688</td>\n",
       "      <td>3.799688</td>\n",
       "      <td>3.799688</td>\n",
       "      <td>3.799688</td>\n",
       "      <td>3.799688</td>\n",
       "      <td>3.799688</td>\n",
       "    </tr>\n",
       "  </tbody>\n",
       "</table>\n",
       "</div>"
      ],
      "text/plain": [
       "             cust_id     income  Tier_income2        age  years_with_bank  \\\n",
       "Age_Group                                                                   \n",
       "10-18      11.482871  11.482871      3.588236  11.482871        11.482871   \n",
       "19-29      12.408618  12.408618     12.408618  12.408618        12.408618   \n",
       "30-39      18.049485  18.049485     18.049485  18.049485        18.049485   \n",
       "40-49      18.084297  18.084297     18.084297  18.084297        18.084297   \n",
       "50-59      19.064196  19.064196     19.064196  19.064196        19.064196   \n",
       "60-69      11.919958  11.919958     11.919958  11.919958        11.919958   \n",
       "70-79       5.190887   5.190887      5.190887   5.190887         5.190887   \n",
       "80-89       3.799688   3.799688      3.799688   3.799688         3.799688   \n",
       "\n",
       "           nbr_children     gender  marital_status     Region    tran_id  \\\n",
       "Age_Group                                                                  \n",
       "10-18         11.482871  11.482871       11.482871  11.482871  11.482871   \n",
       "19-29         12.408618  12.408618       12.408618  12.408618  12.408618   \n",
       "30-39         18.049485  18.049485       18.049485  18.049485  18.049485   \n",
       "40-49         18.084297  18.084297       18.084297  18.084297  18.084297   \n",
       "50-59         19.064196  19.064196       19.064196  19.064196  19.064196   \n",
       "60-69         11.919958  11.919958       11.919958  11.919958  11.919958   \n",
       "70-79          5.190887   5.190887        5.190887   5.190887   5.190887   \n",
       "80-89          3.799688   3.799688        3.799688   3.799688   3.799688   \n",
       "\n",
       "            tran_amt  principal_amt  interest_amt  new_balance  tran_date  \\\n",
       "Age_Group                                                                   \n",
       "10-18      11.482871      11.482871     11.482871    11.482871  11.482871   \n",
       "19-29      12.408618      12.408618     12.408618    12.408618  12.408618   \n",
       "30-39      18.049485      18.049485     18.049485    18.049485  18.049485   \n",
       "40-49      18.084297      18.084297     18.084297    18.084297  18.084297   \n",
       "50-59      19.064196      19.064196     19.064196    19.064196  19.064196   \n",
       "60-69      11.919958      11.919958     11.919958    11.919958  11.919958   \n",
       "70-79       5.190887       5.190887      5.190887     5.190887   5.190887   \n",
       "80-89       3.799688       3.799688      3.799688     3.799688   3.799688   \n",
       "\n",
       "                Type  \n",
       "Age_Group             \n",
       "10-18      11.482871  \n",
       "19-29      12.408618  \n",
       "30-39      18.049485  \n",
       "40-49      18.084297  \n",
       "50-59      19.064196  \n",
       "60-69      11.919958  \n",
       "70-79       5.190887  \n",
       "80-89       3.799688  "
      ]
     },
     "execution_count": 175,
     "metadata": {},
     "output_type": "execute_result"
    }
   ],
   "source": [
    "(merged_df.groupby('Age_Group').count()/(merged_df['Type']=='Checking').count())*100"
   ]
  },
  {
   "cell_type": "code",
   "execution_count": 185,
   "id": "480417c7",
   "metadata": {},
   "outputs": [
    {
     "data": {
      "text/plain": [
       "Age_Group  Type    \n",
       "10-18      Checking    53.346059\n",
       "           Savings     25.061756\n",
       "           Credit      21.592185\n",
       "19-29      Checking    60.681629\n",
       "           Credit      25.914381\n",
       "           Savings     13.403990\n",
       "30-39      Checking    63.090221\n",
       "           Credit      25.844703\n",
       "           Savings     11.065076\n",
       "40-49      Checking    57.985170\n",
       "           Credit      29.431057\n",
       "           Savings     12.583773\n",
       "50-59      Checking    62.085757\n",
       "           Credit      23.995672\n",
       "           Savings     13.918572\n",
       "60-69      Checking    59.048134\n",
       "           Credit      28.577610\n",
       "           Savings     12.374256\n",
       "70-79      Checking    55.091903\n",
       "           Credit      26.900149\n",
       "           Savings     18.007948\n",
       "80-89      Checking    60.773668\n",
       "           Credit      24.770954\n",
       "           Savings     14.455378\n",
       "Name: Type, dtype: float64"
      ]
     },
     "execution_count": 185,
     "metadata": {},
     "output_type": "execute_result"
    }
   ],
   "source": [
    "#Create new variable using group by and get value counts for each type\n",
    "types_per_group = merged_df.groupby('Age_Group')['Type'].value_counts()\n",
    "#create other varian;e calculting the grouped proportions\n",
    "pro_age_type = types_per_group.groupby(level=0).apply(lambda x: 100 * x / float(x.sum()))\n",
    "pro_age_type"
   ]
  },
  {
   "cell_type": "code",
   "execution_count": 198,
   "id": "005ca358",
   "metadata": {},
   "outputs": [
    {
     "data": {
      "text/plain": [
       "[60.77366813708856, 24.770953512046148, 14.455378350865287]"
      ]
     },
     "execution_count": 198,
     "metadata": {},
     "output_type": "execute_result"
    }
   ],
   "source": [
    "lis_types = pro_age_type.tolist()\n",
    "lis_types[21:24]"
   ]
  },
  {
   "cell_type": "code",
   "execution_count": 199,
   "id": "68bbea6b",
   "metadata": {},
   "outputs": [],
   "source": [
    "type_trans = ['Checking', 'Savings', 'Credit']\n",
    "Group1 = lis_types[0:3]\n",
    "Group2 = lis_types[3:6]\n",
    "Group3 = lis_types[6:9]\n",
    "Group4 = lis_types[9:12]\n",
    "Group5 = lis_types[12:15]\n",
    "Group6 = lis_types[15:18]\n",
    "Group7 = lis_types[18:21]\n",
    "Group8 = lis_types[21:24]"
   ]
  },
  {
   "cell_type": "code",
   "execution_count": 207,
   "id": "309423e8",
   "metadata": {},
   "outputs": [
    {
     "data": {
      "application/vnd.plotly.v1+json": {
       "config": {
        "plotlyServerURL": "https://plot.ly"
       },
       "data": [
        {
         "fill": "none",
         "name": "10-19",
         "r": [
          53.346058836739275,
          25.06175611947002,
          21.592185043790703
         ],
         "theta": [
          "Checking",
          "Savings",
          "Credit"
         ],
         "type": "scatterpolar"
        },
        {
         "fill": "none",
         "name": "20-29",
         "r": [
          60.68162926018287,
          25.914380714879467,
          13.403990024937656
         ],
         "theta": [
          "Checking",
          "Savings",
          "Credit"
         ],
         "type": "scatterpolar"
        },
        {
         "fill": "none",
         "name": "30-39",
         "r": [
          63.090220730052145,
          25.84470319308522,
          11.065076076862633
         ],
         "theta": [
          "Checking",
          "Savings",
          "Credit"
         ],
         "type": "scatterpolar"
        },
        {
         "fill": "none",
         "name": "40-49",
         "r": [
          57.9851703978326,
          29.431056609154428,
          12.583772993012976
         ],
         "theta": [
          "Checking",
          "Savings",
          "Credit"
         ],
         "type": "scatterpolar"
        },
        {
         "fill": "none",
         "name": "50-59",
         "r": [
          62.08575679697011,
          23.995671581225483,
          13.918571621804409
         ],
         "theta": [
          "Checking",
          "Savings",
          "Credit"
         ],
         "type": "scatterpolar"
        },
        {
         "fill": "none",
         "name": "60-69",
         "r": [
          59.04813412655489,
          28.577609518658736,
          12.374256354786372
         ],
         "theta": [
          "Checking",
          "Savings",
          "Credit"
         ],
         "type": "scatterpolar"
        },
        {
         "fill": "none",
         "name": "70-79",
         "r": [
          55.09190263288624,
          26.90014903129657,
          18.00794833581719
         ],
         "theta": [
          "Checking",
          "Savings",
          "Credit"
         ],
         "type": "scatterpolar"
        },
        {
         "fill": "none",
         "name": "80-89",
         "r": [
          60.77366813708856,
          24.770953512046148,
          14.455378350865287
         ],
         "theta": [
          "Checking",
          "Savings",
          "Credit"
         ],
         "type": "scatterpolar"
        }
       ],
       "layout": {
        "template": {
         "data": {
          "bar": [
           {
            "error_x": {
             "color": "#2a3f5f"
            },
            "error_y": {
             "color": "#2a3f5f"
            },
            "marker": {
             "line": {
              "color": "#E5ECF6",
              "width": 0.5
             },
             "pattern": {
              "fillmode": "overlay",
              "size": 10,
              "solidity": 0.2
             }
            },
            "type": "bar"
           }
          ],
          "barpolar": [
           {
            "marker": {
             "line": {
              "color": "#E5ECF6",
              "width": 0.5
             },
             "pattern": {
              "fillmode": "overlay",
              "size": 10,
              "solidity": 0.2
             }
            },
            "type": "barpolar"
           }
          ],
          "carpet": [
           {
            "aaxis": {
             "endlinecolor": "#2a3f5f",
             "gridcolor": "white",
             "linecolor": "white",
             "minorgridcolor": "white",
             "startlinecolor": "#2a3f5f"
            },
            "baxis": {
             "endlinecolor": "#2a3f5f",
             "gridcolor": "white",
             "linecolor": "white",
             "minorgridcolor": "white",
             "startlinecolor": "#2a3f5f"
            },
            "type": "carpet"
           }
          ],
          "choropleth": [
           {
            "colorbar": {
             "outlinewidth": 0,
             "ticks": ""
            },
            "type": "choropleth"
           }
          ],
          "contour": [
           {
            "colorbar": {
             "outlinewidth": 0,
             "ticks": ""
            },
            "colorscale": [
             [
              0,
              "#0d0887"
             ],
             [
              0.1111111111111111,
              "#46039f"
             ],
             [
              0.2222222222222222,
              "#7201a8"
             ],
             [
              0.3333333333333333,
              "#9c179e"
             ],
             [
              0.4444444444444444,
              "#bd3786"
             ],
             [
              0.5555555555555556,
              "#d8576b"
             ],
             [
              0.6666666666666666,
              "#ed7953"
             ],
             [
              0.7777777777777778,
              "#fb9f3a"
             ],
             [
              0.8888888888888888,
              "#fdca26"
             ],
             [
              1,
              "#f0f921"
             ]
            ],
            "type": "contour"
           }
          ],
          "contourcarpet": [
           {
            "colorbar": {
             "outlinewidth": 0,
             "ticks": ""
            },
            "type": "contourcarpet"
           }
          ],
          "heatmap": [
           {
            "colorbar": {
             "outlinewidth": 0,
             "ticks": ""
            },
            "colorscale": [
             [
              0,
              "#0d0887"
             ],
             [
              0.1111111111111111,
              "#46039f"
             ],
             [
              0.2222222222222222,
              "#7201a8"
             ],
             [
              0.3333333333333333,
              "#9c179e"
             ],
             [
              0.4444444444444444,
              "#bd3786"
             ],
             [
              0.5555555555555556,
              "#d8576b"
             ],
             [
              0.6666666666666666,
              "#ed7953"
             ],
             [
              0.7777777777777778,
              "#fb9f3a"
             ],
             [
              0.8888888888888888,
              "#fdca26"
             ],
             [
              1,
              "#f0f921"
             ]
            ],
            "type": "heatmap"
           }
          ],
          "heatmapgl": [
           {
            "colorbar": {
             "outlinewidth": 0,
             "ticks": ""
            },
            "colorscale": [
             [
              0,
              "#0d0887"
             ],
             [
              0.1111111111111111,
              "#46039f"
             ],
             [
              0.2222222222222222,
              "#7201a8"
             ],
             [
              0.3333333333333333,
              "#9c179e"
             ],
             [
              0.4444444444444444,
              "#bd3786"
             ],
             [
              0.5555555555555556,
              "#d8576b"
             ],
             [
              0.6666666666666666,
              "#ed7953"
             ],
             [
              0.7777777777777778,
              "#fb9f3a"
             ],
             [
              0.8888888888888888,
              "#fdca26"
             ],
             [
              1,
              "#f0f921"
             ]
            ],
            "type": "heatmapgl"
           }
          ],
          "histogram": [
           {
            "marker": {
             "pattern": {
              "fillmode": "overlay",
              "size": 10,
              "solidity": 0.2
             }
            },
            "type": "histogram"
           }
          ],
          "histogram2d": [
           {
            "colorbar": {
             "outlinewidth": 0,
             "ticks": ""
            },
            "colorscale": [
             [
              0,
              "#0d0887"
             ],
             [
              0.1111111111111111,
              "#46039f"
             ],
             [
              0.2222222222222222,
              "#7201a8"
             ],
             [
              0.3333333333333333,
              "#9c179e"
             ],
             [
              0.4444444444444444,
              "#bd3786"
             ],
             [
              0.5555555555555556,
              "#d8576b"
             ],
             [
              0.6666666666666666,
              "#ed7953"
             ],
             [
              0.7777777777777778,
              "#fb9f3a"
             ],
             [
              0.8888888888888888,
              "#fdca26"
             ],
             [
              1,
              "#f0f921"
             ]
            ],
            "type": "histogram2d"
           }
          ],
          "histogram2dcontour": [
           {
            "colorbar": {
             "outlinewidth": 0,
             "ticks": ""
            },
            "colorscale": [
             [
              0,
              "#0d0887"
             ],
             [
              0.1111111111111111,
              "#46039f"
             ],
             [
              0.2222222222222222,
              "#7201a8"
             ],
             [
              0.3333333333333333,
              "#9c179e"
             ],
             [
              0.4444444444444444,
              "#bd3786"
             ],
             [
              0.5555555555555556,
              "#d8576b"
             ],
             [
              0.6666666666666666,
              "#ed7953"
             ],
             [
              0.7777777777777778,
              "#fb9f3a"
             ],
             [
              0.8888888888888888,
              "#fdca26"
             ],
             [
              1,
              "#f0f921"
             ]
            ],
            "type": "histogram2dcontour"
           }
          ],
          "mesh3d": [
           {
            "colorbar": {
             "outlinewidth": 0,
             "ticks": ""
            },
            "type": "mesh3d"
           }
          ],
          "parcoords": [
           {
            "line": {
             "colorbar": {
              "outlinewidth": 0,
              "ticks": ""
             }
            },
            "type": "parcoords"
           }
          ],
          "pie": [
           {
            "automargin": true,
            "type": "pie"
           }
          ],
          "scatter": [
           {
            "marker": {
             "colorbar": {
              "outlinewidth": 0,
              "ticks": ""
             }
            },
            "type": "scatter"
           }
          ],
          "scatter3d": [
           {
            "line": {
             "colorbar": {
              "outlinewidth": 0,
              "ticks": ""
             }
            },
            "marker": {
             "colorbar": {
              "outlinewidth": 0,
              "ticks": ""
             }
            },
            "type": "scatter3d"
           }
          ],
          "scattercarpet": [
           {
            "marker": {
             "colorbar": {
              "outlinewidth": 0,
              "ticks": ""
             }
            },
            "type": "scattercarpet"
           }
          ],
          "scattergeo": [
           {
            "marker": {
             "colorbar": {
              "outlinewidth": 0,
              "ticks": ""
             }
            },
            "type": "scattergeo"
           }
          ],
          "scattergl": [
           {
            "marker": {
             "colorbar": {
              "outlinewidth": 0,
              "ticks": ""
             }
            },
            "type": "scattergl"
           }
          ],
          "scattermapbox": [
           {
            "marker": {
             "colorbar": {
              "outlinewidth": 0,
              "ticks": ""
             }
            },
            "type": "scattermapbox"
           }
          ],
          "scatterpolar": [
           {
            "marker": {
             "colorbar": {
              "outlinewidth": 0,
              "ticks": ""
             }
            },
            "type": "scatterpolar"
           }
          ],
          "scatterpolargl": [
           {
            "marker": {
             "colorbar": {
              "outlinewidth": 0,
              "ticks": ""
             }
            },
            "type": "scatterpolargl"
           }
          ],
          "scatterternary": [
           {
            "marker": {
             "colorbar": {
              "outlinewidth": 0,
              "ticks": ""
             }
            },
            "type": "scatterternary"
           }
          ],
          "surface": [
           {
            "colorbar": {
             "outlinewidth": 0,
             "ticks": ""
            },
            "colorscale": [
             [
              0,
              "#0d0887"
             ],
             [
              0.1111111111111111,
              "#46039f"
             ],
             [
              0.2222222222222222,
              "#7201a8"
             ],
             [
              0.3333333333333333,
              "#9c179e"
             ],
             [
              0.4444444444444444,
              "#bd3786"
             ],
             [
              0.5555555555555556,
              "#d8576b"
             ],
             [
              0.6666666666666666,
              "#ed7953"
             ],
             [
              0.7777777777777778,
              "#fb9f3a"
             ],
             [
              0.8888888888888888,
              "#fdca26"
             ],
             [
              1,
              "#f0f921"
             ]
            ],
            "type": "surface"
           }
          ],
          "table": [
           {
            "cells": {
             "fill": {
              "color": "#EBF0F8"
             },
             "line": {
              "color": "white"
             }
            },
            "header": {
             "fill": {
              "color": "#C8D4E3"
             },
             "line": {
              "color": "white"
             }
            },
            "type": "table"
           }
          ]
         },
         "layout": {
          "annotationdefaults": {
           "arrowcolor": "#2a3f5f",
           "arrowhead": 0,
           "arrowwidth": 1
          },
          "autotypenumbers": "strict",
          "coloraxis": {
           "colorbar": {
            "outlinewidth": 0,
            "ticks": ""
           }
          },
          "colorscale": {
           "diverging": [
            [
             0,
             "#8e0152"
            ],
            [
             0.1,
             "#c51b7d"
            ],
            [
             0.2,
             "#de77ae"
            ],
            [
             0.3,
             "#f1b6da"
            ],
            [
             0.4,
             "#fde0ef"
            ],
            [
             0.5,
             "#f7f7f7"
            ],
            [
             0.6,
             "#e6f5d0"
            ],
            [
             0.7,
             "#b8e186"
            ],
            [
             0.8,
             "#7fbc41"
            ],
            [
             0.9,
             "#4d9221"
            ],
            [
             1,
             "#276419"
            ]
           ],
           "sequential": [
            [
             0,
             "#0d0887"
            ],
            [
             0.1111111111111111,
             "#46039f"
            ],
            [
             0.2222222222222222,
             "#7201a8"
            ],
            [
             0.3333333333333333,
             "#9c179e"
            ],
            [
             0.4444444444444444,
             "#bd3786"
            ],
            [
             0.5555555555555556,
             "#d8576b"
            ],
            [
             0.6666666666666666,
             "#ed7953"
            ],
            [
             0.7777777777777778,
             "#fb9f3a"
            ],
            [
             0.8888888888888888,
             "#fdca26"
            ],
            [
             1,
             "#f0f921"
            ]
           ],
           "sequentialminus": [
            [
             0,
             "#0d0887"
            ],
            [
             0.1111111111111111,
             "#46039f"
            ],
            [
             0.2222222222222222,
             "#7201a8"
            ],
            [
             0.3333333333333333,
             "#9c179e"
            ],
            [
             0.4444444444444444,
             "#bd3786"
            ],
            [
             0.5555555555555556,
             "#d8576b"
            ],
            [
             0.6666666666666666,
             "#ed7953"
            ],
            [
             0.7777777777777778,
             "#fb9f3a"
            ],
            [
             0.8888888888888888,
             "#fdca26"
            ],
            [
             1,
             "#f0f921"
            ]
           ]
          },
          "colorway": [
           "#636efa",
           "#EF553B",
           "#00cc96",
           "#ab63fa",
           "#FFA15A",
           "#19d3f3",
           "#FF6692",
           "#B6E880",
           "#FF97FF",
           "#FECB52"
          ],
          "font": {
           "color": "#2a3f5f"
          },
          "geo": {
           "bgcolor": "white",
           "lakecolor": "white",
           "landcolor": "#E5ECF6",
           "showlakes": true,
           "showland": true,
           "subunitcolor": "white"
          },
          "hoverlabel": {
           "align": "left"
          },
          "hovermode": "closest",
          "mapbox": {
           "style": "light"
          },
          "paper_bgcolor": "white",
          "plot_bgcolor": "#E5ECF6",
          "polar": {
           "angularaxis": {
            "gridcolor": "white",
            "linecolor": "white",
            "ticks": ""
           },
           "bgcolor": "#E5ECF6",
           "radialaxis": {
            "gridcolor": "white",
            "linecolor": "white",
            "ticks": ""
           }
          },
          "scene": {
           "xaxis": {
            "backgroundcolor": "#E5ECF6",
            "gridcolor": "white",
            "gridwidth": 2,
            "linecolor": "white",
            "showbackground": true,
            "ticks": "",
            "zerolinecolor": "white"
           },
           "yaxis": {
            "backgroundcolor": "#E5ECF6",
            "gridcolor": "white",
            "gridwidth": 2,
            "linecolor": "white",
            "showbackground": true,
            "ticks": "",
            "zerolinecolor": "white"
           },
           "zaxis": {
            "backgroundcolor": "#E5ECF6",
            "gridcolor": "white",
            "gridwidth": 2,
            "linecolor": "white",
            "showbackground": true,
            "ticks": "",
            "zerolinecolor": "white"
           }
          },
          "shapedefaults": {
           "line": {
            "color": "#2a3f5f"
           }
          },
          "ternary": {
           "aaxis": {
            "gridcolor": "white",
            "linecolor": "white",
            "ticks": ""
           },
           "baxis": {
            "gridcolor": "white",
            "linecolor": "white",
            "ticks": ""
           },
           "bgcolor": "#E5ECF6",
           "caxis": {
            "gridcolor": "white",
            "linecolor": "white",
            "ticks": ""
           }
          },
          "title": {
           "x": 0.05
          },
          "xaxis": {
           "automargin": true,
           "gridcolor": "white",
           "linecolor": "white",
           "ticks": "",
           "title": {
            "standoff": 15
           },
           "zerolinecolor": "white",
           "zerolinewidth": 2
          },
          "yaxis": {
           "automargin": true,
           "gridcolor": "white",
           "linecolor": "white",
           "ticks": "",
           "title": {
            "standoff": 15
           },
           "zerolinecolor": "white",
           "zerolinewidth": 2
          }
         }
        }
       }
      },
      "text/html": [
       "<div>                            <div id=\"5a011315-3d40-49e0-9836-12a3c015b5de\" class=\"plotly-graph-div\" style=\"height:525px; width:100%;\"></div>            <script type=\"text/javascript\">                require([\"plotly\"], function(Plotly) {                    window.PLOTLYENV=window.PLOTLYENV || {};                                    if (document.getElementById(\"5a011315-3d40-49e0-9836-12a3c015b5de\")) {                    Plotly.newPlot(                        \"5a011315-3d40-49e0-9836-12a3c015b5de\",                        [{\"fill\":\"none\",\"name\":\"10-19\",\"r\":[53.346058836739275,25.06175611947002,21.592185043790703],\"theta\":[\"Checking\",\"Savings\",\"Credit\"],\"type\":\"scatterpolar\"},{\"fill\":\"none\",\"name\":\"20-29\",\"r\":[60.68162926018287,25.914380714879467,13.403990024937656],\"theta\":[\"Checking\",\"Savings\",\"Credit\"],\"type\":\"scatterpolar\"},{\"fill\":\"none\",\"name\":\"30-39\",\"r\":[63.090220730052145,25.84470319308522,11.065076076862633],\"theta\":[\"Checking\",\"Savings\",\"Credit\"],\"type\":\"scatterpolar\"},{\"fill\":\"none\",\"name\":\"40-49\",\"r\":[57.9851703978326,29.431056609154428,12.583772993012976],\"theta\":[\"Checking\",\"Savings\",\"Credit\"],\"type\":\"scatterpolar\"},{\"fill\":\"none\",\"name\":\"50-59\",\"r\":[62.08575679697011,23.995671581225483,13.918571621804409],\"theta\":[\"Checking\",\"Savings\",\"Credit\"],\"type\":\"scatterpolar\"},{\"fill\":\"none\",\"name\":\"60-69\",\"r\":[59.04813412655489,28.577609518658736,12.374256354786372],\"theta\":[\"Checking\",\"Savings\",\"Credit\"],\"type\":\"scatterpolar\"},{\"fill\":\"none\",\"name\":\"70-79\",\"r\":[55.09190263288624,26.90014903129657,18.00794833581719],\"theta\":[\"Checking\",\"Savings\",\"Credit\"],\"type\":\"scatterpolar\"},{\"fill\":\"none\",\"name\":\"80-89\",\"r\":[60.77366813708856,24.770953512046148,14.455378350865287],\"theta\":[\"Checking\",\"Savings\",\"Credit\"],\"type\":\"scatterpolar\"}],                        {\"template\":{\"data\":{\"bar\":[{\"error_x\":{\"color\":\"#2a3f5f\"},\"error_y\":{\"color\":\"#2a3f5f\"},\"marker\":{\"line\":{\"color\":\"#E5ECF6\",\"width\":0.5},\"pattern\":{\"fillmode\":\"overlay\",\"size\":10,\"solidity\":0.2}},\"type\":\"bar\"}],\"barpolar\":[{\"marker\":{\"line\":{\"color\":\"#E5ECF6\",\"width\":0.5},\"pattern\":{\"fillmode\":\"overlay\",\"size\":10,\"solidity\":0.2}},\"type\":\"barpolar\"}],\"carpet\":[{\"aaxis\":{\"endlinecolor\":\"#2a3f5f\",\"gridcolor\":\"white\",\"linecolor\":\"white\",\"minorgridcolor\":\"white\",\"startlinecolor\":\"#2a3f5f\"},\"baxis\":{\"endlinecolor\":\"#2a3f5f\",\"gridcolor\":\"white\",\"linecolor\":\"white\",\"minorgridcolor\":\"white\",\"startlinecolor\":\"#2a3f5f\"},\"type\":\"carpet\"}],\"choropleth\":[{\"colorbar\":{\"outlinewidth\":0,\"ticks\":\"\"},\"type\":\"choropleth\"}],\"contour\":[{\"colorbar\":{\"outlinewidth\":0,\"ticks\":\"\"},\"colorscale\":[[0.0,\"#0d0887\"],[0.1111111111111111,\"#46039f\"],[0.2222222222222222,\"#7201a8\"],[0.3333333333333333,\"#9c179e\"],[0.4444444444444444,\"#bd3786\"],[0.5555555555555556,\"#d8576b\"],[0.6666666666666666,\"#ed7953\"],[0.7777777777777778,\"#fb9f3a\"],[0.8888888888888888,\"#fdca26\"],[1.0,\"#f0f921\"]],\"type\":\"contour\"}],\"contourcarpet\":[{\"colorbar\":{\"outlinewidth\":0,\"ticks\":\"\"},\"type\":\"contourcarpet\"}],\"heatmap\":[{\"colorbar\":{\"outlinewidth\":0,\"ticks\":\"\"},\"colorscale\":[[0.0,\"#0d0887\"],[0.1111111111111111,\"#46039f\"],[0.2222222222222222,\"#7201a8\"],[0.3333333333333333,\"#9c179e\"],[0.4444444444444444,\"#bd3786\"],[0.5555555555555556,\"#d8576b\"],[0.6666666666666666,\"#ed7953\"],[0.7777777777777778,\"#fb9f3a\"],[0.8888888888888888,\"#fdca26\"],[1.0,\"#f0f921\"]],\"type\":\"heatmap\"}],\"heatmapgl\":[{\"colorbar\":{\"outlinewidth\":0,\"ticks\":\"\"},\"colorscale\":[[0.0,\"#0d0887\"],[0.1111111111111111,\"#46039f\"],[0.2222222222222222,\"#7201a8\"],[0.3333333333333333,\"#9c179e\"],[0.4444444444444444,\"#bd3786\"],[0.5555555555555556,\"#d8576b\"],[0.6666666666666666,\"#ed7953\"],[0.7777777777777778,\"#fb9f3a\"],[0.8888888888888888,\"#fdca26\"],[1.0,\"#f0f921\"]],\"type\":\"heatmapgl\"}],\"histogram\":[{\"marker\":{\"pattern\":{\"fillmode\":\"overlay\",\"size\":10,\"solidity\":0.2}},\"type\":\"histogram\"}],\"histogram2d\":[{\"colorbar\":{\"outlinewidth\":0,\"ticks\":\"\"},\"colorscale\":[[0.0,\"#0d0887\"],[0.1111111111111111,\"#46039f\"],[0.2222222222222222,\"#7201a8\"],[0.3333333333333333,\"#9c179e\"],[0.4444444444444444,\"#bd3786\"],[0.5555555555555556,\"#d8576b\"],[0.6666666666666666,\"#ed7953\"],[0.7777777777777778,\"#fb9f3a\"],[0.8888888888888888,\"#fdca26\"],[1.0,\"#f0f921\"]],\"type\":\"histogram2d\"}],\"histogram2dcontour\":[{\"colorbar\":{\"outlinewidth\":0,\"ticks\":\"\"},\"colorscale\":[[0.0,\"#0d0887\"],[0.1111111111111111,\"#46039f\"],[0.2222222222222222,\"#7201a8\"],[0.3333333333333333,\"#9c179e\"],[0.4444444444444444,\"#bd3786\"],[0.5555555555555556,\"#d8576b\"],[0.6666666666666666,\"#ed7953\"],[0.7777777777777778,\"#fb9f3a\"],[0.8888888888888888,\"#fdca26\"],[1.0,\"#f0f921\"]],\"type\":\"histogram2dcontour\"}],\"mesh3d\":[{\"colorbar\":{\"outlinewidth\":0,\"ticks\":\"\"},\"type\":\"mesh3d\"}],\"parcoords\":[{\"line\":{\"colorbar\":{\"outlinewidth\":0,\"ticks\":\"\"}},\"type\":\"parcoords\"}],\"pie\":[{\"automargin\":true,\"type\":\"pie\"}],\"scatter\":[{\"marker\":{\"colorbar\":{\"outlinewidth\":0,\"ticks\":\"\"}},\"type\":\"scatter\"}],\"scatter3d\":[{\"line\":{\"colorbar\":{\"outlinewidth\":0,\"ticks\":\"\"}},\"marker\":{\"colorbar\":{\"outlinewidth\":0,\"ticks\":\"\"}},\"type\":\"scatter3d\"}],\"scattercarpet\":[{\"marker\":{\"colorbar\":{\"outlinewidth\":0,\"ticks\":\"\"}},\"type\":\"scattercarpet\"}],\"scattergeo\":[{\"marker\":{\"colorbar\":{\"outlinewidth\":0,\"ticks\":\"\"}},\"type\":\"scattergeo\"}],\"scattergl\":[{\"marker\":{\"colorbar\":{\"outlinewidth\":0,\"ticks\":\"\"}},\"type\":\"scattergl\"}],\"scattermapbox\":[{\"marker\":{\"colorbar\":{\"outlinewidth\":0,\"ticks\":\"\"}},\"type\":\"scattermapbox\"}],\"scatterpolar\":[{\"marker\":{\"colorbar\":{\"outlinewidth\":0,\"ticks\":\"\"}},\"type\":\"scatterpolar\"}],\"scatterpolargl\":[{\"marker\":{\"colorbar\":{\"outlinewidth\":0,\"ticks\":\"\"}},\"type\":\"scatterpolargl\"}],\"scatterternary\":[{\"marker\":{\"colorbar\":{\"outlinewidth\":0,\"ticks\":\"\"}},\"type\":\"scatterternary\"}],\"surface\":[{\"colorbar\":{\"outlinewidth\":0,\"ticks\":\"\"},\"colorscale\":[[0.0,\"#0d0887\"],[0.1111111111111111,\"#46039f\"],[0.2222222222222222,\"#7201a8\"],[0.3333333333333333,\"#9c179e\"],[0.4444444444444444,\"#bd3786\"],[0.5555555555555556,\"#d8576b\"],[0.6666666666666666,\"#ed7953\"],[0.7777777777777778,\"#fb9f3a\"],[0.8888888888888888,\"#fdca26\"],[1.0,\"#f0f921\"]],\"type\":\"surface\"}],\"table\":[{\"cells\":{\"fill\":{\"color\":\"#EBF0F8\"},\"line\":{\"color\":\"white\"}},\"header\":{\"fill\":{\"color\":\"#C8D4E3\"},\"line\":{\"color\":\"white\"}},\"type\":\"table\"}]},\"layout\":{\"annotationdefaults\":{\"arrowcolor\":\"#2a3f5f\",\"arrowhead\":0,\"arrowwidth\":1},\"autotypenumbers\":\"strict\",\"coloraxis\":{\"colorbar\":{\"outlinewidth\":0,\"ticks\":\"\"}},\"colorscale\":{\"diverging\":[[0,\"#8e0152\"],[0.1,\"#c51b7d\"],[0.2,\"#de77ae\"],[0.3,\"#f1b6da\"],[0.4,\"#fde0ef\"],[0.5,\"#f7f7f7\"],[0.6,\"#e6f5d0\"],[0.7,\"#b8e186\"],[0.8,\"#7fbc41\"],[0.9,\"#4d9221\"],[1,\"#276419\"]],\"sequential\":[[0.0,\"#0d0887\"],[0.1111111111111111,\"#46039f\"],[0.2222222222222222,\"#7201a8\"],[0.3333333333333333,\"#9c179e\"],[0.4444444444444444,\"#bd3786\"],[0.5555555555555556,\"#d8576b\"],[0.6666666666666666,\"#ed7953\"],[0.7777777777777778,\"#fb9f3a\"],[0.8888888888888888,\"#fdca26\"],[1.0,\"#f0f921\"]],\"sequentialminus\":[[0.0,\"#0d0887\"],[0.1111111111111111,\"#46039f\"],[0.2222222222222222,\"#7201a8\"],[0.3333333333333333,\"#9c179e\"],[0.4444444444444444,\"#bd3786\"],[0.5555555555555556,\"#d8576b\"],[0.6666666666666666,\"#ed7953\"],[0.7777777777777778,\"#fb9f3a\"],[0.8888888888888888,\"#fdca26\"],[1.0,\"#f0f921\"]]},\"colorway\":[\"#636efa\",\"#EF553B\",\"#00cc96\",\"#ab63fa\",\"#FFA15A\",\"#19d3f3\",\"#FF6692\",\"#B6E880\",\"#FF97FF\",\"#FECB52\"],\"font\":{\"color\":\"#2a3f5f\"},\"geo\":{\"bgcolor\":\"white\",\"lakecolor\":\"white\",\"landcolor\":\"#E5ECF6\",\"showlakes\":true,\"showland\":true,\"subunitcolor\":\"white\"},\"hoverlabel\":{\"align\":\"left\"},\"hovermode\":\"closest\",\"mapbox\":{\"style\":\"light\"},\"paper_bgcolor\":\"white\",\"plot_bgcolor\":\"#E5ECF6\",\"polar\":{\"angularaxis\":{\"gridcolor\":\"white\",\"linecolor\":\"white\",\"ticks\":\"\"},\"bgcolor\":\"#E5ECF6\",\"radialaxis\":{\"gridcolor\":\"white\",\"linecolor\":\"white\",\"ticks\":\"\"}},\"scene\":{\"xaxis\":{\"backgroundcolor\":\"#E5ECF6\",\"gridcolor\":\"white\",\"gridwidth\":2,\"linecolor\":\"white\",\"showbackground\":true,\"ticks\":\"\",\"zerolinecolor\":\"white\"},\"yaxis\":{\"backgroundcolor\":\"#E5ECF6\",\"gridcolor\":\"white\",\"gridwidth\":2,\"linecolor\":\"white\",\"showbackground\":true,\"ticks\":\"\",\"zerolinecolor\":\"white\"},\"zaxis\":{\"backgroundcolor\":\"#E5ECF6\",\"gridcolor\":\"white\",\"gridwidth\":2,\"linecolor\":\"white\",\"showbackground\":true,\"ticks\":\"\",\"zerolinecolor\":\"white\"}},\"shapedefaults\":{\"line\":{\"color\":\"#2a3f5f\"}},\"ternary\":{\"aaxis\":{\"gridcolor\":\"white\",\"linecolor\":\"white\",\"ticks\":\"\"},\"baxis\":{\"gridcolor\":\"white\",\"linecolor\":\"white\",\"ticks\":\"\"},\"bgcolor\":\"#E5ECF6\",\"caxis\":{\"gridcolor\":\"white\",\"linecolor\":\"white\",\"ticks\":\"\"}},\"title\":{\"x\":0.05},\"xaxis\":{\"automargin\":true,\"gridcolor\":\"white\",\"linecolor\":\"white\",\"ticks\":\"\",\"title\":{\"standoff\":15},\"zerolinecolor\":\"white\",\"zerolinewidth\":2},\"yaxis\":{\"automargin\":true,\"gridcolor\":\"white\",\"linecolor\":\"white\",\"ticks\":\"\",\"title\":{\"standoff\":15},\"zerolinecolor\":\"white\",\"zerolinewidth\":2}}}},                        {\"responsive\": true}                    ).then(function(){\n",
       "                            \n",
       "var gd = document.getElementById('5a011315-3d40-49e0-9836-12a3c015b5de');\n",
       "var x = new MutationObserver(function (mutations, observer) {{\n",
       "        var display = window.getComputedStyle(gd).display;\n",
       "        if (!display || display === 'none') {{\n",
       "            console.log([gd, 'removed!']);\n",
       "            Plotly.purge(gd);\n",
       "            observer.disconnect();\n",
       "        }}\n",
       "}});\n",
       "\n",
       "// Listen for the removal of the full notebook cells\n",
       "var notebookContainer = gd.closest('#notebook-container');\n",
       "if (notebookContainer) {{\n",
       "    x.observe(notebookContainer, {childList: true});\n",
       "}}\n",
       "\n",
       "// Listen for the clearing of the current output cell\n",
       "var outputEl = gd.closest('.output');\n",
       "if (outputEl) {{\n",
       "    x.observe(outputEl, {childList: true});\n",
       "}}\n",
       "\n",
       "                        })                };                });            </script>        </div>"
      ]
     },
     "metadata": {},
     "output_type": "display_data"
    }
   ],
   "source": [
    "import plotly.graph_objects as go\n",
    "\n",
    "fig = go.Figure()\n",
    "\n",
    "fig.add_trace(go.Scatterpolar(r=Group1, theta=type_trans, fill='none', name = '10-19'))\n",
    "\n",
    "fig.add_trace(go.Scatterpolar(r=Group2, theta=type_trans, fill='none', name = '20-29'))\n",
    "\n",
    "fig.add_trace(go.Scatterpolar(r=Group3, theta=type_trans, fill='none', name = '30-39'))\n",
    "\n",
    "fig.add_trace(go.Scatterpolar(r=Group4, theta=type_trans, fill='none', name = '40-49'))\n",
    "fig.add_trace(go.Scatterpolar(r=Group5, theta=type_trans, fill='none', name = '50-59'))\n",
    "fig.add_trace(go.Scatterpolar(r=Group6, theta=type_trans, fill='none', name = '60-69'))\n",
    "fig.add_trace(go.Scatterpolar(r=Group7, theta=type_trans, fill='none', name = '70-79'))\n",
    "fig.add_trace(go.Scatterpolar(r=Group8, theta=type_trans, fill='none', name = '80-89'))\n",
    "\n",
    "\n",
    "fig.show()"
   ]
  },
  {
   "cell_type": "code",
   "execution_count": 229,
   "id": "4c7bedc6",
   "metadata": {},
   "outputs": [
    {
     "data": {
      "text/plain": [
       "Type      Age_Group\n",
       "Checking  50-59        19.868410\n",
       "          30-39        19.115228\n",
       "          40-49        17.602372\n",
       "          19-29        12.639598\n",
       "          60-69        11.814994\n",
       "          10-18        10.282660\n",
       "          70-79         4.800450\n",
       "          80-89         3.876288\n",
       "Credit    40-49        20.470098\n",
       "          30-39        17.941089\n",
       "          50-59        17.593970\n",
       "          60-69        13.101260\n",
       "          19-29        12.367351\n",
       "          10-18         9.535852\n",
       "          70-79         5.370425\n",
       "          80-89         3.619954\n",
       "Savings   10-18        19.948163\n",
       "          50-59        18.393065\n",
       "          40-49        15.774421\n",
       "          30-39        13.843954\n",
       "          19-29        11.529180\n",
       "          60-69        10.224327\n",
       "          70-79         6.479578\n",
       "          80-89         3.807311\n",
       "Name: Age_Group, dtype: float64"
      ]
     },
     "execution_count": 229,
     "metadata": {},
     "output_type": "execute_result"
    }
   ],
   "source": [
    "#Create new variable using group by and get value counts for each type\n",
    "types_per_group = merged_df.groupby('Type')['Age_Group'].value_counts()\n",
    "#create other varian;e calculting the grouped proportions\n",
    "pro_age_type = types_per_group.groupby(level=0).apply(lambda x: 100 * x / float(x.sum()))\n",
    "pro_age_type"
   ]
  },
  {
   "cell_type": "code",
   "execution_count": 230,
   "id": "8e4d3629",
   "metadata": {},
   "outputs": [],
   "source": [
    "type_trans = ['10-19','20-29','30-39','40-49','50-59','60-69','70-79','80-89']\n",
    "Chequing = [10.282660, 12.639598, 19.115228, 17.602372, \n",
    "            19.868410, 11.814994, 4.800450, 3.876288]\n",
    "Savings = [19.948163, 11.529180, 13.843954, 15.774421,\n",
    "          18.393065, 10.224327, 6.479578, 6.479578]\n",
    "Credit = [9.535852, 12.367351, 17.941089, 20.470098, \n",
    "          17.593970, 13.101260, 5.370425, 3.619954]"
   ]
  },
  {
   "cell_type": "code",
   "execution_count": 232,
   "id": "5eec565d",
   "metadata": {},
   "outputs": [
    {
     "data": {
      "application/vnd.plotly.v1+json": {
       "config": {
        "plotlyServerURL": "https://plot.ly"
       },
       "data": [
        {
         "fill": "toself",
         "name": "Chequing",
         "r": [
          10.28266,
          12.639598,
          19.115228,
          17.602372,
          19.86841,
          11.814994,
          4.80045,
          3.876288
         ],
         "theta": [
          "10-19",
          "20-29",
          "30-39",
          "40-49",
          "50-59",
          "60-69",
          "70-79",
          "80-89"
         ],
         "type": "scatterpolar"
        },
        {
         "fill": "toself",
         "name": "Savings",
         "r": [
          19.948163,
          11.52918,
          13.843954,
          15.774421,
          18.393065,
          10.224327,
          6.479578,
          6.479578
         ],
         "theta": [
          "10-19",
          "20-29",
          "30-39",
          "40-49",
          "50-59",
          "60-69",
          "70-79",
          "80-89"
         ],
         "type": "scatterpolar"
        },
        {
         "fill": "toself",
         "name": "Credit",
         "r": [
          9.535852,
          12.367351,
          17.941089,
          20.470098,
          17.59397,
          13.10126,
          5.370425,
          3.619954
         ],
         "theta": [
          "10-19",
          "20-29",
          "30-39",
          "40-49",
          "50-59",
          "60-69",
          "70-79",
          "80-89"
         ],
         "type": "scatterpolar"
        }
       ],
       "layout": {
        "template": {
         "data": {
          "bar": [
           {
            "error_x": {
             "color": "#2a3f5f"
            },
            "error_y": {
             "color": "#2a3f5f"
            },
            "marker": {
             "line": {
              "color": "#E5ECF6",
              "width": 0.5
             },
             "pattern": {
              "fillmode": "overlay",
              "size": 10,
              "solidity": 0.2
             }
            },
            "type": "bar"
           }
          ],
          "barpolar": [
           {
            "marker": {
             "line": {
              "color": "#E5ECF6",
              "width": 0.5
             },
             "pattern": {
              "fillmode": "overlay",
              "size": 10,
              "solidity": 0.2
             }
            },
            "type": "barpolar"
           }
          ],
          "carpet": [
           {
            "aaxis": {
             "endlinecolor": "#2a3f5f",
             "gridcolor": "white",
             "linecolor": "white",
             "minorgridcolor": "white",
             "startlinecolor": "#2a3f5f"
            },
            "baxis": {
             "endlinecolor": "#2a3f5f",
             "gridcolor": "white",
             "linecolor": "white",
             "minorgridcolor": "white",
             "startlinecolor": "#2a3f5f"
            },
            "type": "carpet"
           }
          ],
          "choropleth": [
           {
            "colorbar": {
             "outlinewidth": 0,
             "ticks": ""
            },
            "type": "choropleth"
           }
          ],
          "contour": [
           {
            "colorbar": {
             "outlinewidth": 0,
             "ticks": ""
            },
            "colorscale": [
             [
              0,
              "#0d0887"
             ],
             [
              0.1111111111111111,
              "#46039f"
             ],
             [
              0.2222222222222222,
              "#7201a8"
             ],
             [
              0.3333333333333333,
              "#9c179e"
             ],
             [
              0.4444444444444444,
              "#bd3786"
             ],
             [
              0.5555555555555556,
              "#d8576b"
             ],
             [
              0.6666666666666666,
              "#ed7953"
             ],
             [
              0.7777777777777778,
              "#fb9f3a"
             ],
             [
              0.8888888888888888,
              "#fdca26"
             ],
             [
              1,
              "#f0f921"
             ]
            ],
            "type": "contour"
           }
          ],
          "contourcarpet": [
           {
            "colorbar": {
             "outlinewidth": 0,
             "ticks": ""
            },
            "type": "contourcarpet"
           }
          ],
          "heatmap": [
           {
            "colorbar": {
             "outlinewidth": 0,
             "ticks": ""
            },
            "colorscale": [
             [
              0,
              "#0d0887"
             ],
             [
              0.1111111111111111,
              "#46039f"
             ],
             [
              0.2222222222222222,
              "#7201a8"
             ],
             [
              0.3333333333333333,
              "#9c179e"
             ],
             [
              0.4444444444444444,
              "#bd3786"
             ],
             [
              0.5555555555555556,
              "#d8576b"
             ],
             [
              0.6666666666666666,
              "#ed7953"
             ],
             [
              0.7777777777777778,
              "#fb9f3a"
             ],
             [
              0.8888888888888888,
              "#fdca26"
             ],
             [
              1,
              "#f0f921"
             ]
            ],
            "type": "heatmap"
           }
          ],
          "heatmapgl": [
           {
            "colorbar": {
             "outlinewidth": 0,
             "ticks": ""
            },
            "colorscale": [
             [
              0,
              "#0d0887"
             ],
             [
              0.1111111111111111,
              "#46039f"
             ],
             [
              0.2222222222222222,
              "#7201a8"
             ],
             [
              0.3333333333333333,
              "#9c179e"
             ],
             [
              0.4444444444444444,
              "#bd3786"
             ],
             [
              0.5555555555555556,
              "#d8576b"
             ],
             [
              0.6666666666666666,
              "#ed7953"
             ],
             [
              0.7777777777777778,
              "#fb9f3a"
             ],
             [
              0.8888888888888888,
              "#fdca26"
             ],
             [
              1,
              "#f0f921"
             ]
            ],
            "type": "heatmapgl"
           }
          ],
          "histogram": [
           {
            "marker": {
             "pattern": {
              "fillmode": "overlay",
              "size": 10,
              "solidity": 0.2
             }
            },
            "type": "histogram"
           }
          ],
          "histogram2d": [
           {
            "colorbar": {
             "outlinewidth": 0,
             "ticks": ""
            },
            "colorscale": [
             [
              0,
              "#0d0887"
             ],
             [
              0.1111111111111111,
              "#46039f"
             ],
             [
              0.2222222222222222,
              "#7201a8"
             ],
             [
              0.3333333333333333,
              "#9c179e"
             ],
             [
              0.4444444444444444,
              "#bd3786"
             ],
             [
              0.5555555555555556,
              "#d8576b"
             ],
             [
              0.6666666666666666,
              "#ed7953"
             ],
             [
              0.7777777777777778,
              "#fb9f3a"
             ],
             [
              0.8888888888888888,
              "#fdca26"
             ],
             [
              1,
              "#f0f921"
             ]
            ],
            "type": "histogram2d"
           }
          ],
          "histogram2dcontour": [
           {
            "colorbar": {
             "outlinewidth": 0,
             "ticks": ""
            },
            "colorscale": [
             [
              0,
              "#0d0887"
             ],
             [
              0.1111111111111111,
              "#46039f"
             ],
             [
              0.2222222222222222,
              "#7201a8"
             ],
             [
              0.3333333333333333,
              "#9c179e"
             ],
             [
              0.4444444444444444,
              "#bd3786"
             ],
             [
              0.5555555555555556,
              "#d8576b"
             ],
             [
              0.6666666666666666,
              "#ed7953"
             ],
             [
              0.7777777777777778,
              "#fb9f3a"
             ],
             [
              0.8888888888888888,
              "#fdca26"
             ],
             [
              1,
              "#f0f921"
             ]
            ],
            "type": "histogram2dcontour"
           }
          ],
          "mesh3d": [
           {
            "colorbar": {
             "outlinewidth": 0,
             "ticks": ""
            },
            "type": "mesh3d"
           }
          ],
          "parcoords": [
           {
            "line": {
             "colorbar": {
              "outlinewidth": 0,
              "ticks": ""
             }
            },
            "type": "parcoords"
           }
          ],
          "pie": [
           {
            "automargin": true,
            "type": "pie"
           }
          ],
          "scatter": [
           {
            "marker": {
             "colorbar": {
              "outlinewidth": 0,
              "ticks": ""
             }
            },
            "type": "scatter"
           }
          ],
          "scatter3d": [
           {
            "line": {
             "colorbar": {
              "outlinewidth": 0,
              "ticks": ""
             }
            },
            "marker": {
             "colorbar": {
              "outlinewidth": 0,
              "ticks": ""
             }
            },
            "type": "scatter3d"
           }
          ],
          "scattercarpet": [
           {
            "marker": {
             "colorbar": {
              "outlinewidth": 0,
              "ticks": ""
             }
            },
            "type": "scattercarpet"
           }
          ],
          "scattergeo": [
           {
            "marker": {
             "colorbar": {
              "outlinewidth": 0,
              "ticks": ""
             }
            },
            "type": "scattergeo"
           }
          ],
          "scattergl": [
           {
            "marker": {
             "colorbar": {
              "outlinewidth": 0,
              "ticks": ""
             }
            },
            "type": "scattergl"
           }
          ],
          "scattermapbox": [
           {
            "marker": {
             "colorbar": {
              "outlinewidth": 0,
              "ticks": ""
             }
            },
            "type": "scattermapbox"
           }
          ],
          "scatterpolar": [
           {
            "marker": {
             "colorbar": {
              "outlinewidth": 0,
              "ticks": ""
             }
            },
            "type": "scatterpolar"
           }
          ],
          "scatterpolargl": [
           {
            "marker": {
             "colorbar": {
              "outlinewidth": 0,
              "ticks": ""
             }
            },
            "type": "scatterpolargl"
           }
          ],
          "scatterternary": [
           {
            "marker": {
             "colorbar": {
              "outlinewidth": 0,
              "ticks": ""
             }
            },
            "type": "scatterternary"
           }
          ],
          "surface": [
           {
            "colorbar": {
             "outlinewidth": 0,
             "ticks": ""
            },
            "colorscale": [
             [
              0,
              "#0d0887"
             ],
             [
              0.1111111111111111,
              "#46039f"
             ],
             [
              0.2222222222222222,
              "#7201a8"
             ],
             [
              0.3333333333333333,
              "#9c179e"
             ],
             [
              0.4444444444444444,
              "#bd3786"
             ],
             [
              0.5555555555555556,
              "#d8576b"
             ],
             [
              0.6666666666666666,
              "#ed7953"
             ],
             [
              0.7777777777777778,
              "#fb9f3a"
             ],
             [
              0.8888888888888888,
              "#fdca26"
             ],
             [
              1,
              "#f0f921"
             ]
            ],
            "type": "surface"
           }
          ],
          "table": [
           {
            "cells": {
             "fill": {
              "color": "#EBF0F8"
             },
             "line": {
              "color": "white"
             }
            },
            "header": {
             "fill": {
              "color": "#C8D4E3"
             },
             "line": {
              "color": "white"
             }
            },
            "type": "table"
           }
          ]
         },
         "layout": {
          "annotationdefaults": {
           "arrowcolor": "#2a3f5f",
           "arrowhead": 0,
           "arrowwidth": 1
          },
          "autotypenumbers": "strict",
          "coloraxis": {
           "colorbar": {
            "outlinewidth": 0,
            "ticks": ""
           }
          },
          "colorscale": {
           "diverging": [
            [
             0,
             "#8e0152"
            ],
            [
             0.1,
             "#c51b7d"
            ],
            [
             0.2,
             "#de77ae"
            ],
            [
             0.3,
             "#f1b6da"
            ],
            [
             0.4,
             "#fde0ef"
            ],
            [
             0.5,
             "#f7f7f7"
            ],
            [
             0.6,
             "#e6f5d0"
            ],
            [
             0.7,
             "#b8e186"
            ],
            [
             0.8,
             "#7fbc41"
            ],
            [
             0.9,
             "#4d9221"
            ],
            [
             1,
             "#276419"
            ]
           ],
           "sequential": [
            [
             0,
             "#0d0887"
            ],
            [
             0.1111111111111111,
             "#46039f"
            ],
            [
             0.2222222222222222,
             "#7201a8"
            ],
            [
             0.3333333333333333,
             "#9c179e"
            ],
            [
             0.4444444444444444,
             "#bd3786"
            ],
            [
             0.5555555555555556,
             "#d8576b"
            ],
            [
             0.6666666666666666,
             "#ed7953"
            ],
            [
             0.7777777777777778,
             "#fb9f3a"
            ],
            [
             0.8888888888888888,
             "#fdca26"
            ],
            [
             1,
             "#f0f921"
            ]
           ],
           "sequentialminus": [
            [
             0,
             "#0d0887"
            ],
            [
             0.1111111111111111,
             "#46039f"
            ],
            [
             0.2222222222222222,
             "#7201a8"
            ],
            [
             0.3333333333333333,
             "#9c179e"
            ],
            [
             0.4444444444444444,
             "#bd3786"
            ],
            [
             0.5555555555555556,
             "#d8576b"
            ],
            [
             0.6666666666666666,
             "#ed7953"
            ],
            [
             0.7777777777777778,
             "#fb9f3a"
            ],
            [
             0.8888888888888888,
             "#fdca26"
            ],
            [
             1,
             "#f0f921"
            ]
           ]
          },
          "colorway": [
           "#636efa",
           "#EF553B",
           "#00cc96",
           "#ab63fa",
           "#FFA15A",
           "#19d3f3",
           "#FF6692",
           "#B6E880",
           "#FF97FF",
           "#FECB52"
          ],
          "font": {
           "color": "#2a3f5f"
          },
          "geo": {
           "bgcolor": "white",
           "lakecolor": "white",
           "landcolor": "#E5ECF6",
           "showlakes": true,
           "showland": true,
           "subunitcolor": "white"
          },
          "hoverlabel": {
           "align": "left"
          },
          "hovermode": "closest",
          "mapbox": {
           "style": "light"
          },
          "paper_bgcolor": "white",
          "plot_bgcolor": "#E5ECF6",
          "polar": {
           "angularaxis": {
            "gridcolor": "white",
            "linecolor": "white",
            "ticks": ""
           },
           "bgcolor": "#E5ECF6",
           "radialaxis": {
            "gridcolor": "white",
            "linecolor": "white",
            "ticks": ""
           }
          },
          "scene": {
           "xaxis": {
            "backgroundcolor": "#E5ECF6",
            "gridcolor": "white",
            "gridwidth": 2,
            "linecolor": "white",
            "showbackground": true,
            "ticks": "",
            "zerolinecolor": "white"
           },
           "yaxis": {
            "backgroundcolor": "#E5ECF6",
            "gridcolor": "white",
            "gridwidth": 2,
            "linecolor": "white",
            "showbackground": true,
            "ticks": "",
            "zerolinecolor": "white"
           },
           "zaxis": {
            "backgroundcolor": "#E5ECF6",
            "gridcolor": "white",
            "gridwidth": 2,
            "linecolor": "white",
            "showbackground": true,
            "ticks": "",
            "zerolinecolor": "white"
           }
          },
          "shapedefaults": {
           "line": {
            "color": "#2a3f5f"
           }
          },
          "ternary": {
           "aaxis": {
            "gridcolor": "white",
            "linecolor": "white",
            "ticks": ""
           },
           "baxis": {
            "gridcolor": "white",
            "linecolor": "white",
            "ticks": ""
           },
           "bgcolor": "#E5ECF6",
           "caxis": {
            "gridcolor": "white",
            "linecolor": "white",
            "ticks": ""
           }
          },
          "title": {
           "x": 0.05
          },
          "xaxis": {
           "automargin": true,
           "gridcolor": "white",
           "linecolor": "white",
           "ticks": "",
           "title": {
            "standoff": 15
           },
           "zerolinecolor": "white",
           "zerolinewidth": 2
          },
          "yaxis": {
           "automargin": true,
           "gridcolor": "white",
           "linecolor": "white",
           "ticks": "",
           "title": {
            "standoff": 15
           },
           "zerolinecolor": "white",
           "zerolinewidth": 2
          }
         }
        }
       }
      },
      "text/html": [
       "<div>                            <div id=\"79c55879-defe-4a74-a386-b29e83af8e2a\" class=\"plotly-graph-div\" style=\"height:525px; width:100%;\"></div>            <script type=\"text/javascript\">                require([\"plotly\"], function(Plotly) {                    window.PLOTLYENV=window.PLOTLYENV || {};                                    if (document.getElementById(\"79c55879-defe-4a74-a386-b29e83af8e2a\")) {                    Plotly.newPlot(                        \"79c55879-defe-4a74-a386-b29e83af8e2a\",                        [{\"fill\":\"toself\",\"name\":\"Chequing\",\"r\":[10.28266,12.639598,19.115228,17.602372,19.86841,11.814994,4.80045,3.876288],\"theta\":[\"10-19\",\"20-29\",\"30-39\",\"40-49\",\"50-59\",\"60-69\",\"70-79\",\"80-89\"],\"type\":\"scatterpolar\"},{\"fill\":\"toself\",\"name\":\"Savings\",\"r\":[19.948163,11.52918,13.843954,15.774421,18.393065,10.224327,6.479578,6.479578],\"theta\":[\"10-19\",\"20-29\",\"30-39\",\"40-49\",\"50-59\",\"60-69\",\"70-79\",\"80-89\"],\"type\":\"scatterpolar\"},{\"fill\":\"toself\",\"name\":\"Credit\",\"r\":[9.535852,12.367351,17.941089,20.470098,17.59397,13.10126,5.370425,3.619954],\"theta\":[\"10-19\",\"20-29\",\"30-39\",\"40-49\",\"50-59\",\"60-69\",\"70-79\",\"80-89\"],\"type\":\"scatterpolar\"}],                        {\"template\":{\"data\":{\"bar\":[{\"error_x\":{\"color\":\"#2a3f5f\"},\"error_y\":{\"color\":\"#2a3f5f\"},\"marker\":{\"line\":{\"color\":\"#E5ECF6\",\"width\":0.5},\"pattern\":{\"fillmode\":\"overlay\",\"size\":10,\"solidity\":0.2}},\"type\":\"bar\"}],\"barpolar\":[{\"marker\":{\"line\":{\"color\":\"#E5ECF6\",\"width\":0.5},\"pattern\":{\"fillmode\":\"overlay\",\"size\":10,\"solidity\":0.2}},\"type\":\"barpolar\"}],\"carpet\":[{\"aaxis\":{\"endlinecolor\":\"#2a3f5f\",\"gridcolor\":\"white\",\"linecolor\":\"white\",\"minorgridcolor\":\"white\",\"startlinecolor\":\"#2a3f5f\"},\"baxis\":{\"endlinecolor\":\"#2a3f5f\",\"gridcolor\":\"white\",\"linecolor\":\"white\",\"minorgridcolor\":\"white\",\"startlinecolor\":\"#2a3f5f\"},\"type\":\"carpet\"}],\"choropleth\":[{\"colorbar\":{\"outlinewidth\":0,\"ticks\":\"\"},\"type\":\"choropleth\"}],\"contour\":[{\"colorbar\":{\"outlinewidth\":0,\"ticks\":\"\"},\"colorscale\":[[0.0,\"#0d0887\"],[0.1111111111111111,\"#46039f\"],[0.2222222222222222,\"#7201a8\"],[0.3333333333333333,\"#9c179e\"],[0.4444444444444444,\"#bd3786\"],[0.5555555555555556,\"#d8576b\"],[0.6666666666666666,\"#ed7953\"],[0.7777777777777778,\"#fb9f3a\"],[0.8888888888888888,\"#fdca26\"],[1.0,\"#f0f921\"]],\"type\":\"contour\"}],\"contourcarpet\":[{\"colorbar\":{\"outlinewidth\":0,\"ticks\":\"\"},\"type\":\"contourcarpet\"}],\"heatmap\":[{\"colorbar\":{\"outlinewidth\":0,\"ticks\":\"\"},\"colorscale\":[[0.0,\"#0d0887\"],[0.1111111111111111,\"#46039f\"],[0.2222222222222222,\"#7201a8\"],[0.3333333333333333,\"#9c179e\"],[0.4444444444444444,\"#bd3786\"],[0.5555555555555556,\"#d8576b\"],[0.6666666666666666,\"#ed7953\"],[0.7777777777777778,\"#fb9f3a\"],[0.8888888888888888,\"#fdca26\"],[1.0,\"#f0f921\"]],\"type\":\"heatmap\"}],\"heatmapgl\":[{\"colorbar\":{\"outlinewidth\":0,\"ticks\":\"\"},\"colorscale\":[[0.0,\"#0d0887\"],[0.1111111111111111,\"#46039f\"],[0.2222222222222222,\"#7201a8\"],[0.3333333333333333,\"#9c179e\"],[0.4444444444444444,\"#bd3786\"],[0.5555555555555556,\"#d8576b\"],[0.6666666666666666,\"#ed7953\"],[0.7777777777777778,\"#fb9f3a\"],[0.8888888888888888,\"#fdca26\"],[1.0,\"#f0f921\"]],\"type\":\"heatmapgl\"}],\"histogram\":[{\"marker\":{\"pattern\":{\"fillmode\":\"overlay\",\"size\":10,\"solidity\":0.2}},\"type\":\"histogram\"}],\"histogram2d\":[{\"colorbar\":{\"outlinewidth\":0,\"ticks\":\"\"},\"colorscale\":[[0.0,\"#0d0887\"],[0.1111111111111111,\"#46039f\"],[0.2222222222222222,\"#7201a8\"],[0.3333333333333333,\"#9c179e\"],[0.4444444444444444,\"#bd3786\"],[0.5555555555555556,\"#d8576b\"],[0.6666666666666666,\"#ed7953\"],[0.7777777777777778,\"#fb9f3a\"],[0.8888888888888888,\"#fdca26\"],[1.0,\"#f0f921\"]],\"type\":\"histogram2d\"}],\"histogram2dcontour\":[{\"colorbar\":{\"outlinewidth\":0,\"ticks\":\"\"},\"colorscale\":[[0.0,\"#0d0887\"],[0.1111111111111111,\"#46039f\"],[0.2222222222222222,\"#7201a8\"],[0.3333333333333333,\"#9c179e\"],[0.4444444444444444,\"#bd3786\"],[0.5555555555555556,\"#d8576b\"],[0.6666666666666666,\"#ed7953\"],[0.7777777777777778,\"#fb9f3a\"],[0.8888888888888888,\"#fdca26\"],[1.0,\"#f0f921\"]],\"type\":\"histogram2dcontour\"}],\"mesh3d\":[{\"colorbar\":{\"outlinewidth\":0,\"ticks\":\"\"},\"type\":\"mesh3d\"}],\"parcoords\":[{\"line\":{\"colorbar\":{\"outlinewidth\":0,\"ticks\":\"\"}},\"type\":\"parcoords\"}],\"pie\":[{\"automargin\":true,\"type\":\"pie\"}],\"scatter\":[{\"marker\":{\"colorbar\":{\"outlinewidth\":0,\"ticks\":\"\"}},\"type\":\"scatter\"}],\"scatter3d\":[{\"line\":{\"colorbar\":{\"outlinewidth\":0,\"ticks\":\"\"}},\"marker\":{\"colorbar\":{\"outlinewidth\":0,\"ticks\":\"\"}},\"type\":\"scatter3d\"}],\"scattercarpet\":[{\"marker\":{\"colorbar\":{\"outlinewidth\":0,\"ticks\":\"\"}},\"type\":\"scattercarpet\"}],\"scattergeo\":[{\"marker\":{\"colorbar\":{\"outlinewidth\":0,\"ticks\":\"\"}},\"type\":\"scattergeo\"}],\"scattergl\":[{\"marker\":{\"colorbar\":{\"outlinewidth\":0,\"ticks\":\"\"}},\"type\":\"scattergl\"}],\"scattermapbox\":[{\"marker\":{\"colorbar\":{\"outlinewidth\":0,\"ticks\":\"\"}},\"type\":\"scattermapbox\"}],\"scatterpolar\":[{\"marker\":{\"colorbar\":{\"outlinewidth\":0,\"ticks\":\"\"}},\"type\":\"scatterpolar\"}],\"scatterpolargl\":[{\"marker\":{\"colorbar\":{\"outlinewidth\":0,\"ticks\":\"\"}},\"type\":\"scatterpolargl\"}],\"scatterternary\":[{\"marker\":{\"colorbar\":{\"outlinewidth\":0,\"ticks\":\"\"}},\"type\":\"scatterternary\"}],\"surface\":[{\"colorbar\":{\"outlinewidth\":0,\"ticks\":\"\"},\"colorscale\":[[0.0,\"#0d0887\"],[0.1111111111111111,\"#46039f\"],[0.2222222222222222,\"#7201a8\"],[0.3333333333333333,\"#9c179e\"],[0.4444444444444444,\"#bd3786\"],[0.5555555555555556,\"#d8576b\"],[0.6666666666666666,\"#ed7953\"],[0.7777777777777778,\"#fb9f3a\"],[0.8888888888888888,\"#fdca26\"],[1.0,\"#f0f921\"]],\"type\":\"surface\"}],\"table\":[{\"cells\":{\"fill\":{\"color\":\"#EBF0F8\"},\"line\":{\"color\":\"white\"}},\"header\":{\"fill\":{\"color\":\"#C8D4E3\"},\"line\":{\"color\":\"white\"}},\"type\":\"table\"}]},\"layout\":{\"annotationdefaults\":{\"arrowcolor\":\"#2a3f5f\",\"arrowhead\":0,\"arrowwidth\":1},\"autotypenumbers\":\"strict\",\"coloraxis\":{\"colorbar\":{\"outlinewidth\":0,\"ticks\":\"\"}},\"colorscale\":{\"diverging\":[[0,\"#8e0152\"],[0.1,\"#c51b7d\"],[0.2,\"#de77ae\"],[0.3,\"#f1b6da\"],[0.4,\"#fde0ef\"],[0.5,\"#f7f7f7\"],[0.6,\"#e6f5d0\"],[0.7,\"#b8e186\"],[0.8,\"#7fbc41\"],[0.9,\"#4d9221\"],[1,\"#276419\"]],\"sequential\":[[0.0,\"#0d0887\"],[0.1111111111111111,\"#46039f\"],[0.2222222222222222,\"#7201a8\"],[0.3333333333333333,\"#9c179e\"],[0.4444444444444444,\"#bd3786\"],[0.5555555555555556,\"#d8576b\"],[0.6666666666666666,\"#ed7953\"],[0.7777777777777778,\"#fb9f3a\"],[0.8888888888888888,\"#fdca26\"],[1.0,\"#f0f921\"]],\"sequentialminus\":[[0.0,\"#0d0887\"],[0.1111111111111111,\"#46039f\"],[0.2222222222222222,\"#7201a8\"],[0.3333333333333333,\"#9c179e\"],[0.4444444444444444,\"#bd3786\"],[0.5555555555555556,\"#d8576b\"],[0.6666666666666666,\"#ed7953\"],[0.7777777777777778,\"#fb9f3a\"],[0.8888888888888888,\"#fdca26\"],[1.0,\"#f0f921\"]]},\"colorway\":[\"#636efa\",\"#EF553B\",\"#00cc96\",\"#ab63fa\",\"#FFA15A\",\"#19d3f3\",\"#FF6692\",\"#B6E880\",\"#FF97FF\",\"#FECB52\"],\"font\":{\"color\":\"#2a3f5f\"},\"geo\":{\"bgcolor\":\"white\",\"lakecolor\":\"white\",\"landcolor\":\"#E5ECF6\",\"showlakes\":true,\"showland\":true,\"subunitcolor\":\"white\"},\"hoverlabel\":{\"align\":\"left\"},\"hovermode\":\"closest\",\"mapbox\":{\"style\":\"light\"},\"paper_bgcolor\":\"white\",\"plot_bgcolor\":\"#E5ECF6\",\"polar\":{\"angularaxis\":{\"gridcolor\":\"white\",\"linecolor\":\"white\",\"ticks\":\"\"},\"bgcolor\":\"#E5ECF6\",\"radialaxis\":{\"gridcolor\":\"white\",\"linecolor\":\"white\",\"ticks\":\"\"}},\"scene\":{\"xaxis\":{\"backgroundcolor\":\"#E5ECF6\",\"gridcolor\":\"white\",\"gridwidth\":2,\"linecolor\":\"white\",\"showbackground\":true,\"ticks\":\"\",\"zerolinecolor\":\"white\"},\"yaxis\":{\"backgroundcolor\":\"#E5ECF6\",\"gridcolor\":\"white\",\"gridwidth\":2,\"linecolor\":\"white\",\"showbackground\":true,\"ticks\":\"\",\"zerolinecolor\":\"white\"},\"zaxis\":{\"backgroundcolor\":\"#E5ECF6\",\"gridcolor\":\"white\",\"gridwidth\":2,\"linecolor\":\"white\",\"showbackground\":true,\"ticks\":\"\",\"zerolinecolor\":\"white\"}},\"shapedefaults\":{\"line\":{\"color\":\"#2a3f5f\"}},\"ternary\":{\"aaxis\":{\"gridcolor\":\"white\",\"linecolor\":\"white\",\"ticks\":\"\"},\"baxis\":{\"gridcolor\":\"white\",\"linecolor\":\"white\",\"ticks\":\"\"},\"bgcolor\":\"#E5ECF6\",\"caxis\":{\"gridcolor\":\"white\",\"linecolor\":\"white\",\"ticks\":\"\"}},\"title\":{\"x\":0.05},\"xaxis\":{\"automargin\":true,\"gridcolor\":\"white\",\"linecolor\":\"white\",\"ticks\":\"\",\"title\":{\"standoff\":15},\"zerolinecolor\":\"white\",\"zerolinewidth\":2},\"yaxis\":{\"automargin\":true,\"gridcolor\":\"white\",\"linecolor\":\"white\",\"ticks\":\"\",\"title\":{\"standoff\":15},\"zerolinecolor\":\"white\",\"zerolinewidth\":2}}}},                        {\"responsive\": true}                    ).then(function(){\n",
       "                            \n",
       "var gd = document.getElementById('79c55879-defe-4a74-a386-b29e83af8e2a');\n",
       "var x = new MutationObserver(function (mutations, observer) {{\n",
       "        var display = window.getComputedStyle(gd).display;\n",
       "        if (!display || display === 'none') {{\n",
       "            console.log([gd, 'removed!']);\n",
       "            Plotly.purge(gd);\n",
       "            observer.disconnect();\n",
       "        }}\n",
       "}});\n",
       "\n",
       "// Listen for the removal of the full notebook cells\n",
       "var notebookContainer = gd.closest('#notebook-container');\n",
       "if (notebookContainer) {{\n",
       "    x.observe(notebookContainer, {childList: true});\n",
       "}}\n",
       "\n",
       "// Listen for the clearing of the current output cell\n",
       "var outputEl = gd.closest('.output');\n",
       "if (outputEl) {{\n",
       "    x.observe(outputEl, {childList: true});\n",
       "}}\n",
       "\n",
       "                        })                };                });            </script>        </div>"
      ]
     },
     "metadata": {},
     "output_type": "display_data"
    }
   ],
   "source": [
    "import plotly.graph_objects as go\n",
    "\n",
    "fig = go.Figure()\n",
    "\n",
    "fig.add_trace(go.Scatterpolar(r=Chequing, theta=type_trans, fill='toself', name = 'Chequing'))\n",
    "\n",
    "fig.add_trace(go.Scatterpolar(r=Savings, theta=type_trans, fill='toself', name = 'Savings'))\n",
    "\n",
    "fig.add_trace(go.Scatterpolar(r=Credit, theta=type_trans, fill='toself', name = 'Credit'))\n",
    "\n",
    "\n",
    "fig.show()"
   ]
  },
  {
   "cell_type": "markdown",
   "id": "eb1aa412",
   "metadata": {},
   "source": [
    "## PCA"
   ]
  },
  {
   "cell_type": "code",
   "execution_count": 66,
   "id": "4e6281a9",
   "metadata": {},
   "outputs": [],
   "source": [
    "import copy\n",
    "pca_df=copy.deepcopy(merged_df)\n",
    "pca_df.drop('cust_id', axis=1, inplace=True)\n",
    "pca_df.drop('tran_id', axis=1, inplace=True)\n",
    "pca_df.drop('tran_date', axis=1, inplace=True)"
   ]
  },
  {
   "cell_type": "code",
   "execution_count": 67,
   "id": "296bd78a",
   "metadata": {},
   "outputs": [
    {
     "data": {
      "text/html": [
       "<div>\n",
       "<style scoped>\n",
       "    .dataframe tbody tr th:only-of-type {\n",
       "        vertical-align: middle;\n",
       "    }\n",
       "\n",
       "    .dataframe tbody tr th {\n",
       "        vertical-align: top;\n",
       "    }\n",
       "\n",
       "    .dataframe thead th {\n",
       "        text-align: right;\n",
       "    }\n",
       "</style>\n",
       "<table border=\"1\" class=\"dataframe\">\n",
       "  <thead>\n",
       "    <tr style=\"text-align: right;\">\n",
       "      <th></th>\n",
       "      <th>income</th>\n",
       "      <th>Tier_income2</th>\n",
       "      <th>age</th>\n",
       "      <th>Age_Group</th>\n",
       "      <th>years_with_bank</th>\n",
       "      <th>nbr_children</th>\n",
       "      <th>gender</th>\n",
       "      <th>marital_status</th>\n",
       "      <th>Region</th>\n",
       "      <th>tran_amt</th>\n",
       "      <th>principal_amt</th>\n",
       "      <th>interest_amt</th>\n",
       "      <th>new_balance</th>\n",
       "      <th>Type</th>\n",
       "      <th>day</th>\n",
       "      <th>month</th>\n",
       "      <th>year</th>\n",
       "    </tr>\n",
       "  </thead>\n",
       "  <tbody>\n",
       "    <tr>\n",
       "      <th>0</th>\n",
       "      <td>6605</td>\n",
       "      <td>Lowest</td>\n",
       "      <td>71</td>\n",
       "      <td>70-79</td>\n",
       "      <td>1</td>\n",
       "      <td>0</td>\n",
       "      <td>M</td>\n",
       "      <td>2</td>\n",
       "      <td>West</td>\n",
       "      <td>-200.00</td>\n",
       "      <td>-200.00</td>\n",
       "      <td>0.00</td>\n",
       "      <td>511.36</td>\n",
       "      <td>Savings</td>\n",
       "      <td>0</td>\n",
       "      <td>2</td>\n",
       "      <td>1995</td>\n",
       "    </tr>\n",
       "    <tr>\n",
       "      <th>1</th>\n",
       "      <td>6605</td>\n",
       "      <td>Lowest</td>\n",
       "      <td>71</td>\n",
       "      <td>70-79</td>\n",
       "      <td>1</td>\n",
       "      <td>0</td>\n",
       "      <td>M</td>\n",
       "      <td>2</td>\n",
       "      <td>West</td>\n",
       "      <td>-204.66</td>\n",
       "      <td>-204.66</td>\n",
       "      <td>0.00</td>\n",
       "      <td>310.54</td>\n",
       "      <td>Savings</td>\n",
       "      <td>5</td>\n",
       "      <td>5</td>\n",
       "      <td>1995</td>\n",
       "    </tr>\n",
       "    <tr>\n",
       "      <th>2</th>\n",
       "      <td>6605</td>\n",
       "      <td>Lowest</td>\n",
       "      <td>71</td>\n",
       "      <td>70-79</td>\n",
       "      <td>1</td>\n",
       "      <td>0</td>\n",
       "      <td>M</td>\n",
       "      <td>2</td>\n",
       "      <td>West</td>\n",
       "      <td>-40.00</td>\n",
       "      <td>-40.00</td>\n",
       "      <td>0.00</td>\n",
       "      <td>25.66</td>\n",
       "      <td>Savings</td>\n",
       "      <td>1</td>\n",
       "      <td>6</td>\n",
       "      <td>1995</td>\n",
       "    </tr>\n",
       "    <tr>\n",
       "      <th>3</th>\n",
       "      <td>6605</td>\n",
       "      <td>Lowest</td>\n",
       "      <td>71</td>\n",
       "      <td>70-79</td>\n",
       "      <td>1</td>\n",
       "      <td>0</td>\n",
       "      <td>M</td>\n",
       "      <td>2</td>\n",
       "      <td>West</td>\n",
       "      <td>1.92</td>\n",
       "      <td>0.00</td>\n",
       "      <td>1.92</td>\n",
       "      <td>771.36</td>\n",
       "      <td>Savings</td>\n",
       "      <td>1</td>\n",
       "      <td>1</td>\n",
       "      <td>1995</td>\n",
       "    </tr>\n",
       "    <tr>\n",
       "      <th>4</th>\n",
       "      <td>6605</td>\n",
       "      <td>Lowest</td>\n",
       "      <td>71</td>\n",
       "      <td>70-79</td>\n",
       "      <td>1</td>\n",
       "      <td>0</td>\n",
       "      <td>M</td>\n",
       "      <td>2</td>\n",
       "      <td>West</td>\n",
       "      <td>1.28</td>\n",
       "      <td>0.00</td>\n",
       "      <td>1.28</td>\n",
       "      <td>513.92</td>\n",
       "      <td>Savings</td>\n",
       "      <td>4</td>\n",
       "      <td>3</td>\n",
       "      <td>1995</td>\n",
       "    </tr>\n",
       "  </tbody>\n",
       "</table>\n",
       "</div>"
      ],
      "text/plain": [
       "   income Tier_income2  age Age_Group  years_with_bank  nbr_children gender  \\\n",
       "0    6605       Lowest   71     70-79                1             0     M    \n",
       "1    6605       Lowest   71     70-79                1             0     M    \n",
       "2    6605       Lowest   71     70-79                1             0     M    \n",
       "3    6605       Lowest   71     70-79                1             0     M    \n",
       "4    6605       Lowest   71     70-79                1             0     M    \n",
       "\n",
       "   marital_status Region  tran_amt  principal_amt  interest_amt  new_balance  \\\n",
       "0               2   West   -200.00        -200.00          0.00       511.36   \n",
       "1               2   West   -204.66        -204.66          0.00       310.54   \n",
       "2               2   West    -40.00         -40.00          0.00        25.66   \n",
       "3               2   West      1.92           0.00          1.92       771.36   \n",
       "4               2   West      1.28           0.00          1.28       513.92   \n",
       "\n",
       "      Type  day  month  year  \n",
       "0  Savings    0      2  1995  \n",
       "1  Savings    5      5  1995  \n",
       "2  Savings    1      6  1995  \n",
       "3  Savings    1      1  1995  \n",
       "4  Savings    4      3  1995  "
      ]
     },
     "execution_count": 67,
     "metadata": {},
     "output_type": "execute_result"
    }
   ],
   "source": [
    "pca_df.head()"
   ]
  },
  {
   "cell_type": "code",
   "execution_count": 68,
   "id": "03411b99",
   "metadata": {},
   "outputs": [],
   "source": [
    "#change age_group, gender, region, type into numerical\n",
    "#Ordinal Features Version 2 '\n",
    "pca_df = pca_df.replace({\"Tier_income2\" : {\"Lowest\" : 0, \"Low Middle\" : 1, \"High Middle\": 2, \"Highest\": 3},\n",
    "                             \"Age_Group\" : {'10-19':0,'20-29':1,'30-39':2,'40-49':3,'50-59':4,\n",
    "                                            '60-69':5,'70-79':6,'80-89':7},\n",
    "                             \"gender\" : {\"M \" : 0, \"F \" : 1},\n",
    "                             \"Region\" : {\"West\": 0, \"Midwest\": 1, \"Northeast\" : 2, \"South\": 3},\n",
    "                        \"Type\" : {\"Checking\": 0, \"Savings\": 1, \"Credit\" : 2}\n",
    "                        })"
   ]
  },
  {
   "cell_type": "code",
   "execution_count": 69,
   "id": "a6f2a2e3",
   "metadata": {},
   "outputs": [
    {
     "data": {
      "text/html": [
       "<div>\n",
       "<style scoped>\n",
       "    .dataframe tbody tr th:only-of-type {\n",
       "        vertical-align: middle;\n",
       "    }\n",
       "\n",
       "    .dataframe tbody tr th {\n",
       "        vertical-align: top;\n",
       "    }\n",
       "\n",
       "    .dataframe thead th {\n",
       "        text-align: right;\n",
       "    }\n",
       "</style>\n",
       "<table border=\"1\" class=\"dataframe\">\n",
       "  <thead>\n",
       "    <tr style=\"text-align: right;\">\n",
       "      <th></th>\n",
       "      <th>income</th>\n",
       "      <th>Tier_income2</th>\n",
       "      <th>age</th>\n",
       "      <th>Age_Group</th>\n",
       "      <th>years_with_bank</th>\n",
       "      <th>nbr_children</th>\n",
       "      <th>gender</th>\n",
       "      <th>marital_status</th>\n",
       "      <th>Region</th>\n",
       "      <th>tran_amt</th>\n",
       "      <th>principal_amt</th>\n",
       "      <th>interest_amt</th>\n",
       "      <th>new_balance</th>\n",
       "      <th>Type</th>\n",
       "      <th>day</th>\n",
       "      <th>month</th>\n",
       "      <th>year</th>\n",
       "    </tr>\n",
       "  </thead>\n",
       "  <tbody>\n",
       "    <tr>\n",
       "      <th>0</th>\n",
       "      <td>6605</td>\n",
       "      <td>0.0</td>\n",
       "      <td>71</td>\n",
       "      <td>6</td>\n",
       "      <td>1</td>\n",
       "      <td>0</td>\n",
       "      <td>0</td>\n",
       "      <td>2</td>\n",
       "      <td>0</td>\n",
       "      <td>-200.00</td>\n",
       "      <td>-200.00</td>\n",
       "      <td>0.00</td>\n",
       "      <td>511.36</td>\n",
       "      <td>1</td>\n",
       "      <td>0</td>\n",
       "      <td>2</td>\n",
       "      <td>1995</td>\n",
       "    </tr>\n",
       "    <tr>\n",
       "      <th>1</th>\n",
       "      <td>6605</td>\n",
       "      <td>0.0</td>\n",
       "      <td>71</td>\n",
       "      <td>6</td>\n",
       "      <td>1</td>\n",
       "      <td>0</td>\n",
       "      <td>0</td>\n",
       "      <td>2</td>\n",
       "      <td>0</td>\n",
       "      <td>-204.66</td>\n",
       "      <td>-204.66</td>\n",
       "      <td>0.00</td>\n",
       "      <td>310.54</td>\n",
       "      <td>1</td>\n",
       "      <td>5</td>\n",
       "      <td>5</td>\n",
       "      <td>1995</td>\n",
       "    </tr>\n",
       "    <tr>\n",
       "      <th>2</th>\n",
       "      <td>6605</td>\n",
       "      <td>0.0</td>\n",
       "      <td>71</td>\n",
       "      <td>6</td>\n",
       "      <td>1</td>\n",
       "      <td>0</td>\n",
       "      <td>0</td>\n",
       "      <td>2</td>\n",
       "      <td>0</td>\n",
       "      <td>-40.00</td>\n",
       "      <td>-40.00</td>\n",
       "      <td>0.00</td>\n",
       "      <td>25.66</td>\n",
       "      <td>1</td>\n",
       "      <td>1</td>\n",
       "      <td>6</td>\n",
       "      <td>1995</td>\n",
       "    </tr>\n",
       "    <tr>\n",
       "      <th>3</th>\n",
       "      <td>6605</td>\n",
       "      <td>0.0</td>\n",
       "      <td>71</td>\n",
       "      <td>6</td>\n",
       "      <td>1</td>\n",
       "      <td>0</td>\n",
       "      <td>0</td>\n",
       "      <td>2</td>\n",
       "      <td>0</td>\n",
       "      <td>1.92</td>\n",
       "      <td>0.00</td>\n",
       "      <td>1.92</td>\n",
       "      <td>771.36</td>\n",
       "      <td>1</td>\n",
       "      <td>1</td>\n",
       "      <td>1</td>\n",
       "      <td>1995</td>\n",
       "    </tr>\n",
       "    <tr>\n",
       "      <th>4</th>\n",
       "      <td>6605</td>\n",
       "      <td>0.0</td>\n",
       "      <td>71</td>\n",
       "      <td>6</td>\n",
       "      <td>1</td>\n",
       "      <td>0</td>\n",
       "      <td>0</td>\n",
       "      <td>2</td>\n",
       "      <td>0</td>\n",
       "      <td>1.28</td>\n",
       "      <td>0.00</td>\n",
       "      <td>1.28</td>\n",
       "      <td>513.92</td>\n",
       "      <td>1</td>\n",
       "      <td>4</td>\n",
       "      <td>3</td>\n",
       "      <td>1995</td>\n",
       "    </tr>\n",
       "  </tbody>\n",
       "</table>\n",
       "</div>"
      ],
      "text/plain": [
       "   income  Tier_income2  age  Age_Group  years_with_bank  nbr_children  \\\n",
       "0    6605           0.0   71          6                1             0   \n",
       "1    6605           0.0   71          6                1             0   \n",
       "2    6605           0.0   71          6                1             0   \n",
       "3    6605           0.0   71          6                1             0   \n",
       "4    6605           0.0   71          6                1             0   \n",
       "\n",
       "   gender  marital_status  Region  tran_amt  principal_amt  interest_amt  \\\n",
       "0       0               2       0   -200.00        -200.00          0.00   \n",
       "1       0               2       0   -204.66        -204.66          0.00   \n",
       "2       0               2       0    -40.00         -40.00          0.00   \n",
       "3       0               2       0      1.92           0.00          1.92   \n",
       "4       0               2       0      1.28           0.00          1.28   \n",
       "\n",
       "   new_balance  Type  day  month  year  \n",
       "0       511.36     1    0      2  1995  \n",
       "1       310.54     1    5      5  1995  \n",
       "2        25.66     1    1      6  1995  \n",
       "3       771.36     1    1      1  1995  \n",
       "4       513.92     1    4      3  1995  "
      ]
     },
     "execution_count": 69,
     "metadata": {},
     "output_type": "execute_result"
    }
   ],
   "source": [
    "pca_df.head()"
   ]
  },
  {
   "cell_type": "code",
   "execution_count": 70,
   "id": "184cdd1e",
   "metadata": {},
   "outputs": [
    {
     "data": {
      "text/html": [
       "<div>\n",
       "<style scoped>\n",
       "    .dataframe tbody tr th:only-of-type {\n",
       "        vertical-align: middle;\n",
       "    }\n",
       "\n",
       "    .dataframe tbody tr th {\n",
       "        vertical-align: top;\n",
       "    }\n",
       "\n",
       "    .dataframe thead th {\n",
       "        text-align: right;\n",
       "    }\n",
       "</style>\n",
       "<table border=\"1\" class=\"dataframe\">\n",
       "  <thead>\n",
       "    <tr style=\"text-align: right;\">\n",
       "      <th></th>\n",
       "      <th>Tier_income2</th>\n",
       "      <th>Age_Group</th>\n",
       "      <th>years_with_bank</th>\n",
       "      <th>nbr_children</th>\n",
       "      <th>gender</th>\n",
       "      <th>marital_status</th>\n",
       "      <th>Region</th>\n",
       "      <th>tran_amt</th>\n",
       "      <th>new_balance</th>\n",
       "      <th>Type</th>\n",
       "    </tr>\n",
       "  </thead>\n",
       "  <tbody>\n",
       "    <tr>\n",
       "      <th>0</th>\n",
       "      <td>0.0</td>\n",
       "      <td>6</td>\n",
       "      <td>1</td>\n",
       "      <td>0</td>\n",
       "      <td>0</td>\n",
       "      <td>2</td>\n",
       "      <td>0</td>\n",
       "      <td>-200.00</td>\n",
       "      <td>511.36</td>\n",
       "      <td>1</td>\n",
       "    </tr>\n",
       "    <tr>\n",
       "      <th>1</th>\n",
       "      <td>0.0</td>\n",
       "      <td>6</td>\n",
       "      <td>1</td>\n",
       "      <td>0</td>\n",
       "      <td>0</td>\n",
       "      <td>2</td>\n",
       "      <td>0</td>\n",
       "      <td>-204.66</td>\n",
       "      <td>310.54</td>\n",
       "      <td>1</td>\n",
       "    </tr>\n",
       "    <tr>\n",
       "      <th>2</th>\n",
       "      <td>0.0</td>\n",
       "      <td>6</td>\n",
       "      <td>1</td>\n",
       "      <td>0</td>\n",
       "      <td>0</td>\n",
       "      <td>2</td>\n",
       "      <td>0</td>\n",
       "      <td>-40.00</td>\n",
       "      <td>25.66</td>\n",
       "      <td>1</td>\n",
       "    </tr>\n",
       "    <tr>\n",
       "      <th>3</th>\n",
       "      <td>0.0</td>\n",
       "      <td>6</td>\n",
       "      <td>1</td>\n",
       "      <td>0</td>\n",
       "      <td>0</td>\n",
       "      <td>2</td>\n",
       "      <td>0</td>\n",
       "      <td>1.92</td>\n",
       "      <td>771.36</td>\n",
       "      <td>1</td>\n",
       "    </tr>\n",
       "    <tr>\n",
       "      <th>4</th>\n",
       "      <td>0.0</td>\n",
       "      <td>6</td>\n",
       "      <td>1</td>\n",
       "      <td>0</td>\n",
       "      <td>0</td>\n",
       "      <td>2</td>\n",
       "      <td>0</td>\n",
       "      <td>1.28</td>\n",
       "      <td>513.92</td>\n",
       "      <td>1</td>\n",
       "    </tr>\n",
       "  </tbody>\n",
       "</table>\n",
       "</div>"
      ],
      "text/plain": [
       "   Tier_income2  Age_Group  years_with_bank  nbr_children  gender  \\\n",
       "0           0.0          6                1             0       0   \n",
       "1           0.0          6                1             0       0   \n",
       "2           0.0          6                1             0       0   \n",
       "3           0.0          6                1             0       0   \n",
       "4           0.0          6                1             0       0   \n",
       "\n",
       "   marital_status  Region  tran_amt  new_balance  Type  \n",
       "0               2       0   -200.00       511.36     1  \n",
       "1               2       0   -204.66       310.54     1  \n",
       "2               2       0    -40.00        25.66     1  \n",
       "3               2       0      1.92       771.36     1  \n",
       "4               2       0      1.28       513.92     1  "
      ]
     },
     "execution_count": 70,
     "metadata": {},
     "output_type": "execute_result"
    }
   ],
   "source": [
    "#tran_amt and principal amt are same, drop one, also drop interest\n",
    "pca_df.drop('principal_amt', axis=1, inplace=True)\n",
    "pca_df.drop('interest_amt', axis=1, inplace=True)\n",
    "\n",
    "#drop income and others\n",
    "pca_df.drop('income', axis=1, inplace=True)\n",
    "pca_df.drop('year', axis=1, inplace=True)\n",
    "pca_df.drop('month', axis=1, inplace=True)\n",
    "pca_df.drop('day', axis=1, inplace=True)\n",
    "pca_df.drop('age',axis=1,inplace=True)\n",
    "pca_df.head()"
   ]
  },
  {
   "cell_type": "code",
   "execution_count": 71,
   "id": "d1804d01",
   "metadata": {},
   "outputs": [
    {
     "data": {
      "text/plain": [
       "Tier_income2       6123\n",
       "Age_Group             0\n",
       "years_with_bank       0\n",
       "nbr_children          0\n",
       "gender                0\n",
       "marital_status        0\n",
       "Region                0\n",
       "tran_amt              0\n",
       "new_balance           0\n",
       "Type                  0\n",
       "dtype: int64"
      ]
     },
     "execution_count": 71,
     "metadata": {},
     "output_type": "execute_result"
    }
   ],
   "source": [
    "pca_df.isnull().sum()"
   ]
  },
  {
   "cell_type": "code",
   "execution_count": 72,
   "id": "da1c9bcd",
   "metadata": {},
   "outputs": [],
   "source": [
    "#drop 6000 rows of data NAN values\n",
    "pca_df=pca_df.dropna(subset=['Tier_income2'])"
   ]
  },
  {
   "cell_type": "code",
   "execution_count": 73,
   "id": "18e2135b",
   "metadata": {},
   "outputs": [
    {
     "data": {
      "text/html": [
       "<div>\n",
       "<style scoped>\n",
       "    .dataframe tbody tr th:only-of-type {\n",
       "        vertical-align: middle;\n",
       "    }\n",
       "\n",
       "    .dataframe tbody tr th {\n",
       "        vertical-align: top;\n",
       "    }\n",
       "\n",
       "    .dataframe thead th {\n",
       "        text-align: right;\n",
       "    }\n",
       "</style>\n",
       "<table border=\"1\" class=\"dataframe\">\n",
       "  <thead>\n",
       "    <tr style=\"text-align: right;\">\n",
       "      <th></th>\n",
       "      <th>0</th>\n",
       "      <th>1</th>\n",
       "      <th>2</th>\n",
       "      <th>3</th>\n",
       "      <th>4</th>\n",
       "      <th>5</th>\n",
       "      <th>6</th>\n",
       "      <th>7</th>\n",
       "      <th>8</th>\n",
       "      <th>9</th>\n",
       "    </tr>\n",
       "  </thead>\n",
       "  <tbody>\n",
       "    <tr>\n",
       "      <th>0</th>\n",
       "      <td>-1.052576</td>\n",
       "      <td>1.598960</td>\n",
       "      <td>-1.140435</td>\n",
       "      <td>-0.689474</td>\n",
       "      <td>-1.207899</td>\n",
       "      <td>-0.033081</td>\n",
       "      <td>-1.163072</td>\n",
       "      <td>-0.596631</td>\n",
       "      <td>-0.030036</td>\n",
       "      <td>0.389359</td>\n",
       "    </tr>\n",
       "    <tr>\n",
       "      <th>1</th>\n",
       "      <td>-1.052576</td>\n",
       "      <td>1.598960</td>\n",
       "      <td>-1.140435</td>\n",
       "      <td>-0.689474</td>\n",
       "      <td>-1.207899</td>\n",
       "      <td>-0.033081</td>\n",
       "      <td>-1.163072</td>\n",
       "      <td>-0.611144</td>\n",
       "      <td>-0.120158</td>\n",
       "      <td>0.389359</td>\n",
       "    </tr>\n",
       "    <tr>\n",
       "      <th>2</th>\n",
       "      <td>-1.052576</td>\n",
       "      <td>1.598960</td>\n",
       "      <td>-1.140435</td>\n",
       "      <td>-0.689474</td>\n",
       "      <td>-1.207899</td>\n",
       "      <td>-0.033081</td>\n",
       "      <td>-1.163072</td>\n",
       "      <td>-0.098333</td>\n",
       "      <td>-0.248003</td>\n",
       "      <td>0.389359</td>\n",
       "    </tr>\n",
       "    <tr>\n",
       "      <th>3</th>\n",
       "      <td>-1.052576</td>\n",
       "      <td>1.598960</td>\n",
       "      <td>-1.140435</td>\n",
       "      <td>-0.689474</td>\n",
       "      <td>-1.207899</td>\n",
       "      <td>-0.033081</td>\n",
       "      <td>-1.163072</td>\n",
       "      <td>0.032221</td>\n",
       "      <td>0.086644</td>\n",
       "      <td>0.389359</td>\n",
       "    </tr>\n",
       "    <tr>\n",
       "      <th>4</th>\n",
       "      <td>-1.052576</td>\n",
       "      <td>1.598960</td>\n",
       "      <td>-1.140435</td>\n",
       "      <td>-0.689474</td>\n",
       "      <td>-1.207899</td>\n",
       "      <td>-0.033081</td>\n",
       "      <td>-1.163072</td>\n",
       "      <td>0.030228</td>\n",
       "      <td>-0.028887</td>\n",
       "      <td>0.389359</td>\n",
       "    </tr>\n",
       "    <tr>\n",
       "      <th>...</th>\n",
       "      <td>...</td>\n",
       "      <td>...</td>\n",
       "      <td>...</td>\n",
       "      <td>...</td>\n",
       "      <td>...</td>\n",
       "      <td>...</td>\n",
       "      <td>...</td>\n",
       "      <td>...</td>\n",
       "      <td>...</td>\n",
       "      <td>...</td>\n",
       "    </tr>\n",
       "    <tr>\n",
       "      <th>71432</th>\n",
       "      <td>0.175223</td>\n",
       "      <td>-1.811757</td>\n",
       "      <td>-0.388423</td>\n",
       "      <td>-0.689474</td>\n",
       "      <td>0.827884</td>\n",
       "      <td>-1.087622</td>\n",
       "      <td>-1.163072</td>\n",
       "      <td>-0.579222</td>\n",
       "      <td>0.325035</td>\n",
       "      <td>-0.761433</td>\n",
       "    </tr>\n",
       "    <tr>\n",
       "      <th>71433</th>\n",
       "      <td>0.175223</td>\n",
       "      <td>-1.811757</td>\n",
       "      <td>-0.388423</td>\n",
       "      <td>-0.689474</td>\n",
       "      <td>0.827884</td>\n",
       "      <td>-1.087622</td>\n",
       "      <td>-1.163072</td>\n",
       "      <td>-0.137044</td>\n",
       "      <td>1.148002</td>\n",
       "      <td>-0.761433</td>\n",
       "    </tr>\n",
       "    <tr>\n",
       "      <th>71434</th>\n",
       "      <td>0.175223</td>\n",
       "      <td>-1.811757</td>\n",
       "      <td>-0.388423</td>\n",
       "      <td>-0.689474</td>\n",
       "      <td>0.827884</td>\n",
       "      <td>-1.087622</td>\n",
       "      <td>-1.163072</td>\n",
       "      <td>0.026242</td>\n",
       "      <td>0.699223</td>\n",
       "      <td>-0.761433</td>\n",
       "    </tr>\n",
       "    <tr>\n",
       "      <th>71435</th>\n",
       "      <td>0.175223</td>\n",
       "      <td>-1.811757</td>\n",
       "      <td>-0.388423</td>\n",
       "      <td>-0.689474</td>\n",
       "      <td>0.827884</td>\n",
       "      <td>-1.087622</td>\n",
       "      <td>-1.163072</td>\n",
       "      <td>0.080432</td>\n",
       "      <td>-0.251396</td>\n",
       "      <td>-0.761433</td>\n",
       "    </tr>\n",
       "    <tr>\n",
       "      <th>71436</th>\n",
       "      <td>0.175223</td>\n",
       "      <td>-1.811757</td>\n",
       "      <td>-0.388423</td>\n",
       "      <td>-0.689474</td>\n",
       "      <td>0.827884</td>\n",
       "      <td>-1.087622</td>\n",
       "      <td>-1.163072</td>\n",
       "      <td>0.005811</td>\n",
       "      <td>0.010658</td>\n",
       "      <td>-0.761433</td>\n",
       "    </tr>\n",
       "  </tbody>\n",
       "</table>\n",
       "<p>71437 rows × 10 columns</p>\n",
       "</div>"
      ],
      "text/plain": [
       "              0         1         2         3         4         5         6  \\\n",
       "0     -1.052576  1.598960 -1.140435 -0.689474 -1.207899 -0.033081 -1.163072   \n",
       "1     -1.052576  1.598960 -1.140435 -0.689474 -1.207899 -0.033081 -1.163072   \n",
       "2     -1.052576  1.598960 -1.140435 -0.689474 -1.207899 -0.033081 -1.163072   \n",
       "3     -1.052576  1.598960 -1.140435 -0.689474 -1.207899 -0.033081 -1.163072   \n",
       "4     -1.052576  1.598960 -1.140435 -0.689474 -1.207899 -0.033081 -1.163072   \n",
       "...         ...       ...       ...       ...       ...       ...       ...   \n",
       "71432  0.175223 -1.811757 -0.388423 -0.689474  0.827884 -1.087622 -1.163072   \n",
       "71433  0.175223 -1.811757 -0.388423 -0.689474  0.827884 -1.087622 -1.163072   \n",
       "71434  0.175223 -1.811757 -0.388423 -0.689474  0.827884 -1.087622 -1.163072   \n",
       "71435  0.175223 -1.811757 -0.388423 -0.689474  0.827884 -1.087622 -1.163072   \n",
       "71436  0.175223 -1.811757 -0.388423 -0.689474  0.827884 -1.087622 -1.163072   \n",
       "\n",
       "              7         8         9  \n",
       "0     -0.596631 -0.030036  0.389359  \n",
       "1     -0.611144 -0.120158  0.389359  \n",
       "2     -0.098333 -0.248003  0.389359  \n",
       "3      0.032221  0.086644  0.389359  \n",
       "4      0.030228 -0.028887  0.389359  \n",
       "...         ...       ...       ...  \n",
       "71432 -0.579222  0.325035 -0.761433  \n",
       "71433 -0.137044  1.148002 -0.761433  \n",
       "71434  0.026242  0.699223 -0.761433  \n",
       "71435  0.080432 -0.251396 -0.761433  \n",
       "71436  0.005811  0.010658 -0.761433  \n",
       "\n",
       "[71437 rows x 10 columns]"
      ]
     },
     "execution_count": 73,
     "metadata": {},
     "output_type": "execute_result"
    }
   ],
   "source": [
    "from sklearn.preprocessing import StandardScaler\n",
    "df_standard = pd.DataFrame(StandardScaler().fit_transform(pca_df))\n",
    "df_standard"
   ]
  },
  {
   "cell_type": "code",
   "execution_count": 78,
   "id": "840c63b4",
   "metadata": {},
   "outputs": [
    {
     "data": {
      "image/png": "[encoded data removed]",
      "text/plain": [
       "<Figure size 432x288 with 1 Axes>"
      ]
     },
     "metadata": {
      "needs_background": "light"
     },
     "output_type": "display_data"
    }
   ],
   "source": [
    "mat = prin_trans[['princom1', 'princom2']].values\n",
    "plot_distortion(mat, max_clusters=10)"
   ]
  },
  {
   "cell_type": "code",
   "execution_count": 76,
   "id": "7bd483c5",
   "metadata": {},
   "outputs": [],
   "source": [
    "#define function to make distortion plot - pulled from Walkthrough\n",
    "def plot_distortion(X,max_clusters = 10):\n",
    "    distortions = []\n",
    "    for i in range(1, max_clusters +1):\n",
    "        km = KMeans(n_clusters=i,\n",
    "                    init='k-means++',\n",
    "                    n_init=10,\n",
    "                    random_state=0)\n",
    "        km.fit(X)\n",
    "        distortions.append(km.inertia_)\n",
    "\n",
    "    plt.plot(range(1,max_clusters +1), distortions, marker='o')\n",
    "    plt.xlabel('Number of clusters')\n",
    "    plt.ylabel('Distortion')\n",
    "    plt.show() "
   ]
  },
  {
   "cell_type": "code",
   "execution_count": 74,
   "id": "d151b495",
   "metadata": {},
   "outputs": [
    {
     "data": {
      "text/html": [
       "<div>\n",
       "<style scoped>\n",
       "    .dataframe tbody tr th:only-of-type {\n",
       "        vertical-align: middle;\n",
       "    }\n",
       "\n",
       "    .dataframe tbody tr th {\n",
       "        vertical-align: top;\n",
       "    }\n",
       "\n",
       "    .dataframe thead th {\n",
       "        text-align: right;\n",
       "    }\n",
       "</style>\n",
       "<table border=\"1\" class=\"dataframe\">\n",
       "  <thead>\n",
       "    <tr style=\"text-align: right;\">\n",
       "      <th></th>\n",
       "      <th>princom1</th>\n",
       "      <th>princom2</th>\n",
       "    </tr>\n",
       "  </thead>\n",
       "  <tbody>\n",
       "    <tr>\n",
       "      <th>0</th>\n",
       "      <td>-0.748991</td>\n",
       "      <td>-0.140873</td>\n",
       "    </tr>\n",
       "    <tr>\n",
       "      <th>1</th>\n",
       "      <td>-0.774330</td>\n",
       "      <td>-0.198837</td>\n",
       "    </tr>\n",
       "    <tr>\n",
       "      <th>2</th>\n",
       "      <td>-0.810074</td>\n",
       "      <td>-0.280003</td>\n",
       "    </tr>\n",
       "    <tr>\n",
       "      <th>3</th>\n",
       "      <td>-0.715956</td>\n",
       "      <td>-0.064613</td>\n",
       "    </tr>\n",
       "    <tr>\n",
       "      <th>4</th>\n",
       "      <td>-0.748432</td>\n",
       "      <td>-0.138887</td>\n",
       "    </tr>\n",
       "    <tr>\n",
       "      <th>...</th>\n",
       "      <td>...</td>\n",
       "      <td>...</td>\n",
       "    </tr>\n",
       "    <tr>\n",
       "      <th>71432</th>\n",
       "      <td>-0.588279</td>\n",
       "      <td>1.134516</td>\n",
       "    </tr>\n",
       "    <tr>\n",
       "      <th>71433</th>\n",
       "      <td>-0.356775</td>\n",
       "      <td>1.664445</td>\n",
       "    </tr>\n",
       "    <tr>\n",
       "      <th>71434</th>\n",
       "      <td>-0.482866</td>\n",
       "      <td>1.376270</td>\n",
       "    </tr>\n",
       "    <tr>\n",
       "      <th>71435</th>\n",
       "      <td>-0.750066</td>\n",
       "      <td>0.765267</td>\n",
       "    </tr>\n",
       "    <tr>\n",
       "      <th>71436</th>\n",
       "      <td>-0.676431</td>\n",
       "      <td>0.933582</td>\n",
       "    </tr>\n",
       "  </tbody>\n",
       "</table>\n",
       "<p>71437 rows × 2 columns</p>\n",
       "</div>"
      ],
      "text/plain": [
       "       princom1  princom2\n",
       "0     -0.748991 -0.140873\n",
       "1     -0.774330 -0.198837\n",
       "2     -0.810074 -0.280003\n",
       "3     -0.715956 -0.064613\n",
       "4     -0.748432 -0.138887\n",
       "...         ...       ...\n",
       "71432 -0.588279  1.134516\n",
       "71433 -0.356775  1.664445\n",
       "71434 -0.482866  1.376270\n",
       "71435 -0.750066  0.765267\n",
       "71436 -0.676431  0.933582\n",
       "\n",
       "[71437 rows x 2 columns]"
      ]
     },
     "execution_count": 74,
     "metadata": {},
     "output_type": "execute_result"
    }
   ],
   "source": [
    "from sklearn.decomposition import PCA\n",
    "pca = PCA(n_components=2)\n",
    "pca_fit = pca.fit_transform(df_standard)\n",
    "\n",
    "#create new data frame\n",
    "prin_trans =pd.DataFrame(data = pca_fit, columns = ['princom1', 'princom2'])\n",
    "prin_trans"
   ]
  },
  {
   "cell_type": "code",
   "execution_count": 75,
   "id": "f3c109ff",
   "metadata": {},
   "outputs": [
    {
     "data": {
      "text/plain": [
       "<matplotlib.collections.PathCollection at 0x1a1cae7b00>"
      ]
     },
     "execution_count": 75,
     "metadata": {},
     "output_type": "execute_result"
    },
    {
     "data": {
      "image/png": "[encoded data removed]",
      "text/plain": [
       "<Figure size 720x720 with 1 Axes>"
      ]
     },
     "metadata": {
      "needs_background": "light"
     },
     "output_type": "display_data"
    }
   ],
   "source": [
    "plt.figure(figsize=(10,10))\n",
    "plt.xlabel('Principal Component 1')\n",
    "plt.ylabel('Principal Component 2')\n",
    "plt.scatter(prin_trans['princom1'],\n",
    "                prin_trans['princom2'])"
   ]
  },
  {
   "cell_type": "code",
   "execution_count": 64,
   "id": "2ba03ad0",
   "metadata": {},
   "outputs": [
    {
     "ename": "IndexingError",
     "evalue": "Unalignable boolean Series provided as indexer (index of the boolean Series and of the indexed object do not match).",
     "output_type": "error",
     "traceback": [
      "\u001b[0;31m---------------------------------------------------------------------------\u001b[0m",
      "\u001b[0;31mIndexingError\u001b[0m                             Traceback (most recent call last)",
      "\u001b[0;32m<ipython-input-64-8ec105abb821>\u001b[0m in \u001b[0;36m<module>\u001b[0;34m\u001b[0m\n\u001b[1;32m      6\u001b[0m \u001b[0;32mfor\u001b[0m \u001b[0mtarget\u001b[0m\u001b[0;34m,\u001b[0m \u001b[0mcolor\u001b[0m \u001b[0;32min\u001b[0m \u001b[0mzip\u001b[0m\u001b[0;34m(\u001b[0m\u001b[0mtargets\u001b[0m\u001b[0;34m,\u001b[0m\u001b[0mcolors\u001b[0m\u001b[0;34m)\u001b[0m\u001b[0;34m:\u001b[0m\u001b[0;34m\u001b[0m\u001b[0;34m\u001b[0m\u001b[0m\n\u001b[1;32m      7\u001b[0m     \u001b[0mindicesToKeep\u001b[0m \u001b[0;34m=\u001b[0m \u001b[0mpca_df\u001b[0m\u001b[0;34m[\u001b[0m\u001b[0;34m'Type'\u001b[0m\u001b[0;34m]\u001b[0m \u001b[0;34m==\u001b[0m \u001b[0mtarget\u001b[0m\u001b[0;34m\u001b[0m\u001b[0;34m\u001b[0m\u001b[0m\n\u001b[0;32m----> 8\u001b[0;31m     plt.scatter(prin_trans.loc[indicesToKeep, 'princom1'],\n\u001b[0m\u001b[1;32m      9\u001b[0m                 \u001b[0mprin_trans\u001b[0m\u001b[0;34m.\u001b[0m\u001b[0mloc\u001b[0m\u001b[0;34m[\u001b[0m\u001b[0mindicesToKeep\u001b[0m\u001b[0;34m,\u001b[0m \u001b[0;34m'princom2'\u001b[0m\u001b[0;34m]\u001b[0m\u001b[0;34m,\u001b[0m\u001b[0;34m\u001b[0m\u001b[0;34m\u001b[0m\u001b[0m\n\u001b[1;32m     10\u001b[0m                 c = color, s = 50)\n",
      "\u001b[0;32m/opt/anaconda3/envs/LHLBootcamp/lib/python3.6/site-packages/pandas/core/indexing.py\u001b[0m in \u001b[0;36m__getitem__\u001b[0;34m(self, key)\u001b[0m\n\u001b[1;32m    871\u001b[0m                     \u001b[0;31m# AttributeError for IntervalTree get_value\u001b[0m\u001b[0;34m\u001b[0m\u001b[0;34m\u001b[0m\u001b[0;34m\u001b[0m\u001b[0m\n\u001b[1;32m    872\u001b[0m                     \u001b[0;32mpass\u001b[0m\u001b[0;34m\u001b[0m\u001b[0;34m\u001b[0m\u001b[0m\n\u001b[0;32m--> 873\u001b[0;31m             \u001b[0;32mreturn\u001b[0m \u001b[0mself\u001b[0m\u001b[0;34m.\u001b[0m\u001b[0m_getitem_tuple\u001b[0m\u001b[0;34m(\u001b[0m\u001b[0mkey\u001b[0m\u001b[0;34m)\u001b[0m\u001b[0;34m\u001b[0m\u001b[0;34m\u001b[0m\u001b[0m\n\u001b[0m\u001b[1;32m    874\u001b[0m         \u001b[0;32melse\u001b[0m\u001b[0;34m:\u001b[0m\u001b[0;34m\u001b[0m\u001b[0;34m\u001b[0m\u001b[0m\n\u001b[1;32m    875\u001b[0m             \u001b[0;31m# we by definition only have the 0th axis\u001b[0m\u001b[0;34m\u001b[0m\u001b[0;34m\u001b[0m\u001b[0;34m\u001b[0m\u001b[0m\n",
      "\u001b[0;32m/opt/anaconda3/envs/LHLBootcamp/lib/python3.6/site-packages/pandas/core/indexing.py\u001b[0m in \u001b[0;36m_getitem_tuple\u001b[0;34m(self, tup)\u001b[0m\n\u001b[1;32m   1053\u001b[0m             \u001b[0;32mreturn\u001b[0m \u001b[0mself\u001b[0m\u001b[0;34m.\u001b[0m\u001b[0m_multi_take\u001b[0m\u001b[0;34m(\u001b[0m\u001b[0mtup\u001b[0m\u001b[0;34m)\u001b[0m\u001b[0;34m\u001b[0m\u001b[0;34m\u001b[0m\u001b[0m\n\u001b[1;32m   1054\u001b[0m \u001b[0;34m\u001b[0m\u001b[0m\n\u001b[0;32m-> 1055\u001b[0;31m         \u001b[0;32mreturn\u001b[0m \u001b[0mself\u001b[0m\u001b[0;34m.\u001b[0m\u001b[0m_getitem_tuple_same_dim\u001b[0m\u001b[0;34m(\u001b[0m\u001b[0mtup\u001b[0m\u001b[0;34m)\u001b[0m\u001b[0;34m\u001b[0m\u001b[0;34m\u001b[0m\u001b[0m\n\u001b[0m\u001b[1;32m   1056\u001b[0m \u001b[0;34m\u001b[0m\u001b[0m\n\u001b[1;32m   1057\u001b[0m     \u001b[0;32mdef\u001b[0m \u001b[0m_get_label\u001b[0m\u001b[0;34m(\u001b[0m\u001b[0mself\u001b[0m\u001b[0;34m,\u001b[0m \u001b[0mlabel\u001b[0m\u001b[0;34m,\u001b[0m \u001b[0maxis\u001b[0m\u001b[0;34m:\u001b[0m \u001b[0mint\u001b[0m\u001b[0;34m)\u001b[0m\u001b[0;34m:\u001b[0m\u001b[0;34m\u001b[0m\u001b[0;34m\u001b[0m\u001b[0m\n",
      "\u001b[0;32m/opt/anaconda3/envs/LHLBootcamp/lib/python3.6/site-packages/pandas/core/indexing.py\u001b[0m in \u001b[0;36m_getitem_tuple_same_dim\u001b[0;34m(self, tup)\u001b[0m\n\u001b[1;32m    748\u001b[0m                 \u001b[0;32mcontinue\u001b[0m\u001b[0;34m\u001b[0m\u001b[0;34m\u001b[0m\u001b[0m\n\u001b[1;32m    749\u001b[0m \u001b[0;34m\u001b[0m\u001b[0m\n\u001b[0;32m--> 750\u001b[0;31m             \u001b[0mretval\u001b[0m \u001b[0;34m=\u001b[0m \u001b[0mgetattr\u001b[0m\u001b[0;34m(\u001b[0m\u001b[0mretval\u001b[0m\u001b[0;34m,\u001b[0m \u001b[0mself\u001b[0m\u001b[0;34m.\u001b[0m\u001b[0mname\u001b[0m\u001b[0;34m)\u001b[0m\u001b[0;34m.\u001b[0m\u001b[0m_getitem_axis\u001b[0m\u001b[0;34m(\u001b[0m\u001b[0mkey\u001b[0m\u001b[0;34m,\u001b[0m \u001b[0maxis\u001b[0m\u001b[0;34m=\u001b[0m\u001b[0mi\u001b[0m\u001b[0;34m)\u001b[0m\u001b[0;34m\u001b[0m\u001b[0;34m\u001b[0m\u001b[0m\n\u001b[0m\u001b[1;32m    751\u001b[0m             \u001b[0;31m# We should never have retval.ndim < self.ndim, as that should\u001b[0m\u001b[0;34m\u001b[0m\u001b[0;34m\u001b[0m\u001b[0;34m\u001b[0m\u001b[0m\n\u001b[1;32m    752\u001b[0m             \u001b[0;31m#  be handled by the _getitem_lowerdim call above.\u001b[0m\u001b[0;34m\u001b[0m\u001b[0;34m\u001b[0m\u001b[0;34m\u001b[0m\u001b[0m\n",
      "\u001b[0;32m/opt/anaconda3/envs/LHLBootcamp/lib/python3.6/site-packages/pandas/core/indexing.py\u001b[0m in \u001b[0;36m_getitem_axis\u001b[0;34m(self, key, axis)\u001b[0m\n\u001b[1;32m   1088\u001b[0m             \u001b[0;32mreturn\u001b[0m \u001b[0mself\u001b[0m\u001b[0;34m.\u001b[0m\u001b[0m_get_slice_axis\u001b[0m\u001b[0;34m(\u001b[0m\u001b[0mkey\u001b[0m\u001b[0;34m,\u001b[0m \u001b[0maxis\u001b[0m\u001b[0;34m=\u001b[0m\u001b[0maxis\u001b[0m\u001b[0;34m)\u001b[0m\u001b[0;34m\u001b[0m\u001b[0;34m\u001b[0m\u001b[0m\n\u001b[1;32m   1089\u001b[0m         \u001b[0;32melif\u001b[0m \u001b[0mcom\u001b[0m\u001b[0;34m.\u001b[0m\u001b[0mis_bool_indexer\u001b[0m\u001b[0;34m(\u001b[0m\u001b[0mkey\u001b[0m\u001b[0;34m)\u001b[0m\u001b[0;34m:\u001b[0m\u001b[0;34m\u001b[0m\u001b[0;34m\u001b[0m\u001b[0m\n\u001b[0;32m-> 1090\u001b[0;31m             \u001b[0;32mreturn\u001b[0m \u001b[0mself\u001b[0m\u001b[0;34m.\u001b[0m\u001b[0m_getbool_axis\u001b[0m\u001b[0;34m(\u001b[0m\u001b[0mkey\u001b[0m\u001b[0;34m,\u001b[0m \u001b[0maxis\u001b[0m\u001b[0;34m=\u001b[0m\u001b[0maxis\u001b[0m\u001b[0;34m)\u001b[0m\u001b[0;34m\u001b[0m\u001b[0;34m\u001b[0m\u001b[0m\n\u001b[0m\u001b[1;32m   1091\u001b[0m         \u001b[0;32melif\u001b[0m \u001b[0mis_list_like_indexer\u001b[0m\u001b[0;34m(\u001b[0m\u001b[0mkey\u001b[0m\u001b[0;34m)\u001b[0m\u001b[0;34m:\u001b[0m\u001b[0;34m\u001b[0m\u001b[0;34m\u001b[0m\u001b[0m\n\u001b[1;32m   1092\u001b[0m \u001b[0;34m\u001b[0m\u001b[0m\n",
      "\u001b[0;32m/opt/anaconda3/envs/LHLBootcamp/lib/python3.6/site-packages/pandas/core/indexing.py\u001b[0m in \u001b[0;36m_getbool_axis\u001b[0;34m(self, key, axis)\u001b[0m\n\u001b[1;32m    894\u001b[0m         \u001b[0;31m# caller is responsible for ensuring non-None axis\u001b[0m\u001b[0;34m\u001b[0m\u001b[0;34m\u001b[0m\u001b[0;34m\u001b[0m\u001b[0m\n\u001b[1;32m    895\u001b[0m         \u001b[0mlabels\u001b[0m \u001b[0;34m=\u001b[0m \u001b[0mself\u001b[0m\u001b[0;34m.\u001b[0m\u001b[0mobj\u001b[0m\u001b[0;34m.\u001b[0m\u001b[0m_get_axis\u001b[0m\u001b[0;34m(\u001b[0m\u001b[0maxis\u001b[0m\u001b[0;34m)\u001b[0m\u001b[0;34m\u001b[0m\u001b[0;34m\u001b[0m\u001b[0m\n\u001b[0;32m--> 896\u001b[0;31m         \u001b[0mkey\u001b[0m \u001b[0;34m=\u001b[0m \u001b[0mcheck_bool_indexer\u001b[0m\u001b[0;34m(\u001b[0m\u001b[0mlabels\u001b[0m\u001b[0;34m,\u001b[0m \u001b[0mkey\u001b[0m\u001b[0;34m)\u001b[0m\u001b[0;34m\u001b[0m\u001b[0;34m\u001b[0m\u001b[0m\n\u001b[0m\u001b[1;32m    897\u001b[0m         \u001b[0minds\u001b[0m \u001b[0;34m=\u001b[0m \u001b[0mkey\u001b[0m\u001b[0;34m.\u001b[0m\u001b[0mnonzero\u001b[0m\u001b[0;34m(\u001b[0m\u001b[0;34m)\u001b[0m\u001b[0;34m[\u001b[0m\u001b[0;36m0\u001b[0m\u001b[0;34m]\u001b[0m\u001b[0;34m\u001b[0m\u001b[0;34m\u001b[0m\u001b[0m\n\u001b[1;32m    898\u001b[0m         \u001b[0;32mreturn\u001b[0m \u001b[0mself\u001b[0m\u001b[0;34m.\u001b[0m\u001b[0mobj\u001b[0m\u001b[0;34m.\u001b[0m\u001b[0m_take_with_is_copy\u001b[0m\u001b[0;34m(\u001b[0m\u001b[0minds\u001b[0m\u001b[0;34m,\u001b[0m \u001b[0maxis\u001b[0m\u001b[0;34m=\u001b[0m\u001b[0maxis\u001b[0m\u001b[0;34m)\u001b[0m\u001b[0;34m\u001b[0m\u001b[0;34m\u001b[0m\u001b[0m\n",
      "\u001b[0;32m/opt/anaconda3/envs/LHLBootcamp/lib/python3.6/site-packages/pandas/core/indexing.py\u001b[0m in \u001b[0;36mcheck_bool_indexer\u001b[0;34m(index, key)\u001b[0m\n\u001b[1;32m   2181\u001b[0m         \u001b[0;32mif\u001b[0m \u001b[0mmask\u001b[0m\u001b[0;34m.\u001b[0m\u001b[0many\u001b[0m\u001b[0;34m(\u001b[0m\u001b[0;34m)\u001b[0m\u001b[0;34m:\u001b[0m\u001b[0;34m\u001b[0m\u001b[0;34m\u001b[0m\u001b[0m\n\u001b[1;32m   2182\u001b[0m             raise IndexingError(\n\u001b[0;32m-> 2183\u001b[0;31m                 \u001b[0;34m\"Unalignable boolean Series provided as \"\u001b[0m\u001b[0;34m\u001b[0m\u001b[0;34m\u001b[0m\u001b[0m\n\u001b[0m\u001b[1;32m   2184\u001b[0m                 \u001b[0;34m\"indexer (index of the boolean Series and of \"\u001b[0m\u001b[0;34m\u001b[0m\u001b[0;34m\u001b[0m\u001b[0m\n\u001b[1;32m   2185\u001b[0m                 \u001b[0;34m\"the indexed object do not match).\"\u001b[0m\u001b[0;34m\u001b[0m\u001b[0;34m\u001b[0m\u001b[0m\n",
      "\u001b[0;31mIndexingError\u001b[0m: Unalignable boolean Series provided as indexer (index of the boolean Series and of the indexed object do not match)."
     ]
    },
    {
     "data": {
      "image/png": "[encoded data removed]",
      "text/plain": [
       "<Figure size 720x720 with 1 Axes>"
      ]
     },
     "metadata": {
      "needs_background": "light"
     },
     "output_type": "display_data"
    }
   ],
   "source": [
    "plt.figure(figsize=(10,10))\n",
    "plt.xlabel('Principal Component 1')\n",
    "plt.ylabel('Principal Component 2')\n",
    "targets = [0,1,2]\n",
    "colors = ['b','r']\n",
    "for target, color in zip(targets,colors):\n",
    "    indicesToKeep = pca_df['Type'] == target\n",
    "    plt.scatter(prin_trans.loc[indicesToKeep, 'princom1'],\n",
    "                prin_trans.loc[indicesToKeep, 'princom2'],\n",
    "                c = color, s = 50)\n",
    "\n",
    "plt.legend(targets)"
   ]
  },
  {
   "cell_type": "code",
   "execution_count": 312,
   "id": "f0d401fa",
   "metadata": {},
   "outputs": [],
   "source": [
    "#dataframe exluding tier_income\n",
    "pca_df2=copy.deepcopy(pca_df)\n",
    "pca_df2.drop('Tier_income2', axis=1, inplace=True)"
   ]
  },
  {
   "cell_type": "code",
   "execution_count": null,
   "id": "9ca9d55c",
   "metadata": {},
   "outputs": [],
   "source": []
  }
 ],
 "metadata": {
  "kernelspec": {
   "display_name": "LHLBootcamp",
   "language": "python",
   "name": "lhlbootcamp"
  },
  "language_info": {
   "codemirror_mode": {
    "name": "ipython",
    "version": 3
   },
   "file_extension": ".py",
   "mimetype": "text/x-python",
   "name": "python",
   "nbconvert_exporter": "python",
   "pygments_lexer": "ipython3",
   "version": "3.6.13"
  }
 },
 "nbformat": 4,
 "nbformat_minor": 5
}
