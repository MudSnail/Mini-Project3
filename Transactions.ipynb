{
 "cells": [
  {
   "cell_type": "code",
   "execution_count": 1,
   "id": "8a80ce27",
   "metadata": {},
   "outputs": [],
   "source": [
    "#import libraries\n",
    "import seaborn as sns\n",
    "import matplotlib.pyplot as plt\n",
    "import numpy as np\n",
    "import pandas as pd\n",
    "from sklearn.cluster import KMeans\n",
    "from sklearn.cluster import AgglomerativeClustering"
   ]
  },
  {
   "cell_type": "code",
   "execution_count": 92,
   "id": "9163ec2f",
   "metadata": {},
   "outputs": [],
   "source": [
    "#Upload dataframes\n",
    "customer = pd.read_csv('Data/update_customer.csv') #customers\n",
    "transactions = pd.read_csv('Data/twm_transactions.csv', sep=';') #transactions\n",
    "check_trans = pd.read_csv('Data/twm_checking_tran.csv', sep=';') #checking transactions\n",
    "credit_trans = pd.read_csv('Data/twm_credit_tran.csv', sep=';') #credit transactions\n",
    "savings_trans = pd.read_csv('Data/twm_savings_tran.csv', sep=';') #savings transactions"
   ]
  },
  {
   "cell_type": "code",
   "execution_count": 73,
   "id": "a45966d4",
   "metadata": {},
   "outputs": [
    {
     "data": {
      "text/html": [
       "<div>\n",
       "<style scoped>\n",
       "    .dataframe tbody tr th:only-of-type {\n",
       "        vertical-align: middle;\n",
       "    }\n",
       "\n",
       "    .dataframe tbody tr th {\n",
       "        vertical-align: top;\n",
       "    }\n",
       "\n",
       "    .dataframe thead th {\n",
       "        text-align: right;\n",
       "    }\n",
       "</style>\n",
       "<table border=\"1\" class=\"dataframe\">\n",
       "  <thead>\n",
       "    <tr style=\"text-align: right;\">\n",
       "      <th></th>\n",
       "      <th>tran_id</th>\n",
       "      <th>acct_nbr</th>\n",
       "      <th>tran_amt</th>\n",
       "      <th>principal_amt</th>\n",
       "      <th>interest_amt</th>\n",
       "      <th>new_balance</th>\n",
       "      <th>tran_date</th>\n",
       "      <th>tran_time</th>\n",
       "      <th>channel</th>\n",
       "      <th>tran_code</th>\n",
       "    </tr>\n",
       "  </thead>\n",
       "  <tbody>\n",
       "    <tr>\n",
       "      <th>0</th>\n",
       "      <td>27</td>\n",
       "      <td>13625623</td>\n",
       "      <td>0.00</td>\n",
       "      <td>0.00</td>\n",
       "      <td>0.0</td>\n",
       "      <td>3753.34</td>\n",
       "      <td>21.10.1995</td>\n",
       "      <td>121656</td>\n",
       "      <td>A</td>\n",
       "      <td>IQ</td>\n",
       "    </tr>\n",
       "    <tr>\n",
       "      <th>1</th>\n",
       "      <td>97</td>\n",
       "      <td>13628392</td>\n",
       "      <td>0.00</td>\n",
       "      <td>0.00</td>\n",
       "      <td>0.0</td>\n",
       "      <td>254.49</td>\n",
       "      <td>5.2.1995</td>\n",
       "      <td>153053</td>\n",
       "      <td>V</td>\n",
       "      <td>IQ</td>\n",
       "    </tr>\n",
       "    <tr>\n",
       "      <th>2</th>\n",
       "      <td>21</td>\n",
       "      <td>13630842</td>\n",
       "      <td>-97.57</td>\n",
       "      <td>-97.57</td>\n",
       "      <td>0.0</td>\n",
       "      <td>3819.56</td>\n",
       "      <td>23.7.1995</td>\n",
       "      <td>0</td>\n",
       "      <td>P</td>\n",
       "      <td>WD</td>\n",
       "    </tr>\n",
       "    <tr>\n",
       "      <th>3</th>\n",
       "      <td>44</td>\n",
       "      <td>13631412</td>\n",
       "      <td>-0.15</td>\n",
       "      <td>-0.15</td>\n",
       "      <td>0.0</td>\n",
       "      <td>224.05</td>\n",
       "      <td>30.1.1995</td>\n",
       "      <td>0</td>\n",
       "      <td></td>\n",
       "      <td>FK</td>\n",
       "    </tr>\n",
       "    <tr>\n",
       "      <th>4</th>\n",
       "      <td>31</td>\n",
       "      <td>13625722</td>\n",
       "      <td>0.00</td>\n",
       "      <td>0.00</td>\n",
       "      <td>0.0</td>\n",
       "      <td>240.55</td>\n",
       "      <td>25.1.1995</td>\n",
       "      <td>204521</td>\n",
       "      <td>B</td>\n",
       "      <td>IQ</td>\n",
       "    </tr>\n",
       "  </tbody>\n",
       "</table>\n",
       "</div>"
      ],
      "text/plain": [
       "   tran_id  acct_nbr  tran_amt  principal_amt  interest_amt  new_balance  \\\n",
       "0       27  13625623      0.00           0.00           0.0      3753.34   \n",
       "1       97  13628392      0.00           0.00           0.0       254.49   \n",
       "2       21  13630842    -97.57         -97.57           0.0      3819.56   \n",
       "3       44  13631412     -0.15          -0.15           0.0       224.05   \n",
       "4       31  13625722      0.00           0.00           0.0       240.55   \n",
       "\n",
       "    tran_date  tran_time channel tran_code  \n",
       "0  21.10.1995     121656      A       IQ    \n",
       "1    5.2.1995     153053      V       IQ    \n",
       "2   23.7.1995          0      P       WD    \n",
       "3   30.1.1995          0              FK    \n",
       "4   25.1.1995     204521      B       IQ    "
      ]
     },
     "execution_count": 73,
     "metadata": {},
     "output_type": "execute_result"
    }
   ],
   "source": [
    "transactions.head()"
   ]
  },
  {
   "cell_type": "code",
   "execution_count": 54,
   "id": "ceafdb1b",
   "metadata": {},
   "outputs": [
    {
     "data": {
      "text/html": [
       "<div>\n",
       "<style scoped>\n",
       "    .dataframe tbody tr th:only-of-type {\n",
       "        vertical-align: middle;\n",
       "    }\n",
       "\n",
       "    .dataframe tbody tr th {\n",
       "        vertical-align: top;\n",
       "    }\n",
       "\n",
       "    .dataframe thead th {\n",
       "        text-align: right;\n",
       "    }\n",
       "</style>\n",
       "<table border=\"1\" class=\"dataframe\">\n",
       "  <thead>\n",
       "    <tr style=\"text-align: right;\">\n",
       "      <th></th>\n",
       "      <th>cust_id</th>\n",
       "      <th>tran_id</th>\n",
       "      <th>tran_amt</th>\n",
       "      <th>principal_amt</th>\n",
       "      <th>interest_amt</th>\n",
       "      <th>new_balance</th>\n",
       "      <th>tran_date</th>\n",
       "      <th>tran_time</th>\n",
       "      <th>channel</th>\n",
       "      <th>tran_code</th>\n",
       "    </tr>\n",
       "  </thead>\n",
       "  <tbody>\n",
       "    <tr>\n",
       "      <th>7781</th>\n",
       "      <td>1362562</td>\n",
       "      <td>27</td>\n",
       "      <td>0.0</td>\n",
       "      <td>0.0</td>\n",
       "      <td>0.0</td>\n",
       "      <td>3753.34</td>\n",
       "      <td>21.10.1995</td>\n",
       "      <td>121656</td>\n",
       "      <td>A</td>\n",
       "      <td>IQ</td>\n",
       "    </tr>\n",
       "  </tbody>\n",
       "</table>\n",
       "</div>"
      ],
      "text/plain": [
       "      cust_id  tran_id  tran_amt  principal_amt  interest_amt  new_balance  \\\n",
       "7781  1362562       27       0.0            0.0           0.0      3753.34   \n",
       "\n",
       "       tran_date tran_time channel tran_code  \n",
       "7781  21.10.1995    121656      A       IQ    "
      ]
     },
     "execution_count": 54,
     "metadata": {},
     "output_type": "execute_result"
    }
   ],
   "source": [
    "#just testing to check and comparing it to transactions, all good\n",
    "savings_trans.loc[(savings_trans['tran_date']=='21.10.1995') & (savings_trans['tran_id']==27)]"
   ]
  },
  {
   "cell_type": "markdown",
   "id": "db37e4fb",
   "metadata": {},
   "source": [
    "## prep sub plots for joining"
   ]
  },
  {
   "cell_type": "code",
   "execution_count": 93,
   "id": "b577131f",
   "metadata": {
    "scrolled": true
   },
   "outputs": [
    {
     "data": {
      "text/html": [
       "<div>\n",
       "<style scoped>\n",
       "    .dataframe tbody tr th:only-of-type {\n",
       "        vertical-align: middle;\n",
       "    }\n",
       "\n",
       "    .dataframe tbody tr th {\n",
       "        vertical-align: top;\n",
       "    }\n",
       "\n",
       "    .dataframe thead th {\n",
       "        text-align: right;\n",
       "    }\n",
       "</style>\n",
       "<table border=\"1\" class=\"dataframe\">\n",
       "  <thead>\n",
       "    <tr style=\"text-align: right;\">\n",
       "      <th></th>\n",
       "      <th>cust_id</th>\n",
       "      <th>tran_id</th>\n",
       "      <th>tran_amt</th>\n",
       "      <th>principal_amt</th>\n",
       "      <th>interest_amt</th>\n",
       "      <th>new_balance</th>\n",
       "      <th>tran_date</th>\n",
       "      <th>tran_time</th>\n",
       "      <th>channel</th>\n",
       "      <th>tran_code</th>\n",
       "    </tr>\n",
       "  </thead>\n",
       "  <tbody>\n",
       "    <tr>\n",
       "      <th>0</th>\n",
       "      <td>1363481</td>\n",
       "      <td>26</td>\n",
       "      <td>-0.15</td>\n",
       "      <td>-0.15</td>\n",
       "      <td>0.0</td>\n",
       "      <td>58.99</td>\n",
       "      <td>29.1.1995</td>\n",
       "      <td></td>\n",
       "      <td></td>\n",
       "      <td>FK</td>\n",
       "    </tr>\n",
       "    <tr>\n",
       "      <th>1</th>\n",
       "      <td>1362784</td>\n",
       "      <td>90</td>\n",
       "      <td>-200.00</td>\n",
       "      <td>-200.00</td>\n",
       "      <td>0.0</td>\n",
       "      <td>1380.69</td>\n",
       "      <td>2.7.1995</td>\n",
       "      <td>53313</td>\n",
       "      <td>A</td>\n",
       "      <td>WD</td>\n",
       "    </tr>\n",
       "    <tr>\n",
       "      <th>2</th>\n",
       "      <td>1363088</td>\n",
       "      <td>46</td>\n",
       "      <td>0.00</td>\n",
       "      <td>0.00</td>\n",
       "      <td>0.0</td>\n",
       "      <td>128.35</td>\n",
       "      <td>26.3.1995</td>\n",
       "      <td>834</td>\n",
       "      <td>A</td>\n",
       "      <td>IQ</td>\n",
       "    </tr>\n",
       "    <tr>\n",
       "      <th>3</th>\n",
       "      <td>1363306</td>\n",
       "      <td>32</td>\n",
       "      <td>-40.32</td>\n",
       "      <td>-40.32</td>\n",
       "      <td>0.0</td>\n",
       "      <td>433.06</td>\n",
       "      <td>29.1.1995</td>\n",
       "      <td></td>\n",
       "      <td>P</td>\n",
       "      <td>WD</td>\n",
       "    </tr>\n",
       "    <tr>\n",
       "      <th>4</th>\n",
       "      <td>1363251</td>\n",
       "      <td>11</td>\n",
       "      <td>-87.88</td>\n",
       "      <td>-87.88</td>\n",
       "      <td>0.0</td>\n",
       "      <td>1919.55</td>\n",
       "      <td>8.2.1995</td>\n",
       "      <td></td>\n",
       "      <td>P</td>\n",
       "      <td>WD</td>\n",
       "    </tr>\n",
       "  </tbody>\n",
       "</table>\n",
       "</div>"
      ],
      "text/plain": [
       "   cust_id  tran_id  tran_amt  principal_amt  interest_amt  new_balance  \\\n",
       "0  1363481       26     -0.15          -0.15           0.0        58.99   \n",
       "1  1362784       90   -200.00        -200.00           0.0      1380.69   \n",
       "2  1363088       46      0.00           0.00           0.0       128.35   \n",
       "3  1363306       32    -40.32         -40.32           0.0       433.06   \n",
       "4  1363251       11    -87.88         -87.88           0.0      1919.55   \n",
       "\n",
       "   tran_date     tran_time channel tran_code  \n",
       "0  29.1.1995                            FK    \n",
       "1   2.7.1995         53313      A       WD    \n",
       "2  26.3.1995           834      A       IQ    \n",
       "3  29.1.1995                    P       WD    \n",
       "4   8.2.1995                    P       WD    "
      ]
     },
     "execution_count": 93,
     "metadata": {},
     "output_type": "execute_result"
    }
   ],
   "source": [
    "check_trans.head()"
   ]
  },
  {
   "cell_type": "code",
   "execution_count": 57,
   "id": "aa4891a6",
   "metadata": {},
   "outputs": [],
   "source": [
    "#Drop columns that aren't needed. ie. Noise\n",
    "check_trans.drop('tran_amt', axis=1, inplace=True)\n",
    "check_trans.drop('principal_amt', axis=1, inplace=True) \n",
    "check_trans.drop('interest_amt', axis=1, inplace=True) \n",
    "check_trans.drop('new_balance', axis=1, inplace=True)\n",
    "check_trans.drop('tran_date', axis=1, inplace=True)\n",
    "check_trans.drop('tran_time', axis=1, inplace=True) \n",
    "check_trans.drop('channel', axis=1, inplace=True)\n",
    "check_trans.drop('tran_code', axis=1, inplace=True)"
   ]
  },
  {
   "cell_type": "code",
   "execution_count": 94,
   "id": "770c16e3",
   "metadata": {},
   "outputs": [],
   "source": [
    "#add column Type and assign checking to all\n",
    "check_trans = check_trans.assign(Type='Checking')"
   ]
  },
  {
   "cell_type": "code",
   "execution_count": 95,
   "id": "81a02b39",
   "metadata": {},
   "outputs": [
    {
     "data": {
      "text/html": [
       "<div>\n",
       "<style scoped>\n",
       "    .dataframe tbody tr th:only-of-type {\n",
       "        vertical-align: middle;\n",
       "    }\n",
       "\n",
       "    .dataframe tbody tr th {\n",
       "        vertical-align: top;\n",
       "    }\n",
       "\n",
       "    .dataframe thead th {\n",
       "        text-align: right;\n",
       "    }\n",
       "</style>\n",
       "<table border=\"1\" class=\"dataframe\">\n",
       "  <thead>\n",
       "    <tr style=\"text-align: right;\">\n",
       "      <th></th>\n",
       "      <th>cust_id</th>\n",
       "      <th>tran_id</th>\n",
       "      <th>tran_amt</th>\n",
       "      <th>principal_amt</th>\n",
       "      <th>interest_amt</th>\n",
       "      <th>new_balance</th>\n",
       "      <th>tran_date</th>\n",
       "      <th>tran_time</th>\n",
       "      <th>channel</th>\n",
       "      <th>tran_code</th>\n",
       "      <th>Type</th>\n",
       "    </tr>\n",
       "  </thead>\n",
       "  <tbody>\n",
       "    <tr>\n",
       "      <th>0</th>\n",
       "      <td>1363481</td>\n",
       "      <td>26</td>\n",
       "      <td>-0.15</td>\n",
       "      <td>-0.15</td>\n",
       "      <td>0.0</td>\n",
       "      <td>58.99</td>\n",
       "      <td>29.1.1995</td>\n",
       "      <td></td>\n",
       "      <td></td>\n",
       "      <td>FK</td>\n",
       "      <td>Checking</td>\n",
       "    </tr>\n",
       "    <tr>\n",
       "      <th>1</th>\n",
       "      <td>1362784</td>\n",
       "      <td>90</td>\n",
       "      <td>-200.00</td>\n",
       "      <td>-200.00</td>\n",
       "      <td>0.0</td>\n",
       "      <td>1380.69</td>\n",
       "      <td>2.7.1995</td>\n",
       "      <td>53313</td>\n",
       "      <td>A</td>\n",
       "      <td>WD</td>\n",
       "      <td>Checking</td>\n",
       "    </tr>\n",
       "    <tr>\n",
       "      <th>2</th>\n",
       "      <td>1363088</td>\n",
       "      <td>46</td>\n",
       "      <td>0.00</td>\n",
       "      <td>0.00</td>\n",
       "      <td>0.0</td>\n",
       "      <td>128.35</td>\n",
       "      <td>26.3.1995</td>\n",
       "      <td>834</td>\n",
       "      <td>A</td>\n",
       "      <td>IQ</td>\n",
       "      <td>Checking</td>\n",
       "    </tr>\n",
       "    <tr>\n",
       "      <th>3</th>\n",
       "      <td>1363306</td>\n",
       "      <td>32</td>\n",
       "      <td>-40.32</td>\n",
       "      <td>-40.32</td>\n",
       "      <td>0.0</td>\n",
       "      <td>433.06</td>\n",
       "      <td>29.1.1995</td>\n",
       "      <td></td>\n",
       "      <td>P</td>\n",
       "      <td>WD</td>\n",
       "      <td>Checking</td>\n",
       "    </tr>\n",
       "    <tr>\n",
       "      <th>4</th>\n",
       "      <td>1363251</td>\n",
       "      <td>11</td>\n",
       "      <td>-87.88</td>\n",
       "      <td>-87.88</td>\n",
       "      <td>0.0</td>\n",
       "      <td>1919.55</td>\n",
       "      <td>8.2.1995</td>\n",
       "      <td></td>\n",
       "      <td>P</td>\n",
       "      <td>WD</td>\n",
       "      <td>Checking</td>\n",
       "    </tr>\n",
       "    <tr>\n",
       "      <th>...</th>\n",
       "      <td>...</td>\n",
       "      <td>...</td>\n",
       "      <td>...</td>\n",
       "      <td>...</td>\n",
       "      <td>...</td>\n",
       "      <td>...</td>\n",
       "      <td>...</td>\n",
       "      <td>...</td>\n",
       "      <td>...</td>\n",
       "      <td>...</td>\n",
       "      <td>...</td>\n",
       "    </tr>\n",
       "    <tr>\n",
       "      <th>46199</th>\n",
       "      <td>1363272</td>\n",
       "      <td>50</td>\n",
       "      <td>-0.15</td>\n",
       "      <td>-0.15</td>\n",
       "      <td>0.0</td>\n",
       "      <td>319.71</td>\n",
       "      <td>3.10.1995</td>\n",
       "      <td></td>\n",
       "      <td></td>\n",
       "      <td>FK</td>\n",
       "      <td>Checking</td>\n",
       "    </tr>\n",
       "    <tr>\n",
       "      <th>46200</th>\n",
       "      <td>1363393</td>\n",
       "      <td>61</td>\n",
       "      <td>-102.52</td>\n",
       "      <td>-102.52</td>\n",
       "      <td>0.0</td>\n",
       "      <td>57.47</td>\n",
       "      <td>22.1.1995</td>\n",
       "      <td></td>\n",
       "      <td>P</td>\n",
       "      <td>WD</td>\n",
       "      <td>Checking</td>\n",
       "    </tr>\n",
       "    <tr>\n",
       "      <th>46201</th>\n",
       "      <td>1363365</td>\n",
       "      <td>25</td>\n",
       "      <td>-275.89</td>\n",
       "      <td>-275.89</td>\n",
       "      <td>0.0</td>\n",
       "      <td>2632.93</td>\n",
       "      <td>8.1.1995</td>\n",
       "      <td></td>\n",
       "      <td>P</td>\n",
       "      <td>WD</td>\n",
       "      <td>Checking</td>\n",
       "    </tr>\n",
       "    <tr>\n",
       "      <th>46202</th>\n",
       "      <td>1363031</td>\n",
       "      <td>73</td>\n",
       "      <td>-0.15</td>\n",
       "      <td>-0.15</td>\n",
       "      <td>0.0</td>\n",
       "      <td>1103.47</td>\n",
       "      <td>23.1.1995</td>\n",
       "      <td></td>\n",
       "      <td></td>\n",
       "      <td>FK</td>\n",
       "      <td>Checking</td>\n",
       "    </tr>\n",
       "    <tr>\n",
       "      <th>46203</th>\n",
       "      <td>1363011</td>\n",
       "      <td>6</td>\n",
       "      <td>1261.26</td>\n",
       "      <td>1261.26</td>\n",
       "      <td>0.0</td>\n",
       "      <td>13654.61</td>\n",
       "      <td>7.1.1995</td>\n",
       "      <td>94214</td>\n",
       "      <td>B</td>\n",
       "      <td>DP</td>\n",
       "      <td>Checking</td>\n",
       "    </tr>\n",
       "  </tbody>\n",
       "</table>\n",
       "<p>46204 rows × 11 columns</p>\n",
       "</div>"
      ],
      "text/plain": [
       "       cust_id  tran_id  tran_amt  principal_amt  interest_amt  new_balance  \\\n",
       "0      1363481       26     -0.15          -0.15           0.0        58.99   \n",
       "1      1362784       90   -200.00        -200.00           0.0      1380.69   \n",
       "2      1363088       46      0.00           0.00           0.0       128.35   \n",
       "3      1363306       32    -40.32         -40.32           0.0       433.06   \n",
       "4      1363251       11    -87.88         -87.88           0.0      1919.55   \n",
       "...        ...      ...       ...            ...           ...          ...   \n",
       "46199  1363272       50     -0.15          -0.15           0.0       319.71   \n",
       "46200  1363393       61   -102.52        -102.52           0.0        57.47   \n",
       "46201  1363365       25   -275.89        -275.89           0.0      2632.93   \n",
       "46202  1363031       73     -0.15          -0.15           0.0      1103.47   \n",
       "46203  1363011        6   1261.26        1261.26           0.0     13654.61   \n",
       "\n",
       "       tran_date     tran_time channel tran_code      Type  \n",
       "0      29.1.1995                            FK    Checking  \n",
       "1       2.7.1995         53313      A       WD    Checking  \n",
       "2      26.3.1995           834      A       IQ    Checking  \n",
       "3      29.1.1995                    P       WD    Checking  \n",
       "4       8.2.1995                    P       WD    Checking  \n",
       "...          ...           ...     ...       ...       ...  \n",
       "46199  3.10.1995                            FK    Checking  \n",
       "46200  22.1.1995                    P       WD    Checking  \n",
       "46201   8.1.1995                    P       WD    Checking  \n",
       "46202  23.1.1995                            FK    Checking  \n",
       "46203   7.1.1995         94214      B       DP    Checking  \n",
       "\n",
       "[46204 rows x 11 columns]"
      ]
     },
     "execution_count": 95,
     "metadata": {},
     "output_type": "execute_result"
    }
   ],
   "source": [
    "check_trans"
   ]
  },
  {
   "cell_type": "code",
   "execution_count": 60,
   "id": "1cd84ed3",
   "metadata": {},
   "outputs": [
    {
     "data": {
      "text/html": [
       "<div>\n",
       "<style scoped>\n",
       "    .dataframe tbody tr th:only-of-type {\n",
       "        vertical-align: middle;\n",
       "    }\n",
       "\n",
       "    .dataframe tbody tr th {\n",
       "        vertical-align: top;\n",
       "    }\n",
       "\n",
       "    .dataframe thead th {\n",
       "        text-align: right;\n",
       "    }\n",
       "</style>\n",
       "<table border=\"1\" class=\"dataframe\">\n",
       "  <thead>\n",
       "    <tr style=\"text-align: right;\">\n",
       "      <th></th>\n",
       "      <th>cust_id</th>\n",
       "      <th>tran_id</th>\n",
       "      <th>tran_amt</th>\n",
       "      <th>principal_amt</th>\n",
       "      <th>interest_amt</th>\n",
       "      <th>new_balance</th>\n",
       "      <th>tran_date</th>\n",
       "      <th>tran_time</th>\n",
       "      <th>channel</th>\n",
       "      <th>tran_code</th>\n",
       "    </tr>\n",
       "  </thead>\n",
       "  <tbody>\n",
       "    <tr>\n",
       "      <th>0</th>\n",
       "      <td>1363088</td>\n",
       "      <td>46</td>\n",
       "      <td>-121.49</td>\n",
       "      <td>-121.49</td>\n",
       "      <td>0.0</td>\n",
       "      <td>-141.00</td>\n",
       "      <td>20.10.1995</td>\n",
       "      <td>101144</td>\n",
       "      <td>E</td>\n",
       "      <td>CG</td>\n",
       "    </tr>\n",
       "    <tr>\n",
       "      <th>1</th>\n",
       "      <td>1363306</td>\n",
       "      <td>32</td>\n",
       "      <td>-220.64</td>\n",
       "      <td>-220.64</td>\n",
       "      <td>0.0</td>\n",
       "      <td>-520.13</td>\n",
       "      <td>13.10.1995</td>\n",
       "      <td>83115</td>\n",
       "      <td>E</td>\n",
       "      <td>CG</td>\n",
       "    </tr>\n",
       "    <tr>\n",
       "      <th>2</th>\n",
       "      <td>1362959</td>\n",
       "      <td>10</td>\n",
       "      <td>0.00</td>\n",
       "      <td>0.00</td>\n",
       "      <td>0.0</td>\n",
       "      <td>-3900.00</td>\n",
       "      <td>26.2.1995</td>\n",
       "      <td>84129</td>\n",
       "      <td>K</td>\n",
       "      <td>IQ</td>\n",
       "    </tr>\n",
       "    <tr>\n",
       "      <th>3</th>\n",
       "      <td>1363429</td>\n",
       "      <td>13</td>\n",
       "      <td>-195.27</td>\n",
       "      <td>-195.27</td>\n",
       "      <td>0.0</td>\n",
       "      <td>-1739.74</td>\n",
       "      <td>3.1.1995</td>\n",
       "      <td>191815</td>\n",
       "      <td>E</td>\n",
       "      <td>CG</td>\n",
       "    </tr>\n",
       "    <tr>\n",
       "      <th>4</th>\n",
       "      <td>1363393</td>\n",
       "      <td>14</td>\n",
       "      <td>-37.32</td>\n",
       "      <td>-37.32</td>\n",
       "      <td>0.0</td>\n",
       "      <td>-198.98</td>\n",
       "      <td>4.7.1995</td>\n",
       "      <td>100811</td>\n",
       "      <td>E</td>\n",
       "      <td>CG</td>\n",
       "    </tr>\n",
       "  </tbody>\n",
       "</table>\n",
       "</div>"
      ],
      "text/plain": [
       "   cust_id  tran_id  tran_amt  principal_amt  interest_amt  new_balance  \\\n",
       "0  1363088       46   -121.49        -121.49           0.0      -141.00   \n",
       "1  1363306       32   -220.64        -220.64           0.0      -520.13   \n",
       "2  1362959       10      0.00           0.00           0.0     -3900.00   \n",
       "3  1363429       13   -195.27        -195.27           0.0     -1739.74   \n",
       "4  1363393       14    -37.32         -37.32           0.0      -198.98   \n",
       "\n",
       "    tran_date tran_time channel tran_code  \n",
       "0  20.10.1995    101144      E       CG    \n",
       "1  13.10.1995     83115      E       CG    \n",
       "2   26.2.1995     84129      K       IQ    \n",
       "3    3.1.1995    191815      E       CG    \n",
       "4    4.7.1995    100811      E       CG    "
      ]
     },
     "execution_count": 60,
     "metadata": {},
     "output_type": "execute_result"
    }
   ],
   "source": [
    "credit_trans.head()"
   ]
  },
  {
   "cell_type": "code",
   "execution_count": 96,
   "id": "93ec5f71",
   "metadata": {},
   "outputs": [
    {
     "data": {
      "text/html": [
       "<div>\n",
       "<style scoped>\n",
       "    .dataframe tbody tr th:only-of-type {\n",
       "        vertical-align: middle;\n",
       "    }\n",
       "\n",
       "    .dataframe tbody tr th {\n",
       "        vertical-align: top;\n",
       "    }\n",
       "\n",
       "    .dataframe thead th {\n",
       "        text-align: right;\n",
       "    }\n",
       "</style>\n",
       "<table border=\"1\" class=\"dataframe\">\n",
       "  <thead>\n",
       "    <tr style=\"text-align: right;\">\n",
       "      <th></th>\n",
       "      <th>cust_id</th>\n",
       "      <th>tran_id</th>\n",
       "      <th>tran_amt</th>\n",
       "      <th>principal_amt</th>\n",
       "      <th>interest_amt</th>\n",
       "      <th>new_balance</th>\n",
       "      <th>tran_date</th>\n",
       "      <th>tran_time</th>\n",
       "      <th>channel</th>\n",
       "      <th>tran_code</th>\n",
       "      <th>Type</th>\n",
       "    </tr>\n",
       "  </thead>\n",
       "  <tbody>\n",
       "    <tr>\n",
       "      <th>0</th>\n",
       "      <td>1363088</td>\n",
       "      <td>46</td>\n",
       "      <td>-121.49</td>\n",
       "      <td>-121.49</td>\n",
       "      <td>0.0</td>\n",
       "      <td>-141.00</td>\n",
       "      <td>20.10.1995</td>\n",
       "      <td>101144</td>\n",
       "      <td>E</td>\n",
       "      <td>CG</td>\n",
       "      <td>Credit</td>\n",
       "    </tr>\n",
       "    <tr>\n",
       "      <th>1</th>\n",
       "      <td>1363306</td>\n",
       "      <td>32</td>\n",
       "      <td>-220.64</td>\n",
       "      <td>-220.64</td>\n",
       "      <td>0.0</td>\n",
       "      <td>-520.13</td>\n",
       "      <td>13.10.1995</td>\n",
       "      <td>83115</td>\n",
       "      <td>E</td>\n",
       "      <td>CG</td>\n",
       "      <td>Credit</td>\n",
       "    </tr>\n",
       "    <tr>\n",
       "      <th>2</th>\n",
       "      <td>1362959</td>\n",
       "      <td>10</td>\n",
       "      <td>0.00</td>\n",
       "      <td>0.00</td>\n",
       "      <td>0.0</td>\n",
       "      <td>-3900.00</td>\n",
       "      <td>26.2.1995</td>\n",
       "      <td>84129</td>\n",
       "      <td>K</td>\n",
       "      <td>IQ</td>\n",
       "      <td>Credit</td>\n",
       "    </tr>\n",
       "    <tr>\n",
       "      <th>3</th>\n",
       "      <td>1363429</td>\n",
       "      <td>13</td>\n",
       "      <td>-195.27</td>\n",
       "      <td>-195.27</td>\n",
       "      <td>0.0</td>\n",
       "      <td>-1739.74</td>\n",
       "      <td>3.1.1995</td>\n",
       "      <td>191815</td>\n",
       "      <td>E</td>\n",
       "      <td>CG</td>\n",
       "      <td>Credit</td>\n",
       "    </tr>\n",
       "    <tr>\n",
       "      <th>4</th>\n",
       "      <td>1363393</td>\n",
       "      <td>14</td>\n",
       "      <td>-37.32</td>\n",
       "      <td>-37.32</td>\n",
       "      <td>0.0</td>\n",
       "      <td>-198.98</td>\n",
       "      <td>4.7.1995</td>\n",
       "      <td>100811</td>\n",
       "      <td>E</td>\n",
       "      <td>CG</td>\n",
       "      <td>Credit</td>\n",
       "    </tr>\n",
       "    <tr>\n",
       "      <th>...</th>\n",
       "      <td>...</td>\n",
       "      <td>...</td>\n",
       "      <td>...</td>\n",
       "      <td>...</td>\n",
       "      <td>...</td>\n",
       "      <td>...</td>\n",
       "      <td>...</td>\n",
       "      <td>...</td>\n",
       "      <td>...</td>\n",
       "      <td>...</td>\n",
       "      <td>...</td>\n",
       "    </tr>\n",
       "    <tr>\n",
       "      <th>20162</th>\n",
       "      <td>1363002</td>\n",
       "      <td>60</td>\n",
       "      <td>-94.52</td>\n",
       "      <td>-94.52</td>\n",
       "      <td>0.0</td>\n",
       "      <td>-3733.22</td>\n",
       "      <td>20.5.1995</td>\n",
       "      <td>224723</td>\n",
       "      <td>E</td>\n",
       "      <td>CG</td>\n",
       "      <td>Credit</td>\n",
       "    </tr>\n",
       "    <tr>\n",
       "      <th>20163</th>\n",
       "      <td>1362995</td>\n",
       "      <td>36</td>\n",
       "      <td>0.00</td>\n",
       "      <td>0.00</td>\n",
       "      <td>0.0</td>\n",
       "      <td>-2300.00</td>\n",
       "      <td>28.9.1995</td>\n",
       "      <td>142011</td>\n",
       "      <td>B</td>\n",
       "      <td>IQ</td>\n",
       "      <td>Credit</td>\n",
       "    </tr>\n",
       "    <tr>\n",
       "      <th>20164</th>\n",
       "      <td>1363196</td>\n",
       "      <td>39</td>\n",
       "      <td>-100.00</td>\n",
       "      <td>-100.00</td>\n",
       "      <td>0.0</td>\n",
       "      <td>-289.91</td>\n",
       "      <td>12.5.1995</td>\n",
       "      <td>152852</td>\n",
       "      <td>A</td>\n",
       "      <td>CA</td>\n",
       "      <td>Credit</td>\n",
       "    </tr>\n",
       "    <tr>\n",
       "      <th>20165</th>\n",
       "      <td>1363393</td>\n",
       "      <td>61</td>\n",
       "      <td>-63.04</td>\n",
       "      <td>-63.04</td>\n",
       "      <td>0.0</td>\n",
       "      <td>-736.70</td>\n",
       "      <td>16.10.1995</td>\n",
       "      <td>145535</td>\n",
       "      <td>E</td>\n",
       "      <td>CG</td>\n",
       "      <td>Credit</td>\n",
       "    </tr>\n",
       "    <tr>\n",
       "      <th>20166</th>\n",
       "      <td>1363011</td>\n",
       "      <td>6</td>\n",
       "      <td>0.00</td>\n",
       "      <td>0.00</td>\n",
       "      <td>0.0</td>\n",
       "      <td>-1612.91</td>\n",
       "      <td>2.2.1995</td>\n",
       "      <td>51628</td>\n",
       "      <td>C</td>\n",
       "      <td>IQ</td>\n",
       "      <td>Credit</td>\n",
       "    </tr>\n",
       "  </tbody>\n",
       "</table>\n",
       "<p>20167 rows × 11 columns</p>\n",
       "</div>"
      ],
      "text/plain": [
       "       cust_id  tran_id  tran_amt  principal_amt  interest_amt  new_balance  \\\n",
       "0      1363088       46   -121.49        -121.49           0.0      -141.00   \n",
       "1      1363306       32   -220.64        -220.64           0.0      -520.13   \n",
       "2      1362959       10      0.00           0.00           0.0     -3900.00   \n",
       "3      1363429       13   -195.27        -195.27           0.0     -1739.74   \n",
       "4      1363393       14    -37.32         -37.32           0.0      -198.98   \n",
       "...        ...      ...       ...            ...           ...          ...   \n",
       "20162  1363002       60    -94.52         -94.52           0.0     -3733.22   \n",
       "20163  1362995       36      0.00           0.00           0.0     -2300.00   \n",
       "20164  1363196       39   -100.00        -100.00           0.0      -289.91   \n",
       "20165  1363393       61    -63.04         -63.04           0.0      -736.70   \n",
       "20166  1363011        6      0.00           0.00           0.0     -1612.91   \n",
       "\n",
       "        tran_date tran_time channel tran_code    Type  \n",
       "0      20.10.1995    101144      E       CG    Credit  \n",
       "1      13.10.1995     83115      E       CG    Credit  \n",
       "2       26.2.1995     84129      K       IQ    Credit  \n",
       "3        3.1.1995    191815      E       CG    Credit  \n",
       "4        4.7.1995    100811      E       CG    Credit  \n",
       "...           ...       ...     ...       ...     ...  \n",
       "20162   20.5.1995    224723      E       CG    Credit  \n",
       "20163   28.9.1995    142011      B       IQ    Credit  \n",
       "20164   12.5.1995    152852      A       CA    Credit  \n",
       "20165  16.10.1995    145535      E       CG    Credit  \n",
       "20166    2.2.1995     51628      C       IQ    Credit  \n",
       "\n",
       "[20167 rows x 11 columns]"
      ]
     },
     "execution_count": 96,
     "metadata": {},
     "output_type": "execute_result"
    }
   ],
   "source": [
    "#Drop columns that aren't needed. ie. Noise\n",
    "#credit_trans.drop('tran_amt', axis=1, inplace=True)\n",
    "#credit_trans.drop('principal_amt', axis=1, inplace=True) \n",
    "#credit_trans.drop('interest_amt', axis=1, inplace=True) \n",
    "#credit_trans.drop('new_balance', axis=1, inplace=True)\n",
    "#credit_trans.drop('tran_date', axis=1, inplace=True)\n",
    "#credit_trans.drop('tran_time', axis=1, inplace=True) \n",
    "#credit_trans.drop('channel', axis=1, inplace=True)\n",
    "#credit_trans.drop('tran_code', axis=1, inplace=True)\n",
    "\n",
    "#add column Type and assign checking to all\n",
    "credit_trans = credit_trans.assign(Type='Credit')\n",
    "\n",
    "#see new table\n",
    "credit_trans"
   ]
  },
  {
   "cell_type": "code",
   "execution_count": 62,
   "id": "a85f1f34",
   "metadata": {},
   "outputs": [
    {
     "data": {
      "text/html": [
       "<div>\n",
       "<style scoped>\n",
       "    .dataframe tbody tr th:only-of-type {\n",
       "        vertical-align: middle;\n",
       "    }\n",
       "\n",
       "    .dataframe tbody tr th {\n",
       "        vertical-align: top;\n",
       "    }\n",
       "\n",
       "    .dataframe thead th {\n",
       "        text-align: right;\n",
       "    }\n",
       "</style>\n",
       "<table border=\"1\" class=\"dataframe\">\n",
       "  <thead>\n",
       "    <tr style=\"text-align: right;\">\n",
       "      <th></th>\n",
       "      <th>cust_id</th>\n",
       "      <th>tran_id</th>\n",
       "      <th>tran_amt</th>\n",
       "      <th>principal_amt</th>\n",
       "      <th>interest_amt</th>\n",
       "      <th>new_balance</th>\n",
       "      <th>tran_date</th>\n",
       "      <th>tran_time</th>\n",
       "      <th>channel</th>\n",
       "      <th>tran_code</th>\n",
       "    </tr>\n",
       "  </thead>\n",
       "  <tbody>\n",
       "    <tr>\n",
       "      <th>0</th>\n",
       "      <td>1363481</td>\n",
       "      <td>26</td>\n",
       "      <td>136.03</td>\n",
       "      <td>136.03</td>\n",
       "      <td>0.00</td>\n",
       "      <td>1521.57</td>\n",
       "      <td>26.10.1995</td>\n",
       "      <td>84111</td>\n",
       "      <td>A</td>\n",
       "      <td>DP</td>\n",
       "    </tr>\n",
       "    <tr>\n",
       "      <th>1</th>\n",
       "      <td>1362746</td>\n",
       "      <td>1</td>\n",
       "      <td>2.83</td>\n",
       "      <td>0.00</td>\n",
       "      <td>2.83</td>\n",
       "      <td>2265.90</td>\n",
       "      <td>31.1.1995</td>\n",
       "      <td>235959</td>\n",
       "      <td></td>\n",
       "      <td>IN</td>\n",
       "    </tr>\n",
       "    <tr>\n",
       "      <th>2</th>\n",
       "      <td>1363251</td>\n",
       "      <td>11</td>\n",
       "      <td>13.56</td>\n",
       "      <td>0.00</td>\n",
       "      <td>13.56</td>\n",
       "      <td>5438.90</td>\n",
       "      <td>30.4.1995</td>\n",
       "      <td>235959</td>\n",
       "      <td></td>\n",
       "      <td>IN</td>\n",
       "    </tr>\n",
       "    <tr>\n",
       "      <th>3</th>\n",
       "      <td>1362542</td>\n",
       "      <td>4</td>\n",
       "      <td>0.76</td>\n",
       "      <td>0.00</td>\n",
       "      <td>0.76</td>\n",
       "      <td>610.92</td>\n",
       "      <td>30.4.1995</td>\n",
       "      <td>235959</td>\n",
       "      <td></td>\n",
       "      <td>IN</td>\n",
       "    </tr>\n",
       "    <tr>\n",
       "      <th>4</th>\n",
       "      <td>1363387</td>\n",
       "      <td>11</td>\n",
       "      <td>148.69</td>\n",
       "      <td>148.69</td>\n",
       "      <td>0.00</td>\n",
       "      <td>470.05</td>\n",
       "      <td>21.5.1995</td>\n",
       "      <td>144736</td>\n",
       "      <td>E</td>\n",
       "      <td>DP</td>\n",
       "    </tr>\n",
       "  </tbody>\n",
       "</table>\n",
       "</div>"
      ],
      "text/plain": [
       "   cust_id  tran_id  tran_amt  principal_amt  interest_amt  new_balance  \\\n",
       "0  1363481       26    136.03         136.03          0.00      1521.57   \n",
       "1  1362746        1      2.83           0.00          2.83      2265.90   \n",
       "2  1363251       11     13.56           0.00         13.56      5438.90   \n",
       "3  1362542        4      0.76           0.00          0.76       610.92   \n",
       "4  1363387       11    148.69         148.69          0.00       470.05   \n",
       "\n",
       "    tran_date tran_time channel tran_code  \n",
       "0  26.10.1995     84111      A       DP    \n",
       "1   31.1.1995    235959              IN    \n",
       "2   30.4.1995    235959              IN    \n",
       "3   30.4.1995    235959              IN    \n",
       "4   21.5.1995    144736      E       DP    "
      ]
     },
     "execution_count": 62,
     "metadata": {},
     "output_type": "execute_result"
    }
   ],
   "source": [
    "savings_trans.head()"
   ]
  },
  {
   "cell_type": "code",
   "execution_count": 97,
   "id": "31c4e171",
   "metadata": {},
   "outputs": [
    {
     "data": {
      "text/html": [
       "<div>\n",
       "<style scoped>\n",
       "    .dataframe tbody tr th:only-of-type {\n",
       "        vertical-align: middle;\n",
       "    }\n",
       "\n",
       "    .dataframe tbody tr th {\n",
       "        vertical-align: top;\n",
       "    }\n",
       "\n",
       "    .dataframe thead th {\n",
       "        text-align: right;\n",
       "    }\n",
       "</style>\n",
       "<table border=\"1\" class=\"dataframe\">\n",
       "  <thead>\n",
       "    <tr style=\"text-align: right;\">\n",
       "      <th></th>\n",
       "      <th>cust_id</th>\n",
       "      <th>tran_id</th>\n",
       "      <th>tran_amt</th>\n",
       "      <th>principal_amt</th>\n",
       "      <th>interest_amt</th>\n",
       "      <th>new_balance</th>\n",
       "      <th>tran_date</th>\n",
       "      <th>tran_time</th>\n",
       "      <th>channel</th>\n",
       "      <th>tran_code</th>\n",
       "      <th>Type</th>\n",
       "    </tr>\n",
       "  </thead>\n",
       "  <tbody>\n",
       "    <tr>\n",
       "      <th>0</th>\n",
       "      <td>1363481</td>\n",
       "      <td>26</td>\n",
       "      <td>136.03</td>\n",
       "      <td>136.03</td>\n",
       "      <td>0.00</td>\n",
       "      <td>1521.57</td>\n",
       "      <td>26.10.1995</td>\n",
       "      <td>84111</td>\n",
       "      <td>A</td>\n",
       "      <td>DP</td>\n",
       "      <td>Savings</td>\n",
       "    </tr>\n",
       "    <tr>\n",
       "      <th>1</th>\n",
       "      <td>1362746</td>\n",
       "      <td>1</td>\n",
       "      <td>2.83</td>\n",
       "      <td>0.00</td>\n",
       "      <td>2.83</td>\n",
       "      <td>2265.90</td>\n",
       "      <td>31.1.1995</td>\n",
       "      <td>235959</td>\n",
       "      <td></td>\n",
       "      <td>IN</td>\n",
       "      <td>Savings</td>\n",
       "    </tr>\n",
       "    <tr>\n",
       "      <th>2</th>\n",
       "      <td>1363251</td>\n",
       "      <td>11</td>\n",
       "      <td>13.56</td>\n",
       "      <td>0.00</td>\n",
       "      <td>13.56</td>\n",
       "      <td>5438.90</td>\n",
       "      <td>30.4.1995</td>\n",
       "      <td>235959</td>\n",
       "      <td></td>\n",
       "      <td>IN</td>\n",
       "      <td>Savings</td>\n",
       "    </tr>\n",
       "    <tr>\n",
       "      <th>3</th>\n",
       "      <td>1362542</td>\n",
       "      <td>4</td>\n",
       "      <td>0.76</td>\n",
       "      <td>0.00</td>\n",
       "      <td>0.76</td>\n",
       "      <td>610.92</td>\n",
       "      <td>30.4.1995</td>\n",
       "      <td>235959</td>\n",
       "      <td></td>\n",
       "      <td>IN</td>\n",
       "      <td>Savings</td>\n",
       "    </tr>\n",
       "    <tr>\n",
       "      <th>4</th>\n",
       "      <td>1363387</td>\n",
       "      <td>11</td>\n",
       "      <td>148.69</td>\n",
       "      <td>148.69</td>\n",
       "      <td>0.00</td>\n",
       "      <td>470.05</td>\n",
       "      <td>21.5.1995</td>\n",
       "      <td>144736</td>\n",
       "      <td>E</td>\n",
       "      <td>DP</td>\n",
       "      <td>Savings</td>\n",
       "    </tr>\n",
       "    <tr>\n",
       "      <th>...</th>\n",
       "      <td>...</td>\n",
       "      <td>...</td>\n",
       "      <td>...</td>\n",
       "      <td>...</td>\n",
       "      <td>...</td>\n",
       "      <td>...</td>\n",
       "      <td>...</td>\n",
       "      <td>...</td>\n",
       "      <td>...</td>\n",
       "      <td>...</td>\n",
       "      <td>...</td>\n",
       "    </tr>\n",
       "    <tr>\n",
       "      <th>11184</th>\n",
       "      <td>1362950</td>\n",
       "      <td>10</td>\n",
       "      <td>1.68</td>\n",
       "      <td>0.00</td>\n",
       "      <td>1.68</td>\n",
       "      <td>674.90</td>\n",
       "      <td>31.10.1995</td>\n",
       "      <td>235959</td>\n",
       "      <td></td>\n",
       "      <td>IN</td>\n",
       "      <td>Savings</td>\n",
       "    </tr>\n",
       "    <tr>\n",
       "      <th>11185</th>\n",
       "      <td>1362721</td>\n",
       "      <td>14</td>\n",
       "      <td>0.02</td>\n",
       "      <td>0.00</td>\n",
       "      <td>0.02</td>\n",
       "      <td>13.82</td>\n",
       "      <td>30.9.1995</td>\n",
       "      <td>235959</td>\n",
       "      <td></td>\n",
       "      <td>IN</td>\n",
       "      <td>Savings</td>\n",
       "    </tr>\n",
       "    <tr>\n",
       "      <th>11186</th>\n",
       "      <td>1362806</td>\n",
       "      <td>4</td>\n",
       "      <td>3.60</td>\n",
       "      <td>0.00</td>\n",
       "      <td>3.60</td>\n",
       "      <td>1444.57</td>\n",
       "      <td>30.4.1995</td>\n",
       "      <td>235959</td>\n",
       "      <td></td>\n",
       "      <td>IN</td>\n",
       "      <td>Savings</td>\n",
       "    </tr>\n",
       "    <tr>\n",
       "      <th>11187</th>\n",
       "      <td>1362995</td>\n",
       "      <td>36</td>\n",
       "      <td>541.91</td>\n",
       "      <td>541.91</td>\n",
       "      <td>0.00</td>\n",
       "      <td>4326.98</td>\n",
       "      <td>24.9.1995</td>\n",
       "      <td>150959</td>\n",
       "      <td>E</td>\n",
       "      <td>DP</td>\n",
       "      <td>Savings</td>\n",
       "    </tr>\n",
       "    <tr>\n",
       "      <th>11188</th>\n",
       "      <td>1363011</td>\n",
       "      <td>6</td>\n",
       "      <td>2.87</td>\n",
       "      <td>0.00</td>\n",
       "      <td>2.87</td>\n",
       "      <td>2297.91</td>\n",
       "      <td>31.3.1995</td>\n",
       "      <td>235959</td>\n",
       "      <td></td>\n",
       "      <td>IN</td>\n",
       "      <td>Savings</td>\n",
       "    </tr>\n",
       "  </tbody>\n",
       "</table>\n",
       "<p>11189 rows × 11 columns</p>\n",
       "</div>"
      ],
      "text/plain": [
       "       cust_id  tran_id  tran_amt  principal_amt  interest_amt  new_balance  \\\n",
       "0      1363481       26    136.03         136.03          0.00      1521.57   \n",
       "1      1362746        1      2.83           0.00          2.83      2265.90   \n",
       "2      1363251       11     13.56           0.00         13.56      5438.90   \n",
       "3      1362542        4      0.76           0.00          0.76       610.92   \n",
       "4      1363387       11    148.69         148.69          0.00       470.05   \n",
       "...        ...      ...       ...            ...           ...          ...   \n",
       "11184  1362950       10      1.68           0.00          1.68       674.90   \n",
       "11185  1362721       14      0.02           0.00          0.02        13.82   \n",
       "11186  1362806        4      3.60           0.00          3.60      1444.57   \n",
       "11187  1362995       36    541.91         541.91          0.00      4326.98   \n",
       "11188  1363011        6      2.87           0.00          2.87      2297.91   \n",
       "\n",
       "        tran_date tran_time channel tran_code     Type  \n",
       "0      26.10.1995     84111      A       DP    Savings  \n",
       "1       31.1.1995    235959              IN    Savings  \n",
       "2       30.4.1995    235959              IN    Savings  \n",
       "3       30.4.1995    235959              IN    Savings  \n",
       "4       21.5.1995    144736      E       DP    Savings  \n",
       "...           ...       ...     ...       ...      ...  \n",
       "11184  31.10.1995    235959              IN    Savings  \n",
       "11185   30.9.1995    235959              IN    Savings  \n",
       "11186   30.4.1995    235959              IN    Savings  \n",
       "11187   24.9.1995    150959      E       DP    Savings  \n",
       "11188   31.3.1995    235959              IN    Savings  \n",
       "\n",
       "[11189 rows x 11 columns]"
      ]
     },
     "execution_count": 97,
     "metadata": {},
     "output_type": "execute_result"
    }
   ],
   "source": [
    "#Drop columns that aren't needed. ie. Noise\n",
    "#savings_trans.drop('tran_amt', axis=1, inplace=True)\n",
    "#savings_trans.drop('principal_amt', axis=1, inplace=True) \n",
    "#savings_trans.drop('interest_amt', axis=1, inplace=True) \n",
    "#savings_trans.drop('new_balance', axis=1, inplace=True)\n",
    "#savings_trans.drop('tran_date', axis=1, inplace=True)\n",
    "#savings_trans.drop('tran_time', axis=1, inplace=True) \n",
    "#savings_trans.drop('channel', axis=1, inplace=True)\n",
    "#savings_trans.drop('tran_code', axis=1, inplace=True)\n",
    "\n",
    "#add column Type and assign checking to all\n",
    "savings_trans = savings_trans.assign(Type='Savings')\n",
    "\n",
    "#see new table\n",
    "savings_trans"
   ]
  },
  {
   "cell_type": "markdown",
   "id": "9d34825c",
   "metadata": {},
   "source": [
    "## Join subplots together"
   ]
  },
  {
   "cell_type": "code",
   "execution_count": 99,
   "id": "48fe3925",
   "metadata": {},
   "outputs": [
    {
     "data": {
      "text/html": [
       "<div>\n",
       "<style scoped>\n",
       "    .dataframe tbody tr th:only-of-type {\n",
       "        vertical-align: middle;\n",
       "    }\n",
       "\n",
       "    .dataframe tbody tr th {\n",
       "        vertical-align: top;\n",
       "    }\n",
       "\n",
       "    .dataframe thead th {\n",
       "        text-align: right;\n",
       "    }\n",
       "</style>\n",
       "<table border=\"1\" class=\"dataframe\">\n",
       "  <thead>\n",
       "    <tr style=\"text-align: right;\">\n",
       "      <th></th>\n",
       "      <th>cust_id</th>\n",
       "      <th>tran_id</th>\n",
       "      <th>tran_amt</th>\n",
       "      <th>principal_amt</th>\n",
       "      <th>interest_amt</th>\n",
       "      <th>new_balance</th>\n",
       "      <th>tran_date</th>\n",
       "      <th>tran_time</th>\n",
       "      <th>channel</th>\n",
       "      <th>tran_code</th>\n",
       "      <th>Type</th>\n",
       "    </tr>\n",
       "  </thead>\n",
       "  <tbody>\n",
       "    <tr>\n",
       "      <th>0</th>\n",
       "      <td>1363481</td>\n",
       "      <td>26</td>\n",
       "      <td>136.03</td>\n",
       "      <td>136.03</td>\n",
       "      <td>0.00</td>\n",
       "      <td>1521.57</td>\n",
       "      <td>26.10.1995</td>\n",
       "      <td>84111</td>\n",
       "      <td>A</td>\n",
       "      <td>DP</td>\n",
       "      <td>Savings</td>\n",
       "    </tr>\n",
       "    <tr>\n",
       "      <th>1</th>\n",
       "      <td>1362746</td>\n",
       "      <td>1</td>\n",
       "      <td>2.83</td>\n",
       "      <td>0.00</td>\n",
       "      <td>2.83</td>\n",
       "      <td>2265.90</td>\n",
       "      <td>31.1.1995</td>\n",
       "      <td>235959</td>\n",
       "      <td></td>\n",
       "      <td>IN</td>\n",
       "      <td>Savings</td>\n",
       "    </tr>\n",
       "    <tr>\n",
       "      <th>2</th>\n",
       "      <td>1363251</td>\n",
       "      <td>11</td>\n",
       "      <td>13.56</td>\n",
       "      <td>0.00</td>\n",
       "      <td>13.56</td>\n",
       "      <td>5438.90</td>\n",
       "      <td>30.4.1995</td>\n",
       "      <td>235959</td>\n",
       "      <td></td>\n",
       "      <td>IN</td>\n",
       "      <td>Savings</td>\n",
       "    </tr>\n",
       "    <tr>\n",
       "      <th>3</th>\n",
       "      <td>1362542</td>\n",
       "      <td>4</td>\n",
       "      <td>0.76</td>\n",
       "      <td>0.00</td>\n",
       "      <td>0.76</td>\n",
       "      <td>610.92</td>\n",
       "      <td>30.4.1995</td>\n",
       "      <td>235959</td>\n",
       "      <td></td>\n",
       "      <td>IN</td>\n",
       "      <td>Savings</td>\n",
       "    </tr>\n",
       "    <tr>\n",
       "      <th>4</th>\n",
       "      <td>1363387</td>\n",
       "      <td>11</td>\n",
       "      <td>148.69</td>\n",
       "      <td>148.69</td>\n",
       "      <td>0.00</td>\n",
       "      <td>470.05</td>\n",
       "      <td>21.5.1995</td>\n",
       "      <td>144736</td>\n",
       "      <td>E</td>\n",
       "      <td>DP</td>\n",
       "      <td>Savings</td>\n",
       "    </tr>\n",
       "    <tr>\n",
       "      <th>...</th>\n",
       "      <td>...</td>\n",
       "      <td>...</td>\n",
       "      <td>...</td>\n",
       "      <td>...</td>\n",
       "      <td>...</td>\n",
       "      <td>...</td>\n",
       "      <td>...</td>\n",
       "      <td>...</td>\n",
       "      <td>...</td>\n",
       "      <td>...</td>\n",
       "      <td>...</td>\n",
       "    </tr>\n",
       "    <tr>\n",
       "      <th>46199</th>\n",
       "      <td>1363272</td>\n",
       "      <td>50</td>\n",
       "      <td>-0.15</td>\n",
       "      <td>-0.15</td>\n",
       "      <td>0.00</td>\n",
       "      <td>319.71</td>\n",
       "      <td>3.10.1995</td>\n",
       "      <td></td>\n",
       "      <td></td>\n",
       "      <td>FK</td>\n",
       "      <td>Checking</td>\n",
       "    </tr>\n",
       "    <tr>\n",
       "      <th>46200</th>\n",
       "      <td>1363393</td>\n",
       "      <td>61</td>\n",
       "      <td>-102.52</td>\n",
       "      <td>-102.52</td>\n",
       "      <td>0.00</td>\n",
       "      <td>57.47</td>\n",
       "      <td>22.1.1995</td>\n",
       "      <td></td>\n",
       "      <td>P</td>\n",
       "      <td>WD</td>\n",
       "      <td>Checking</td>\n",
       "    </tr>\n",
       "    <tr>\n",
       "      <th>46201</th>\n",
       "      <td>1363365</td>\n",
       "      <td>25</td>\n",
       "      <td>-275.89</td>\n",
       "      <td>-275.89</td>\n",
       "      <td>0.00</td>\n",
       "      <td>2632.93</td>\n",
       "      <td>8.1.1995</td>\n",
       "      <td></td>\n",
       "      <td>P</td>\n",
       "      <td>WD</td>\n",
       "      <td>Checking</td>\n",
       "    </tr>\n",
       "    <tr>\n",
       "      <th>46202</th>\n",
       "      <td>1363031</td>\n",
       "      <td>73</td>\n",
       "      <td>-0.15</td>\n",
       "      <td>-0.15</td>\n",
       "      <td>0.00</td>\n",
       "      <td>1103.47</td>\n",
       "      <td>23.1.1995</td>\n",
       "      <td></td>\n",
       "      <td></td>\n",
       "      <td>FK</td>\n",
       "      <td>Checking</td>\n",
       "    </tr>\n",
       "    <tr>\n",
       "      <th>46203</th>\n",
       "      <td>1363011</td>\n",
       "      <td>6</td>\n",
       "      <td>1261.26</td>\n",
       "      <td>1261.26</td>\n",
       "      <td>0.00</td>\n",
       "      <td>13654.61</td>\n",
       "      <td>7.1.1995</td>\n",
       "      <td>94214</td>\n",
       "      <td>B</td>\n",
       "      <td>DP</td>\n",
       "      <td>Checking</td>\n",
       "    </tr>\n",
       "  </tbody>\n",
       "</table>\n",
       "<p>77560 rows × 11 columns</p>\n",
       "</div>"
      ],
      "text/plain": [
       "       cust_id  tran_id  tran_amt  principal_amt  interest_amt  new_balance  \\\n",
       "0      1363481       26    136.03         136.03          0.00      1521.57   \n",
       "1      1362746        1      2.83           0.00          2.83      2265.90   \n",
       "2      1363251       11     13.56           0.00         13.56      5438.90   \n",
       "3      1362542        4      0.76           0.00          0.76       610.92   \n",
       "4      1363387       11    148.69         148.69          0.00       470.05   \n",
       "...        ...      ...       ...            ...           ...          ...   \n",
       "46199  1363272       50     -0.15          -0.15          0.00       319.71   \n",
       "46200  1363393       61   -102.52        -102.52          0.00        57.47   \n",
       "46201  1363365       25   -275.89        -275.89          0.00      2632.93   \n",
       "46202  1363031       73     -0.15          -0.15          0.00      1103.47   \n",
       "46203  1363011        6   1261.26        1261.26          0.00     13654.61   \n",
       "\n",
       "        tran_date     tran_time channel tran_code      Type  \n",
       "0      26.10.1995         84111      A       DP     Savings  \n",
       "1       31.1.1995        235959              IN     Savings  \n",
       "2       30.4.1995        235959              IN     Savings  \n",
       "3       30.4.1995        235959              IN     Savings  \n",
       "4       21.5.1995        144736      E       DP     Savings  \n",
       "...           ...           ...     ...       ...       ...  \n",
       "46199   3.10.1995                            FK    Checking  \n",
       "46200   22.1.1995                    P       WD    Checking  \n",
       "46201    8.1.1995                    P       WD    Checking  \n",
       "46202   23.1.1995                            FK    Checking  \n",
       "46203    7.1.1995         94214      B       DP    Checking  \n",
       "\n",
       "[77560 rows x 11 columns]"
      ]
     },
     "execution_count": 99,
     "metadata": {},
     "output_type": "execute_result"
    }
   ],
   "source": [
    "new_trans = pd.concat([savings_trans, credit_trans, check_trans])\n",
    "new_trans"
   ]
  },
  {
   "cell_type": "code",
   "execution_count": 100,
   "id": "be9ccdb8",
   "metadata": {},
   "outputs": [],
   "source": [
    "#Drop columns that aren't needed. ie. Noise\n",
    "new_trans.drop('channel', axis=1, inplace=True)\n",
    "new_trans.drop('tran_code', axis=1, inplace=True)\n",
    "new_trans.drop('tran_time', axis=1, inplace=True)"
   ]
  },
  {
   "cell_type": "code",
   "execution_count": 101,
   "id": "94bee04d",
   "metadata": {},
   "outputs": [
    {
     "data": {
      "text/html": [
       "<div>\n",
       "<style scoped>\n",
       "    .dataframe tbody tr th:only-of-type {\n",
       "        vertical-align: middle;\n",
       "    }\n",
       "\n",
       "    .dataframe tbody tr th {\n",
       "        vertical-align: top;\n",
       "    }\n",
       "\n",
       "    .dataframe thead th {\n",
       "        text-align: right;\n",
       "    }\n",
       "</style>\n",
       "<table border=\"1\" class=\"dataframe\">\n",
       "  <thead>\n",
       "    <tr style=\"text-align: right;\">\n",
       "      <th></th>\n",
       "      <th>Unnamed: 0</th>\n",
       "      <th>cust_id</th>\n",
       "      <th>income</th>\n",
       "      <th>Tier_income</th>\n",
       "      <th>age</th>\n",
       "      <th>Age_Group</th>\n",
       "      <th>years_with_bank</th>\n",
       "      <th>nbr_children</th>\n",
       "      <th>gender</th>\n",
       "      <th>marital_status</th>\n",
       "      <th>first_name</th>\n",
       "      <th>last_name</th>\n",
       "      <th>state_code</th>\n",
       "      <th>Region</th>\n",
       "    </tr>\n",
       "  </thead>\n",
       "  <tbody>\n",
       "    <tr>\n",
       "      <th>0</th>\n",
       "      <td>0</td>\n",
       "      <td>1362691</td>\n",
       "      <td>26150</td>\n",
       "      <td>Lower Middle</td>\n",
       "      <td>46</td>\n",
       "      <td>40-49</td>\n",
       "      <td>5</td>\n",
       "      <td>1</td>\n",
       "      <td>M</td>\n",
       "      <td>2</td>\n",
       "      <td>Donald                                        ...</td>\n",
       "      <td>Marek                                         ...</td>\n",
       "      <td>NV</td>\n",
       "      <td>West</td>\n",
       "    </tr>\n",
       "    <tr>\n",
       "      <th>1</th>\n",
       "      <td>1</td>\n",
       "      <td>1362487</td>\n",
       "      <td>6605</td>\n",
       "      <td>Lowest</td>\n",
       "      <td>71</td>\n",
       "      <td>70-79</td>\n",
       "      <td>1</td>\n",
       "      <td>0</td>\n",
       "      <td>M</td>\n",
       "      <td>2</td>\n",
       "      <td>ChingDyi                                      ...</td>\n",
       "      <td>Moussavi                                      ...</td>\n",
       "      <td>CA</td>\n",
       "      <td>West</td>\n",
       "    </tr>\n",
       "    <tr>\n",
       "      <th>2</th>\n",
       "      <td>2</td>\n",
       "      <td>1363160</td>\n",
       "      <td>18548</td>\n",
       "      <td>Lowest</td>\n",
       "      <td>38</td>\n",
       "      <td>30-39</td>\n",
       "      <td>8</td>\n",
       "      <td>0</td>\n",
       "      <td>F</td>\n",
       "      <td>1</td>\n",
       "      <td>Rosa                                          ...</td>\n",
       "      <td>Johnston                                      ...</td>\n",
       "      <td>CA</td>\n",
       "      <td>West</td>\n",
       "    </tr>\n",
       "    <tr>\n",
       "      <th>3</th>\n",
       "      <td>3</td>\n",
       "      <td>1362752</td>\n",
       "      <td>47668</td>\n",
       "      <td>Lower Middle</td>\n",
       "      <td>54</td>\n",
       "      <td>50-59</td>\n",
       "      <td>3</td>\n",
       "      <td>0</td>\n",
       "      <td>F</td>\n",
       "      <td>1</td>\n",
       "      <td>Lisa                                          ...</td>\n",
       "      <td>Martin                                        ...</td>\n",
       "      <td>CA</td>\n",
       "      <td>West</td>\n",
       "    </tr>\n",
       "    <tr>\n",
       "      <th>4</th>\n",
       "      <td>4</td>\n",
       "      <td>1362548</td>\n",
       "      <td>44554</td>\n",
       "      <td>Lower Middle</td>\n",
       "      <td>59</td>\n",
       "      <td>50-59</td>\n",
       "      <td>9</td>\n",
       "      <td>2</td>\n",
       "      <td>F</td>\n",
       "      <td>4</td>\n",
       "      <td>Barbara                                       ...</td>\n",
       "      <td>O'Malley                                      ...</td>\n",
       "      <td>NY</td>\n",
       "      <td>Northeast</td>\n",
       "    </tr>\n",
       "  </tbody>\n",
       "</table>\n",
       "</div>"
      ],
      "text/plain": [
       "   Unnamed: 0  cust_id  income   Tier_income  age Age_Group  years_with_bank  \\\n",
       "0           0  1362691   26150  Lower Middle   46     40-49                5   \n",
       "1           1  1362487    6605        Lowest   71     70-79                1   \n",
       "2           2  1363160   18548        Lowest   38     30-39                8   \n",
       "3           3  1362752   47668  Lower Middle   54     50-59                3   \n",
       "4           4  1362548   44554  Lower Middle   59     50-59                9   \n",
       "\n",
       "   nbr_children gender  marital_status  \\\n",
       "0             1     M                2   \n",
       "1             0     M                2   \n",
       "2             0     F                1   \n",
       "3             0     F                1   \n",
       "4             2     F                4   \n",
       "\n",
       "                                          first_name  \\\n",
       "0  Donald                                        ...   \n",
       "1  ChingDyi                                      ...   \n",
       "2  Rosa                                          ...   \n",
       "3  Lisa                                          ...   \n",
       "4  Barbara                                       ...   \n",
       "\n",
       "                                           last_name state_code     Region  \n",
       "0  Marek                                         ...       NV         West  \n",
       "1  Moussavi                                      ...       CA         West  \n",
       "2  Johnston                                      ...       CA         West  \n",
       "3  Martin                                        ...       CA         West  \n",
       "4  O'Malley                                      ...       NY    Northeast  "
      ]
     },
     "execution_count": 101,
     "metadata": {},
     "output_type": "execute_result"
    }
   ],
   "source": [
    "customer.head()"
   ]
  },
  {
   "cell_type": "code",
   "execution_count": 102,
   "id": "0b7c6570",
   "metadata": {},
   "outputs": [
    {
     "data": {
      "text/html": [
       "<div>\n",
       "<style scoped>\n",
       "    .dataframe tbody tr th:only-of-type {\n",
       "        vertical-align: middle;\n",
       "    }\n",
       "\n",
       "    .dataframe tbody tr th {\n",
       "        vertical-align: top;\n",
       "    }\n",
       "\n",
       "    .dataframe thead th {\n",
       "        text-align: right;\n",
       "    }\n",
       "</style>\n",
       "<table border=\"1\" class=\"dataframe\">\n",
       "  <thead>\n",
       "    <tr style=\"text-align: right;\">\n",
       "      <th></th>\n",
       "      <th>cust_id</th>\n",
       "      <th>income</th>\n",
       "      <th>Tier_income</th>\n",
       "      <th>age</th>\n",
       "      <th>Age_Group</th>\n",
       "      <th>years_with_bank</th>\n",
       "      <th>nbr_children</th>\n",
       "      <th>gender</th>\n",
       "      <th>marital_status</th>\n",
       "      <th>Region</th>\n",
       "    </tr>\n",
       "  </thead>\n",
       "  <tbody>\n",
       "    <tr>\n",
       "      <th>0</th>\n",
       "      <td>1362691</td>\n",
       "      <td>26150</td>\n",
       "      <td>Lower Middle</td>\n",
       "      <td>46</td>\n",
       "      <td>40-49</td>\n",
       "      <td>5</td>\n",
       "      <td>1</td>\n",
       "      <td>M</td>\n",
       "      <td>2</td>\n",
       "      <td>West</td>\n",
       "    </tr>\n",
       "    <tr>\n",
       "      <th>1</th>\n",
       "      <td>1362487</td>\n",
       "      <td>6605</td>\n",
       "      <td>Lowest</td>\n",
       "      <td>71</td>\n",
       "      <td>70-79</td>\n",
       "      <td>1</td>\n",
       "      <td>0</td>\n",
       "      <td>M</td>\n",
       "      <td>2</td>\n",
       "      <td>West</td>\n",
       "    </tr>\n",
       "    <tr>\n",
       "      <th>2</th>\n",
       "      <td>1363160</td>\n",
       "      <td>18548</td>\n",
       "      <td>Lowest</td>\n",
       "      <td>38</td>\n",
       "      <td>30-39</td>\n",
       "      <td>8</td>\n",
       "      <td>0</td>\n",
       "      <td>F</td>\n",
       "      <td>1</td>\n",
       "      <td>West</td>\n",
       "    </tr>\n",
       "    <tr>\n",
       "      <th>3</th>\n",
       "      <td>1362752</td>\n",
       "      <td>47668</td>\n",
       "      <td>Lower Middle</td>\n",
       "      <td>54</td>\n",
       "      <td>50-59</td>\n",
       "      <td>3</td>\n",
       "      <td>0</td>\n",
       "      <td>F</td>\n",
       "      <td>1</td>\n",
       "      <td>West</td>\n",
       "    </tr>\n",
       "    <tr>\n",
       "      <th>4</th>\n",
       "      <td>1362548</td>\n",
       "      <td>44554</td>\n",
       "      <td>Lower Middle</td>\n",
       "      <td>59</td>\n",
       "      <td>50-59</td>\n",
       "      <td>9</td>\n",
       "      <td>2</td>\n",
       "      <td>F</td>\n",
       "      <td>4</td>\n",
       "      <td>Northeast</td>\n",
       "    </tr>\n",
       "    <tr>\n",
       "      <th>...</th>\n",
       "      <td>...</td>\n",
       "      <td>...</td>\n",
       "      <td>...</td>\n",
       "      <td>...</td>\n",
       "      <td>...</td>\n",
       "      <td>...</td>\n",
       "      <td>...</td>\n",
       "      <td>...</td>\n",
       "      <td>...</td>\n",
       "      <td>...</td>\n",
       "    </tr>\n",
       "    <tr>\n",
       "      <th>742</th>\n",
       "      <td>1363324</td>\n",
       "      <td>14795</td>\n",
       "      <td>Lowest</td>\n",
       "      <td>36</td>\n",
       "      <td>30-39</td>\n",
       "      <td>6</td>\n",
       "      <td>1</td>\n",
       "      <td>F</td>\n",
       "      <td>4</td>\n",
       "      <td>West</td>\n",
       "    </tr>\n",
       "    <tr>\n",
       "      <th>743</th>\n",
       "      <td>1362895</td>\n",
       "      <td>26387</td>\n",
       "      <td>Lower Middle</td>\n",
       "      <td>56</td>\n",
       "      <td>50-59</td>\n",
       "      <td>6</td>\n",
       "      <td>1</td>\n",
       "      <td>M</td>\n",
       "      <td>2</td>\n",
       "      <td>Northeast</td>\n",
       "    </tr>\n",
       "    <tr>\n",
       "      <th>744</th>\n",
       "      <td>1362569</td>\n",
       "      <td>61300</td>\n",
       "      <td>Middle</td>\n",
       "      <td>50</td>\n",
       "      <td>50-59</td>\n",
       "      <td>0</td>\n",
       "      <td>2</td>\n",
       "      <td>M</td>\n",
       "      <td>2</td>\n",
       "      <td>West</td>\n",
       "    </tr>\n",
       "    <tr>\n",
       "      <th>745</th>\n",
       "      <td>1363364</td>\n",
       "      <td>15100</td>\n",
       "      <td>Lowest</td>\n",
       "      <td>37</td>\n",
       "      <td>30-39</td>\n",
       "      <td>7</td>\n",
       "      <td>0</td>\n",
       "      <td>F</td>\n",
       "      <td>2</td>\n",
       "      <td>South</td>\n",
       "    </tr>\n",
       "    <tr>\n",
       "      <th>746</th>\n",
       "      <td>1363303</td>\n",
       "      <td>17875</td>\n",
       "      <td>Lowest</td>\n",
       "      <td>18</td>\n",
       "      <td>10-18</td>\n",
       "      <td>3</td>\n",
       "      <td>0</td>\n",
       "      <td>F</td>\n",
       "      <td>1</td>\n",
       "      <td>West</td>\n",
       "    </tr>\n",
       "  </tbody>\n",
       "</table>\n",
       "<p>747 rows × 10 columns</p>\n",
       "</div>"
      ],
      "text/plain": [
       "     cust_id  income   Tier_income  age Age_Group  years_with_bank  \\\n",
       "0    1362691   26150  Lower Middle   46     40-49                5   \n",
       "1    1362487    6605        Lowest   71     70-79                1   \n",
       "2    1363160   18548        Lowest   38     30-39                8   \n",
       "3    1362752   47668  Lower Middle   54     50-59                3   \n",
       "4    1362548   44554  Lower Middle   59     50-59                9   \n",
       "..       ...     ...           ...  ...       ...              ...   \n",
       "742  1363324   14795        Lowest   36     30-39                6   \n",
       "743  1362895   26387  Lower Middle   56     50-59                6   \n",
       "744  1362569   61300        Middle   50     50-59                0   \n",
       "745  1363364   15100        Lowest   37     30-39                7   \n",
       "746  1363303   17875        Lowest   18     10-18                3   \n",
       "\n",
       "     nbr_children gender  marital_status     Region  \n",
       "0               1     M                2       West  \n",
       "1               0     M                2       West  \n",
       "2               0     F                1       West  \n",
       "3               0     F                1       West  \n",
       "4               2     F                4  Northeast  \n",
       "..            ...    ...             ...        ...  \n",
       "742             1     F                4       West  \n",
       "743             1     M                2  Northeast  \n",
       "744             2     M                2       West  \n",
       "745             0     F                2      South  \n",
       "746             0     F                1       West  \n",
       "\n",
       "[747 rows x 10 columns]"
      ]
     },
     "execution_count": 102,
     "metadata": {},
     "output_type": "execute_result"
    }
   ],
   "source": [
    "#Drop columns that aren't needed. ie. Noise\n",
    "customer.drop('Unnamed: 0', axis=1, inplace=True)\n",
    "customer.drop('first_name', axis=1, inplace=True)\n",
    "customer.drop('last_name', axis=1, inplace=True)\n",
    "customer.drop('state_code', axis=1, inplace=True)\n",
    "\n",
    "customer"
   ]
  },
  {
   "cell_type": "code",
   "execution_count": 260,
   "id": "110ee179",
   "metadata": {},
   "outputs": [
    {
     "data": {
      "text/html": [
       "<div>\n",
       "<style scoped>\n",
       "    .dataframe tbody tr th:only-of-type {\n",
       "        vertical-align: middle;\n",
       "    }\n",
       "\n",
       "    .dataframe tbody tr th {\n",
       "        vertical-align: top;\n",
       "    }\n",
       "\n",
       "    .dataframe thead th {\n",
       "        text-align: right;\n",
       "    }\n",
       "</style>\n",
       "<table border=\"1\" class=\"dataframe\">\n",
       "  <thead>\n",
       "    <tr style=\"text-align: right;\">\n",
       "      <th></th>\n",
       "      <th>cust_id</th>\n",
       "      <th>income</th>\n",
       "      <th>Tier_income</th>\n",
       "      <th>age</th>\n",
       "      <th>Age_Group</th>\n",
       "      <th>years_with_bank</th>\n",
       "      <th>nbr_children</th>\n",
       "      <th>gender</th>\n",
       "      <th>marital_status</th>\n",
       "      <th>Region</th>\n",
       "      <th>tran_id</th>\n",
       "      <th>tran_amt</th>\n",
       "      <th>principal_amt</th>\n",
       "      <th>interest_amt</th>\n",
       "      <th>new_balance</th>\n",
       "      <th>tran_date</th>\n",
       "      <th>Type</th>\n",
       "    </tr>\n",
       "  </thead>\n",
       "  <tbody>\n",
       "    <tr>\n",
       "      <th>0</th>\n",
       "      <td>1362487</td>\n",
       "      <td>6605</td>\n",
       "      <td>Lowest</td>\n",
       "      <td>71</td>\n",
       "      <td>70-79</td>\n",
       "      <td>1</td>\n",
       "      <td>0</td>\n",
       "      <td>M</td>\n",
       "      <td>2</td>\n",
       "      <td>West</td>\n",
       "      <td>5</td>\n",
       "      <td>-200.00</td>\n",
       "      <td>-200.00</td>\n",
       "      <td>0.00</td>\n",
       "      <td>511.36</td>\n",
       "      <td>27.2.1995</td>\n",
       "      <td>Savings</td>\n",
       "    </tr>\n",
       "    <tr>\n",
       "      <th>1</th>\n",
       "      <td>1362487</td>\n",
       "      <td>6605</td>\n",
       "      <td>Lowest</td>\n",
       "      <td>71</td>\n",
       "      <td>70-79</td>\n",
       "      <td>1</td>\n",
       "      <td>0</td>\n",
       "      <td>M</td>\n",
       "      <td>2</td>\n",
       "      <td>West</td>\n",
       "      <td>10</td>\n",
       "      <td>-204.66</td>\n",
       "      <td>-204.66</td>\n",
       "      <td>0.00</td>\n",
       "      <td>310.54</td>\n",
       "      <td>13.5.1995</td>\n",
       "      <td>Savings</td>\n",
       "    </tr>\n",
       "    <tr>\n",
       "      <th>2</th>\n",
       "      <td>1362487</td>\n",
       "      <td>6605</td>\n",
       "      <td>Lowest</td>\n",
       "      <td>71</td>\n",
       "      <td>70-79</td>\n",
       "      <td>1</td>\n",
       "      <td>0</td>\n",
       "      <td>M</td>\n",
       "      <td>2</td>\n",
       "      <td>West</td>\n",
       "      <td>15</td>\n",
       "      <td>-40.00</td>\n",
       "      <td>-40.00</td>\n",
       "      <td>0.00</td>\n",
       "      <td>25.66</td>\n",
       "      <td>27.6.1995</td>\n",
       "      <td>Savings</td>\n",
       "    </tr>\n",
       "    <tr>\n",
       "      <th>3</th>\n",
       "      <td>1362487</td>\n",
       "      <td>6605</td>\n",
       "      <td>Lowest</td>\n",
       "      <td>71</td>\n",
       "      <td>70-79</td>\n",
       "      <td>1</td>\n",
       "      <td>0</td>\n",
       "      <td>M</td>\n",
       "      <td>2</td>\n",
       "      <td>West</td>\n",
       "      <td>2</td>\n",
       "      <td>1.92</td>\n",
       "      <td>0.00</td>\n",
       "      <td>1.92</td>\n",
       "      <td>771.36</td>\n",
       "      <td>31.1.1995</td>\n",
       "      <td>Savings</td>\n",
       "    </tr>\n",
       "    <tr>\n",
       "      <th>4</th>\n",
       "      <td>1362487</td>\n",
       "      <td>6605</td>\n",
       "      <td>Lowest</td>\n",
       "      <td>71</td>\n",
       "      <td>70-79</td>\n",
       "      <td>1</td>\n",
       "      <td>0</td>\n",
       "      <td>M</td>\n",
       "      <td>2</td>\n",
       "      <td>West</td>\n",
       "      <td>7</td>\n",
       "      <td>1.28</td>\n",
       "      <td>0.00</td>\n",
       "      <td>1.28</td>\n",
       "      <td>513.92</td>\n",
       "      <td>31.3.1995</td>\n",
       "      <td>Savings</td>\n",
       "    </tr>\n",
       "    <tr>\n",
       "      <th>...</th>\n",
       "      <td>...</td>\n",
       "      <td>...</td>\n",
       "      <td>...</td>\n",
       "      <td>...</td>\n",
       "      <td>...</td>\n",
       "      <td>...</td>\n",
       "      <td>...</td>\n",
       "      <td>...</td>\n",
       "      <td>...</td>\n",
       "      <td>...</td>\n",
       "      <td>...</td>\n",
       "      <td>...</td>\n",
       "      <td>...</td>\n",
       "      <td>...</td>\n",
       "      <td>...</td>\n",
       "      <td>...</td>\n",
       "      <td>...</td>\n",
       "    </tr>\n",
       "    <tr>\n",
       "      <th>77555</th>\n",
       "      <td>1363303</td>\n",
       "      <td>17875</td>\n",
       "      <td>Lowest</td>\n",
       "      <td>18</td>\n",
       "      <td>10-18</td>\n",
       "      <td>3</td>\n",
       "      <td>0</td>\n",
       "      <td>F</td>\n",
       "      <td>1</td>\n",
       "      <td>West</td>\n",
       "      <td>53</td>\n",
       "      <td>-194.41</td>\n",
       "      <td>-194.41</td>\n",
       "      <td>0.00</td>\n",
       "      <td>1302.57</td>\n",
       "      <td>29.3.1995</td>\n",
       "      <td>Checking</td>\n",
       "    </tr>\n",
       "    <tr>\n",
       "      <th>77556</th>\n",
       "      <td>1363303</td>\n",
       "      <td>17875</td>\n",
       "      <td>Lowest</td>\n",
       "      <td>18</td>\n",
       "      <td>10-18</td>\n",
       "      <td>3</td>\n",
       "      <td>0</td>\n",
       "      <td>F</td>\n",
       "      <td>1</td>\n",
       "      <td>West</td>\n",
       "      <td>13</td>\n",
       "      <td>-52.43</td>\n",
       "      <td>-52.43</td>\n",
       "      <td>0.00</td>\n",
       "      <td>3136.40</td>\n",
       "      <td>21.2.1995</td>\n",
       "      <td>Checking</td>\n",
       "    </tr>\n",
       "    <tr>\n",
       "      <th>77557</th>\n",
       "      <td>1363303</td>\n",
       "      <td>17875</td>\n",
       "      <td>Lowest</td>\n",
       "      <td>18</td>\n",
       "      <td>10-18</td>\n",
       "      <td>3</td>\n",
       "      <td>0</td>\n",
       "      <td>F</td>\n",
       "      <td>1</td>\n",
       "      <td>West</td>\n",
       "      <td>33</td>\n",
       "      <td>0.00</td>\n",
       "      <td>0.00</td>\n",
       "      <td>0.00</td>\n",
       "      <td>2136.38</td>\n",
       "      <td>5.3.1995</td>\n",
       "      <td>Checking</td>\n",
       "    </tr>\n",
       "    <tr>\n",
       "      <th>77558</th>\n",
       "      <td>1363303</td>\n",
       "      <td>17875</td>\n",
       "      <td>Lowest</td>\n",
       "      <td>18</td>\n",
       "      <td>10-18</td>\n",
       "      <td>3</td>\n",
       "      <td>0</td>\n",
       "      <td>F</td>\n",
       "      <td>1</td>\n",
       "      <td>West</td>\n",
       "      <td>93</td>\n",
       "      <td>17.40</td>\n",
       "      <td>17.40</td>\n",
       "      <td>0.00</td>\n",
       "      <td>18.10</td>\n",
       "      <td>2.5.1995</td>\n",
       "      <td>Checking</td>\n",
       "    </tr>\n",
       "    <tr>\n",
       "      <th>77559</th>\n",
       "      <td>1363303</td>\n",
       "      <td>17875</td>\n",
       "      <td>Lowest</td>\n",
       "      <td>18</td>\n",
       "      <td>10-18</td>\n",
       "      <td>3</td>\n",
       "      <td>0</td>\n",
       "      <td>F</td>\n",
       "      <td>1</td>\n",
       "      <td>West</td>\n",
       "      <td>73</td>\n",
       "      <td>-6.56</td>\n",
       "      <td>-6.56</td>\n",
       "      <td>0.00</td>\n",
       "      <td>602.04</td>\n",
       "      <td>12.4.1995</td>\n",
       "      <td>Checking</td>\n",
       "    </tr>\n",
       "  </tbody>\n",
       "</table>\n",
       "<p>77560 rows × 17 columns</p>\n",
       "</div>"
      ],
      "text/plain": [
       "       cust_id  income Tier_income  age Age_Group  years_with_bank  \\\n",
       "0      1362487    6605      Lowest   71     70-79                1   \n",
       "1      1362487    6605      Lowest   71     70-79                1   \n",
       "2      1362487    6605      Lowest   71     70-79                1   \n",
       "3      1362487    6605      Lowest   71     70-79                1   \n",
       "4      1362487    6605      Lowest   71     70-79                1   \n",
       "...        ...     ...         ...  ...       ...              ...   \n",
       "77555  1363303   17875      Lowest   18     10-18                3   \n",
       "77556  1363303   17875      Lowest   18     10-18                3   \n",
       "77557  1363303   17875      Lowest   18     10-18                3   \n",
       "77558  1363303   17875      Lowest   18     10-18                3   \n",
       "77559  1363303   17875      Lowest   18     10-18                3   \n",
       "\n",
       "       nbr_children gender  marital_status Region  tran_id  tran_amt  \\\n",
       "0                 0     M                2   West        5   -200.00   \n",
       "1                 0     M                2   West       10   -204.66   \n",
       "2                 0     M                2   West       15    -40.00   \n",
       "3                 0     M                2   West        2      1.92   \n",
       "4                 0     M                2   West        7      1.28   \n",
       "...             ...    ...             ...    ...      ...       ...   \n",
       "77555             0     F                1   West       53   -194.41   \n",
       "77556             0     F                1   West       13    -52.43   \n",
       "77557             0     F                1   West       33      0.00   \n",
       "77558             0     F                1   West       93     17.40   \n",
       "77559             0     F                1   West       73     -6.56   \n",
       "\n",
       "       principal_amt  interest_amt  new_balance  tran_date      Type  \n",
       "0            -200.00          0.00       511.36  27.2.1995   Savings  \n",
       "1            -204.66          0.00       310.54  13.5.1995   Savings  \n",
       "2             -40.00          0.00        25.66  27.6.1995   Savings  \n",
       "3               0.00          1.92       771.36  31.1.1995   Savings  \n",
       "4               0.00          1.28       513.92  31.3.1995   Savings  \n",
       "...              ...           ...          ...        ...       ...  \n",
       "77555        -194.41          0.00      1302.57  29.3.1995  Checking  \n",
       "77556         -52.43          0.00      3136.40  21.2.1995  Checking  \n",
       "77557           0.00          0.00      2136.38   5.3.1995  Checking  \n",
       "77558          17.40          0.00        18.10   2.5.1995  Checking  \n",
       "77559          -6.56          0.00       602.04  12.4.1995  Checking  \n",
       "\n",
       "[77560 rows x 17 columns]"
      ]
     },
     "execution_count": 260,
     "metadata": {},
     "output_type": "execute_result"
    }
   ],
   "source": [
    "merged_df = pd.merge(customer, new_trans, on = 'cust_id')\n",
    "merged_df"
   ]
  },
  {
   "cell_type": "code",
   "execution_count": 261,
   "id": "624665e8",
   "metadata": {},
   "outputs": [],
   "source": [
    "#Bin income based on tier\n",
    "income_tier = pd.cut(merged_df.income, bins=[0,15000, 40000, 80000,150000], \n",
    "                   labels=['Lowest','Low Middle','High Middle','Highest'])\n",
    "merged_df.insert(2, 'Tier_income2',income_tier)"
   ]
  },
  {
   "cell_type": "code",
   "execution_count": 262,
   "id": "d146a03e",
   "metadata": {
    "scrolled": true
   },
   "outputs": [],
   "source": [
    "merged_df.drop('Tier_income', axis=1, inplace=True)"
   ]
  },
  {
   "cell_type": "code",
   "execution_count": 263,
   "id": "a345acbb",
   "metadata": {},
   "outputs": [],
   "source": [
    "#take month, day and year out of tran_time into new cols\n",
    "merged_df['tran_date']= pd.to_datetime(merged_df['tran_date']).dt.date\n",
    "\n",
    "merged_df['day']= pd.to_datetime(merged_df['tran_date']).dt.dayofweek #monday is 0\n",
    "merged_df['month']= pd.to_datetime(merged_df['tran_date']).dt.month\n",
    "merged_df['year']= pd.to_datetime(merged_df['tran_date']).dt.year"
   ]
  },
  {
   "cell_type": "code",
   "execution_count": 265,
   "id": "55e87fbf",
   "metadata": {},
   "outputs": [
    {
     "data": {
      "text/html": [
       "<div>\n",
       "<style scoped>\n",
       "    .dataframe tbody tr th:only-of-type {\n",
       "        vertical-align: middle;\n",
       "    }\n",
       "\n",
       "    .dataframe tbody tr th {\n",
       "        vertical-align: top;\n",
       "    }\n",
       "\n",
       "    .dataframe thead th {\n",
       "        text-align: right;\n",
       "    }\n",
       "</style>\n",
       "<table border=\"1\" class=\"dataframe\">\n",
       "  <thead>\n",
       "    <tr style=\"text-align: right;\">\n",
       "      <th></th>\n",
       "      <th>cust_id</th>\n",
       "      <th>income</th>\n",
       "      <th>Tier_income2</th>\n",
       "      <th>age</th>\n",
       "      <th>Age_Group</th>\n",
       "      <th>years_with_bank</th>\n",
       "      <th>nbr_children</th>\n",
       "      <th>gender</th>\n",
       "      <th>marital_status</th>\n",
       "      <th>Region</th>\n",
       "      <th>tran_id</th>\n",
       "      <th>tran_amt</th>\n",
       "      <th>principal_amt</th>\n",
       "      <th>interest_amt</th>\n",
       "      <th>new_balance</th>\n",
       "      <th>tran_date</th>\n",
       "      <th>Type</th>\n",
       "      <th>day</th>\n",
       "      <th>month</th>\n",
       "      <th>year</th>\n",
       "    </tr>\n",
       "  </thead>\n",
       "  <tbody>\n",
       "    <tr>\n",
       "      <th>0</th>\n",
       "      <td>1362487</td>\n",
       "      <td>6605</td>\n",
       "      <td>Lowest</td>\n",
       "      <td>71</td>\n",
       "      <td>70-79</td>\n",
       "      <td>1</td>\n",
       "      <td>0</td>\n",
       "      <td>M</td>\n",
       "      <td>2</td>\n",
       "      <td>West</td>\n",
       "      <td>5</td>\n",
       "      <td>-200.00</td>\n",
       "      <td>-200.00</td>\n",
       "      <td>0.00</td>\n",
       "      <td>511.36</td>\n",
       "      <td>1995-02-27</td>\n",
       "      <td>Savings</td>\n",
       "      <td>0</td>\n",
       "      <td>2</td>\n",
       "      <td>1995</td>\n",
       "    </tr>\n",
       "    <tr>\n",
       "      <th>1</th>\n",
       "      <td>1362487</td>\n",
       "      <td>6605</td>\n",
       "      <td>Lowest</td>\n",
       "      <td>71</td>\n",
       "      <td>70-79</td>\n",
       "      <td>1</td>\n",
       "      <td>0</td>\n",
       "      <td>M</td>\n",
       "      <td>2</td>\n",
       "      <td>West</td>\n",
       "      <td>10</td>\n",
       "      <td>-204.66</td>\n",
       "      <td>-204.66</td>\n",
       "      <td>0.00</td>\n",
       "      <td>310.54</td>\n",
       "      <td>1995-05-13</td>\n",
       "      <td>Savings</td>\n",
       "      <td>5</td>\n",
       "      <td>5</td>\n",
       "      <td>1995</td>\n",
       "    </tr>\n",
       "    <tr>\n",
       "      <th>2</th>\n",
       "      <td>1362487</td>\n",
       "      <td>6605</td>\n",
       "      <td>Lowest</td>\n",
       "      <td>71</td>\n",
       "      <td>70-79</td>\n",
       "      <td>1</td>\n",
       "      <td>0</td>\n",
       "      <td>M</td>\n",
       "      <td>2</td>\n",
       "      <td>West</td>\n",
       "      <td>15</td>\n",
       "      <td>-40.00</td>\n",
       "      <td>-40.00</td>\n",
       "      <td>0.00</td>\n",
       "      <td>25.66</td>\n",
       "      <td>1995-06-27</td>\n",
       "      <td>Savings</td>\n",
       "      <td>1</td>\n",
       "      <td>6</td>\n",
       "      <td>1995</td>\n",
       "    </tr>\n",
       "    <tr>\n",
       "      <th>3</th>\n",
       "      <td>1362487</td>\n",
       "      <td>6605</td>\n",
       "      <td>Lowest</td>\n",
       "      <td>71</td>\n",
       "      <td>70-79</td>\n",
       "      <td>1</td>\n",
       "      <td>0</td>\n",
       "      <td>M</td>\n",
       "      <td>2</td>\n",
       "      <td>West</td>\n",
       "      <td>2</td>\n",
       "      <td>1.92</td>\n",
       "      <td>0.00</td>\n",
       "      <td>1.92</td>\n",
       "      <td>771.36</td>\n",
       "      <td>1995-01-31</td>\n",
       "      <td>Savings</td>\n",
       "      <td>1</td>\n",
       "      <td>1</td>\n",
       "      <td>1995</td>\n",
       "    </tr>\n",
       "    <tr>\n",
       "      <th>4</th>\n",
       "      <td>1362487</td>\n",
       "      <td>6605</td>\n",
       "      <td>Lowest</td>\n",
       "      <td>71</td>\n",
       "      <td>70-79</td>\n",
       "      <td>1</td>\n",
       "      <td>0</td>\n",
       "      <td>M</td>\n",
       "      <td>2</td>\n",
       "      <td>West</td>\n",
       "      <td>7</td>\n",
       "      <td>1.28</td>\n",
       "      <td>0.00</td>\n",
       "      <td>1.28</td>\n",
       "      <td>513.92</td>\n",
       "      <td>1995-03-31</td>\n",
       "      <td>Savings</td>\n",
       "      <td>4</td>\n",
       "      <td>3</td>\n",
       "      <td>1995</td>\n",
       "    </tr>\n",
       "  </tbody>\n",
       "</table>\n",
       "</div>"
      ],
      "text/plain": [
       "   cust_id  income Tier_income2  age Age_Group  years_with_bank  nbr_children  \\\n",
       "0  1362487    6605       Lowest   71     70-79                1             0   \n",
       "1  1362487    6605       Lowest   71     70-79                1             0   \n",
       "2  1362487    6605       Lowest   71     70-79                1             0   \n",
       "3  1362487    6605       Lowest   71     70-79                1             0   \n",
       "4  1362487    6605       Lowest   71     70-79                1             0   \n",
       "\n",
       "  gender  marital_status Region  tran_id  tran_amt  principal_amt  \\\n",
       "0     M                2   West        5   -200.00        -200.00   \n",
       "1     M                2   West       10   -204.66        -204.66   \n",
       "2     M                2   West       15    -40.00         -40.00   \n",
       "3     M                2   West        2      1.92           0.00   \n",
       "4     M                2   West        7      1.28           0.00   \n",
       "\n",
       "   interest_amt  new_balance   tran_date     Type  day  month  year  \n",
       "0          0.00       511.36  1995-02-27  Savings    0      2  1995  \n",
       "1          0.00       310.54  1995-05-13  Savings    5      5  1995  \n",
       "2          0.00        25.66  1995-06-27  Savings    1      6  1995  \n",
       "3          1.92       771.36  1995-01-31  Savings    1      1  1995  \n",
       "4          1.28       513.92  1995-03-31  Savings    4      3  1995  "
      ]
     },
     "execution_count": 265,
     "metadata": {},
     "output_type": "execute_result"
    }
   ],
   "source": [
    "merged_df.head()"
   ]
  },
  {
   "cell_type": "markdown",
   "id": "aa00795c",
   "metadata": {},
   "source": [
    "## Data cleaning and EDA"
   ]
  },
  {
   "cell_type": "code",
   "execution_count": 154,
   "id": "d0c4b9a3",
   "metadata": {},
   "outputs": [
    {
     "data": {
      "text/plain": [
       "F     418\n",
       "M     329\n",
       "Name: gender, dtype: int64"
      ]
     },
     "execution_count": 154,
     "metadata": {},
     "output_type": "execute_result"
    }
   ],
   "source": [
    "customer.gender.value_counts()"
   ]
  },
  {
   "cell_type": "code",
   "execution_count": 139,
   "id": "ebbcd7d0",
   "metadata": {},
   "outputs": [],
   "source": [
    "#merged_df[merged_df['income']>=140000]"
   ]
  },
  {
   "cell_type": "code",
   "execution_count": 152,
   "id": "3ae5859b",
   "metadata": {},
   "outputs": [
    {
     "data": {
      "text/plain": [
       "<matplotlib.axes._subplots.AxesSubplot at 0x1a922f76a0>"
      ]
     },
     "execution_count": 152,
     "metadata": {},
     "output_type": "execute_result"
    },
    {
     "data": {
      "image/png": "[encoded data removed]",
      "text/plain": [
       "<Figure size 432x288 with 1 Axes>"
      ]
     },
     "metadata": {
      "needs_background": "light"
     },
     "output_type": "display_data"
    }
   ],
   "source": [
    "sns.scatterplot(data=merged_df, x=\"tran_amt\", y=\"interest_amt\")"
   ]
  },
  {
   "cell_type": "code",
   "execution_count": 128,
   "id": "7561f12d",
   "metadata": {},
   "outputs": [
    {
     "data": {
      "text/plain": [
       "<matplotlib.axes._subplots.AxesSubplot at 0x1a53c24898>"
      ]
     },
     "execution_count": 128,
     "metadata": {},
     "output_type": "execute_result"
    },
    {
     "data": {
      "image/png": "[encoded data removed]",
      "text/plain": [
       "<Figure size 432x288 with 1 Axes>"
      ]
     },
     "metadata": {
      "needs_background": "light"
     },
     "output_type": "display_data"
    }
   ],
   "source": [
    "sns.scatterplot(data=merged_df, x=\"tran_amt\", y=\"age\")"
   ]
  },
  {
   "cell_type": "code",
   "execution_count": 130,
   "id": "d4bdbe13",
   "metadata": {},
   "outputs": [],
   "source": [
    "merged_df = merged_df.drop(merged_df[(merged_df['tran_amt']>15000) & (merged_df['age']>40)].index)"
   ]
  },
  {
   "cell_type": "code",
   "execution_count": 131,
   "id": "c2febaf4",
   "metadata": {},
   "outputs": [
    {
     "data": {
      "text/plain": [
       "<matplotlib.axes._subplots.AxesSubplot at 0x1a51cf5e80>"
      ]
     },
     "execution_count": 131,
     "metadata": {},
     "output_type": "execute_result"
    },
    {
     "data": {
      "image/png": "[encoded data removed]",
      "text/plain": [
       "<Figure size 432x288 with 1 Axes>"
      ]
     },
     "metadata": {
      "needs_background": "light"
     },
     "output_type": "display_data"
    }
   ],
   "source": [
    "sns.scatterplot(data=merged_df, x=\"tran_amt\", y=\"age\")"
   ]
  },
  {
   "cell_type": "code",
   "execution_count": 133,
   "id": "8c7f2267",
   "metadata": {},
   "outputs": [
    {
     "data": {
      "text/plain": [
       "<matplotlib.axes._subplots.AxesSubplot at 0x1a90b8e240>"
      ]
     },
     "execution_count": 133,
     "metadata": {},
     "output_type": "execute_result"
    },
    {
     "data": {
      "image/png": "[encoded data removed]",
      "text/plain": [
       "<Figure size 432x288 with 1 Axes>"
      ]
     },
     "metadata": {
      "needs_background": "light"
     },
     "output_type": "display_data"
    }
   ],
   "source": [
    "sns.scatterplot(data=merged_df, x=\"age\", y=\"income\")"
   ]
  },
  {
   "cell_type": "code",
   "execution_count": 126,
   "id": "2a36f8d4",
   "metadata": {},
   "outputs": [
    {
     "data": {
      "text/plain": [
       "<matplotlib.axes._subplots.AxesSubplot at 0x1a54acf6d8>"
      ]
     },
     "execution_count": 126,
     "metadata": {},
     "output_type": "execute_result"
    },
    {
     "data": {
      "image/png": "[encoded data removed]",
      "text/plain": [
       "<Figure size 432x288 with 1 Axes>"
      ]
     },
     "metadata": {
      "needs_background": "light"
     },
     "output_type": "display_data"
    }
   ],
   "source": [
    "sns.boxplot(x=\"Region\", y = \"income\", data = merged_df)"
   ]
  },
  {
   "cell_type": "code",
   "execution_count": 146,
   "id": "a1dee296",
   "metadata": {},
   "outputs": [
    {
     "data": {
      "text/plain": [
       "<matplotlib.axes._subplots.AxesSubplot at 0x1a931dc2e8>"
      ]
     },
     "execution_count": 146,
     "metadata": {},
     "output_type": "execute_result"
    },
    {
     "data": {
      "image/png": "[encoded data removed]",
      "text/plain": [
       "<Figure size 432x288 with 1 Axes>"
      ]
     },
     "metadata": {
      "needs_background": "light"
     },
     "output_type": "display_data"
    }
   ],
   "source": [
    "sns.boxplot(x=\"Type\", y = \"age\", data = merged_df)"
   ]
  },
  {
   "cell_type": "code",
   "execution_count": 145,
   "id": "2b12c1eb",
   "metadata": {},
   "outputs": [
    {
     "data": {
      "text/plain": [
       "<matplotlib.axes._subplots.AxesSubplot at 0x1a92fe9dd8>"
      ]
     },
     "execution_count": 145,
     "metadata": {},
     "output_type": "execute_result"
    },
    {
     "data": {
      "image/png": "[encoded data removed]",
      "text/plain": [
       "<Figure size 864x648 with 2 Axes>"
      ]
     },
     "metadata": {
      "needs_background": "light"
     },
     "output_type": "display_data"
    }
   ],
   "source": [
    "corrmat = merged_df.corr()\n",
    "f, ax = plt.subplots(figsize=(12, 9))\n",
    "sns.heatmap(corrmat, vmax=.8, square=True,cmap=\"RdYlGn_r\")"
   ]
  },
  {
   "cell_type": "markdown",
   "id": "7f3d4d07",
   "metadata": {},
   "source": [
    "## Lets Make a Radar Plot"
   ]
  },
  {
   "cell_type": "markdown",
   "id": "e85fd300",
   "metadata": {},
   "source": [
    "Plot will have labels based on age groups, categories are the Types of Transactions.\n",
    "\n",
    "Need to find proportion of transactions per age group"
   ]
  },
  {
   "cell_type": "code",
   "execution_count": 175,
   "id": "64be8c0c",
   "metadata": {},
   "outputs": [
    {
     "data": {
      "text/html": [
       "<div>\n",
       "<style scoped>\n",
       "    .dataframe tbody tr th:only-of-type {\n",
       "        vertical-align: middle;\n",
       "    }\n",
       "\n",
       "    .dataframe tbody tr th {\n",
       "        vertical-align: top;\n",
       "    }\n",
       "\n",
       "    .dataframe thead th {\n",
       "        text-align: right;\n",
       "    }\n",
       "</style>\n",
       "<table border=\"1\" class=\"dataframe\">\n",
       "  <thead>\n",
       "    <tr style=\"text-align: right;\">\n",
       "      <th></th>\n",
       "      <th>cust_id</th>\n",
       "      <th>income</th>\n",
       "      <th>Tier_income2</th>\n",
       "      <th>age</th>\n",
       "      <th>years_with_bank</th>\n",
       "      <th>nbr_children</th>\n",
       "      <th>gender</th>\n",
       "      <th>marital_status</th>\n",
       "      <th>Region</th>\n",
       "      <th>tran_id</th>\n",
       "      <th>tran_amt</th>\n",
       "      <th>principal_amt</th>\n",
       "      <th>interest_amt</th>\n",
       "      <th>new_balance</th>\n",
       "      <th>tran_date</th>\n",
       "      <th>Type</th>\n",
       "    </tr>\n",
       "    <tr>\n",
       "      <th>Age_Group</th>\n",
       "      <th></th>\n",
       "      <th></th>\n",
       "      <th></th>\n",
       "      <th></th>\n",
       "      <th></th>\n",
       "      <th></th>\n",
       "      <th></th>\n",
       "      <th></th>\n",
       "      <th></th>\n",
       "      <th></th>\n",
       "      <th></th>\n",
       "      <th></th>\n",
       "      <th></th>\n",
       "      <th></th>\n",
       "      <th></th>\n",
       "      <th></th>\n",
       "    </tr>\n",
       "  </thead>\n",
       "  <tbody>\n",
       "    <tr>\n",
       "      <th>10-18</th>\n",
       "      <td>11.482871</td>\n",
       "      <td>11.482871</td>\n",
       "      <td>3.588236</td>\n",
       "      <td>11.482871</td>\n",
       "      <td>11.482871</td>\n",
       "      <td>11.482871</td>\n",
       "      <td>11.482871</td>\n",
       "      <td>11.482871</td>\n",
       "      <td>11.482871</td>\n",
       "      <td>11.482871</td>\n",
       "      <td>11.482871</td>\n",
       "      <td>11.482871</td>\n",
       "      <td>11.482871</td>\n",
       "      <td>11.482871</td>\n",
       "      <td>11.482871</td>\n",
       "      <td>11.482871</td>\n",
       "    </tr>\n",
       "    <tr>\n",
       "      <th>19-29</th>\n",
       "      <td>12.408618</td>\n",
       "      <td>12.408618</td>\n",
       "      <td>12.408618</td>\n",
       "      <td>12.408618</td>\n",
       "      <td>12.408618</td>\n",
       "      <td>12.408618</td>\n",
       "      <td>12.408618</td>\n",
       "      <td>12.408618</td>\n",
       "      <td>12.408618</td>\n",
       "      <td>12.408618</td>\n",
       "      <td>12.408618</td>\n",
       "      <td>12.408618</td>\n",
       "      <td>12.408618</td>\n",
       "      <td>12.408618</td>\n",
       "      <td>12.408618</td>\n",
       "      <td>12.408618</td>\n",
       "    </tr>\n",
       "    <tr>\n",
       "      <th>30-39</th>\n",
       "      <td>18.049485</td>\n",
       "      <td>18.049485</td>\n",
       "      <td>18.049485</td>\n",
       "      <td>18.049485</td>\n",
       "      <td>18.049485</td>\n",
       "      <td>18.049485</td>\n",
       "      <td>18.049485</td>\n",
       "      <td>18.049485</td>\n",
       "      <td>18.049485</td>\n",
       "      <td>18.049485</td>\n",
       "      <td>18.049485</td>\n",
       "      <td>18.049485</td>\n",
       "      <td>18.049485</td>\n",
       "      <td>18.049485</td>\n",
       "      <td>18.049485</td>\n",
       "      <td>18.049485</td>\n",
       "    </tr>\n",
       "    <tr>\n",
       "      <th>40-49</th>\n",
       "      <td>18.084297</td>\n",
       "      <td>18.084297</td>\n",
       "      <td>18.084297</td>\n",
       "      <td>18.084297</td>\n",
       "      <td>18.084297</td>\n",
       "      <td>18.084297</td>\n",
       "      <td>18.084297</td>\n",
       "      <td>18.084297</td>\n",
       "      <td>18.084297</td>\n",
       "      <td>18.084297</td>\n",
       "      <td>18.084297</td>\n",
       "      <td>18.084297</td>\n",
       "      <td>18.084297</td>\n",
       "      <td>18.084297</td>\n",
       "      <td>18.084297</td>\n",
       "      <td>18.084297</td>\n",
       "    </tr>\n",
       "    <tr>\n",
       "      <th>50-59</th>\n",
       "      <td>19.064196</td>\n",
       "      <td>19.064196</td>\n",
       "      <td>19.064196</td>\n",
       "      <td>19.064196</td>\n",
       "      <td>19.064196</td>\n",
       "      <td>19.064196</td>\n",
       "      <td>19.064196</td>\n",
       "      <td>19.064196</td>\n",
       "      <td>19.064196</td>\n",
       "      <td>19.064196</td>\n",
       "      <td>19.064196</td>\n",
       "      <td>19.064196</td>\n",
       "      <td>19.064196</td>\n",
       "      <td>19.064196</td>\n",
       "      <td>19.064196</td>\n",
       "      <td>19.064196</td>\n",
       "    </tr>\n",
       "    <tr>\n",
       "      <th>60-69</th>\n",
       "      <td>11.919958</td>\n",
       "      <td>11.919958</td>\n",
       "      <td>11.919958</td>\n",
       "      <td>11.919958</td>\n",
       "      <td>11.919958</td>\n",
       "      <td>11.919958</td>\n",
       "      <td>11.919958</td>\n",
       "      <td>11.919958</td>\n",
       "      <td>11.919958</td>\n",
       "      <td>11.919958</td>\n",
       "      <td>11.919958</td>\n",
       "      <td>11.919958</td>\n",
       "      <td>11.919958</td>\n",
       "      <td>11.919958</td>\n",
       "      <td>11.919958</td>\n",
       "      <td>11.919958</td>\n",
       "    </tr>\n",
       "    <tr>\n",
       "      <th>70-79</th>\n",
       "      <td>5.190887</td>\n",
       "      <td>5.190887</td>\n",
       "      <td>5.190887</td>\n",
       "      <td>5.190887</td>\n",
       "      <td>5.190887</td>\n",
       "      <td>5.190887</td>\n",
       "      <td>5.190887</td>\n",
       "      <td>5.190887</td>\n",
       "      <td>5.190887</td>\n",
       "      <td>5.190887</td>\n",
       "      <td>5.190887</td>\n",
       "      <td>5.190887</td>\n",
       "      <td>5.190887</td>\n",
       "      <td>5.190887</td>\n",
       "      <td>5.190887</td>\n",
       "      <td>5.190887</td>\n",
       "    </tr>\n",
       "    <tr>\n",
       "      <th>80-89</th>\n",
       "      <td>3.799688</td>\n",
       "      <td>3.799688</td>\n",
       "      <td>3.799688</td>\n",
       "      <td>3.799688</td>\n",
       "      <td>3.799688</td>\n",
       "      <td>3.799688</td>\n",
       "      <td>3.799688</td>\n",
       "      <td>3.799688</td>\n",
       "      <td>3.799688</td>\n",
       "      <td>3.799688</td>\n",
       "      <td>3.799688</td>\n",
       "      <td>3.799688</td>\n",
       "      <td>3.799688</td>\n",
       "      <td>3.799688</td>\n",
       "      <td>3.799688</td>\n",
       "      <td>3.799688</td>\n",
       "    </tr>\n",
       "  </tbody>\n",
       "</table>\n",
       "</div>"
      ],
      "text/plain": [
       "             cust_id     income  Tier_income2        age  years_with_bank  \\\n",
       "Age_Group                                                                   \n",
       "10-18      11.482871  11.482871      3.588236  11.482871        11.482871   \n",
       "19-29      12.408618  12.408618     12.408618  12.408618        12.408618   \n",
       "30-39      18.049485  18.049485     18.049485  18.049485        18.049485   \n",
       "40-49      18.084297  18.084297     18.084297  18.084297        18.084297   \n",
       "50-59      19.064196  19.064196     19.064196  19.064196        19.064196   \n",
       "60-69      11.919958  11.919958     11.919958  11.919958        11.919958   \n",
       "70-79       5.190887   5.190887      5.190887   5.190887         5.190887   \n",
       "80-89       3.799688   3.799688      3.799688   3.799688         3.799688   \n",
       "\n",
       "           nbr_children     gender  marital_status     Region    tran_id  \\\n",
       "Age_Group                                                                  \n",
       "10-18         11.482871  11.482871       11.482871  11.482871  11.482871   \n",
       "19-29         12.408618  12.408618       12.408618  12.408618  12.408618   \n",
       "30-39         18.049485  18.049485       18.049485  18.049485  18.049485   \n",
       "40-49         18.084297  18.084297       18.084297  18.084297  18.084297   \n",
       "50-59         19.064196  19.064196       19.064196  19.064196  19.064196   \n",
       "60-69         11.919958  11.919958       11.919958  11.919958  11.919958   \n",
       "70-79          5.190887   5.190887        5.190887   5.190887   5.190887   \n",
       "80-89          3.799688   3.799688        3.799688   3.799688   3.799688   \n",
       "\n",
       "            tran_amt  principal_amt  interest_amt  new_balance  tran_date  \\\n",
       "Age_Group                                                                   \n",
       "10-18      11.482871      11.482871     11.482871    11.482871  11.482871   \n",
       "19-29      12.408618      12.408618     12.408618    12.408618  12.408618   \n",
       "30-39      18.049485      18.049485     18.049485    18.049485  18.049485   \n",
       "40-49      18.084297      18.084297     18.084297    18.084297  18.084297   \n",
       "50-59      19.064196      19.064196     19.064196    19.064196  19.064196   \n",
       "60-69      11.919958      11.919958     11.919958    11.919958  11.919958   \n",
       "70-79       5.190887       5.190887      5.190887     5.190887   5.190887   \n",
       "80-89       3.799688       3.799688      3.799688     3.799688   3.799688   \n",
       "\n",
       "                Type  \n",
       "Age_Group             \n",
       "10-18      11.482871  \n",
       "19-29      12.408618  \n",
       "30-39      18.049485  \n",
       "40-49      18.084297  \n",
       "50-59      19.064196  \n",
       "60-69      11.919958  \n",
       "70-79       5.190887  \n",
       "80-89       3.799688  "
      ]
     },
     "execution_count": 175,
     "metadata": {},
     "output_type": "execute_result"
    }
   ],
   "source": [
    "(merged_df.groupby('Age_Group').count()/(merged_df['Type']=='Checking').count())*100"
   ]
  },
  {
   "cell_type": "code",
   "execution_count": 185,
   "id": "e875cbf8",
   "metadata": {},
   "outputs": [
    {
     "data": {
      "text/plain": [
       "Age_Group  Type    \n",
       "10-18      Checking    53.346059\n",
       "           Savings     25.061756\n",
       "           Credit      21.592185\n",
       "19-29      Checking    60.681629\n",
       "           Credit      25.914381\n",
       "           Savings     13.403990\n",
       "30-39      Checking    63.090221\n",
       "           Credit      25.844703\n",
       "           Savings     11.065076\n",
       "40-49      Checking    57.985170\n",
       "           Credit      29.431057\n",
       "           Savings     12.583773\n",
       "50-59      Checking    62.085757\n",
       "           Credit      23.995672\n",
       "           Savings     13.918572\n",
       "60-69      Checking    59.048134\n",
       "           Credit      28.577610\n",
       "           Savings     12.374256\n",
       "70-79      Checking    55.091903\n",
       "           Credit      26.900149\n",
       "           Savings     18.007948\n",
       "80-89      Checking    60.773668\n",
       "           Credit      24.770954\n",
       "           Savings     14.455378\n",
       "Name: Type, dtype: float64"
      ]
     },
     "execution_count": 185,
     "metadata": {},
     "output_type": "execute_result"
    }
   ],
   "source": [
    "#Create new variable using group by and get value counts for each type\n",
    "types_per_group = merged_df.groupby('Age_Group')['Type'].value_counts()\n",
    "#create other varian;e calculting the grouped proportions\n",
    "pro_age_type = types_per_group.groupby(level=0).apply(lambda x: 100 * x / float(x.sum()))\n",
    "pro_age_type"
   ]
  },
  {
   "cell_type": "code",
   "execution_count": 198,
   "id": "a4fb0934",
   "metadata": {},
   "outputs": [
    {
     "data": {
      "text/plain": [
       "[60.77366813708856, 24.770953512046148, 14.455378350865287]"
      ]
     },
     "execution_count": 198,
     "metadata": {},
     "output_type": "execute_result"
    }
   ],
   "source": [
    "lis_types = pro_age_type.tolist()\n",
    "lis_types[21:24]"
   ]
  },
  {
   "cell_type": "code",
   "execution_count": 199,
   "id": "6e45dbd5",
   "metadata": {},
   "outputs": [],
   "source": [
    "type_trans = ['Checking', 'Savings', 'Credit']\n",
    "Group1 = lis_types[0:3]\n",
    "Group2 = lis_types[3:6]\n",
    "Group3 = lis_types[6:9]\n",
    "Group4 = lis_types[9:12]\n",
    "Group5 = lis_types[12:15]\n",
    "Group6 = lis_types[15:18]\n",
    "Group7 = lis_types[18:21]\n",
    "Group8 = lis_types[21:24]"
   ]
  },
  {
   "cell_type": "code",
   "execution_count": 207,
   "id": "3f364556",
   "metadata": {},
   "outputs": [
    {
     "data": {
      "application/vnd.plotly.v1+json": {
       "config": {
        "plotlyServerURL": "https://plot.ly"
       },
       "data": [
        {
         "fill": "none",
         "name": "10-19",
         "r": [
          53.346058836739275,
          25.06175611947002,
          21.592185043790703
         ],
         "theta": [
          "Checking",
          "Savings",
          "Credit"
         ],
         "type": "scatterpolar"
        },
        {
         "fill": "none",
         "name": "20-29",
         "r": [
          60.68162926018287,
          25.914380714879467,
          13.403990024937656
         ],
         "theta": [
          "Checking",
          "Savings",
          "Credit"
         ],
         "type": "scatterpolar"
        },
        {
         "fill": "none",
         "name": "30-39",
         "r": [
          63.090220730052145,
          25.84470319308522,
          11.065076076862633
         ],
         "theta": [
          "Checking",
          "Savings",
          "Credit"
         ],
         "type": "scatterpolar"
        },
        {
         "fill": "none",
         "name": "40-49",
         "r": [
          57.9851703978326,
          29.431056609154428,
          12.583772993012976
         ],
         "theta": [
          "Checking",
          "Savings",
          "Credit"
         ],
         "type": "scatterpolar"
        },
        {
         "fill": "none",
         "name": "50-59",
         "r": [
          62.08575679697011,
          23.995671581225483,
          13.918571621804409
         ],
         "theta": [
          "Checking",
          "Savings",
          "Credit"
         ],
         "type": "scatterpolar"
        },
        {
         "fill": "none",
         "name": "60-69",
         "r": [
          59.04813412655489,
          28.577609518658736,
          12.374256354786372
         ],
         "theta": [
          "Checking",
          "Savings",
          "Credit"
         ],
         "type": "scatterpolar"
        },
        {
         "fill": "none",
         "name": "70-79",
         "r": [
          55.09190263288624,
          26.90014903129657,
          18.00794833581719
         ],
         "theta": [
          "Checking",
          "Savings",
          "Credit"
         ],
         "type": "scatterpolar"
        },
        {
         "fill": "none",
         "name": "80-89",
         "r": [
          60.77366813708856,
          24.770953512046148,
          14.455378350865287
         ],
         "theta": [
          "Checking",
          "Savings",
          "Credit"
         ],
         "type": "scatterpolar"
        }
       ],
       "layout": {
        "template": {
         "data": {
          "bar": [
           {
            "error_x": {
             "color": "#2a3f5f"
            },
            "error_y": {
             "color": "#2a3f5f"
            },
            "marker": {
             "line": {
              "color": "#E5ECF6",
              "width": 0.5
             },
             "pattern": {
              "fillmode": "overlay",
              "size": 10,
              "solidity": 0.2
             }
            },
            "type": "bar"
           }
          ],
          "barpolar": [
           {
            "marker": {
             "line": {
              "color": "#E5ECF6",
              "width": 0.5
             },
             "pattern": {
              "fillmode": "overlay",
              "size": 10,
              "solidity": 0.2
             }
            },
            "type": "barpolar"
           }
          ],
          "carpet": [
           {
            "aaxis": {
             "endlinecolor": "#2a3f5f",
             "gridcolor": "white",
             "linecolor": "white",
             "minorgridcolor": "white",
             "startlinecolor": "#2a3f5f"
            },
            "baxis": {
             "endlinecolor": "#2a3f5f",
             "gridcolor": "white",
             "linecolor": "white",
             "minorgridcolor": "white",
             "startlinecolor": "#2a3f5f"
            },
            "type": "carpet"
           }
          ],
          "choropleth": [
           {
            "colorbar": {
             "outlinewidth": 0,
             "ticks": ""
            },
            "type": "choropleth"
           }
          ],
          "contour": [
           {
            "colorbar": {
             "outlinewidth": 0,
             "ticks": ""
            },
            "colorscale": [
             [
              0,
              "#0d0887"
             ],
             [
              0.1111111111111111,
              "#46039f"
             ],
             [
              0.2222222222222222,
              "#7201a8"
             ],
             [
              0.3333333333333333,
              "#9c179e"
             ],
             [
              0.4444444444444444,
              "#bd3786"
             ],
             [
              0.5555555555555556,
              "#d8576b"
             ],
             [
              0.6666666666666666,
              "#ed7953"
             ],
             [
              0.7777777777777778,
              "#fb9f3a"
             ],
             [
              0.8888888888888888,
              "#fdca26"
             ],
             [
              1,
              "#f0f921"
             ]
            ],
            "type": "contour"
           }
          ],
          "contourcarpet": [
           {
            "colorbar": {
             "outlinewidth": 0,
             "ticks": ""
            },
            "type": "contourcarpet"
           }
          ],
          "heatmap": [
           {
            "colorbar": {
             "outlinewidth": 0,
             "ticks": ""
            },
            "colorscale": [
             [
              0,
              "#0d0887"
             ],
             [
              0.1111111111111111,
              "#46039f"
             ],
             [
              0.2222222222222222,
              "#7201a8"
             ],
             [
              0.3333333333333333,
              "#9c179e"
             ],
             [
              0.4444444444444444,
              "#bd3786"
             ],
             [
              0.5555555555555556,
              "#d8576b"
             ],
             [
              0.6666666666666666,
              "#ed7953"
             ],
             [
              0.7777777777777778,
              "#fb9f3a"
             ],
             [
              0.8888888888888888,
              "#fdca26"
             ],
             [
              1,
              "#f0f921"
             ]
            ],
            "type": "heatmap"
           }
          ],
          "heatmapgl": [
           {
            "colorbar": {
             "outlinewidth": 0,
             "ticks": ""
            },
            "colorscale": [
             [
              0,
              "#0d0887"
             ],
             [
              0.1111111111111111,
              "#46039f"
             ],
             [
              0.2222222222222222,
              "#7201a8"
             ],
             [
              0.3333333333333333,
              "#9c179e"
             ],
             [
              0.4444444444444444,
              "#bd3786"
             ],
             [
              0.5555555555555556,
              "#d8576b"
             ],
             [
              0.6666666666666666,
              "#ed7953"
             ],
             [
              0.7777777777777778,
              "#fb9f3a"
             ],
             [
              0.8888888888888888,
              "#fdca26"
             ],
             [
              1,
              "#f0f921"
             ]
            ],
            "type": "heatmapgl"
           }
          ],
          "histogram": [
           {
            "marker": {
             "pattern": {
              "fillmode": "overlay",
              "size": 10,
              "solidity": 0.2
             }
            },
            "type": "histogram"
           }
          ],
          "histogram2d": [
           {
            "colorbar": {
             "outlinewidth": 0,
             "ticks": ""
            },
            "colorscale": [
             [
              0,
              "#0d0887"
             ],
             [
              0.1111111111111111,
              "#46039f"
             ],
             [
              0.2222222222222222,
              "#7201a8"
             ],
             [
              0.3333333333333333,
              "#9c179e"
             ],
             [
              0.4444444444444444,
              "#bd3786"
             ],
             [
              0.5555555555555556,
              "#d8576b"
             ],
             [
              0.6666666666666666,
              "#ed7953"
             ],
             [
              0.7777777777777778,
              "#fb9f3a"
             ],
             [
              0.8888888888888888,
              "#fdca26"
             ],
             [
              1,
              "#f0f921"
             ]
            ],
            "type": "histogram2d"
           }
          ],
          "histogram2dcontour": [
           {
            "colorbar": {
             "outlinewidth": 0,
             "ticks": ""
            },
            "colorscale": [
             [
              0,
              "#0d0887"
             ],
             [
              0.1111111111111111,
              "#46039f"
             ],
             [
              0.2222222222222222,
              "#7201a8"
             ],
             [
              0.3333333333333333,
              "#9c179e"
             ],
             [
              0.4444444444444444,
              "#bd3786"
             ],
             [
              0.5555555555555556,
              "#d8576b"
             ],
             [
              0.6666666666666666,
              "#ed7953"
             ],
             [
              0.7777777777777778,
              "#fb9f3a"
             ],
             [
              0.8888888888888888,
              "#fdca26"
             ],
             [
              1,
              "#f0f921"
             ]
            ],
            "type": "histogram2dcontour"
           }
          ],
          "mesh3d": [
           {
            "colorbar": {
             "outlinewidth": 0,
             "ticks": ""
            },
            "type": "mesh3d"
           }
          ],
          "parcoords": [
           {
            "line": {
             "colorbar": {
              "outlinewidth": 0,
              "ticks": ""
             }
            },
            "type": "parcoords"
           }
          ],
          "pie": [
           {
            "automargin": true,
            "type": "pie"
           }
          ],
          "scatter": [
           {
            "marker": {
             "colorbar": {
              "outlinewidth": 0,
              "ticks": ""
             }
            },
            "type": "scatter"
           }
          ],
          "scatter3d": [
           {
            "line": {
             "colorbar": {
              "outlinewidth": 0,
              "ticks": ""
             }
            },
            "marker": {
             "colorbar": {
              "outlinewidth": 0,
              "ticks": ""
             }
            },
            "type": "scatter3d"
           }
          ],
          "scattercarpet": [
           {
            "marker": {
             "colorbar": {
              "outlinewidth": 0,
              "ticks": ""
             }
            },
            "type": "scattercarpet"
           }
          ],
          "scattergeo": [
           {
            "marker": {
             "colorbar": {
              "outlinewidth": 0,
              "ticks": ""
             }
            },
            "type": "scattergeo"
           }
          ],
          "scattergl": [
           {
            "marker": {
             "colorbar": {
              "outlinewidth": 0,
              "ticks": ""
             }
            },
            "type": "scattergl"
           }
          ],
          "scattermapbox": [
           {
            "marker": {
             "colorbar": {
              "outlinewidth": 0,
              "ticks": ""
             }
            },
            "type": "scattermapbox"
           }
          ],
          "scatterpolar": [
           {
            "marker": {
             "colorbar": {
              "outlinewidth": 0,
              "ticks": ""
             }
            },
            "type": "scatterpolar"
           }
          ],
          "scatterpolargl": [
           {
            "marker": {
             "colorbar": {
              "outlinewidth": 0,
              "ticks": ""
             }
            },
            "type": "scatterpolargl"
           }
          ],
          "scatterternary": [
           {
            "marker": {
             "colorbar": {
              "outlinewidth": 0,
              "ticks": ""
             }
            },
            "type": "scatterternary"
           }
          ],
          "surface": [
           {
            "colorbar": {
             "outlinewidth": 0,
             "ticks": ""
            },
            "colorscale": [
             [
              0,
              "#0d0887"
             ],
             [
              0.1111111111111111,
              "#46039f"
             ],
             [
              0.2222222222222222,
              "#7201a8"
             ],
             [
              0.3333333333333333,
              "#9c179e"
             ],
             [
              0.4444444444444444,
              "#bd3786"
             ],
             [
              0.5555555555555556,
              "#d8576b"
             ],
             [
              0.6666666666666666,
              "#ed7953"
             ],
             [
              0.7777777777777778,
              "#fb9f3a"
             ],
             [
              0.8888888888888888,
              "#fdca26"
             ],
             [
              1,
              "#f0f921"
             ]
            ],
            "type": "surface"
           }
          ],
          "table": [
           {
            "cells": {
             "fill": {
              "color": "#EBF0F8"
             },
             "line": {
              "color": "white"
             }
            },
            "header": {
             "fill": {
              "color": "#C8D4E3"
             },
             "line": {
              "color": "white"
             }
            },
            "type": "table"
           }
          ]
         },
         "layout": {
          "annotationdefaults": {
           "arrowcolor": "#2a3f5f",
           "arrowhead": 0,
           "arrowwidth": 1
          },
          "autotypenumbers": "strict",
          "coloraxis": {
           "colorbar": {
            "outlinewidth": 0,
            "ticks": ""
           }
          },
          "colorscale": {
           "diverging": [
            [
             0,
             "#8e0152"
            ],
            [
             0.1,
             "#c51b7d"
            ],
            [
             0.2,
             "#de77ae"
            ],
            [
             0.3,
             "#f1b6da"
            ],
            [
             0.4,
             "#fde0ef"
            ],
            [
             0.5,
             "#f7f7f7"
            ],
            [
             0.6,
             "#e6f5d0"
            ],
            [
             0.7,
             "#b8e186"
            ],
            [
             0.8,
             "#7fbc41"
            ],
            [
             0.9,
             "#4d9221"
            ],
            [
             1,
             "#276419"
            ]
           ],
           "sequential": [
            [
             0,
             "#0d0887"
            ],
            [
             0.1111111111111111,
             "#46039f"
            ],
            [
             0.2222222222222222,
             "#7201a8"
            ],
            [
             0.3333333333333333,
             "#9c179e"
            ],
            [
             0.4444444444444444,
             "#bd3786"
            ],
            [
             0.5555555555555556,
             "#d8576b"
            ],
            [
             0.6666666666666666,
             "#ed7953"
            ],
            [
             0.7777777777777778,
             "#fb9f3a"
            ],
            [
             0.8888888888888888,
             "#fdca26"
            ],
            [
             1,
             "#f0f921"
            ]
           ],
           "sequentialminus": [
            [
             0,
             "#0d0887"
            ],
            [
             0.1111111111111111,
             "#46039f"
            ],
            [
             0.2222222222222222,
             "#7201a8"
            ],
            [
             0.3333333333333333,
             "#9c179e"
            ],
            [
             0.4444444444444444,
             "#bd3786"
            ],
            [
             0.5555555555555556,
             "#d8576b"
            ],
            [
             0.6666666666666666,
             "#ed7953"
            ],
            [
             0.7777777777777778,
             "#fb9f3a"
            ],
            [
             0.8888888888888888,
             "#fdca26"
            ],
            [
             1,
             "#f0f921"
            ]
           ]
          },
          "colorway": [
           "#636efa",
           "#EF553B",
           "#00cc96",
           "#ab63fa",
           "#FFA15A",
           "#19d3f3",
           "#FF6692",
           "#B6E880",
           "#FF97FF",
           "#FECB52"
          ],
          "font": {
           "color": "#2a3f5f"
          },
          "geo": {
           "bgcolor": "white",
           "lakecolor": "white",
           "landcolor": "#E5ECF6",
           "showlakes": true,
           "showland": true,
           "subunitcolor": "white"
          },
          "hoverlabel": {
           "align": "left"
          },
          "hovermode": "closest",
          "mapbox": {
           "style": "light"
          },
          "paper_bgcolor": "white",
          "plot_bgcolor": "#E5ECF6",
          "polar": {
           "angularaxis": {
            "gridcolor": "white",
            "linecolor": "white",
            "ticks": ""
           },
           "bgcolor": "#E5ECF6",
           "radialaxis": {
            "gridcolor": "white",
            "linecolor": "white",
            "ticks": ""
           }
          },
          "scene": {
           "xaxis": {
            "backgroundcolor": "#E5ECF6",
            "gridcolor": "white",
            "gridwidth": 2,
            "linecolor": "white",
            "showbackground": true,
            "ticks": "",
            "zerolinecolor": "white"
           },
           "yaxis": {
            "backgroundcolor": "#E5ECF6",
            "gridcolor": "white",
            "gridwidth": 2,
            "linecolor": "white",
            "showbackground": true,
            "ticks": "",
            "zerolinecolor": "white"
           },
           "zaxis": {
            "backgroundcolor": "#E5ECF6",
            "gridcolor": "white",
            "gridwidth": 2,
            "linecolor": "white",
            "showbackground": true,
            "ticks": "",
            "zerolinecolor": "white"
           }
          },
          "shapedefaults": {
           "line": {
            "color": "#2a3f5f"
           }
          },
          "ternary": {
           "aaxis": {
            "gridcolor": "white",
            "linecolor": "white",
            "ticks": ""
           },
           "baxis": {
            "gridcolor": "white",
            "linecolor": "white",
            "ticks": ""
           },
           "bgcolor": "#E5ECF6",
           "caxis": {
            "gridcolor": "white",
            "linecolor": "white",
            "ticks": ""
           }
          },
          "title": {
           "x": 0.05
          },
          "xaxis": {
           "automargin": true,
           "gridcolor": "white",
           "linecolor": "white",
           "ticks": "",
           "title": {
            "standoff": 15
           },
           "zerolinecolor": "white",
           "zerolinewidth": 2
          },
          "yaxis": {
           "automargin": true,
           "gridcolor": "white",
           "linecolor": "white",
           "ticks": "",
           "title": {
            "standoff": 15
           },
           "zerolinecolor": "white",
           "zerolinewidth": 2
          }
         }
        }
       }
      },
      "text/html": [
       "<div>                            <div id=\"5a011315-3d40-49e0-9836-12a3c015b5de\" class=\"plotly-graph-div\" style=\"height:525px; width:100%;\"></div>            <script type=\"text/javascript\">                require([\"plotly\"], function(Plotly) {                    window.PLOTLYENV=window.PLOTLYENV || {};                                    if (document.getElementById(\"5a011315-3d40-49e0-9836-12a3c015b5de\")) {                    Plotly.newPlot(                        \"5a011315-3d40-49e0-9836-12a3c015b5de\",                        [{\"fill\":\"none\",\"name\":\"10-19\",\"r\":[53.346058836739275,25.06175611947002,21.592185043790703],\"theta\":[\"Checking\",\"Savings\",\"Credit\"],\"type\":\"scatterpolar\"},{\"fill\":\"none\",\"name\":\"20-29\",\"r\":[60.68162926018287,25.914380714879467,13.403990024937656],\"theta\":[\"Checking\",\"Savings\",\"Credit\"],\"type\":\"scatterpolar\"},{\"fill\":\"none\",\"name\":\"30-39\",\"r\":[63.090220730052145,25.84470319308522,11.065076076862633],\"theta\":[\"Checking\",\"Savings\",\"Credit\"],\"type\":\"scatterpolar\"},{\"fill\":\"none\",\"name\":\"40-49\",\"r\":[57.9851703978326,29.431056609154428,12.583772993012976],\"theta\":[\"Checking\",\"Savings\",\"Credit\"],\"type\":\"scatterpolar\"},{\"fill\":\"none\",\"name\":\"50-59\",\"r\":[62.08575679697011,23.995671581225483,13.918571621804409],\"theta\":[\"Checking\",\"Savings\",\"Credit\"],\"type\":\"scatterpolar\"},{\"fill\":\"none\",\"name\":\"60-69\",\"r\":[59.04813412655489,28.577609518658736,12.374256354786372],\"theta\":[\"Checking\",\"Savings\",\"Credit\"],\"type\":\"scatterpolar\"},{\"fill\":\"none\",\"name\":\"70-79\",\"r\":[55.09190263288624,26.90014903129657,18.00794833581719],\"theta\":[\"Checking\",\"Savings\",\"Credit\"],\"type\":\"scatterpolar\"},{\"fill\":\"none\",\"name\":\"80-89\",\"r\":[60.77366813708856,24.770953512046148,14.455378350865287],\"theta\":[\"Checking\",\"Savings\",\"Credit\"],\"type\":\"scatterpolar\"}],                        {\"template\":{\"data\":{\"bar\":[{\"error_x\":{\"color\":\"#2a3f5f\"},\"error_y\":{\"color\":\"#2a3f5f\"},\"marker\":{\"line\":{\"color\":\"#E5ECF6\",\"width\":0.5},\"pattern\":{\"fillmode\":\"overlay\",\"size\":10,\"solidity\":0.2}},\"type\":\"bar\"}],\"barpolar\":[{\"marker\":{\"line\":{\"color\":\"#E5ECF6\",\"width\":0.5},\"pattern\":{\"fillmode\":\"overlay\",\"size\":10,\"solidity\":0.2}},\"type\":\"barpolar\"}],\"carpet\":[{\"aaxis\":{\"endlinecolor\":\"#2a3f5f\",\"gridcolor\":\"white\",\"linecolor\":\"white\",\"minorgridcolor\":\"white\",\"startlinecolor\":\"#2a3f5f\"},\"baxis\":{\"endlinecolor\":\"#2a3f5f\",\"gridcolor\":\"white\",\"linecolor\":\"white\",\"minorgridcolor\":\"white\",\"startlinecolor\":\"#2a3f5f\"},\"type\":\"carpet\"}],\"choropleth\":[{\"colorbar\":{\"outlinewidth\":0,\"ticks\":\"\"},\"type\":\"choropleth\"}],\"contour\":[{\"colorbar\":{\"outlinewidth\":0,\"ticks\":\"\"},\"colorscale\":[[0.0,\"#0d0887\"],[0.1111111111111111,\"#46039f\"],[0.2222222222222222,\"#7201a8\"],[0.3333333333333333,\"#9c179e\"],[0.4444444444444444,\"#bd3786\"],[0.5555555555555556,\"#d8576b\"],[0.6666666666666666,\"#ed7953\"],[0.7777777777777778,\"#fb9f3a\"],[0.8888888888888888,\"#fdca26\"],[1.0,\"#f0f921\"]],\"type\":\"contour\"}],\"contourcarpet\":[{\"colorbar\":{\"outlinewidth\":0,\"ticks\":\"\"},\"type\":\"contourcarpet\"}],\"heatmap\":[{\"colorbar\":{\"outlinewidth\":0,\"ticks\":\"\"},\"colorscale\":[[0.0,\"#0d0887\"],[0.1111111111111111,\"#46039f\"],[0.2222222222222222,\"#7201a8\"],[0.3333333333333333,\"#9c179e\"],[0.4444444444444444,\"#bd3786\"],[0.5555555555555556,\"#d8576b\"],[0.6666666666666666,\"#ed7953\"],[0.7777777777777778,\"#fb9f3a\"],[0.8888888888888888,\"#fdca26\"],[1.0,\"#f0f921\"]],\"type\":\"heatmap\"}],\"heatmapgl\":[{\"colorbar\":{\"outlinewidth\":0,\"ticks\":\"\"},\"colorscale\":[[0.0,\"#0d0887\"],[0.1111111111111111,\"#46039f\"],[0.2222222222222222,\"#7201a8\"],[0.3333333333333333,\"#9c179e\"],[0.4444444444444444,\"#bd3786\"],[0.5555555555555556,\"#d8576b\"],[0.6666666666666666,\"#ed7953\"],[0.7777777777777778,\"#fb9f3a\"],[0.8888888888888888,\"#fdca26\"],[1.0,\"#f0f921\"]],\"type\":\"heatmapgl\"}],\"histogram\":[{\"marker\":{\"pattern\":{\"fillmode\":\"overlay\",\"size\":10,\"solidity\":0.2}},\"type\":\"histogram\"}],\"histogram2d\":[{\"colorbar\":{\"outlinewidth\":0,\"ticks\":\"\"},\"colorscale\":[[0.0,\"#0d0887\"],[0.1111111111111111,\"#46039f\"],[0.2222222222222222,\"#7201a8\"],[0.3333333333333333,\"#9c179e\"],[0.4444444444444444,\"#bd3786\"],[0.5555555555555556,\"#d8576b\"],[0.6666666666666666,\"#ed7953\"],[0.7777777777777778,\"#fb9f3a\"],[0.8888888888888888,\"#fdca26\"],[1.0,\"#f0f921\"]],\"type\":\"histogram2d\"}],\"histogram2dcontour\":[{\"colorbar\":{\"outlinewidth\":0,\"ticks\":\"\"},\"colorscale\":[[0.0,\"#0d0887\"],[0.1111111111111111,\"#46039f\"],[0.2222222222222222,\"#7201a8\"],[0.3333333333333333,\"#9c179e\"],[0.4444444444444444,\"#bd3786\"],[0.5555555555555556,\"#d8576b\"],[0.6666666666666666,\"#ed7953\"],[0.7777777777777778,\"#fb9f3a\"],[0.8888888888888888,\"#fdca26\"],[1.0,\"#f0f921\"]],\"type\":\"histogram2dcontour\"}],\"mesh3d\":[{\"colorbar\":{\"outlinewidth\":0,\"ticks\":\"\"},\"type\":\"mesh3d\"}],\"parcoords\":[{\"line\":{\"colorbar\":{\"outlinewidth\":0,\"ticks\":\"\"}},\"type\":\"parcoords\"}],\"pie\":[{\"automargin\":true,\"type\":\"pie\"}],\"scatter\":[{\"marker\":{\"colorbar\":{\"outlinewidth\":0,\"ticks\":\"\"}},\"type\":\"scatter\"}],\"scatter3d\":[{\"line\":{\"colorbar\":{\"outlinewidth\":0,\"ticks\":\"\"}},\"marker\":{\"colorbar\":{\"outlinewidth\":0,\"ticks\":\"\"}},\"type\":\"scatter3d\"}],\"scattercarpet\":[{\"marker\":{\"colorbar\":{\"outlinewidth\":0,\"ticks\":\"\"}},\"type\":\"scattercarpet\"}],\"scattergeo\":[{\"marker\":{\"colorbar\":{\"outlinewidth\":0,\"ticks\":\"\"}},\"type\":\"scattergeo\"}],\"scattergl\":[{\"marker\":{\"colorbar\":{\"outlinewidth\":0,\"ticks\":\"\"}},\"type\":\"scattergl\"}],\"scattermapbox\":[{\"marker\":{\"colorbar\":{\"outlinewidth\":0,\"ticks\":\"\"}},\"type\":\"scattermapbox\"}],\"scatterpolar\":[{\"marker\":{\"colorbar\":{\"outlinewidth\":0,\"ticks\":\"\"}},\"type\":\"scatterpolar\"}],\"scatterpolargl\":[{\"marker\":{\"colorbar\":{\"outlinewidth\":0,\"ticks\":\"\"}},\"type\":\"scatterpolargl\"}],\"scatterternary\":[{\"marker\":{\"colorbar\":{\"outlinewidth\":0,\"ticks\":\"\"}},\"type\":\"scatterternary\"}],\"surface\":[{\"colorbar\":{\"outlinewidth\":0,\"ticks\":\"\"},\"colorscale\":[[0.0,\"#0d0887\"],[0.1111111111111111,\"#46039f\"],[0.2222222222222222,\"#7201a8\"],[0.3333333333333333,\"#9c179e\"],[0.4444444444444444,\"#bd3786\"],[0.5555555555555556,\"#d8576b\"],[0.6666666666666666,\"#ed7953\"],[0.7777777777777778,\"#fb9f3a\"],[0.8888888888888888,\"#fdca26\"],[1.0,\"#f0f921\"]],\"type\":\"surface\"}],\"table\":[{\"cells\":{\"fill\":{\"color\":\"#EBF0F8\"},\"line\":{\"color\":\"white\"}},\"header\":{\"fill\":{\"color\":\"#C8D4E3\"},\"line\":{\"color\":\"white\"}},\"type\":\"table\"}]},\"layout\":{\"annotationdefaults\":{\"arrowcolor\":\"#2a3f5f\",\"arrowhead\":0,\"arrowwidth\":1},\"autotypenumbers\":\"strict\",\"coloraxis\":{\"colorbar\":{\"outlinewidth\":0,\"ticks\":\"\"}},\"colorscale\":{\"diverging\":[[0,\"#8e0152\"],[0.1,\"#c51b7d\"],[0.2,\"#de77ae\"],[0.3,\"#f1b6da\"],[0.4,\"#fde0ef\"],[0.5,\"#f7f7f7\"],[0.6,\"#e6f5d0\"],[0.7,\"#b8e186\"],[0.8,\"#7fbc41\"],[0.9,\"#4d9221\"],[1,\"#276419\"]],\"sequential\":[[0.0,\"#0d0887\"],[0.1111111111111111,\"#46039f\"],[0.2222222222222222,\"#7201a8\"],[0.3333333333333333,\"#9c179e\"],[0.4444444444444444,\"#bd3786\"],[0.5555555555555556,\"#d8576b\"],[0.6666666666666666,\"#ed7953\"],[0.7777777777777778,\"#fb9f3a\"],[0.8888888888888888,\"#fdca26\"],[1.0,\"#f0f921\"]],\"sequentialminus\":[[0.0,\"#0d0887\"],[0.1111111111111111,\"#46039f\"],[0.2222222222222222,\"#7201a8\"],[0.3333333333333333,\"#9c179e\"],[0.4444444444444444,\"#bd3786\"],[0.5555555555555556,\"#d8576b\"],[0.6666666666666666,\"#ed7953\"],[0.7777777777777778,\"#fb9f3a\"],[0.8888888888888888,\"#fdca26\"],[1.0,\"#f0f921\"]]},\"colorway\":[\"#636efa\",\"#EF553B\",\"#00cc96\",\"#ab63fa\",\"#FFA15A\",\"#19d3f3\",\"#FF6692\",\"#B6E880\",\"#FF97FF\",\"#FECB52\"],\"font\":{\"color\":\"#2a3f5f\"},\"geo\":{\"bgcolor\":\"white\",\"lakecolor\":\"white\",\"landcolor\":\"#E5ECF6\",\"showlakes\":true,\"showland\":true,\"subunitcolor\":\"white\"},\"hoverlabel\":{\"align\":\"left\"},\"hovermode\":\"closest\",\"mapbox\":{\"style\":\"light\"},\"paper_bgcolor\":\"white\",\"plot_bgcolor\":\"#E5ECF6\",\"polar\":{\"angularaxis\":{\"gridcolor\":\"white\",\"linecolor\":\"white\",\"ticks\":\"\"},\"bgcolor\":\"#E5ECF6\",\"radialaxis\":{\"gridcolor\":\"white\",\"linecolor\":\"white\",\"ticks\":\"\"}},\"scene\":{\"xaxis\":{\"backgroundcolor\":\"#E5ECF6\",\"gridcolor\":\"white\",\"gridwidth\":2,\"linecolor\":\"white\",\"showbackground\":true,\"ticks\":\"\",\"zerolinecolor\":\"white\"},\"yaxis\":{\"backgroundcolor\":\"#E5ECF6\",\"gridcolor\":\"white\",\"gridwidth\":2,\"linecolor\":\"white\",\"showbackground\":true,\"ticks\":\"\",\"zerolinecolor\":\"white\"},\"zaxis\":{\"backgroundcolor\":\"#E5ECF6\",\"gridcolor\":\"white\",\"gridwidth\":2,\"linecolor\":\"white\",\"showbackground\":true,\"ticks\":\"\",\"zerolinecolor\":\"white\"}},\"shapedefaults\":{\"line\":{\"color\":\"#2a3f5f\"}},\"ternary\":{\"aaxis\":{\"gridcolor\":\"white\",\"linecolor\":\"white\",\"ticks\":\"\"},\"baxis\":{\"gridcolor\":\"white\",\"linecolor\":\"white\",\"ticks\":\"\"},\"bgcolor\":\"#E5ECF6\",\"caxis\":{\"gridcolor\":\"white\",\"linecolor\":\"white\",\"ticks\":\"\"}},\"title\":{\"x\":0.05},\"xaxis\":{\"automargin\":true,\"gridcolor\":\"white\",\"linecolor\":\"white\",\"ticks\":\"\",\"title\":{\"standoff\":15},\"zerolinecolor\":\"white\",\"zerolinewidth\":2},\"yaxis\":{\"automargin\":true,\"gridcolor\":\"white\",\"linecolor\":\"white\",\"ticks\":\"\",\"title\":{\"standoff\":15},\"zerolinecolor\":\"white\",\"zerolinewidth\":2}}}},                        {\"responsive\": true}                    ).then(function(){\n",
       "                            \n",
       "var gd = document.getElementById('5a011315-3d40-49e0-9836-12a3c015b5de');\n",
       "var x = new MutationObserver(function (mutations, observer) {{\n",
       "        var display = window.getComputedStyle(gd).display;\n",
       "        if (!display || display === 'none') {{\n",
       "            console.log([gd, 'removed!']);\n",
       "            Plotly.purge(gd);\n",
       "            observer.disconnect();\n",
       "        }}\n",
       "}});\n",
       "\n",
       "// Listen for the removal of the full notebook cells\n",
       "var notebookContainer = gd.closest('#notebook-container');\n",
       "if (notebookContainer) {{\n",
       "    x.observe(notebookContainer, {childList: true});\n",
       "}}\n",
       "\n",
       "// Listen for the clearing of the current output cell\n",
       "var outputEl = gd.closest('.output');\n",
       "if (outputEl) {{\n",
       "    x.observe(outputEl, {childList: true});\n",
       "}}\n",
       "\n",
       "                        })                };                });            </script>        </div>"
      ]
     },
     "metadata": {},
     "output_type": "display_data"
    }
   ],
   "source": [
    "import plotly.graph_objects as go\n",
    "\n",
    "fig = go.Figure()\n",
    "\n",
    "fig.add_trace(go.Scatterpolar(r=Group1, theta=type_trans, fill='none', name = '10-19'))\n",
    "\n",
    "fig.add_trace(go.Scatterpolar(r=Group2, theta=type_trans, fill='none', name = '20-29'))\n",
    "\n",
    "fig.add_trace(go.Scatterpolar(r=Group3, theta=type_trans, fill='none', name = '30-39'))\n",
    "\n",
    "fig.add_trace(go.Scatterpolar(r=Group4, theta=type_trans, fill='none', name = '40-49'))\n",
    "fig.add_trace(go.Scatterpolar(r=Group5, theta=type_trans, fill='none', name = '50-59'))\n",
    "fig.add_trace(go.Scatterpolar(r=Group6, theta=type_trans, fill='none', name = '60-69'))\n",
    "fig.add_trace(go.Scatterpolar(r=Group7, theta=type_trans, fill='none', name = '70-79'))\n",
    "fig.add_trace(go.Scatterpolar(r=Group8, theta=type_trans, fill='none', name = '80-89'))\n",
    "\n",
    "\n",
    "fig.show()"
   ]
  },
  {
   "cell_type": "code",
   "execution_count": 229,
   "id": "d81a9751",
   "metadata": {},
   "outputs": [
    {
     "data": {
      "text/plain": [
       "Type      Age_Group\n",
       "Checking  50-59        19.868410\n",
       "          30-39        19.115228\n",
       "          40-49        17.602372\n",
       "          19-29        12.639598\n",
       "          60-69        11.814994\n",
       "          10-18        10.282660\n",
       "          70-79         4.800450\n",
       "          80-89         3.876288\n",
       "Credit    40-49        20.470098\n",
       "          30-39        17.941089\n",
       "          50-59        17.593970\n",
       "          60-69        13.101260\n",
       "          19-29        12.367351\n",
       "          10-18         9.535852\n",
       "          70-79         5.370425\n",
       "          80-89         3.619954\n",
       "Savings   10-18        19.948163\n",
       "          50-59        18.393065\n",
       "          40-49        15.774421\n",
       "          30-39        13.843954\n",
       "          19-29        11.529180\n",
       "          60-69        10.224327\n",
       "          70-79         6.479578\n",
       "          80-89         3.807311\n",
       "Name: Age_Group, dtype: float64"
      ]
     },
     "execution_count": 229,
     "metadata": {},
     "output_type": "execute_result"
    }
   ],
   "source": [
    "#Create new variable using group by and get value counts for each type\n",
    "types_per_group = merged_df.groupby('Type')['Age_Group'].value_counts()\n",
    "#create other varian;e calculting the grouped proportions\n",
    "pro_age_type = types_per_group.groupby(level=0).apply(lambda x: 100 * x / float(x.sum()))\n",
    "pro_age_type"
   ]
  },
  {
   "cell_type": "code",
   "execution_count": 230,
   "id": "65184ce5",
   "metadata": {},
   "outputs": [],
   "source": [
    "type_trans = ['10-19','20-29','30-39','40-49','50-59','60-69','70-79','80-89']\n",
    "Chequing = [10.282660, 12.639598, 19.115228, 17.602372, \n",
    "            19.868410, 11.814994, 4.800450, 3.876288]\n",
    "Savings = [19.948163, 11.529180, 13.843954, 15.774421,\n",
    "          18.393065, 10.224327, 6.479578, 6.479578]\n",
    "Credit = [9.535852, 12.367351, 17.941089, 20.470098, \n",
    "          17.593970, 13.101260, 5.370425, 3.619954]"
   ]
  },
  {
   "cell_type": "code",
   "execution_count": 232,
   "id": "ef2c61c4",
   "metadata": {},
   "outputs": [
    {
     "data": {
      "application/vnd.plotly.v1+json": {
       "config": {
        "plotlyServerURL": "https://plot.ly"
       },
       "data": [
        {
         "fill": "toself",
         "name": "Chequing",
         "r": [
          10.28266,
          12.639598,
          19.115228,
          17.602372,
          19.86841,
          11.814994,
          4.80045,
          3.876288
         ],
         "theta": [
          "10-19",
          "20-29",
          "30-39",
          "40-49",
          "50-59",
          "60-69",
          "70-79",
          "80-89"
         ],
         "type": "scatterpolar"
        },
        {
         "fill": "toself",
         "name": "Savings",
         "r": [
          19.948163,
          11.52918,
          13.843954,
          15.774421,
          18.393065,
          10.224327,
          6.479578,
          6.479578
         ],
         "theta": [
          "10-19",
          "20-29",
          "30-39",
          "40-49",
          "50-59",
          "60-69",
          "70-79",
          "80-89"
         ],
         "type": "scatterpolar"
        },
        {
         "fill": "toself",
         "name": "Credit",
         "r": [
          9.535852,
          12.367351,
          17.941089,
          20.470098,
          17.59397,
          13.10126,
          5.370425,
          3.619954
         ],
         "theta": [
          "10-19",
          "20-29",
          "30-39",
          "40-49",
          "50-59",
          "60-69",
          "70-79",
          "80-89"
         ],
         "type": "scatterpolar"
        }
       ],
       "layout": {
        "template": {
         "data": {
          "bar": [
           {
            "error_x": {
             "color": "#2a3f5f"
            },
            "error_y": {
             "color": "#2a3f5f"
            },
            "marker": {
             "line": {
              "color": "#E5ECF6",
              "width": 0.5
             },
             "pattern": {
              "fillmode": "overlay",
              "size": 10,
              "solidity": 0.2
             }
            },
            "type": "bar"
           }
          ],
          "barpolar": [
           {
            "marker": {
             "line": {
              "color": "#E5ECF6",
              "width": 0.5
             },
             "pattern": {
              "fillmode": "overlay",
              "size": 10,
              "solidity": 0.2
             }
            },
            "type": "barpolar"
           }
          ],
          "carpet": [
           {
            "aaxis": {
             "endlinecolor": "#2a3f5f",
             "gridcolor": "white",
             "linecolor": "white",
             "minorgridcolor": "white",
             "startlinecolor": "#2a3f5f"
            },
            "baxis": {
             "endlinecolor": "#2a3f5f",
             "gridcolor": "white",
             "linecolor": "white",
             "minorgridcolor": "white",
             "startlinecolor": "#2a3f5f"
            },
            "type": "carpet"
           }
          ],
          "choropleth": [
           {
            "colorbar": {
             "outlinewidth": 0,
             "ticks": ""
            },
            "type": "choropleth"
           }
          ],
          "contour": [
           {
            "colorbar": {
             "outlinewidth": 0,
             "ticks": ""
            },
            "colorscale": [
             [
              0,
              "#0d0887"
             ],
             [
              0.1111111111111111,
              "#46039f"
             ],
             [
              0.2222222222222222,
              "#7201a8"
             ],
             [
              0.3333333333333333,
              "#9c179e"
             ],
             [
              0.4444444444444444,
              "#bd3786"
             ],
             [
              0.5555555555555556,
              "#d8576b"
             ],
             [
              0.6666666666666666,
              "#ed7953"
             ],
             [
              0.7777777777777778,
              "#fb9f3a"
             ],
             [
              0.8888888888888888,
              "#fdca26"
             ],
             [
              1,
              "#f0f921"
             ]
            ],
            "type": "contour"
           }
          ],
          "contourcarpet": [
           {
            "colorbar": {
             "outlinewidth": 0,
             "ticks": ""
            },
            "type": "contourcarpet"
           }
          ],
          "heatmap": [
           {
            "colorbar": {
             "outlinewidth": 0,
             "ticks": ""
            },
            "colorscale": [
             [
              0,
              "#0d0887"
             ],
             [
              0.1111111111111111,
              "#46039f"
             ],
             [
              0.2222222222222222,
              "#7201a8"
             ],
             [
              0.3333333333333333,
              "#9c179e"
             ],
             [
              0.4444444444444444,
              "#bd3786"
             ],
             [
              0.5555555555555556,
              "#d8576b"
             ],
             [
              0.6666666666666666,
              "#ed7953"
             ],
             [
              0.7777777777777778,
              "#fb9f3a"
             ],
             [
              0.8888888888888888,
              "#fdca26"
             ],
             [
              1,
              "#f0f921"
             ]
            ],
            "type": "heatmap"
           }
          ],
          "heatmapgl": [
           {
            "colorbar": {
             "outlinewidth": 0,
             "ticks": ""
            },
            "colorscale": [
             [
              0,
              "#0d0887"
             ],
             [
              0.1111111111111111,
              "#46039f"
             ],
             [
              0.2222222222222222,
              "#7201a8"
             ],
             [
              0.3333333333333333,
              "#9c179e"
             ],
             [
              0.4444444444444444,
              "#bd3786"
             ],
             [
              0.5555555555555556,
              "#d8576b"
             ],
             [
              0.6666666666666666,
              "#ed7953"
             ],
             [
              0.7777777777777778,
              "#fb9f3a"
             ],
             [
              0.8888888888888888,
              "#fdca26"
             ],
             [
              1,
              "#f0f921"
             ]
            ],
            "type": "heatmapgl"
           }
          ],
          "histogram": [
           {
            "marker": {
             "pattern": {
              "fillmode": "overlay",
              "size": 10,
              "solidity": 0.2
             }
            },
            "type": "histogram"
           }
          ],
          "histogram2d": [
           {
            "colorbar": {
             "outlinewidth": 0,
             "ticks": ""
            },
            "colorscale": [
             [
              0,
              "#0d0887"
             ],
             [
              0.1111111111111111,
              "#46039f"
             ],
             [
              0.2222222222222222,
              "#7201a8"
             ],
             [
              0.3333333333333333,
              "#9c179e"
             ],
             [
              0.4444444444444444,
              "#bd3786"
             ],
             [
              0.5555555555555556,
              "#d8576b"
             ],
             [
              0.6666666666666666,
              "#ed7953"
             ],
             [
              0.7777777777777778,
              "#fb9f3a"
             ],
             [
              0.8888888888888888,
              "#fdca26"
             ],
             [
              1,
              "#f0f921"
             ]
            ],
            "type": "histogram2d"
           }
          ],
          "histogram2dcontour": [
           {
            "colorbar": {
             "outlinewidth": 0,
             "ticks": ""
            },
            "colorscale": [
             [
              0,
              "#0d0887"
             ],
             [
              0.1111111111111111,
              "#46039f"
             ],
             [
              0.2222222222222222,
              "#7201a8"
             ],
             [
              0.3333333333333333,
              "#9c179e"
             ],
             [
              0.4444444444444444,
              "#bd3786"
             ],
             [
              0.5555555555555556,
              "#d8576b"
             ],
             [
              0.6666666666666666,
              "#ed7953"
             ],
             [
              0.7777777777777778,
              "#fb9f3a"
             ],
             [
              0.8888888888888888,
              "#fdca26"
             ],
             [
              1,
              "#f0f921"
             ]
            ],
            "type": "histogram2dcontour"
           }
          ],
          "mesh3d": [
           {
            "colorbar": {
             "outlinewidth": 0,
             "ticks": ""
            },
            "type": "mesh3d"
           }
          ],
          "parcoords": [
           {
            "line": {
             "colorbar": {
              "outlinewidth": 0,
              "ticks": ""
             }
            },
            "type": "parcoords"
           }
          ],
          "pie": [
           {
            "automargin": true,
            "type": "pie"
           }
          ],
          "scatter": [
           {
            "marker": {
             "colorbar": {
              "outlinewidth": 0,
              "ticks": ""
             }
            },
            "type": "scatter"
           }
          ],
          "scatter3d": [
           {
            "line": {
             "colorbar": {
              "outlinewidth": 0,
              "ticks": ""
             }
            },
            "marker": {
             "colorbar": {
              "outlinewidth": 0,
              "ticks": ""
             }
            },
            "type": "scatter3d"
           }
          ],
          "scattercarpet": [
           {
            "marker": {
             "colorbar": {
              "outlinewidth": 0,
              "ticks": ""
             }
            },
            "type": "scattercarpet"
           }
          ],
          "scattergeo": [
           {
            "marker": {
             "colorbar": {
              "outlinewidth": 0,
              "ticks": ""
             }
            },
            "type": "scattergeo"
           }
          ],
          "scattergl": [
           {
            "marker": {
             "colorbar": {
              "outlinewidth": 0,
              "ticks": ""
             }
            },
            "type": "scattergl"
           }
          ],
          "scattermapbox": [
           {
            "marker": {
             "colorbar": {
              "outlinewidth": 0,
              "ticks": ""
             }
            },
            "type": "scattermapbox"
           }
          ],
          "scatterpolar": [
           {
            "marker": {
             "colorbar": {
              "outlinewidth": 0,
              "ticks": ""
             }
            },
            "type": "scatterpolar"
           }
          ],
          "scatterpolargl": [
           {
            "marker": {
             "colorbar": {
              "outlinewidth": 0,
              "ticks": ""
             }
            },
            "type": "scatterpolargl"
           }
          ],
          "scatterternary": [
           {
            "marker": {
             "colorbar": {
              "outlinewidth": 0,
              "ticks": ""
             }
            },
            "type": "scatterternary"
           }
          ],
          "surface": [
           {
            "colorbar": {
             "outlinewidth": 0,
             "ticks": ""
            },
            "colorscale": [
             [
              0,
              "#0d0887"
             ],
             [
              0.1111111111111111,
              "#46039f"
             ],
             [
              0.2222222222222222,
              "#7201a8"
             ],
             [
              0.3333333333333333,
              "#9c179e"
             ],
             [
              0.4444444444444444,
              "#bd3786"
             ],
             [
              0.5555555555555556,
              "#d8576b"
             ],
             [
              0.6666666666666666,
              "#ed7953"
             ],
             [
              0.7777777777777778,
              "#fb9f3a"
             ],
             [
              0.8888888888888888,
              "#fdca26"
             ],
             [
              1,
              "#f0f921"
             ]
            ],
            "type": "surface"
           }
          ],
          "table": [
           {
            "cells": {
             "fill": {
              "color": "#EBF0F8"
             },
             "line": {
              "color": "white"
             }
            },
            "header": {
             "fill": {
              "color": "#C8D4E3"
             },
             "line": {
              "color": "white"
             }
            },
            "type": "table"
           }
          ]
         },
         "layout": {
          "annotationdefaults": {
           "arrowcolor": "#2a3f5f",
           "arrowhead": 0,
           "arrowwidth": 1
          },
          "autotypenumbers": "strict",
          "coloraxis": {
           "colorbar": {
            "outlinewidth": 0,
            "ticks": ""
           }
          },
          "colorscale": {
           "diverging": [
            [
             0,
             "#8e0152"
            ],
            [
             0.1,
             "#c51b7d"
            ],
            [
             0.2,
             "#de77ae"
            ],
            [
             0.3,
             "#f1b6da"
            ],
            [
             0.4,
             "#fde0ef"
            ],
            [
             0.5,
             "#f7f7f7"
            ],
            [
             0.6,
             "#e6f5d0"
            ],
            [
             0.7,
             "#b8e186"
            ],
            [
             0.8,
             "#7fbc41"
            ],
            [
             0.9,
             "#4d9221"
            ],
            [
             1,
             "#276419"
            ]
           ],
           "sequential": [
            [
             0,
             "#0d0887"
            ],
            [
             0.1111111111111111,
             "#46039f"
            ],
            [
             0.2222222222222222,
             "#7201a8"
            ],
            [
             0.3333333333333333,
             "#9c179e"
            ],
            [
             0.4444444444444444,
             "#bd3786"
            ],
            [
             0.5555555555555556,
             "#d8576b"
            ],
            [
             0.6666666666666666,
             "#ed7953"
            ],
            [
             0.7777777777777778,
             "#fb9f3a"
            ],
            [
             0.8888888888888888,
             "#fdca26"
            ],
            [
             1,
             "#f0f921"
            ]
           ],
           "sequentialminus": [
            [
             0,
             "#0d0887"
            ],
            [
             0.1111111111111111,
             "#46039f"
            ],
            [
             0.2222222222222222,
             "#7201a8"
            ],
            [
             0.3333333333333333,
             "#9c179e"
            ],
            [
             0.4444444444444444,
             "#bd3786"
            ],
            [
             0.5555555555555556,
             "#d8576b"
            ],
            [
             0.6666666666666666,
             "#ed7953"
            ],
            [
             0.7777777777777778,
             "#fb9f3a"
            ],
            [
             0.8888888888888888,
             "#fdca26"
            ],
            [
             1,
             "#f0f921"
            ]
           ]
          },
          "colorway": [
           "#636efa",
           "#EF553B",
           "#00cc96",
           "#ab63fa",
           "#FFA15A",
           "#19d3f3",
           "#FF6692",
           "#B6E880",
           "#FF97FF",
           "#FECB52"
          ],
          "font": {
           "color": "#2a3f5f"
          },
          "geo": {
           "bgcolor": "white",
           "lakecolor": "white",
           "landcolor": "#E5ECF6",
           "showlakes": true,
           "showland": true,
           "subunitcolor": "white"
          },
          "hoverlabel": {
           "align": "left"
          },
          "hovermode": "closest",
          "mapbox": {
           "style": "light"
          },
          "paper_bgcolor": "white",
          "plot_bgcolor": "#E5ECF6",
          "polar": {
           "angularaxis": {
            "gridcolor": "white",
            "linecolor": "white",
            "ticks": ""
           },
           "bgcolor": "#E5ECF6",
           "radialaxis": {
            "gridcolor": "white",
            "linecolor": "white",
            "ticks": ""
           }
          },
          "scene": {
           "xaxis": {
            "backgroundcolor": "#E5ECF6",
            "gridcolor": "white",
            "gridwidth": 2,
            "linecolor": "white",
            "showbackground": true,
            "ticks": "",
            "zerolinecolor": "white"
           },
           "yaxis": {
            "backgroundcolor": "#E5ECF6",
            "gridcolor": "white",
            "gridwidth": 2,
            "linecolor": "white",
            "showbackground": true,
            "ticks": "",
            "zerolinecolor": "white"
           },
           "zaxis": {
            "backgroundcolor": "#E5ECF6",
            "gridcolor": "white",
            "gridwidth": 2,
            "linecolor": "white",
            "showbackground": true,
            "ticks": "",
            "zerolinecolor": "white"
           }
          },
          "shapedefaults": {
           "line": {
            "color": "#2a3f5f"
           }
          },
          "ternary": {
           "aaxis": {
            "gridcolor": "white",
            "linecolor": "white",
            "ticks": ""
           },
           "baxis": {
            "gridcolor": "white",
            "linecolor": "white",
            "ticks": ""
           },
           "bgcolor": "#E5ECF6",
           "caxis": {
            "gridcolor": "white",
            "linecolor": "white",
            "ticks": ""
           }
          },
          "title": {
           "x": 0.05
          },
          "xaxis": {
           "automargin": true,
           "gridcolor": "white",
           "linecolor": "white",
           "ticks": "",
           "title": {
            "standoff": 15
           },
           "zerolinecolor": "white",
           "zerolinewidth": 2
          },
          "yaxis": {
           "automargin": true,
           "gridcolor": "white",
           "linecolor": "white",
           "ticks": "",
           "title": {
            "standoff": 15
           },
           "zerolinecolor": "white",
           "zerolinewidth": 2
          }
         }
        }
       }
      },
      "text/html": [
       "<div>                            <div id=\"79c55879-defe-4a74-a386-b29e83af8e2a\" class=\"plotly-graph-div\" style=\"height:525px; width:100%;\"></div>            <script type=\"text/javascript\">                require([\"plotly\"], function(Plotly) {                    window.PLOTLYENV=window.PLOTLYENV || {};                                    if (document.getElementById(\"79c55879-defe-4a74-a386-b29e83af8e2a\")) {                    Plotly.newPlot(                        \"79c55879-defe-4a74-a386-b29e83af8e2a\",                        [{\"fill\":\"toself\",\"name\":\"Chequing\",\"r\":[10.28266,12.639598,19.115228,17.602372,19.86841,11.814994,4.80045,3.876288],\"theta\":[\"10-19\",\"20-29\",\"30-39\",\"40-49\",\"50-59\",\"60-69\",\"70-79\",\"80-89\"],\"type\":\"scatterpolar\"},{\"fill\":\"toself\",\"name\":\"Savings\",\"r\":[19.948163,11.52918,13.843954,15.774421,18.393065,10.224327,6.479578,6.479578],\"theta\":[\"10-19\",\"20-29\",\"30-39\",\"40-49\",\"50-59\",\"60-69\",\"70-79\",\"80-89\"],\"type\":\"scatterpolar\"},{\"fill\":\"toself\",\"name\":\"Credit\",\"r\":[9.535852,12.367351,17.941089,20.470098,17.59397,13.10126,5.370425,3.619954],\"theta\":[\"10-19\",\"20-29\",\"30-39\",\"40-49\",\"50-59\",\"60-69\",\"70-79\",\"80-89\"],\"type\":\"scatterpolar\"}],                        {\"template\":{\"data\":{\"bar\":[{\"error_x\":{\"color\":\"#2a3f5f\"},\"error_y\":{\"color\":\"#2a3f5f\"},\"marker\":{\"line\":{\"color\":\"#E5ECF6\",\"width\":0.5},\"pattern\":{\"fillmode\":\"overlay\",\"size\":10,\"solidity\":0.2}},\"type\":\"bar\"}],\"barpolar\":[{\"marker\":{\"line\":{\"color\":\"#E5ECF6\",\"width\":0.5},\"pattern\":{\"fillmode\":\"overlay\",\"size\":10,\"solidity\":0.2}},\"type\":\"barpolar\"}],\"carpet\":[{\"aaxis\":{\"endlinecolor\":\"#2a3f5f\",\"gridcolor\":\"white\",\"linecolor\":\"white\",\"minorgridcolor\":\"white\",\"startlinecolor\":\"#2a3f5f\"},\"baxis\":{\"endlinecolor\":\"#2a3f5f\",\"gridcolor\":\"white\",\"linecolor\":\"white\",\"minorgridcolor\":\"white\",\"startlinecolor\":\"#2a3f5f\"},\"type\":\"carpet\"}],\"choropleth\":[{\"colorbar\":{\"outlinewidth\":0,\"ticks\":\"\"},\"type\":\"choropleth\"}],\"contour\":[{\"colorbar\":{\"outlinewidth\":0,\"ticks\":\"\"},\"colorscale\":[[0.0,\"#0d0887\"],[0.1111111111111111,\"#46039f\"],[0.2222222222222222,\"#7201a8\"],[0.3333333333333333,\"#9c179e\"],[0.4444444444444444,\"#bd3786\"],[0.5555555555555556,\"#d8576b\"],[0.6666666666666666,\"#ed7953\"],[0.7777777777777778,\"#fb9f3a\"],[0.8888888888888888,\"#fdca26\"],[1.0,\"#f0f921\"]],\"type\":\"contour\"}],\"contourcarpet\":[{\"colorbar\":{\"outlinewidth\":0,\"ticks\":\"\"},\"type\":\"contourcarpet\"}],\"heatmap\":[{\"colorbar\":{\"outlinewidth\":0,\"ticks\":\"\"},\"colorscale\":[[0.0,\"#0d0887\"],[0.1111111111111111,\"#46039f\"],[0.2222222222222222,\"#7201a8\"],[0.3333333333333333,\"#9c179e\"],[0.4444444444444444,\"#bd3786\"],[0.5555555555555556,\"#d8576b\"],[0.6666666666666666,\"#ed7953\"],[0.7777777777777778,\"#fb9f3a\"],[0.8888888888888888,\"#fdca26\"],[1.0,\"#f0f921\"]],\"type\":\"heatmap\"}],\"heatmapgl\":[{\"colorbar\":{\"outlinewidth\":0,\"ticks\":\"\"},\"colorscale\":[[0.0,\"#0d0887\"],[0.1111111111111111,\"#46039f\"],[0.2222222222222222,\"#7201a8\"],[0.3333333333333333,\"#9c179e\"],[0.4444444444444444,\"#bd3786\"],[0.5555555555555556,\"#d8576b\"],[0.6666666666666666,\"#ed7953\"],[0.7777777777777778,\"#fb9f3a\"],[0.8888888888888888,\"#fdca26\"],[1.0,\"#f0f921\"]],\"type\":\"heatmapgl\"}],\"histogram\":[{\"marker\":{\"pattern\":{\"fillmode\":\"overlay\",\"size\":10,\"solidity\":0.2}},\"type\":\"histogram\"}],\"histogram2d\":[{\"colorbar\":{\"outlinewidth\":0,\"ticks\":\"\"},\"colorscale\":[[0.0,\"#0d0887\"],[0.1111111111111111,\"#46039f\"],[0.2222222222222222,\"#7201a8\"],[0.3333333333333333,\"#9c179e\"],[0.4444444444444444,\"#bd3786\"],[0.5555555555555556,\"#d8576b\"],[0.6666666666666666,\"#ed7953\"],[0.7777777777777778,\"#fb9f3a\"],[0.8888888888888888,\"#fdca26\"],[1.0,\"#f0f921\"]],\"type\":\"histogram2d\"}],\"histogram2dcontour\":[{\"colorbar\":{\"outlinewidth\":0,\"ticks\":\"\"},\"colorscale\":[[0.0,\"#0d0887\"],[0.1111111111111111,\"#46039f\"],[0.2222222222222222,\"#7201a8\"],[0.3333333333333333,\"#9c179e\"],[0.4444444444444444,\"#bd3786\"],[0.5555555555555556,\"#d8576b\"],[0.6666666666666666,\"#ed7953\"],[0.7777777777777778,\"#fb9f3a\"],[0.8888888888888888,\"#fdca26\"],[1.0,\"#f0f921\"]],\"type\":\"histogram2dcontour\"}],\"mesh3d\":[{\"colorbar\":{\"outlinewidth\":0,\"ticks\":\"\"},\"type\":\"mesh3d\"}],\"parcoords\":[{\"line\":{\"colorbar\":{\"outlinewidth\":0,\"ticks\":\"\"}},\"type\":\"parcoords\"}],\"pie\":[{\"automargin\":true,\"type\":\"pie\"}],\"scatter\":[{\"marker\":{\"colorbar\":{\"outlinewidth\":0,\"ticks\":\"\"}},\"type\":\"scatter\"}],\"scatter3d\":[{\"line\":{\"colorbar\":{\"outlinewidth\":0,\"ticks\":\"\"}},\"marker\":{\"colorbar\":{\"outlinewidth\":0,\"ticks\":\"\"}},\"type\":\"scatter3d\"}],\"scattercarpet\":[{\"marker\":{\"colorbar\":{\"outlinewidth\":0,\"ticks\":\"\"}},\"type\":\"scattercarpet\"}],\"scattergeo\":[{\"marker\":{\"colorbar\":{\"outlinewidth\":0,\"ticks\":\"\"}},\"type\":\"scattergeo\"}],\"scattergl\":[{\"marker\":{\"colorbar\":{\"outlinewidth\":0,\"ticks\":\"\"}},\"type\":\"scattergl\"}],\"scattermapbox\":[{\"marker\":{\"colorbar\":{\"outlinewidth\":0,\"ticks\":\"\"}},\"type\":\"scattermapbox\"}],\"scatterpolar\":[{\"marker\":{\"colorbar\":{\"outlinewidth\":0,\"ticks\":\"\"}},\"type\":\"scatterpolar\"}],\"scatterpolargl\":[{\"marker\":{\"colorbar\":{\"outlinewidth\":0,\"ticks\":\"\"}},\"type\":\"scatterpolargl\"}],\"scatterternary\":[{\"marker\":{\"colorbar\":{\"outlinewidth\":0,\"ticks\":\"\"}},\"type\":\"scatterternary\"}],\"surface\":[{\"colorbar\":{\"outlinewidth\":0,\"ticks\":\"\"},\"colorscale\":[[0.0,\"#0d0887\"],[0.1111111111111111,\"#46039f\"],[0.2222222222222222,\"#7201a8\"],[0.3333333333333333,\"#9c179e\"],[0.4444444444444444,\"#bd3786\"],[0.5555555555555556,\"#d8576b\"],[0.6666666666666666,\"#ed7953\"],[0.7777777777777778,\"#fb9f3a\"],[0.8888888888888888,\"#fdca26\"],[1.0,\"#f0f921\"]],\"type\":\"surface\"}],\"table\":[{\"cells\":{\"fill\":{\"color\":\"#EBF0F8\"},\"line\":{\"color\":\"white\"}},\"header\":{\"fill\":{\"color\":\"#C8D4E3\"},\"line\":{\"color\":\"white\"}},\"type\":\"table\"}]},\"layout\":{\"annotationdefaults\":{\"arrowcolor\":\"#2a3f5f\",\"arrowhead\":0,\"arrowwidth\":1},\"autotypenumbers\":\"strict\",\"coloraxis\":{\"colorbar\":{\"outlinewidth\":0,\"ticks\":\"\"}},\"colorscale\":{\"diverging\":[[0,\"#8e0152\"],[0.1,\"#c51b7d\"],[0.2,\"#de77ae\"],[0.3,\"#f1b6da\"],[0.4,\"#fde0ef\"],[0.5,\"#f7f7f7\"],[0.6,\"#e6f5d0\"],[0.7,\"#b8e186\"],[0.8,\"#7fbc41\"],[0.9,\"#4d9221\"],[1,\"#276419\"]],\"sequential\":[[0.0,\"#0d0887\"],[0.1111111111111111,\"#46039f\"],[0.2222222222222222,\"#7201a8\"],[0.3333333333333333,\"#9c179e\"],[0.4444444444444444,\"#bd3786\"],[0.5555555555555556,\"#d8576b\"],[0.6666666666666666,\"#ed7953\"],[0.7777777777777778,\"#fb9f3a\"],[0.8888888888888888,\"#fdca26\"],[1.0,\"#f0f921\"]],\"sequentialminus\":[[0.0,\"#0d0887\"],[0.1111111111111111,\"#46039f\"],[0.2222222222222222,\"#7201a8\"],[0.3333333333333333,\"#9c179e\"],[0.4444444444444444,\"#bd3786\"],[0.5555555555555556,\"#d8576b\"],[0.6666666666666666,\"#ed7953\"],[0.7777777777777778,\"#fb9f3a\"],[0.8888888888888888,\"#fdca26\"],[1.0,\"#f0f921\"]]},\"colorway\":[\"#636efa\",\"#EF553B\",\"#00cc96\",\"#ab63fa\",\"#FFA15A\",\"#19d3f3\",\"#FF6692\",\"#B6E880\",\"#FF97FF\",\"#FECB52\"],\"font\":{\"color\":\"#2a3f5f\"},\"geo\":{\"bgcolor\":\"white\",\"lakecolor\":\"white\",\"landcolor\":\"#E5ECF6\",\"showlakes\":true,\"showland\":true,\"subunitcolor\":\"white\"},\"hoverlabel\":{\"align\":\"left\"},\"hovermode\":\"closest\",\"mapbox\":{\"style\":\"light\"},\"paper_bgcolor\":\"white\",\"plot_bgcolor\":\"#E5ECF6\",\"polar\":{\"angularaxis\":{\"gridcolor\":\"white\",\"linecolor\":\"white\",\"ticks\":\"\"},\"bgcolor\":\"#E5ECF6\",\"radialaxis\":{\"gridcolor\":\"white\",\"linecolor\":\"white\",\"ticks\":\"\"}},\"scene\":{\"xaxis\":{\"backgroundcolor\":\"#E5ECF6\",\"gridcolor\":\"white\",\"gridwidth\":2,\"linecolor\":\"white\",\"showbackground\":true,\"ticks\":\"\",\"zerolinecolor\":\"white\"},\"yaxis\":{\"backgroundcolor\":\"#E5ECF6\",\"gridcolor\":\"white\",\"gridwidth\":2,\"linecolor\":\"white\",\"showbackground\":true,\"ticks\":\"\",\"zerolinecolor\":\"white\"},\"zaxis\":{\"backgroundcolor\":\"#E5ECF6\",\"gridcolor\":\"white\",\"gridwidth\":2,\"linecolor\":\"white\",\"showbackground\":true,\"ticks\":\"\",\"zerolinecolor\":\"white\"}},\"shapedefaults\":{\"line\":{\"color\":\"#2a3f5f\"}},\"ternary\":{\"aaxis\":{\"gridcolor\":\"white\",\"linecolor\":\"white\",\"ticks\":\"\"},\"baxis\":{\"gridcolor\":\"white\",\"linecolor\":\"white\",\"ticks\":\"\"},\"bgcolor\":\"#E5ECF6\",\"caxis\":{\"gridcolor\":\"white\",\"linecolor\":\"white\",\"ticks\":\"\"}},\"title\":{\"x\":0.05},\"xaxis\":{\"automargin\":true,\"gridcolor\":\"white\",\"linecolor\":\"white\",\"ticks\":\"\",\"title\":{\"standoff\":15},\"zerolinecolor\":\"white\",\"zerolinewidth\":2},\"yaxis\":{\"automargin\":true,\"gridcolor\":\"white\",\"linecolor\":\"white\",\"ticks\":\"\",\"title\":{\"standoff\":15},\"zerolinecolor\":\"white\",\"zerolinewidth\":2}}}},                        {\"responsive\": true}                    ).then(function(){\n",
       "                            \n",
       "var gd = document.getElementById('79c55879-defe-4a74-a386-b29e83af8e2a');\n",
       "var x = new MutationObserver(function (mutations, observer) {{\n",
       "        var display = window.getComputedStyle(gd).display;\n",
       "        if (!display || display === 'none') {{\n",
       "            console.log([gd, 'removed!']);\n",
       "            Plotly.purge(gd);\n",
       "            observer.disconnect();\n",
       "        }}\n",
       "}});\n",
       "\n",
       "// Listen for the removal of the full notebook cells\n",
       "var notebookContainer = gd.closest('#notebook-container');\n",
       "if (notebookContainer) {{\n",
       "    x.observe(notebookContainer, {childList: true});\n",
       "}}\n",
       "\n",
       "// Listen for the clearing of the current output cell\n",
       "var outputEl = gd.closest('.output');\n",
       "if (outputEl) {{\n",
       "    x.observe(outputEl, {childList: true});\n",
       "}}\n",
       "\n",
       "                        })                };                });            </script>        </div>"
      ]
     },
     "metadata": {},
     "output_type": "display_data"
    }
   ],
   "source": [
    "import plotly.graph_objects as go\n",
    "\n",
    "fig = go.Figure()\n",
    "\n",
    "fig.add_trace(go.Scatterpolar(r=Chequing, theta=type_trans, fill='toself', name = 'Chequing'))\n",
    "\n",
    "fig.add_trace(go.Scatterpolar(r=Savings, theta=type_trans, fill='toself', name = 'Savings'))\n",
    "\n",
    "fig.add_trace(go.Scatterpolar(r=Credit, theta=type_trans, fill='toself', name = 'Credit'))\n",
    "\n",
    "\n",
    "fig.show()"
   ]
  },
  {
   "cell_type": "markdown",
   "id": "8d7481ff",
   "metadata": {},
   "source": [
    "## PCA"
   ]
  },
  {
   "cell_type": "code",
   "execution_count": 266,
   "id": "44470780",
   "metadata": {},
   "outputs": [],
   "source": [
    "pca_df=merged_df\n",
    "pca_df.drop('cust_id', axis=1, inplace=True)\n",
    "pca_df.drop('tran_id', axis=1, inplace=True)\n",
    "pca_df.drop('tran_date', axis=1, inplace=True)"
   ]
  },
  {
   "cell_type": "code",
   "execution_count": 267,
   "id": "055e223d",
   "metadata": {},
   "outputs": [
    {
     "data": {
      "text/html": [
       "<div>\n",
       "<style scoped>\n",
       "    .dataframe tbody tr th:only-of-type {\n",
       "        vertical-align: middle;\n",
       "    }\n",
       "\n",
       "    .dataframe tbody tr th {\n",
       "        vertical-align: top;\n",
       "    }\n",
       "\n",
       "    .dataframe thead th {\n",
       "        text-align: right;\n",
       "    }\n",
       "</style>\n",
       "<table border=\"1\" class=\"dataframe\">\n",
       "  <thead>\n",
       "    <tr style=\"text-align: right;\">\n",
       "      <th></th>\n",
       "      <th>income</th>\n",
       "      <th>Tier_income2</th>\n",
       "      <th>age</th>\n",
       "      <th>Age_Group</th>\n",
       "      <th>years_with_bank</th>\n",
       "      <th>nbr_children</th>\n",
       "      <th>gender</th>\n",
       "      <th>marital_status</th>\n",
       "      <th>Region</th>\n",
       "      <th>tran_amt</th>\n",
       "      <th>principal_amt</th>\n",
       "      <th>interest_amt</th>\n",
       "      <th>new_balance</th>\n",
       "      <th>Type</th>\n",
       "      <th>day</th>\n",
       "      <th>month</th>\n",
       "      <th>year</th>\n",
       "    </tr>\n",
       "  </thead>\n",
       "  <tbody>\n",
       "    <tr>\n",
       "      <th>0</th>\n",
       "      <td>6605</td>\n",
       "      <td>Lowest</td>\n",
       "      <td>71</td>\n",
       "      <td>70-79</td>\n",
       "      <td>1</td>\n",
       "      <td>0</td>\n",
       "      <td>M</td>\n",
       "      <td>2</td>\n",
       "      <td>West</td>\n",
       "      <td>-200.00</td>\n",
       "      <td>-200.00</td>\n",
       "      <td>0.00</td>\n",
       "      <td>511.36</td>\n",
       "      <td>Savings</td>\n",
       "      <td>0</td>\n",
       "      <td>2</td>\n",
       "      <td>1995</td>\n",
       "    </tr>\n",
       "    <tr>\n",
       "      <th>1</th>\n",
       "      <td>6605</td>\n",
       "      <td>Lowest</td>\n",
       "      <td>71</td>\n",
       "      <td>70-79</td>\n",
       "      <td>1</td>\n",
       "      <td>0</td>\n",
       "      <td>M</td>\n",
       "      <td>2</td>\n",
       "      <td>West</td>\n",
       "      <td>-204.66</td>\n",
       "      <td>-204.66</td>\n",
       "      <td>0.00</td>\n",
       "      <td>310.54</td>\n",
       "      <td>Savings</td>\n",
       "      <td>5</td>\n",
       "      <td>5</td>\n",
       "      <td>1995</td>\n",
       "    </tr>\n",
       "    <tr>\n",
       "      <th>2</th>\n",
       "      <td>6605</td>\n",
       "      <td>Lowest</td>\n",
       "      <td>71</td>\n",
       "      <td>70-79</td>\n",
       "      <td>1</td>\n",
       "      <td>0</td>\n",
       "      <td>M</td>\n",
       "      <td>2</td>\n",
       "      <td>West</td>\n",
       "      <td>-40.00</td>\n",
       "      <td>-40.00</td>\n",
       "      <td>0.00</td>\n",
       "      <td>25.66</td>\n",
       "      <td>Savings</td>\n",
       "      <td>1</td>\n",
       "      <td>6</td>\n",
       "      <td>1995</td>\n",
       "    </tr>\n",
       "    <tr>\n",
       "      <th>3</th>\n",
       "      <td>6605</td>\n",
       "      <td>Lowest</td>\n",
       "      <td>71</td>\n",
       "      <td>70-79</td>\n",
       "      <td>1</td>\n",
       "      <td>0</td>\n",
       "      <td>M</td>\n",
       "      <td>2</td>\n",
       "      <td>West</td>\n",
       "      <td>1.92</td>\n",
       "      <td>0.00</td>\n",
       "      <td>1.92</td>\n",
       "      <td>771.36</td>\n",
       "      <td>Savings</td>\n",
       "      <td>1</td>\n",
       "      <td>1</td>\n",
       "      <td>1995</td>\n",
       "    </tr>\n",
       "    <tr>\n",
       "      <th>4</th>\n",
       "      <td>6605</td>\n",
       "      <td>Lowest</td>\n",
       "      <td>71</td>\n",
       "      <td>70-79</td>\n",
       "      <td>1</td>\n",
       "      <td>0</td>\n",
       "      <td>M</td>\n",
       "      <td>2</td>\n",
       "      <td>West</td>\n",
       "      <td>1.28</td>\n",
       "      <td>0.00</td>\n",
       "      <td>1.28</td>\n",
       "      <td>513.92</td>\n",
       "      <td>Savings</td>\n",
       "      <td>4</td>\n",
       "      <td>3</td>\n",
       "      <td>1995</td>\n",
       "    </tr>\n",
       "  </tbody>\n",
       "</table>\n",
       "</div>"
      ],
      "text/plain": [
       "   income Tier_income2  age Age_Group  years_with_bank  nbr_children gender  \\\n",
       "0    6605       Lowest   71     70-79                1             0     M    \n",
       "1    6605       Lowest   71     70-79                1             0     M    \n",
       "2    6605       Lowest   71     70-79                1             0     M    \n",
       "3    6605       Lowest   71     70-79                1             0     M    \n",
       "4    6605       Lowest   71     70-79                1             0     M    \n",
       "\n",
       "   marital_status Region  tran_amt  principal_amt  interest_amt  new_balance  \\\n",
       "0               2   West   -200.00        -200.00          0.00       511.36   \n",
       "1               2   West   -204.66        -204.66          0.00       310.54   \n",
       "2               2   West    -40.00         -40.00          0.00        25.66   \n",
       "3               2   West      1.92           0.00          1.92       771.36   \n",
       "4               2   West      1.28           0.00          1.28       513.92   \n",
       "\n",
       "      Type  day  month  year  \n",
       "0  Savings    0      2  1995  \n",
       "1  Savings    5      5  1995  \n",
       "2  Savings    1      6  1995  \n",
       "3  Savings    1      1  1995  \n",
       "4  Savings    4      3  1995  "
      ]
     },
     "execution_count": 267,
     "metadata": {},
     "output_type": "execute_result"
    }
   ],
   "source": [
    "pca_df.head()"
   ]
  },
  {
   "cell_type": "code",
   "execution_count": null,
   "id": "d66e09ca",
   "metadata": {},
   "outputs": [],
   "source": [
    "#change age_group, gender, region, type into numerical\n"
   ]
  },
  {
   "cell_type": "code",
   "execution_count": 243,
   "id": "55abb6d9",
   "metadata": {},
   "outputs": [
    {
     "ename": "AttributeError",
     "evalue": "'NoneType' object has no attribute 'head'",
     "output_type": "error",
     "traceback": [
      "\u001b[0;31m---------------------------------------------------------------------------\u001b[0m",
      "\u001b[0;31mAttributeError\u001b[0m                            Traceback (most recent call last)",
      "\u001b[0;32m<ipython-input-243-69c0b967ecdf>\u001b[0m in \u001b[0;36m<module>\u001b[0;34m\u001b[0m\n\u001b[0;32m----> 1\u001b[0;31m \u001b[0mpca_df\u001b[0m\u001b[0;34m.\u001b[0m\u001b[0mhead\u001b[0m\u001b[0;34m(\u001b[0m\u001b[0;34m)\u001b[0m\u001b[0;34m\u001b[0m\u001b[0;34m\u001b[0m\u001b[0m\n\u001b[0m",
      "\u001b[0;31mAttributeError\u001b[0m: 'NoneType' object has no attribute 'head'"
     ]
    }
   ],
   "source": [
    "#tran_amt and principal amt are same, drop one, interest\n",
    "pca_df.drop('principal_amt', axis=1, inplace=True)\n",
    "#drop tier_income and age_group\n",
    "pca_df.drop('Tier_income2', axis=1, inplace=True)\n",
    "pca_df.drop('Age_Group', axis=1, inplace=True)"
   ]
  },
  {
   "cell_type": "code",
   "execution_count": null,
   "id": "5f14a522",
   "metadata": {},
   "outputs": [],
   "source": []
  }
 ],
 "metadata": {
  "kernelspec": {
   "display_name": "LHLBootcamp",
   "language": "python",
   "name": "lhlbootcamp"
  },
  "language_info": {
   "codemirror_mode": {
    "name": "ipython",
    "version": 3
   },
   "file_extension": ".py",
   "mimetype": "text/x-python",
   "name": "python",
   "nbconvert_exporter": "python",
   "pygments_lexer": "ipython3",
   "version": "3.6.13"
  }
 },
 "nbformat": 4,
 "nbformat_minor": 5
}
